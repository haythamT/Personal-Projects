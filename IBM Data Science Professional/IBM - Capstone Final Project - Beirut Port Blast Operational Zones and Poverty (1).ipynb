{
 "cells": [
  {
   "cell_type": "markdown",
   "metadata": {},
   "source": [
    "Import the \"pandas\" library which allows us to create a dataframe to view, and later manipulate, the CSV data file."
   ]
  },
  {
   "cell_type": "code",
   "execution_count": 1,
   "metadata": {},
   "outputs": [],
   "source": [
    "import pandas as pd\n",
    "from IPython.display import display_html "
   ]
  },
  {
   "cell_type": "markdown",
   "metadata": {},
   "source": [
    "Read the CSV file containing the UN Habitat data classsifying the operational zones according to the socioeconomic status of the residents. The file was read into a dataframe by specifying its location (directory) on the computer."
   ]
  },
  {
   "cell_type": "code",
   "execution_count": 2,
   "metadata": {},
   "outputs": [
    {
     "ename": "FileNotFoundError",
     "evalue": "[Errno 2] File b'C:\\\\Users\\\\hayth\\\\Desktop\\\\SocioEconomic_Zones_UNHabitat.csv' does not exist: b'C:\\\\Users\\\\hayth\\\\Desktop\\\\SocioEconomic_Zones_UNHabitat.csv'",
     "output_type": "error",
     "traceback": [
      "\u001b[1;31m---------------------------------------------------------------------------\u001b[0m",
      "\u001b[1;31mFileNotFoundError\u001b[0m                         Traceback (most recent call last)",
      "\u001b[1;32m<ipython-input-2-69317de91816>\u001b[0m in \u001b[0;36m<module>\u001b[1;34m\u001b[0m\n\u001b[0;32m      1\u001b[0m \u001b[0mdata_file\u001b[0m \u001b[1;33m=\u001b[0m \u001b[1;34m'C:\\\\Users\\\\hayth\\\\Desktop\\\\SocioEconomic_Zones_UNHabitat.csv'\u001b[0m\u001b[1;33m\u001b[0m\u001b[1;33m\u001b[0m\u001b[0m\n\u001b[1;32m----> 2\u001b[1;33m \u001b[0mdf\u001b[0m \u001b[1;33m=\u001b[0m \u001b[0mpd\u001b[0m\u001b[1;33m.\u001b[0m\u001b[0mread_csv\u001b[0m\u001b[1;33m(\u001b[0m\u001b[0mdata_file\u001b[0m\u001b[1;33m)\u001b[0m\u001b[1;33m\u001b[0m\u001b[1;33m\u001b[0m\u001b[0m\n\u001b[0m\u001b[0;32m      3\u001b[0m \u001b[0mdf\u001b[0m\u001b[1;33m.\u001b[0m\u001b[0mhead\u001b[0m\u001b[1;33m(\u001b[0m\u001b[1;33m)\u001b[0m\u001b[1;33m\u001b[0m\u001b[1;33m\u001b[0m\u001b[0m\n",
      "\u001b[1;32mE:\\Anaconda\\lib\\site-packages\\pandas\\io\\parsers.py\u001b[0m in \u001b[0;36mparser_f\u001b[1;34m(filepath_or_buffer, sep, delimiter, header, names, index_col, usecols, squeeze, prefix, mangle_dupe_cols, dtype, engine, converters, true_values, false_values, skipinitialspace, skiprows, skipfooter, nrows, na_values, keep_default_na, na_filter, verbose, skip_blank_lines, parse_dates, infer_datetime_format, keep_date_col, date_parser, dayfirst, iterator, chunksize, compression, thousands, decimal, lineterminator, quotechar, quoting, doublequote, escapechar, comment, encoding, dialect, tupleize_cols, error_bad_lines, warn_bad_lines, delim_whitespace, low_memory, memory_map, float_precision)\u001b[0m\n\u001b[0;32m    700\u001b[0m                     skip_blank_lines=skip_blank_lines)\n\u001b[0;32m    701\u001b[0m \u001b[1;33m\u001b[0m\u001b[0m\n\u001b[1;32m--> 702\u001b[1;33m         \u001b[1;32mreturn\u001b[0m \u001b[0m_read\u001b[0m\u001b[1;33m(\u001b[0m\u001b[0mfilepath_or_buffer\u001b[0m\u001b[1;33m,\u001b[0m \u001b[0mkwds\u001b[0m\u001b[1;33m)\u001b[0m\u001b[1;33m\u001b[0m\u001b[1;33m\u001b[0m\u001b[0m\n\u001b[0m\u001b[0;32m    703\u001b[0m \u001b[1;33m\u001b[0m\u001b[0m\n\u001b[0;32m    704\u001b[0m     \u001b[0mparser_f\u001b[0m\u001b[1;33m.\u001b[0m\u001b[0m__name__\u001b[0m \u001b[1;33m=\u001b[0m \u001b[0mname\u001b[0m\u001b[1;33m\u001b[0m\u001b[1;33m\u001b[0m\u001b[0m\n",
      "\u001b[1;32mE:\\Anaconda\\lib\\site-packages\\pandas\\io\\parsers.py\u001b[0m in \u001b[0;36m_read\u001b[1;34m(filepath_or_buffer, kwds)\u001b[0m\n\u001b[0;32m    427\u001b[0m \u001b[1;33m\u001b[0m\u001b[0m\n\u001b[0;32m    428\u001b[0m     \u001b[1;31m# Create the parser.\u001b[0m\u001b[1;33m\u001b[0m\u001b[1;33m\u001b[0m\u001b[1;33m\u001b[0m\u001b[0m\n\u001b[1;32m--> 429\u001b[1;33m     \u001b[0mparser\u001b[0m \u001b[1;33m=\u001b[0m \u001b[0mTextFileReader\u001b[0m\u001b[1;33m(\u001b[0m\u001b[0mfilepath_or_buffer\u001b[0m\u001b[1;33m,\u001b[0m \u001b[1;33m**\u001b[0m\u001b[0mkwds\u001b[0m\u001b[1;33m)\u001b[0m\u001b[1;33m\u001b[0m\u001b[1;33m\u001b[0m\u001b[0m\n\u001b[0m\u001b[0;32m    430\u001b[0m \u001b[1;33m\u001b[0m\u001b[0m\n\u001b[0;32m    431\u001b[0m     \u001b[1;32mif\u001b[0m \u001b[0mchunksize\u001b[0m \u001b[1;32mor\u001b[0m \u001b[0miterator\u001b[0m\u001b[1;33m:\u001b[0m\u001b[1;33m\u001b[0m\u001b[1;33m\u001b[0m\u001b[0m\n",
      "\u001b[1;32mE:\\Anaconda\\lib\\site-packages\\pandas\\io\\parsers.py\u001b[0m in \u001b[0;36m__init__\u001b[1;34m(self, f, engine, **kwds)\u001b[0m\n\u001b[0;32m    893\u001b[0m             \u001b[0mself\u001b[0m\u001b[1;33m.\u001b[0m\u001b[0moptions\u001b[0m\u001b[1;33m[\u001b[0m\u001b[1;34m'has_index_names'\u001b[0m\u001b[1;33m]\u001b[0m \u001b[1;33m=\u001b[0m \u001b[0mkwds\u001b[0m\u001b[1;33m[\u001b[0m\u001b[1;34m'has_index_names'\u001b[0m\u001b[1;33m]\u001b[0m\u001b[1;33m\u001b[0m\u001b[1;33m\u001b[0m\u001b[0m\n\u001b[0;32m    894\u001b[0m \u001b[1;33m\u001b[0m\u001b[0m\n\u001b[1;32m--> 895\u001b[1;33m         \u001b[0mself\u001b[0m\u001b[1;33m.\u001b[0m\u001b[0m_make_engine\u001b[0m\u001b[1;33m(\u001b[0m\u001b[0mself\u001b[0m\u001b[1;33m.\u001b[0m\u001b[0mengine\u001b[0m\u001b[1;33m)\u001b[0m\u001b[1;33m\u001b[0m\u001b[1;33m\u001b[0m\u001b[0m\n\u001b[0m\u001b[0;32m    896\u001b[0m \u001b[1;33m\u001b[0m\u001b[0m\n\u001b[0;32m    897\u001b[0m     \u001b[1;32mdef\u001b[0m \u001b[0mclose\u001b[0m\u001b[1;33m(\u001b[0m\u001b[0mself\u001b[0m\u001b[1;33m)\u001b[0m\u001b[1;33m:\u001b[0m\u001b[1;33m\u001b[0m\u001b[1;33m\u001b[0m\u001b[0m\n",
      "\u001b[1;32mE:\\Anaconda\\lib\\site-packages\\pandas\\io\\parsers.py\u001b[0m in \u001b[0;36m_make_engine\u001b[1;34m(self, engine)\u001b[0m\n\u001b[0;32m   1120\u001b[0m     \u001b[1;32mdef\u001b[0m \u001b[0m_make_engine\u001b[0m\u001b[1;33m(\u001b[0m\u001b[0mself\u001b[0m\u001b[1;33m,\u001b[0m \u001b[0mengine\u001b[0m\u001b[1;33m=\u001b[0m\u001b[1;34m'c'\u001b[0m\u001b[1;33m)\u001b[0m\u001b[1;33m:\u001b[0m\u001b[1;33m\u001b[0m\u001b[1;33m\u001b[0m\u001b[0m\n\u001b[0;32m   1121\u001b[0m         \u001b[1;32mif\u001b[0m \u001b[0mengine\u001b[0m \u001b[1;33m==\u001b[0m \u001b[1;34m'c'\u001b[0m\u001b[1;33m:\u001b[0m\u001b[1;33m\u001b[0m\u001b[1;33m\u001b[0m\u001b[0m\n\u001b[1;32m-> 1122\u001b[1;33m             \u001b[0mself\u001b[0m\u001b[1;33m.\u001b[0m\u001b[0m_engine\u001b[0m \u001b[1;33m=\u001b[0m \u001b[0mCParserWrapper\u001b[0m\u001b[1;33m(\u001b[0m\u001b[0mself\u001b[0m\u001b[1;33m.\u001b[0m\u001b[0mf\u001b[0m\u001b[1;33m,\u001b[0m \u001b[1;33m**\u001b[0m\u001b[0mself\u001b[0m\u001b[1;33m.\u001b[0m\u001b[0moptions\u001b[0m\u001b[1;33m)\u001b[0m\u001b[1;33m\u001b[0m\u001b[1;33m\u001b[0m\u001b[0m\n\u001b[0m\u001b[0;32m   1123\u001b[0m         \u001b[1;32melse\u001b[0m\u001b[1;33m:\u001b[0m\u001b[1;33m\u001b[0m\u001b[1;33m\u001b[0m\u001b[0m\n\u001b[0;32m   1124\u001b[0m             \u001b[1;32mif\u001b[0m \u001b[0mengine\u001b[0m \u001b[1;33m==\u001b[0m \u001b[1;34m'python'\u001b[0m\u001b[1;33m:\u001b[0m\u001b[1;33m\u001b[0m\u001b[1;33m\u001b[0m\u001b[0m\n",
      "\u001b[1;32mE:\\Anaconda\\lib\\site-packages\\pandas\\io\\parsers.py\u001b[0m in \u001b[0;36m__init__\u001b[1;34m(self, src, **kwds)\u001b[0m\n\u001b[0;32m   1851\u001b[0m         \u001b[0mkwds\u001b[0m\u001b[1;33m[\u001b[0m\u001b[1;34m'usecols'\u001b[0m\u001b[1;33m]\u001b[0m \u001b[1;33m=\u001b[0m \u001b[0mself\u001b[0m\u001b[1;33m.\u001b[0m\u001b[0musecols\u001b[0m\u001b[1;33m\u001b[0m\u001b[1;33m\u001b[0m\u001b[0m\n\u001b[0;32m   1852\u001b[0m \u001b[1;33m\u001b[0m\u001b[0m\n\u001b[1;32m-> 1853\u001b[1;33m         \u001b[0mself\u001b[0m\u001b[1;33m.\u001b[0m\u001b[0m_reader\u001b[0m \u001b[1;33m=\u001b[0m \u001b[0mparsers\u001b[0m\u001b[1;33m.\u001b[0m\u001b[0mTextReader\u001b[0m\u001b[1;33m(\u001b[0m\u001b[0msrc\u001b[0m\u001b[1;33m,\u001b[0m \u001b[1;33m**\u001b[0m\u001b[0mkwds\u001b[0m\u001b[1;33m)\u001b[0m\u001b[1;33m\u001b[0m\u001b[1;33m\u001b[0m\u001b[0m\n\u001b[0m\u001b[0;32m   1854\u001b[0m         \u001b[0mself\u001b[0m\u001b[1;33m.\u001b[0m\u001b[0munnamed_cols\u001b[0m \u001b[1;33m=\u001b[0m \u001b[0mself\u001b[0m\u001b[1;33m.\u001b[0m\u001b[0m_reader\u001b[0m\u001b[1;33m.\u001b[0m\u001b[0munnamed_cols\u001b[0m\u001b[1;33m\u001b[0m\u001b[1;33m\u001b[0m\u001b[0m\n\u001b[0;32m   1855\u001b[0m \u001b[1;33m\u001b[0m\u001b[0m\n",
      "\u001b[1;32mpandas/_libs/parsers.pyx\u001b[0m in \u001b[0;36mpandas._libs.parsers.TextReader.__cinit__\u001b[1;34m()\u001b[0m\n",
      "\u001b[1;32mpandas/_libs/parsers.pyx\u001b[0m in \u001b[0;36mpandas._libs.parsers.TextReader._setup_parser_source\u001b[1;34m()\u001b[0m\n",
      "\u001b[1;31mFileNotFoundError\u001b[0m: [Errno 2] File b'C:\\\\Users\\\\hayth\\\\Desktop\\\\SocioEconomic_Zones_UNHabitat.csv' does not exist: b'C:\\\\Users\\\\hayth\\\\Desktop\\\\SocioEconomic_Zones_UNHabitat.csv'"
     ]
    }
   ],
   "source": [
    "data_file = 'C:\\\\Users\\\\hayth\\\\Desktop\\\\SocioEconomic_Zones_UNHabitat.csv'\n",
    "df = pd.read_csv(data_file)\n",
    "df.head()"
   ]
  },
  {
   "cell_type": "markdown",
   "metadata": {},
   "source": [
    "Customize the dataframe by keeping only the data that contirbute to the scope of this project. The approach was dropping irrelevany columns from the dataframe."
   ]
  },
  {
   "cell_type": "code",
   "execution_count": 3,
   "metadata": {},
   "outputs": [
    {
     "ename": "NameError",
     "evalue": "name 'df' is not defined",
     "output_type": "error",
     "traceback": [
      "\u001b[1;31m---------------------------------------------------------------------------\u001b[0m",
      "\u001b[1;31mNameError\u001b[0m                                 Traceback (most recent call last)",
      "\u001b[1;32m<ipython-input-3-930f510a2cb3>\u001b[0m in \u001b[0;36m<module>\u001b[1;34m\u001b[0m\n\u001b[1;32m----> 1\u001b[1;33m \u001b[0mdf\u001b[0m \u001b[1;33m=\u001b[0m \u001b[0mdf\u001b[0m\u001b[1;33m.\u001b[0m\u001b[0mdrop\u001b[0m\u001b[1;33m(\u001b[0m\u001b[0mcolumns\u001b[0m\u001b[1;33m=\u001b[0m\u001b[1;33m[\u001b[0m\u001b[1;34m'Cadaster_A'\u001b[0m\u001b[1;33m,\u001b[0m \u001b[1;34m'District_1'\u001b[0m\u001b[1;33m,\u001b[0m \u001b[1;34m'District_A'\u001b[0m\u001b[1;33m,\u001b[0m \u001b[1;34m'Governorat'\u001b[0m\u001b[1;33m,\u001b[0m \u001b[1;34m'Governor_1'\u001b[0m\u001b[1;33m,\u001b[0m \u001b[1;34m'Comment'\u001b[0m\u001b[1;33m]\u001b[0m\u001b[1;33m)\u001b[0m\u001b[1;33m\u001b[0m\u001b[1;33m\u001b[0m\u001b[0m\n\u001b[0m\u001b[0;32m      2\u001b[0m \u001b[0mdf\u001b[0m\u001b[1;33m.\u001b[0m\u001b[0mhead\u001b[0m\u001b[1;33m(\u001b[0m\u001b[1;33m)\u001b[0m\u001b[1;33m\u001b[0m\u001b[1;33m\u001b[0m\u001b[0m\n",
      "\u001b[1;31mNameError\u001b[0m: name 'df' is not defined"
     ]
    }
   ],
   "source": [
    "df = df.drop(columns=['Cadaster_A', 'District_1', 'District_A', 'Governorat', 'Governor_1', 'Comment'])\n",
    "df.head()"
   ]
  },
  {
   "cell_type": "code",
   "execution_count": 4,
   "metadata": {},
   "outputs": [
    {
     "ename": "NameError",
     "evalue": "name 'df' is not defined",
     "output_type": "error",
     "traceback": [
      "\u001b[1;31m---------------------------------------------------------------------------\u001b[0m",
      "\u001b[1;31mNameError\u001b[0m                                 Traceback (most recent call last)",
      "\u001b[1;32m<ipython-input-4-321d15a1c7fa>\u001b[0m in \u001b[0;36m<module>\u001b[1;34m\u001b[0m\n\u001b[1;32m----> 1\u001b[1;33m \u001b[0mdf\u001b[0m\u001b[1;33m.\u001b[0m\u001b[0mrename\u001b[0m\u001b[1;33m(\u001b[0m\u001b[0mcolumns\u001b[0m\u001b[1;33m=\u001b[0m\u001b[1;33m{\u001b[0m\u001b[1;34m'ACS_CODE_1'\u001b[0m\u001b[1;33m:\u001b[0m\u001b[1;34m'ACS Code'\u001b[0m\u001b[1;33m,\u001b[0m \u001b[1;34m'Cadaster_1'\u001b[0m\u001b[1;33m:\u001b[0m\u001b[1;34m'Cadaster'\u001b[0m\u001b[1;33m,\u001b[0m \u001b[1;34m'zone_numbe'\u001b[0m\u001b[1;33m:\u001b[0m\u001b[1;34m'Zone Number'\u001b[0m\u001b[1;33m}\u001b[0m\u001b[1;33m,\u001b[0m \u001b[0minplace\u001b[0m\u001b[1;33m=\u001b[0m\u001b[1;32mTrue\u001b[0m\u001b[1;33m)\u001b[0m\u001b[1;33m\u001b[0m\u001b[1;33m\u001b[0m\u001b[0m\n\u001b[0m\u001b[0;32m      2\u001b[0m \u001b[0mdf\u001b[0m\u001b[1;33m.\u001b[0m\u001b[0mhead\u001b[0m\u001b[1;33m(\u001b[0m\u001b[1;33m)\u001b[0m\u001b[1;33m\u001b[0m\u001b[1;33m\u001b[0m\u001b[0m\n",
      "\u001b[1;31mNameError\u001b[0m: name 'df' is not defined"
     ]
    }
   ],
   "source": [
    "df.rename(columns={'ACS_CODE_1':'ACS Code', 'Cadaster_1':'Cadaster', 'zone_numbe':'Zone Number'}, inplace=True)\n",
    "df.head()"
   ]
  },
  {
   "cell_type": "code",
   "execution_count": 5,
   "metadata": {},
   "outputs": [
    {
     "ename": "NameError",
     "evalue": "name 'df' is not defined",
     "output_type": "error",
     "traceback": [
      "\u001b[1;31m---------------------------------------------------------------------------\u001b[0m",
      "\u001b[1;31mNameError\u001b[0m                                 Traceback (most recent call last)",
      "\u001b[1;32m<ipython-input-5-a74c58233b9e>\u001b[0m in \u001b[0;36m<module>\u001b[1;34m\u001b[0m\n\u001b[1;32m----> 1\u001b[1;33m \u001b[0mdf\u001b[0m\u001b[1;33m.\u001b[0m\u001b[0minfo\u001b[0m\u001b[1;33m(\u001b[0m\u001b[1;33m)\u001b[0m\u001b[1;33m\u001b[0m\u001b[1;33m\u001b[0m\u001b[0m\n\u001b[0m",
      "\u001b[1;31mNameError\u001b[0m: name 'df' is not defined"
     ]
    }
   ],
   "source": [
    "df.info()"
   ]
  },
  {
   "cell_type": "code",
   "execution_count": 6,
   "metadata": {},
   "outputs": [
    {
     "ename": "NameError",
     "evalue": "name 'clean_df' is not defined",
     "output_type": "error",
     "traceback": [
      "\u001b[1;31m---------------------------------------------------------------------------\u001b[0m",
      "\u001b[1;31mNameError\u001b[0m                                 Traceback (most recent call last)",
      "\u001b[1;32m<ipython-input-6-6eeff1fb720b>\u001b[0m in \u001b[0;36m<module>\u001b[1;34m\u001b[0m\n\u001b[1;32m----> 1\u001b[1;33m \u001b[0mclean_df\u001b[0m\u001b[1;33m.\u001b[0m\u001b[0mvalue_counts\u001b[0m\u001b[1;33m(\u001b[0m\u001b[1;33m)\u001b[0m\u001b[1;33m\u001b[0m\u001b[1;33m\u001b[0m\u001b[0m\n\u001b[0m",
      "\u001b[1;31mNameError\u001b[0m: name 'clean_df' is not defined"
     ]
    }
   ],
   "source": [
    "clean_df.value_counts()"
   ]
  },
  {
   "cell_type": "code",
   "execution_count": 7,
   "metadata": {},
   "outputs": [
    {
     "ename": "NameError",
     "evalue": "name 'df' is not defined",
     "output_type": "error",
     "traceback": [
      "\u001b[1;31m---------------------------------------------------------------------------\u001b[0m",
      "\u001b[1;31mNameError\u001b[0m                                 Traceback (most recent call last)",
      "\u001b[1;32m<ipython-input-7-051fa73afa15>\u001b[0m in \u001b[0;36m<module>\u001b[1;34m\u001b[0m\n\u001b[1;32m----> 1\u001b[1;33m \u001b[0mclean_df\u001b[0m\u001b[1;33m=\u001b[0m\u001b[0mdf\u001b[0m\u001b[1;33m[\u001b[0m\u001b[1;34m'UN_Habitat'\u001b[0m\u001b[1;33m]\u001b[0m\u001b[1;33m.\u001b[0m\u001b[0mreplace\u001b[0m\u001b[1;33m(\u001b[0m\u001b[1;33m{\u001b[0m\u001b[1;34m'None�po'\u001b[0m\u001b[1;33m:\u001b[0m \u001b[1;34m'None poor'\u001b[0m\u001b[1;33m,\u001b[0m \u001b[1;34m'All�po'\u001b[0m\u001b[1;33m:\u001b[0m \u001b[1;34m'All poor'\u001b[0m\u001b[1;33m,\u001b[0m \u001b[1;34m'Minority�po'\u001b[0m\u001b[1;33m:\u001b[0m \u001b[1;34m'Minority poor'\u001b[0m\u001b[1;33m}\u001b[0m\u001b[1;33m)\u001b[0m\u001b[1;33m\u001b[0m\u001b[1;33m\u001b[0m\u001b[0m\n\u001b[0m\u001b[0;32m      2\u001b[0m \u001b[1;33m\u001b[0m\u001b[0m\n\u001b[0;32m      3\u001b[0m \u001b[0my\u001b[0m \u001b[1;33m=\u001b[0m \u001b[1;33m[\u001b[0m\u001b[1;36m5\u001b[0m\u001b[1;33m,\u001b[0m\u001b[1;36m31\u001b[0m\u001b[1;33m,\u001b[0m\u001b[1;36m18\u001b[0m\u001b[1;33m,\u001b[0m\u001b[1;36m58\u001b[0m\u001b[1;33m,\u001b[0m\u001b[1;36m54\u001b[0m\u001b[1;33m,\u001b[0m\u001b[1;36m23\u001b[0m\u001b[1;33m]\u001b[0m\u001b[1;33m\u001b[0m\u001b[1;33m\u001b[0m\u001b[0m\n\u001b[0;32m      4\u001b[0m \u001b[0mx\u001b[0m \u001b[1;33m=\u001b[0m \u001b[1;33m[\u001b[0m\u001b[1;34m'Not residential'\u001b[0m\u001b[1;33m,\u001b[0m \u001b[1;34m'None poor'\u001b[0m\u001b[1;33m,\u001b[0m \u001b[1;34m'Minority poor'\u001b[0m\u001b[1;33m,\u001b[0m \u001b[1;34m'Half poor/half not poor'\u001b[0m\u001b[1;33m,\u001b[0m\u001b[1;34m'Majority poor'\u001b[0m\u001b[1;33m,\u001b[0m \u001b[1;34m'All poor'\u001b[0m  \u001b[1;33m]\u001b[0m\u001b[1;33m\u001b[0m\u001b[1;33m\u001b[0m\u001b[0m\n\u001b[0;32m      5\u001b[0m \u001b[1;33m\u001b[0m\u001b[0m\n",
      "\u001b[1;31mNameError\u001b[0m: name 'df' is not defined"
     ]
    }
   ],
   "source": [
    "clean_df=df['UN_Habitat'].replace({'None�po': 'None poor', 'All�po': 'All poor', 'Minority�po': 'Minority poor'})\n",
    "\n",
    "y = [5,31,18,58,54,23]\n",
    "x = ['Not residential', 'None poor', 'Minority poor', 'Half poor/half not poor','Majority poor', 'All poor'  ]\n",
    "\n",
    "def Average(lst):\n",
    "    return sum(lst) / len(lst)\n",
    "avg = Average(y)\n",
    "plt.axvline(avg, color='g', linestyle='--')\n",
    "plt.text(32,0,'Mean: {}'.format(avg),rotation=0)\n",
    "\n",
    "plt.barh(x, y, color=['turquoise', 'turquoise', 'turquoise', 'teal', 'turquoise', 'turquoise'])\n",
    "  \n",
    "# setting x-label as pen sold\n",
    "plt.xlabel(\"Count\") \n",
    "  \n",
    "# setting y_label as price\n",
    "plt.ylabel(\"Socioeconomic categories\")   \n",
    "plt.title(\"Number of residents in each socioeconomic category as distributed in the operational zones\")\n",
    "plt.show()"
   ]
  },
  {
   "cell_type": "code",
   "execution_count": 8,
   "metadata": {},
   "outputs": [],
   "source": [
    "import json"
   ]
  },
  {
   "cell_type": "code",
   "execution_count": 9,
   "metadata": {},
   "outputs": [],
   "source": [
    "zones_geo = 'C:\\\\Users\\\\hayth\\\\Desktop\\\\beirut_port_explosion_operational_zones.json'"
   ]
  },
  {
   "cell_type": "code",
   "execution_count": 10,
   "metadata": {},
   "outputs": [
    {
     "ename": "FileNotFoundError",
     "evalue": "[Errno 2] No such file or directory: 'C:\\\\Users\\\\hayth\\\\Desktop\\\\beirut_port_explosion_operational_zones.json'",
     "output_type": "error",
     "traceback": [
      "\u001b[1;31m---------------------------------------------------------------------------\u001b[0m",
      "\u001b[1;31mFileNotFoundError\u001b[0m                         Traceback (most recent call last)",
      "\u001b[1;32m<ipython-input-10-d94aa0b5876a>\u001b[0m in \u001b[0;36m<module>\u001b[1;34m\u001b[0m\n\u001b[1;32m----> 1\u001b[1;33m \u001b[1;32mwith\u001b[0m \u001b[0mopen\u001b[0m\u001b[1;33m(\u001b[0m\u001b[0mzones_geo\u001b[0m\u001b[1;33m)\u001b[0m \u001b[1;32mas\u001b[0m \u001b[0mgeo_file\u001b[0m\u001b[1;33m:\u001b[0m\u001b[1;33m\u001b[0m\u001b[1;33m\u001b[0m\u001b[0m\n\u001b[0m\u001b[0;32m      2\u001b[0m     \u001b[0mzones_json\u001b[0m \u001b[1;33m=\u001b[0m \u001b[0mjson\u001b[0m\u001b[1;33m.\u001b[0m\u001b[0mload\u001b[0m\u001b[1;33m(\u001b[0m\u001b[0mgeo_file\u001b[0m\u001b[1;33m)\u001b[0m\u001b[1;33m\u001b[0m\u001b[1;33m\u001b[0m\u001b[0m\n",
      "\u001b[1;31mFileNotFoundError\u001b[0m: [Errno 2] No such file or directory: 'C:\\\\Users\\\\hayth\\\\Desktop\\\\beirut_port_explosion_operational_zones.json'"
     ]
    }
   ],
   "source": [
    "with open(zones_geo) as geo_file:\n",
    "    zones_json = json.load(geo_file)"
   ]
  },
  {
   "cell_type": "code",
   "execution_count": 11,
   "metadata": {},
   "outputs": [
    {
     "ename": "NameError",
     "evalue": "name 'zones_json' is not defined",
     "output_type": "error",
     "traceback": [
      "\u001b[1;31m---------------------------------------------------------------------------\u001b[0m",
      "\u001b[1;31mNameError\u001b[0m                                 Traceback (most recent call last)",
      "\u001b[1;32m<ipython-input-11-b0a130b9c240>\u001b[0m in \u001b[0;36m<module>\u001b[1;34m\u001b[0m\n\u001b[1;32m----> 1\u001b[1;33m \u001b[0mzones_json\u001b[0m\u001b[1;33m\u001b[0m\u001b[1;33m\u001b[0m\u001b[0m\n\u001b[0m",
      "\u001b[1;31mNameError\u001b[0m: name 'zones_json' is not defined"
     ]
    }
   ],
   "source": [
    "zones_json"
   ]
  },
  {
   "cell_type": "code",
   "execution_count": 12,
   "metadata": {},
   "outputs": [
    {
     "name": "stdout",
     "output_type": "stream",
     "text": [
      "Folium installed and imported\n"
     ]
    }
   ],
   "source": [
    "#! pip install folium==0.5.0\n",
    "import folium # plotting library\n",
    "\n",
    "print('Folium installed and imported')"
   ]
  },
  {
   "cell_type": "markdown",
   "metadata": {},
   "source": [
    "We need numerical data to generate the Choropleth maps. Here, the UN Habitat classification is a categorical variable. As such, I will change them to be numerical representation where all poor is 0 and no poor is 5."
   ]
  },
  {
   "cell_type": "markdown",
   "metadata": {},
   "source": [
    "To begin with, I need to know the variables in order to add a new column with the corresponding numerical value."
   ]
  },
  {
   "cell_type": "code",
   "execution_count": 13,
   "metadata": {},
   "outputs": [
    {
     "ename": "NameError",
     "evalue": "name 'df' is not defined",
     "output_type": "error",
     "traceback": [
      "\u001b[1;31m---------------------------------------------------------------------------\u001b[0m",
      "\u001b[1;31mNameError\u001b[0m                                 Traceback (most recent call last)",
      "\u001b[1;32m<ipython-input-13-8ff89a345bcd>\u001b[0m in \u001b[0;36m<module>\u001b[1;34m\u001b[0m\n\u001b[0;32m      7\u001b[0m \u001b[1;31m# loop for counting the unique\u001b[0m\u001b[1;33m\u001b[0m\u001b[1;33m\u001b[0m\u001b[1;33m\u001b[0m\u001b[0m\n\u001b[0;32m      8\u001b[0m \u001b[1;31m# values in height\u001b[0m\u001b[1;33m\u001b[0m\u001b[1;33m\u001b[0m\u001b[1;33m\u001b[0m\u001b[0m\n\u001b[1;32m----> 9\u001b[1;33m \u001b[1;32mfor\u001b[0m \u001b[0mi\u001b[0m \u001b[1;32min\u001b[0m \u001b[0mrange\u001b[0m\u001b[1;33m(\u001b[0m\u001b[1;36m0\u001b[0m\u001b[1;33m,\u001b[0m \u001b[0mlen\u001b[0m\u001b[1;33m(\u001b[0m\u001b[0mdf\u001b[0m\u001b[1;33m[\u001b[0m\u001b[1;34m'UN_Habitat'\u001b[0m\u001b[1;33m]\u001b[0m\u001b[1;33m)\u001b[0m\u001b[1;33m)\u001b[0m\u001b[1;33m:\u001b[0m\u001b[1;33m\u001b[0m\u001b[1;33m\u001b[0m\u001b[0m\n\u001b[0m\u001b[0;32m     10\u001b[0m \u001b[1;33m\u001b[0m\u001b[0m\n\u001b[0;32m     11\u001b[0m     \u001b[1;32mif\u001b[0m \u001b[0mdf\u001b[0m\u001b[1;33m[\u001b[0m\u001b[1;34m'UN_Habitat'\u001b[0m\u001b[1;33m]\u001b[0m\u001b[1;33m[\u001b[0m\u001b[0mi\u001b[0m\u001b[1;33m]\u001b[0m \u001b[1;32mnot\u001b[0m \u001b[1;32min\u001b[0m \u001b[0mvalues\u001b[0m\u001b[1;33m:\u001b[0m\u001b[1;33m\u001b[0m\u001b[1;33m\u001b[0m\u001b[0m\n",
      "\u001b[1;31mNameError\u001b[0m: name 'df' is not defined"
     ]
    }
   ],
   "source": [
    "# variable to hold the count\n",
    "cnt = 0\n",
    "  \n",
    "# list to hold visited values\n",
    "values = []\n",
    "  \n",
    "# loop for counting the unique\n",
    "# values in height\n",
    "for i in range(0, len(df['UN_Habitat'])):\n",
    "    \n",
    "    if df['UN_Habitat'][i] not in values: \n",
    "        \n",
    "        values.append(df['UN_Habitat'][i])\n",
    "          \n",
    "        cnt += 1\n",
    "  \n",
    "print(\"No. of unique values :\",\n",
    "      cnt)\n",
    "  \n",
    "print(\"unique values :\",\n",
    "      values)"
   ]
  },
  {
   "cell_type": "markdown",
   "metadata": {},
   "source": [
    "As can be seen, these are the values that the zones are classified into. Now we need to identify their number in order to assign numerical value for each category."
   ]
  },
  {
   "cell_type": "markdown",
   "metadata": {},
   "source": [
    "As can be seen, we have 6 unique values, one of them is \"Not residential\". In this research, we are focusing on assistance provided to people. Hence, we will drop all rows that are non-residential leaving us with 5 categories for zones. \n",
    "\n",
    "The designations will be as follow:\n",
    "\n",
    "    -None poor: 0\n",
    "    -Minority poor: 1\n",
    "    -Half poor/half not poor: 2\n",
    "    -Majority poor: 3\n",
    "    -All poor: 4"
   ]
  },
  {
   "cell_type": "markdown",
   "metadata": {},
   "source": [
    "Now we add the numerical designations as a new column in the dataframe. The values will map the \"UN_Habitat\" column"
   ]
  },
  {
   "cell_type": "code",
   "execution_count": null,
   "metadata": {},
   "outputs": [],
   "source": [
    "#df.drop(df.index[df['UN_Habitat'] == 'Not residential'], inplace = True)\n",
    "df.head()"
   ]
  },
  {
   "cell_type": "code",
   "execution_count": null,
   "metadata": {},
   "outputs": [],
   "source": [
    "df.insert(4, \"Numerical_Designation\", True)"
   ]
  },
  {
   "cell_type": "code",
   "execution_count": null,
   "metadata": {},
   "outputs": [],
   "source": [
    "import numpy as np"
   ]
  },
  {
   "cell_type": "code",
   "execution_count": null,
   "metadata": {},
   "outputs": [],
   "source": [
    "# create a list of our conditions\n",
    "conditions = [\n",
    "    (df['UN_Habitat'] == 'Not residential'),\n",
    "    (df['UN_Habitat'] == 'None�po'),\n",
    "    (df['UN_Habitat'] == 'Minority�po'),\n",
    "    (df['UN_Habitat'] == 'Half poor/half not poor'),\n",
    "    (df['UN_Habitat'] == 'Majority poor'),\n",
    "    (df['UN_Habitat'] == 'All�po')\n",
    "    ]\n",
    "\n",
    "# create a list of the values we want to assign for each condition\n",
    "values = ['0', '1', '2', '3', '4', '5']\n",
    "\n",
    "# create a new column and use np.select to assign values to it using our lists as arguments\n",
    "df['Numerical_Designation'] = np.select(conditions, values)\n",
    "\n",
    "df.head()"
   ]
  },
  {
   "cell_type": "markdown",
   "metadata": {},
   "source": [
    "Now we need to cast (change the type) of the new column from type <i>string</i> (text) to type <i>integer</i> (number)"
   ]
  },
  {
   "cell_type": "code",
   "execution_count": null,
   "metadata": {},
   "outputs": [],
   "source": [
    "df['Numerical_Designation'] = pd.to_numeric(df['Numerical_Designation'])\n",
    "df.dtypes"
   ]
  },
  {
   "cell_type": "markdown",
   "metadata": {},
   "source": [
    "Usually if there is a value with 'a' there are another similar values, so we need to view the rows that come after this index at position 155."
   ]
  },
  {
   "cell_type": "code",
   "execution_count": null,
   "metadata": {},
   "outputs": [],
   "source": [
    "zone = df['Zone Number']\n",
    "i = 155\n",
    "while i < 160:\n",
    "    ii = zone[i]\n",
    "    i+=1\n",
    "    print(\"The 5 following rows in the 'zone_numbe' column have the following value: {}\".format(ii))\n",
    "    "
   ]
  },
  {
   "cell_type": "markdown",
   "metadata": {},
   "source": [
    "As can be seen, after index 155, there are only two values with an alphabet which are \"156a\" and \"156b\". Hence, we need to change these values at indices 155 and 156 into a purely numeric format to then cast the whole column from the type 'object' to the type 'int'"
   ]
  },
  {
   "cell_type": "code",
   "execution_count": null,
   "metadata": {},
   "outputs": [],
   "source": [
    "df.loc[155:156,['Zone Number']] = [156]\n",
    "df['Zone Number'].loc[155:156]\n"
   ]
  },
  {
   "cell_type": "markdown",
   "metadata": {},
   "source": [
    "The values have changed successfully into '156'. However, the values are of type \"object\" unlike the GroJSON file which have the values as type \"int\". Now we can change the whole \"zone_numbe\" column into type \"int\"."
   ]
  },
  {
   "cell_type": "code",
   "execution_count": null,
   "metadata": {},
   "outputs": [],
   "source": [
    "df['Zone Number'] = pd.to_numeric(df['Zone Number'])\n",
    "df.dtypes"
   ]
  },
  {
   "cell_type": "code",
   "execution_count": null,
   "metadata": {},
   "outputs": [],
   "source": [
    "def add_categorical_legend(folium_map, title, colors, labels):\n",
    "    if len(colors) != len(labels):\n",
    "        raise ValueError(\"colors and labels must have the same length.\")\n",
    "\n",
    "    color_by_label = dict(zip(labels, colors))\n",
    "    \n",
    "    legend_categories = \"\"     \n",
    "    for label, color in color_by_label.items():\n",
    "        legend_categories += f\"<li><span style='background:{color}'></span>{label}</li>\"\n",
    "        \n",
    "    legend_html = f\"\"\"\n",
    "    <div id='maplegend' class='maplegend'>\n",
    "      <div class='legend-title'>{title}</div>\n",
    "      <div class='legend-scale'>\n",
    "        <ul class='legend-labels'>\n",
    "        {legend_categories}\n",
    "        </ul>\n",
    "      </div>\n",
    "    </div>\n",
    "    \"\"\"\n",
    "    script = f\"\"\"\n",
    "        <script type=\"text/javascript\">\n",
    "        var oneTimeExecution = (function() {{\n",
    "                    var executed = false;\n",
    "                    return function() {{\n",
    "                        if (!executed) {{\n",
    "                             var checkExist = setInterval(function() {{\n",
    "                                       if ((document.getElementsByClassName('leaflet-top leaflet-right').length) || (!executed)) {{\n",
    "                                          document.getElementsByClassName('leaflet-top leaflet-right')[0].style.display = \"flex\"\n",
    "                                          document.getElementsByClassName('leaflet-top leaflet-right')[0].style.flexDirection = \"column\"\n",
    "                                          document.getElementsByClassName('leaflet-top leaflet-right')[0].innerHTML += `{legend_html}`;\n",
    "                                          clearInterval(checkExist);\n",
    "                                          executed = true;\n",
    "                                       }}\n",
    "                                    }}, 100);\n",
    "                        }}\n",
    "                    }};\n",
    "                }})();\n",
    "        oneTimeExecution()\n",
    "        </script>\n",
    "      \"\"\"\n",
    "   \n",
    "\n",
    "    css = \"\"\"\n",
    "\n",
    "    <style type='text/css'>\n",
    "      .maplegend {\n",
    "        z-index:9999;\n",
    "        float:right;\n",
    "        background-color: rgba(255, 255, 255, 1);\n",
    "        border-radius: 5px;\n",
    "        border: 2px solid #bbb;\n",
    "        padding: 10px;\n",
    "        font-size:12px;\n",
    "        positon: relative;\n",
    "      }\n",
    "      .maplegend .legend-title {\n",
    "        text-align: left;\n",
    "        margin-bottom: 5px;\n",
    "        font-weight: bold;\n",
    "        font-size: 90%;\n",
    "        }\n",
    "      .maplegend .legend-scale ul {\n",
    "        margin: 0;\n",
    "        margin-bottom: 5px;\n",
    "        padding: 0;\n",
    "        float: left;\n",
    "        list-style: none;\n",
    "        }\n",
    "      .maplegend .legend-scale ul li {\n",
    "        font-size: 80%;\n",
    "        list-style: none;\n",
    "        margin-left: 0;\n",
    "        line-height: 18px;\n",
    "        margin-bottom: 2px;\n",
    "        }\n",
    "      .maplegend ul.legend-labels li span {\n",
    "        display: block;\n",
    "        float: left;\n",
    "        height: 16px;\n",
    "        width: 30px;\n",
    "        margin-right: 5px;\n",
    "        margin-left: 0;\n",
    "        border: 0px solid #ccc;\n",
    "        }\n",
    "      .maplegend .legend-source {\n",
    "        font-size: 80%;\n",
    "        color: #777;\n",
    "        clear: both;\n",
    "        }\n",
    "      .maplegend a {\n",
    "        color: #777;\n",
    "        }\n",
    "    </style>\n",
    "    \"\"\"\n",
    "\n",
    "    folium_map.get_root().header.add_child(folium.Element(script + css))\n",
    "\n",
    "    return folium_map"
   ]
  },
  {
   "cell_type": "code",
   "execution_count": null,
   "metadata": {},
   "outputs": [],
   "source": [
    "zones_map = folium.Map(location=[33.8994574,35.5144002], tiles='cartodbpositron', zoom_start=13)\n",
    "zones_map.choropleth(\n",
    "    geo_data=zones_json,\n",
    "    data=df,\n",
    "    columns=[\"Zone Number\", \"Numerical_Designation\"],\n",
    "    key_on='feature.properties.OBJECTID_1',\n",
    "    fill_color='GnBu',\n",
    "    fill_opacity=1,\n",
    "    line_opacity=0.5,\n",
    "    legend_name='Poverty Levels in UN Operational Zones',\n",
    "    smooth_factor=0\n",
    "    )\n",
    "\n",
    "#Add categorical legend utilizing the previously defined function\n",
    "zones_map = add_categorical_legend(zones_map, 'Poverty Levels in UN Operational Zones', colors = ['#ccebc5','#a8ddb5', '#7bccc4', '#4eb3d3', '#2b8cbe', '#08589e'], labels = ['Not residential', 'None poor', 'Minority poor', 'Half poor/half not poor', 'Majority poor', 'All poor'])\n",
    "\n",
    "#Delete the numerical legend autimatically generated by Foliium\n",
    "for key in zones_map._children:\n",
    "    if key.startswith('color_map'):\n",
    "        del(zones_map._children[key])\n",
    "        \n",
    "#Add marker to indicate the blast zone\n",
    "folium.Marker(location=[33.901389,35.519167],popup='Beirut Port Blast Zone',icon=folium.Icon(color='red',icon='fire')).add_to(zones_map)\n",
    "\n",
    "#display map\n",
    "zones_map"
   ]
  },
  {
   "cell_type": "markdown",
   "metadata": {},
   "source": [
    "We can extract the coordinates from the ShapeFile (.SHP) provided using the <i>Geo-pandas Dataframe</i> library."
   ]
  },
  {
   "cell_type": "code",
   "execution_count": null,
   "metadata": {},
   "outputs": [],
   "source": [
    "import geopandas as gpd\n",
    "fname = 'C:\\\\Users\\\\hayth\\\\Desktop\\\\beirut_port_explosions_operational_zones_139.shp'\n",
    "Geo = gpd.read_file(fname)\n",
    "Geo.head()"
   ]
  },
  {
   "cell_type": "markdown",
   "metadata": {},
   "source": [
    "Get only the relevant columns in the dataframe that pinpoint the Zone Number and corresponding latitude and longitude array."
   ]
  },
  {
   "cell_type": "code",
   "execution_count": null,
   "metadata": {},
   "outputs": [],
   "source": [
    "Geo=Geo[['zone_numbe','geometry']]\n",
    "Geo.head()"
   ]
  },
  {
   "cell_type": "markdown",
   "metadata": {},
   "source": [
    "Get the GeoJSON coordinates for the two identified zones utilizing the geospatial dataframe."
   ]
  },
  {
   "cell_type": "code",
   "execution_count": null,
   "metadata": {},
   "outputs": [],
   "source": [
    "array1 = Geo.loc[Geo['zone_numbe'] == 62]\n",
    "print(array1)\n",
    "array2 = Geo.loc[Geo['zone_numbe'] == 89]\n",
    "print(array2)"
   ]
  },
  {
   "cell_type": "markdown",
   "metadata": {},
   "source": [
    "Get the mean value of the first of the two identified zones (Ashrafiyeh at zone number 62) to pass it as an argument for the Foursquare API."
   ]
  },
  {
   "cell_type": "code",
   "execution_count": null,
   "metadata": {
    "scrolled": true
   },
   "outputs": [],
   "source": [
    "latitude_1=array1.centroid.x.mean()\n",
    "longitude_1=array1.centroid.y.mean()\n",
    "\n",
    "#The process of extracting the coordinates median from the GeoJSON is 100% correct and operational; however, the GeoJSON file \n",
    "#has wrong coordinates (showing values in cyprus). So, we utilized Google Maps to get the coordiantes.\n",
    "latitude_1=33.8860027 \n",
    "longitude_1=35.5151357\n",
    "print('For zone number 62, the latitude is {} and the longitude is {}.'.format(latitude_1,longitude_1))"
   ]
  },
  {
   "cell_type": "markdown",
   "metadata": {},
   "source": [
    "Get the mean value of the second of the two identified zones (Bourj Hammoud at zone number 89) to pass it as an argument for the Foursquare API."
   ]
  },
  {
   "cell_type": "code",
   "execution_count": null,
   "metadata": {
    "scrolled": true
   },
   "outputs": [],
   "source": [
    "latitude_2=array2.centroid.x.mean()\n",
    "longitude_2=array2.centroid.y.mean()\n",
    "\n",
    "#The process of extracting the coordinates median from the GeoJSON is 100% correct and operational; however, the GeoJSON file \n",
    "#has wrong coordinates (showing values in cyprus). So, we utilized Google Maps to get the coordiantes.\n",
    "latitude_2=33.8937745\n",
    "longitude_2=35.5318377\n",
    "print('For zone number 89, the latitude is {} and the longitude is {}.'.format(latitude_2,longitude_2))"
   ]
  },
  {
   "cell_type": "markdown",
   "metadata": {},
   "source": [
    "<h2>Initialize the Foursquare API"
   ]
  },
  {
   "cell_type": "markdown",
   "metadata": {},
   "source": [
    "<h4>Import the <i>requests</i> library to receive content from the API in JSON format."
   ]
  },
  {
   "cell_type": "code",
   "execution_count": 14,
   "metadata": {},
   "outputs": [],
   "source": [
    "import requests"
   ]
  },
  {
   "cell_type": "markdown",
   "metadata": {},
   "source": [
    "<h4>Declare the Foursquare credentials and variables</h4>"
   ]
  },
  {
   "cell_type": "code",
   "execution_count": 15,
   "metadata": {},
   "outputs": [],
   "source": [
    "CLIENT_ID = 'ZTLKNZCELC33KXINJUOXG2EDYQSGTRR5JPETP1DF4OTI3RMU' #Foursquare ID\n",
    "CLIENT_SECRET = 'A5MSF4DLXAIEPYAJH5VKC52BPHFPLJ03UC4BJBVLVIRTMTSW' #Foursquare Secret\n",
    "ACCESS_TOKEN = 'L33AUJG4MP4DRH0IUJNUNUFKZFEMCOEQ3QM4153GL1O0SAJK' #FourSquare Access Token\n",
    "VERSION = '20180604'\n",
    "LIMIT = 30\n",
    "radius = 500"
   ]
  },
  {
   "cell_type": "markdown",
   "metadata": {},
   "source": [
    "<h4>Declare the Foursquare search URL for the first zone as an object</h4>"
   ]
  },
  {
   "cell_type": "code",
   "execution_count": 18,
   "metadata": {},
   "outputs": [],
   "source": [
    "search_url_1 = 'https://api.foursquare.com/v2/venues/search?client_id={}&client_secret={}&ll={},{}&oauth_token={}&v={}&radius={}&limit={}'.format(CLIENT_ID, CLIENT_SECRET, latitude_1, longitude_1,ACCESS_TOKEN, VERSION, radius, LIMIT)"
   ]
  },
  {
   "cell_type": "markdown",
   "metadata": {},
   "source": [
    "<h4>Declare the Foursquare search URL for the second zone as an object</h4>"
   ]
  },
  {
   "cell_type": "code",
   "execution_count": 17,
   "metadata": {},
   "outputs": [
    {
     "ename": "NameError",
     "evalue": "name 'latitude_2' is not defined",
     "output_type": "error",
     "traceback": [
      "\u001b[1;31m---------------------------------------------------------------------------\u001b[0m",
      "\u001b[1;31mNameError\u001b[0m                                 Traceback (most recent call last)",
      "\u001b[1;32m<ipython-input-17-ff9567d6854f>\u001b[0m in \u001b[0;36m<module>\u001b[1;34m\u001b[0m\n\u001b[1;32m----> 1\u001b[1;33m \u001b[0msearch_url_2\u001b[0m \u001b[1;33m=\u001b[0m \u001b[1;34m'https://api.foursquare.com/v2/venues/search?client_id={}&client_secret={}&ll={},{}&oauth_token={}&v={}&radius={}&limit={}'\u001b[0m\u001b[1;33m.\u001b[0m\u001b[0mformat\u001b[0m\u001b[1;33m(\u001b[0m\u001b[0mCLIENT_ID\u001b[0m\u001b[1;33m,\u001b[0m \u001b[0mCLIENT_SECRET\u001b[0m\u001b[1;33m,\u001b[0m \u001b[0mlatitude_2\u001b[0m\u001b[1;33m,\u001b[0m \u001b[0mlongitude_2\u001b[0m\u001b[1;33m,\u001b[0m\u001b[0mACCESS_TOKEN\u001b[0m\u001b[1;33m,\u001b[0m \u001b[0mVERSION\u001b[0m\u001b[1;33m,\u001b[0m \u001b[0mradius\u001b[0m\u001b[1;33m,\u001b[0m \u001b[0mLIMIT\u001b[0m\u001b[1;33m)\u001b[0m\u001b[1;33m\u001b[0m\u001b[1;33m\u001b[0m\u001b[0m\n\u001b[0m",
      "\u001b[1;31mNameError\u001b[0m: name 'latitude_2' is not defined"
     ]
    }
   ],
   "source": [
    "search_url_2 = 'https://api.foursquare.com/v2/venues/search?client_id={}&client_secret={}&ll={},{}&oauth_token={}&v={}&radius={}&limit={}'.format(CLIENT_ID, CLIENT_SECRET, latitude_2, longitude_2,ACCESS_TOKEN, VERSION, radius, LIMIT)"
   ]
  },
  {
   "cell_type": "markdown",
   "metadata": {},
   "source": [
    "<h4>Receive the GET Request and examine the results from the declared URL</h4>"
   ]
  },
  {
   "cell_type": "code",
   "execution_count": 20,
   "metadata": {},
   "outputs": [
    {
     "data": {
      "text/plain": [
       "{'meta': {'code': 200, 'requestId': '611ce110020fd840168b18eb'},\n",
       " 'notifications': [{'type': 'notificationTray', 'item': {'unreadCount': 0}}],\n",
       " 'response': {'venues': [{'id': '55b39dce498e6654eba72d81',\n",
       "    'name': 'Gölbaşı Çarşı',\n",
       "    'location': {'address': 'Gölbaşı',\n",
       "     'crossStreet': 'Turan Özdemir Caddesi',\n",
       "     'lat': 37.78364217026909,\n",
       "     'lng': 37.64083212319933,\n",
       "     'labeledLatLngs': [{'label': 'display',\n",
       "       'lat': 37.78364217026909,\n",
       "       'lng': 37.64083212319933}],\n",
       "     'distance': 14119,\n",
       "     'cc': 'TR',\n",
       "     'city': 'Adıyaman',\n",
       "     'state': 'Adıyaman',\n",
       "     'country': 'Türkiye',\n",
       "     'formattedAddress': ['Gölbaşı (Turan Özdemir Caddesi)',\n",
       "      'Adıyaman',\n",
       "      'Türkiye']},\n",
       "    'categories': [{'id': '4bf58dd8d48988d162941735',\n",
       "      'name': 'Other Great Outdoors',\n",
       "      'pluralName': 'Other Great Outdoors',\n",
       "      'shortName': 'Other Outdoors',\n",
       "      'icon': {'prefix': 'https://ss3.4sqi.net/img/categories_v2/parks_outdoors/outdoors_',\n",
       "       'suffix': '.png'},\n",
       "      'primary': True}],\n",
       "    'referralId': 'v-1629282576',\n",
       "    'hasPerk': False},\n",
       "   {'id': '56bdb0a7498e44ed4117cbab',\n",
       "    'name': 'Körkün Daği',\n",
       "    'location': {'lat': 37.81002,\n",
       "     'lng': 37.78062,\n",
       "     'labeledLatLngs': [{'label': 'display',\n",
       "       'lat': 37.81002,\n",
       "       'lng': 37.78062}],\n",
       "     'distance': 2037,\n",
       "     'cc': 'TR',\n",
       "     'country': 'Türkiye',\n",
       "     'formattedAddress': ['Türkiye']},\n",
       "    'categories': [{'id': '4eb1d4d54b900d56c88a45fc',\n",
       "      'name': 'Mountain',\n",
       "      'pluralName': 'Mountains',\n",
       "      'shortName': 'Mountain',\n",
       "      'icon': {'prefix': 'https://ss3.4sqi.net/img/categories_v2/parks_outdoors/mountain_',\n",
       "       'suffix': '.png'},\n",
       "      'primary': True}],\n",
       "    'referralId': 'v-1629282576',\n",
       "    'hasPerk': False},\n",
       "   {'id': '5627760b498e65213c7da119',\n",
       "    'name': 'Akçabel Ortaokulu',\n",
       "    'location': {'lat': 37.78907012939453,\n",
       "     'lng': 37.82416534423828,\n",
       "     'labeledLatLngs': [{'label': 'display',\n",
       "       'lat': 37.78907012939453,\n",
       "       'lng': 37.82416534423828}],\n",
       "     'distance': 2449,\n",
       "     'cc': 'TR',\n",
       "     'country': 'Türkiye',\n",
       "     'formattedAddress': ['Türkiye']},\n",
       "    'categories': [{'id': '4bf58dd8d48988d1ab941735',\n",
       "      'name': 'Student Center',\n",
       "      'pluralName': 'Student Centers',\n",
       "      'shortName': 'Student Center',\n",
       "      'icon': {'prefix': 'https://ss3.4sqi.net/img/categories_v2/education/studentcenter_',\n",
       "       'suffix': '.png'},\n",
       "      'primary': True}],\n",
       "    'referralId': 'v-1629282576',\n",
       "    'hasPerk': False},\n",
       "   {'id': '53a2f6a2498e73d5e6428ac1',\n",
       "    'name': 'Gaziantep Şehirlerarası Otobüs Terminali',\n",
       "    'location': {'address': 'Gaziantep',\n",
       "     'lat': 37.74502625291119,\n",
       "     'lng': 37.84698954234435,\n",
       "     'labeledLatLngs': [{'label': 'display',\n",
       "       'lat': 37.74502625291119,\n",
       "       'lng': 37.84698954234435}],\n",
       "     'distance': 7385,\n",
       "     'cc': 'TR',\n",
       "     'city': 'Gaziantep',\n",
       "     'state': 'Gaziantep',\n",
       "     'country': 'Türkiye',\n",
       "     'formattedAddress': ['Gaziantep', 'Gaziantep', 'Türkiye']},\n",
       "    'categories': [{'id': '4bf58dd8d48988d1fe931735',\n",
       "      'name': 'Bus Station',\n",
       "      'pluralName': 'Bus Stations',\n",
       "      'shortName': 'Bus Station',\n",
       "      'icon': {'prefix': 'https://ss3.4sqi.net/img/categories_v2/travel/busstation_',\n",
       "       'suffix': '.png'},\n",
       "      'primary': True}],\n",
       "    'referralId': 'v-1629282576',\n",
       "    'hasPerk': False},\n",
       "   {'id': '57da7fe3498e18bee36aa354',\n",
       "    'name': 'Dut Bahçem',\n",
       "    'location': {'lat': 37.807037,\n",
       "     'lng': 37.878464,\n",
       "     'labeledLatLngs': [{'label': 'display',\n",
       "       'lat': 37.807037,\n",
       "       'lng': 37.878464}],\n",
       "     'distance': 6945,\n",
       "     'cc': 'TR',\n",
       "     'city': 'Meryemuşağı Köyü',\n",
       "     'state': 'Adıyaman',\n",
       "     'country': 'Türkiye',\n",
       "     'formattedAddress': ['Meryemuşağı Köyü', 'Türkiye']},\n",
       "    'categories': [{'id': '4f04af1f2fb6e1c99f3db0bb',\n",
       "      'name': 'Turkish Restaurant',\n",
       "      'pluralName': 'Turkish Restaurants',\n",
       "      'shortName': 'Turkish',\n",
       "      'icon': {'prefix': 'https://ss3.4sqi.net/img/categories_v2/food/turkish_',\n",
       "       'suffix': '.png'},\n",
       "      'primary': True}],\n",
       "    'referralId': 'v-1629282576',\n",
       "    'hasPerk': False},\n",
       "   {'id': '55c1e483498e170788072c97',\n",
       "    'name': 'Alma Pınarı',\n",
       "    'location': {'lat': 37.77918243408203,\n",
       "     'lng': 37.81593704223633,\n",
       "     'labeledLatLngs': [{'label': 'display',\n",
       "       'lat': 37.77918243408203,\n",
       "       'lng': 37.81593704223633}],\n",
       "     'distance': 2708,\n",
       "     'cc': 'TR',\n",
       "     'country': 'Türkiye',\n",
       "     'formattedAddress': ['Türkiye']},\n",
       "    'categories': [{'id': '4bf58dd8d48988d162941735',\n",
       "      'name': 'Other Great Outdoors',\n",
       "      'pluralName': 'Other Great Outdoors',\n",
       "      'shortName': 'Other Outdoors',\n",
       "      'icon': {'prefix': 'https://ss3.4sqi.net/img/categories_v2/parks_outdoors/outdoors_',\n",
       "       'suffix': '.png'},\n",
       "      'primary': True}],\n",
       "    'referralId': 'v-1629282576',\n",
       "    'hasPerk': False},\n",
       "   {'id': '594ae7079e3b65745315514b',\n",
       "    'name': 'Su Restaurant Gölbaşı',\n",
       "    'location': {'address': 'Gölbaşı-Malatya Yolu Üzeri İstikametinde 11. Km Gölbaşı/Adıyaman',\n",
       "     'crossStreet': 'Adıyaman İ/Gölbaşı Atatürk Bulvarı Devamı',\n",
       "     'lat': 37.859607,\n",
       "     'lng': 37.750767,\n",
       "     'labeledLatLngs': [{'label': 'display',\n",
       "       'lat': 37.859607,\n",
       "       'lng': 37.750767}],\n",
       "     'distance': 7922,\n",
       "     'postalCode': '02500',\n",
       "     'cc': 'TR',\n",
       "     'city': 'Adıyaman',\n",
       "     'state': 'GÖLBAŞI',\n",
       "     'country': 'Türkiye',\n",
       "     'formattedAddress': ['Gölbaşı-Malatya Yolu Üzeri İstikametinde 11. Km Gölbaşı/Adıyaman (Adıyaman İ/Gölbaşı Atatürk Bulvarı Devamı)',\n",
       "      '02500 Adıyaman',\n",
       "      'Türkiye']},\n",
       "    'categories': [{'id': '4bf58dd8d48988d1c4941735',\n",
       "      'name': 'Restaurant',\n",
       "      'pluralName': 'Restaurants',\n",
       "      'shortName': 'Restaurant',\n",
       "      'icon': {'prefix': 'https://ss3.4sqi.net/img/categories_v2/food/default_',\n",
       "       'suffix': '.png'},\n",
       "      'primary': True}],\n",
       "    'referralId': 'v-1629282576',\n",
       "    'hasPerk': False},\n",
       "   {'id': '55dd7303498ee8d50fbf0056',\n",
       "    'name': 'Tut Gölbaşı Yolu',\n",
       "    'location': {'lat': 37.751601294842814,\n",
       "     'lng': 37.84966341332713,\n",
       "     'labeledLatLngs': [{'label': 'display',\n",
       "       'lat': 37.751601294842814,\n",
       "       'lng': 37.84966341332713}],\n",
       "     'distance': 6937,\n",
       "     'cc': 'TR',\n",
       "     'country': 'Türkiye',\n",
       "     'formattedAddress': ['Türkiye']},\n",
       "    'categories': [{'id': '4bf58dd8d48988d1f6931735',\n",
       "      'name': 'General Travel',\n",
       "      'pluralName': 'General Travel',\n",
       "      'shortName': 'Travel',\n",
       "      'icon': {'prefix': 'https://ss3.4sqi.net/img/categories_v2/travel/default_',\n",
       "       'suffix': '.png'},\n",
       "      'primary': True}],\n",
       "    'referralId': 'v-1629282576',\n",
       "    'hasPerk': False},\n",
       "   {'id': '54856f02498eaca733f9c0e2',\n",
       "    'name': 'Adıyaman kahramanmaraş yolu',\n",
       "    'location': {'lat': 37.749323660640556,\n",
       "     'lng': 37.79406080035865,\n",
       "     'labeledLatLngs': [{'label': 'display',\n",
       "       'lat': 37.749323660640556,\n",
       "       'lng': 37.79406080035865}],\n",
       "     'distance': 5665,\n",
       "     'cc': 'TR',\n",
       "     'country': 'Türkiye',\n",
       "     'formattedAddress': ['Türkiye']},\n",
       "    'categories': [{'id': '4bf58dd8d48988d1f6931735',\n",
       "      'name': 'General Travel',\n",
       "      'pluralName': 'General Travel',\n",
       "      'shortName': 'Travel',\n",
       "      'icon': {'prefix': 'https://ss3.4sqi.net/img/categories_v2/travel/default_',\n",
       "       'suffix': '.png'},\n",
       "      'primary': True}],\n",
       "    'referralId': 'v-1629282576',\n",
       "    'hasPerk': False},\n",
       "   {'id': '5541c616498e085d884bb98c',\n",
       "    'name': 'Adıyaman Burunçayır Köyü',\n",
       "    'location': {'lat': 37.74982567925634,\n",
       "     'lng': 37.8006626921198,\n",
       "     'labeledLatLngs': [{'label': 'display',\n",
       "       'lat': 37.74982567925634,\n",
       "       'lng': 37.8006626921198}],\n",
       "     'distance': 5585,\n",
       "     'cc': 'TR',\n",
       "     'country': 'Türkiye',\n",
       "     'formattedAddress': ['Türkiye']},\n",
       "    'categories': [{'id': '4bf58dd8d48988d1f6931735',\n",
       "      'name': 'General Travel',\n",
       "      'pluralName': 'General Travel',\n",
       "      'shortName': 'Travel',\n",
       "      'icon': {'prefix': 'https://ss3.4sqi.net/img/categories_v2/travel/default_',\n",
       "       'suffix': '.png'},\n",
       "      'primary': True}],\n",
       "    'referralId': 'v-1629282576',\n",
       "    'hasPerk': False},\n",
       "   {'id': '57b32455498ea7ba39a03853',\n",
       "    'name': 'Bahçe Restaurant&Cafe',\n",
       "    'location': {'address': 'Adıyaman-Malatya yolu üzeri, Gölbaşına 16 km uzaklıkta.',\n",
       "     'crossStreet': 'Adıyaman-Malatya karayolu',\n",
       "     'lat': 37.86397,\n",
       "     'lng': 37.76354,\n",
       "     'labeledLatLngs': [{'label': 'display',\n",
       "       'lat': 37.86397,\n",
       "       'lng': 37.76354}],\n",
       "     'distance': 7809,\n",
       "     'postalCode': '02500',\n",
       "     'cc': 'TR',\n",
       "     'city': 'Adıyaman',\n",
       "     'state': 'Harmanlı',\n",
       "     'country': 'Türkiye',\n",
       "     'formattedAddress': ['Adıyaman-Malatya yolu üzeri, Gölbaşına 16 km uzaklıkta. (Adıyaman-Malatya karayolu)',\n",
       "      '02500 Adıyaman',\n",
       "      'Türkiye']},\n",
       "    'categories': [{'id': '4bf58dd8d48988d120951735',\n",
       "      'name': 'Food Court',\n",
       "      'pluralName': 'Food Courts',\n",
       "      'shortName': 'Food Court',\n",
       "      'icon': {'prefix': 'https://ss3.4sqi.net/img/categories_v2/shops/food_foodcourt_',\n",
       "       'suffix': '.png'},\n",
       "      'primary': True}],\n",
       "    'referralId': 'v-1629282576',\n",
       "    'hasPerk': False},\n",
       "   {'id': '53d7fad6498eb92b7eb65f80',\n",
       "    'name': 'Çamlık',\n",
       "    'location': {'lat': 37.83101171184285,\n",
       "     'lng': 37.86146658734381,\n",
       "     'labeledLatLngs': [{'label': 'display',\n",
       "       'lat': 37.83101171184285,\n",
       "       'lng': 37.86146658734381}],\n",
       "     'distance': 6413,\n",
       "     'cc': 'TR',\n",
       "     'country': 'Türkiye',\n",
       "     'formattedAddress': ['Türkiye']},\n",
       "    'categories': [{'id': '4bf58dd8d48988d15a941735',\n",
       "      'name': 'Garden',\n",
       "      'pluralName': 'Gardens',\n",
       "      'shortName': 'Garden',\n",
       "      'icon': {'prefix': 'https://ss3.4sqi.net/img/categories_v2/parks_outdoors/garden_',\n",
       "       'suffix': '.png'},\n",
       "      'primary': True}],\n",
       "    'referralId': 'v-1629282576',\n",
       "    'hasPerk': False},\n",
       "   {'id': '57da45d7498e81b29eeb5c8e',\n",
       "    'name': 'Adıyaman Bey Gölü',\n",
       "    'location': {'lat': 37.749447,\n",
       "     'lng': 37.809597,\n",
       "     'labeledLatLngs': [{'label': 'display',\n",
       "       'lat': 37.749447,\n",
       "       'lng': 37.809597}],\n",
       "     'distance': 5690,\n",
       "     'postalCode': '02300',\n",
       "     'cc': 'TR',\n",
       "     'city': 'Burunçayır Köyü',\n",
       "     'state': 'Adıyaman',\n",
       "     'country': 'Türkiye',\n",
       "     'formattedAddress': ['02300 Burunçayır Köyü', 'Türkiye']},\n",
       "    'categories': [{'id': '4bf58dd8d48988d161941735',\n",
       "      'name': 'Lake',\n",
       "      'pluralName': 'Lakes',\n",
       "      'shortName': 'Lake',\n",
       "      'icon': {'prefix': 'https://ss3.4sqi.net/img/categories_v2/parks_outdoors/lake_',\n",
       "       'suffix': '.png'},\n",
       "      'primary': True}],\n",
       "    'referralId': 'v-1629282576',\n",
       "    'hasPerk': False},\n",
       "   {'id': '5708d175498e04ec2b4317f4',\n",
       "    'name': 'Bayındır Petrol/Lukoil/Besni/Adıyaman',\n",
       "    'location': {'lat': 37.751064933202024,\n",
       "     'lng': 37.772345022941174,\n",
       "     'labeledLatLngs': [{'label': 'display',\n",
       "       'lat': 37.751064933202024,\n",
       "       'lng': 37.772345022941174}],\n",
       "     'distance': 5966,\n",
       "     'cc': 'TR',\n",
       "     'country': 'Türkiye',\n",
       "     'formattedAddress': ['Türkiye']},\n",
       "    'categories': [{'id': '4bf58dd8d48988d113951735',\n",
       "      'name': 'Gas Station',\n",
       "      'pluralName': 'Gas Stations',\n",
       "      'shortName': 'Gas Station',\n",
       "      'icon': {'prefix': 'https://ss3.4sqi.net/img/categories_v2/shops/gas_',\n",
       "       'suffix': '.png'},\n",
       "      'primary': True}],\n",
       "    'referralId': 'v-1629282576',\n",
       "    'hasPerk': False},\n",
       "   {'id': '5224c1d911d26d865e8d44bd',\n",
       "    'name': 'GKK Noktası',\n",
       "    'location': {'lat': 37.826935,\n",
       "     'lng': 37.717018,\n",
       "     'labeledLatLngs': [{'label': 'display',\n",
       "       'lat': 37.826935,\n",
       "       'lng': 37.717018}],\n",
       "     'distance': 7889,\n",
       "     'cc': 'TR',\n",
       "     'country': 'Türkiye',\n",
       "     'formattedAddress': ['Türkiye']},\n",
       "    'categories': [{'id': '4e52adeebd41615f56317744',\n",
       "      'name': 'Military Base',\n",
       "      'pluralName': 'Military Bases',\n",
       "      'shortName': 'Military Base',\n",
       "      'icon': {'prefix': 'https://ss3.4sqi.net/img/categories_v2/building/militarybase_',\n",
       "       'suffix': '.png'},\n",
       "      'primary': True}],\n",
       "    'referralId': 'v-1629282576',\n",
       "    'hasPerk': False},\n",
       "   {'id': '5873a53f18dc5313bbd0c6ad',\n",
       "    'name': 'Çeçen Dinlenme Tesisleri',\n",
       "    'location': {'address': 'Adıyaman Gölbaşı yolu',\n",
       "     'crossStreet': 'Adıyaman Gölbaşı yolu',\n",
       "     'lat': 37.75038295422169,\n",
       "     'lng': 37.77925463258446,\n",
       "     'labeledLatLngs': [{'label': 'display',\n",
       "       'lat': 37.75038295422169,\n",
       "       'lng': 37.77925463258446}],\n",
       "     'distance': 5817,\n",
       "     'postalCode': '02200',\n",
       "     'cc': 'TR',\n",
       "     'city': 'Adıyaman',\n",
       "     'state': 'Adıyaman',\n",
       "     'country': 'Türkiye',\n",
       "     'formattedAddress': ['Adıyaman Gölbaşı yolu (Adıyaman Gölbaşı yolu)',\n",
       "      '02200 Adıyaman',\n",
       "      'Türkiye']},\n",
       "    'categories': [{'id': '4bf58dd8d48988d1c4941735',\n",
       "      'name': 'Restaurant',\n",
       "      'pluralName': 'Restaurants',\n",
       "      'shortName': 'Restaurant',\n",
       "      'icon': {'prefix': 'https://ss3.4sqi.net/img/categories_v2/food/default_',\n",
       "       'suffix': '.png'},\n",
       "      'primary': True}],\n",
       "    'referralId': 'v-1629282576',\n",
       "    'hasPerk': False},\n",
       "   {'id': '5209265211d24bedd50f53a4',\n",
       "    'name': 'Kalemkaş',\n",
       "    'location': {'lat': 37.81634227824434,\n",
       "     'lng': 37.75855353553586,\n",
       "     'labeledLatLngs': [{'label': 'display',\n",
       "       'lat': 37.81634227824434,\n",
       "       'lng': 37.75855353553586}],\n",
       "     'distance': 4073,\n",
       "     'cc': 'TR',\n",
       "     'country': 'Türkiye',\n",
       "     'formattedAddress': ['Türkiye']},\n",
       "    'categories': [{'id': '4f2a210c4b9023bd5841ed28',\n",
       "      'name': 'Housing Development',\n",
       "      'pluralName': 'Housing Developments',\n",
       "      'shortName': 'Housing Development',\n",
       "      'icon': {'prefix': 'https://ss3.4sqi.net/img/categories_v2/building/housingdevelopment_',\n",
       "       'suffix': '.png'},\n",
       "      'primary': True}],\n",
       "    'referralId': 'v-1629282576',\n",
       "    'hasPerk': False},\n",
       "   {'id': '564dbb5f498efc2a38ef7b87',\n",
       "    'name': 'Gölbaşı Çarşı',\n",
       "    'location': {'lat': 37.763578970868636,\n",
       "     'lng': 37.72345375081701,\n",
       "     'labeledLatLngs': [{'label': 'display',\n",
       "       'lat': 37.763578970868636,\n",
       "       'lng': 37.72345375081701}],\n",
       "     'distance': 7860,\n",
       "     'cc': 'TR',\n",
       "     'country': 'Türkiye',\n",
       "     'formattedAddress': ['Türkiye']},\n",
       "    'categories': [{'id': '4bf58dd8d48988d164941735',\n",
       "      'name': 'Plaza',\n",
       "      'pluralName': 'Plazas',\n",
       "      'shortName': 'Plaza',\n",
       "      'icon': {'prefix': 'https://ss3.4sqi.net/img/categories_v2/parks_outdoors/plaza_',\n",
       "       'suffix': '.png'},\n",
       "      'primary': True}],\n",
       "    'referralId': 'v-1629282576',\n",
       "    'hasPerk': False},\n",
       "   {'id': '577d3567498e7e15abc8057c',\n",
       "    'name': 'Değirmendere restaurant',\n",
       "    'location': {'lat': 37.859466,\n",
       "     'lng': 37.756872,\n",
       "     'labeledLatLngs': [{'label': 'display',\n",
       "       'lat': 37.859466,\n",
       "       'lng': 37.756872}],\n",
       "     'distance': 7628,\n",
       "     'cc': 'TR',\n",
       "     'country': 'Türkiye',\n",
       "     'formattedAddress': ['Türkiye']},\n",
       "    'categories': [{'id': '4bf58dd8d48988d121941735',\n",
       "      'name': 'Lounge',\n",
       "      'pluralName': 'Lounges',\n",
       "      'shortName': 'Lounge',\n",
       "      'icon': {'prefix': 'https://ss3.4sqi.net/img/categories_v2/nightlife/default_',\n",
       "       'suffix': '.png'},\n",
       "      'primary': True}],\n",
       "    'referralId': 'v-1629282576',\n",
       "    'hasPerk': False},\n",
       "   {'id': '52024689498effe1fe369836',\n",
       "    'name': 'Adıyaman Gölbaşı (Harmanlı Köyü)',\n",
       "    'location': {'lat': 37.86044697522639,\n",
       "     'lng': 37.759233246554835,\n",
       "     'labeledLatLngs': [{'label': 'display',\n",
       "       'lat': 37.86044697522639,\n",
       "       'lng': 37.759233246554835}],\n",
       "     'distance': 7624,\n",
       "     'cc': 'TR',\n",
       "     'country': 'Türkiye',\n",
       "     'formattedAddress': ['Türkiye']},\n",
       "    'categories': [{'id': '4f2a210c4b9023bd5841ed28',\n",
       "      'name': 'Housing Development',\n",
       "      'pluralName': 'Housing Developments',\n",
       "      'shortName': 'Housing Development',\n",
       "      'icon': {'prefix': 'https://ss3.4sqi.net/img/categories_v2/building/housingdevelopment_',\n",
       "       'suffix': '.png'},\n",
       "      'primary': True}],\n",
       "    'referralId': 'v-1629282576',\n",
       "    'hasPerk': False},\n",
       "   {'id': '53a5479e498e27076079ea37',\n",
       "    'name': 'harmanli kasabasi',\n",
       "    'location': {'lat': 37.83726099438267,\n",
       "     'lng': 37.74076452920424,\n",
       "     'labeledLatLngs': [{'label': 'display',\n",
       "       'lat': 37.83726099438267,\n",
       "       'lng': 37.74076452920424}],\n",
       "     'distance': 6658,\n",
       "     'cc': 'TR',\n",
       "     'country': 'Türkiye',\n",
       "     'formattedAddress': ['Türkiye']},\n",
       "    'categories': [{'id': '4f2a210c4b9023bd5841ed28',\n",
       "      'name': 'Housing Development',\n",
       "      'pluralName': 'Housing Developments',\n",
       "      'shortName': 'Housing Development',\n",
       "      'icon': {'prefix': 'https://ss3.4sqi.net/img/categories_v2/building/housingdevelopment_',\n",
       "       'suffix': '.png'},\n",
       "      'primary': True}],\n",
       "    'referralId': 'v-1629282576',\n",
       "    'hasPerk': False},\n",
       "   {'id': '532e7810498e8a4bd1860a76',\n",
       "    'name': 'besni gölbaşı Yolu',\n",
       "    'location': {'lat': 37.74968285252804,\n",
       "     'lng': 37.7910580425337,\n",
       "     'labeledLatLngs': [{'label': 'display',\n",
       "       'lat': 37.74968285252804,\n",
       "       'lng': 37.7910580425337}],\n",
       "     'distance': 5656,\n",
       "     'cc': 'TR',\n",
       "     'country': 'Türkiye',\n",
       "     'formattedAddress': ['Türkiye']},\n",
       "    'categories': [{'id': '4f2a23984b9023bd5841ed2c',\n",
       "      'name': 'Moving Target',\n",
       "      'pluralName': 'Moving Targets',\n",
       "      'shortName': 'Moving Target',\n",
       "      'icon': {'prefix': 'https://ss3.4sqi.net/img/categories_v2/travel/movingtarget_',\n",
       "       'suffix': '.png'},\n",
       "      'primary': True}],\n",
       "    'referralId': 'v-1629282576',\n",
       "    'hasPerk': False},\n",
       "   {'id': '577d2ed8498e0cae8cd06fbc',\n",
       "    'name': 'TUT ŞELALESİ GBRZ',\n",
       "    'location': {'lat': 37.753834,\n",
       "     'lng': 37.811546,\n",
       "     'labeledLatLngs': [{'label': 'display',\n",
       "       'lat': 37.753834,\n",
       "       'lng': 37.811546}],\n",
       "     'distance': 5238,\n",
       "     'cc': 'TR',\n",
       "     'country': 'Türkiye',\n",
       "     'formattedAddress': ['Türkiye']},\n",
       "    'categories': [{'id': '56aa371be4b08b9a8d573560',\n",
       "      'name': 'Waterfall',\n",
       "      'pluralName': 'Waterfalls',\n",
       "      'shortName': 'Waterfall',\n",
       "      'icon': {'prefix': 'https://ss3.4sqi.net/img/categories_v2/parks_outdoors/default_',\n",
       "       'suffix': '.png'},\n",
       "      'primary': True}],\n",
       "    'referralId': 'v-1629282576',\n",
       "    'hasPerk': False},\n",
       "   {'id': '50fd6a31e4b04cffffd370cf',\n",
       "    'name': 'Akpınar köyü',\n",
       "    'location': {'lat': 37.75399910304471,\n",
       "     'lng': 37.741491124111135,\n",
       "     'labeledLatLngs': [{'label': 'display',\n",
       "       'lat': 37.75399910304471,\n",
       "       'lng': 37.741491124111135}],\n",
       "     'distance': 7261,\n",
       "     'cc': 'TR',\n",
       "     'country': 'Türkiye',\n",
       "     'formattedAddress': ['Türkiye']},\n",
       "    'categories': [{'id': '4bf58dd8d48988d162941735',\n",
       "      'name': 'Other Great Outdoors',\n",
       "      'pluralName': 'Other Great Outdoors',\n",
       "      'shortName': 'Other Outdoors',\n",
       "      'icon': {'prefix': 'https://ss3.4sqi.net/img/categories_v2/parks_outdoors/outdoors_',\n",
       "       'suffix': '.png'},\n",
       "      'primary': True}],\n",
       "    'referralId': 'v-1629282576',\n",
       "    'hasPerk': False},\n",
       "   {'id': '502e0174e4b07d6b343620a3',\n",
       "    'name': 'Buruncayir Koyu',\n",
       "    'location': {'lat': 37.75002352656381,\n",
       "     'lng': 37.79676265229614,\n",
       "     'labeledLatLngs': [{'label': 'display',\n",
       "       'lat': 37.75002352656381,\n",
       "       'lng': 37.79676265229614}],\n",
       "     'distance': 5570,\n",
       "     'cc': 'TR',\n",
       "     'country': 'Türkiye',\n",
       "     'formattedAddress': ['Türkiye']},\n",
       "    'categories': [{'id': '4bf58dd8d48988d15f941735',\n",
       "      'name': 'Field',\n",
       "      'pluralName': 'Fields',\n",
       "      'shortName': 'Field',\n",
       "      'icon': {'prefix': 'https://ss3.4sqi.net/img/categories_v2/parks_outdoors/field_',\n",
       "       'suffix': '.png'},\n",
       "      'primary': True}],\n",
       "    'referralId': 'v-1629282576',\n",
       "    'hasPerk': False},\n",
       "   {'id': '5b45d67c364d97002c8097cb',\n",
       "    'name': \"Bilen Home's\",\n",
       "    'location': {'address': 'yeni mahalle',\n",
       "     'crossStreet': 'zübeyde hanim caddesi',\n",
       "     'lat': 37.837826,\n",
       "     'lng': 37.739708,\n",
       "     'labeledLatLngs': [{'label': 'display',\n",
       "       'lat': 37.837826,\n",
       "       'lng': 37.739708}],\n",
       "     'distance': 6770,\n",
       "     'postalCode': '02500',\n",
       "     'cc': 'TR',\n",
       "     'city': 'Adıyaman',\n",
       "     'state': 'Adıyaman',\n",
       "     'country': 'Türkiye',\n",
       "     'formattedAddress': ['yeni mahalle (zübeyde hanim caddesi)',\n",
       "      '02500 Adıyaman',\n",
       "      'Türkiye']},\n",
       "    'categories': [{'id': '4bf58dd8d48988d15b941735',\n",
       "      'name': 'Farm',\n",
       "      'pluralName': 'Farms',\n",
       "      'shortName': 'Farm',\n",
       "      'icon': {'prefix': 'https://ss3.4sqi.net/img/categories_v2/parks_outdoors/farm_',\n",
       "       'suffix': '.png'},\n",
       "      'primary': True}],\n",
       "    'referralId': 'v-1629282576',\n",
       "    'hasPerk': False},\n",
       "   {'id': '5206664111d2c865d8fcb3d3',\n",
       "    'name': 'Küncülük',\n",
       "    'location': {'lat': 37.842818,\n",
       "     'lng': 37.727937,\n",
       "     'labeledLatLngs': [{'label': 'display',\n",
       "       'lat': 37.842818,\n",
       "       'lng': 37.727937}],\n",
       "     'distance': 7929,\n",
       "     'cc': 'TR',\n",
       "     'country': 'Türkiye',\n",
       "     'formattedAddress': ['Türkiye']},\n",
       "    'categories': [{'id': '4bf58dd8d48988d15b941735',\n",
       "      'name': 'Farm',\n",
       "      'pluralName': 'Farms',\n",
       "      'shortName': 'Farm',\n",
       "      'icon': {'prefix': 'https://ss3.4sqi.net/img/categories_v2/parks_outdoors/farm_',\n",
       "       'suffix': '.png'},\n",
       "      'primary': True}],\n",
       "    'referralId': 'v-1629282576',\n",
       "    'hasPerk': False},\n",
       "   {'id': '54097b8a498e35cae22c0dad',\n",
       "    'name': 'ayrık vadi',\n",
       "    'location': {'lat': 37.85727928968166,\n",
       "     'lng': 37.763181664929796,\n",
       "     'labeledLatLngs': [{'label': 'display',\n",
       "       'lat': 37.85727928968166,\n",
       "       'lng': 37.763181664929796}],\n",
       "     'distance': 7150,\n",
       "     'cc': 'TR',\n",
       "     'country': 'Türkiye',\n",
       "     'formattedAddress': ['Türkiye']},\n",
       "    'categories': [{'id': '4eb1d4d54b900d56c88a45fc',\n",
       "      'name': 'Mountain',\n",
       "      'pluralName': 'Mountains',\n",
       "      'shortName': 'Mountain',\n",
       "      'icon': {'prefix': 'https://ss3.4sqi.net/img/categories_v2/parks_outdoors/mountain_',\n",
       "       'suffix': '.png'},\n",
       "      'primary': True}],\n",
       "    'referralId': 'v-1629282576',\n",
       "    'hasPerk': False},\n",
       "   {'id': '5030a5e2e4b06486383ce4a8',\n",
       "    'name': 'Harmanlı',\n",
       "    'location': {'lat': 37.87000565716833,\n",
       "     'lng': 37.79169594500335,\n",
       "     'labeledLatLngs': [{'label': 'display',\n",
       "       'lat': 37.87000565716833,\n",
       "       'lng': 37.79169594500335}],\n",
       "     'distance': 7827,\n",
       "     'cc': 'TR',\n",
       "     'country': 'Türkiye',\n",
       "     'formattedAddress': ['Türkiye']},\n",
       "    'categories': [{'id': '4f2a210c4b9023bd5841ed28',\n",
       "      'name': 'Housing Development',\n",
       "      'pluralName': 'Housing Developments',\n",
       "      'shortName': 'Housing Development',\n",
       "      'icon': {'prefix': 'https://ss3.4sqi.net/img/categories_v2/building/housingdevelopment_',\n",
       "       'suffix': '.png'},\n",
       "      'primary': True}],\n",
       "    'referralId': 'v-1629282576',\n",
       "    'hasPerk': False},\n",
       "   {'id': '50fd696ce4b02b4f6102aec6',\n",
       "    'name': 'Güneykaş Köyü',\n",
       "    'location': {'lat': 37.75277158138352,\n",
       "     'lng': 37.835743638815714,\n",
       "     'labeledLatLngs': [{'label': 'display',\n",
       "       'lat': 37.75277158138352,\n",
       "       'lng': 37.835743638815714}],\n",
       "     'distance': 6126,\n",
       "     'cc': 'TR',\n",
       "     'city': 'Adıyaman',\n",
       "     'state': 'Adıyaman',\n",
       "     'country': 'Türkiye',\n",
       "     'formattedAddress': ['Adıyaman', 'Türkiye']},\n",
       "    'categories': [{'id': '4bf58dd8d48988d162941735',\n",
       "      'name': 'Other Great Outdoors',\n",
       "      'pluralName': 'Other Great Outdoors',\n",
       "      'shortName': 'Other Outdoors',\n",
       "      'icon': {'prefix': 'https://ss3.4sqi.net/img/categories_v2/parks_outdoors/outdoors_',\n",
       "       'suffix': '.png'},\n",
       "      'primary': True}],\n",
       "    'referralId': 'v-1629282576',\n",
       "    'hasPerk': False}],\n",
       "  'confident': False}}"
      ]
     },
     "execution_count": 20,
     "metadata": {},
     "output_type": "execute_result"
    }
   ],
   "source": [
    "results_1 = requests.get(search_url_1).json()\n",
    "results_2 = requests.get(search_url_2).json()"
   ]
  },
  {
   "cell_type": "markdown",
   "metadata": {},
   "source": [
    "<h4>Obtain the relevant part of the JSON of the declared URL</h4>"
   ]
  },
  {
   "cell_type": "code",
   "execution_count": null,
   "metadata": {},
   "outputs": [],
   "source": [
    "# assign relevant part of JSON to venues\n",
    "venues_1 = results_1['response']['venues']\n",
    "venues_2 = results_2['response']['venues']"
   ]
  },
  {
   "cell_type": "markdown",
   "metadata": {},
   "source": [
    "<h4>Transform the relevant JSON venues list into a dataframe</h4>"
   ]
  },
  {
   "cell_type": "code",
   "execution_count": null,
   "metadata": {},
   "outputs": [],
   "source": [
    "# import the library that allows tranforming json files into a pandas dataframe library\n",
    "from pandas.io.json import json_normalize\n",
    "\n",
    "\n",
    "# tranform venues into a dataframe\n",
    "dataframe_1 = json_normalize(venues_1)\n",
    "dataframe_2 = json_normalize(venues_2)\n",
    "\n",
    "#dataframe_1.head()\n",
    "#dataframe_2.head()"
   ]
  },
  {
   "cell_type": "markdown",
   "metadata": {},
   "source": [
    "<h4>Filter dataframe 1 according to informaiton of interest.</h4>"
   ]
  },
  {
   "cell_type": "code",
   "execution_count": null,
   "metadata": {},
   "outputs": [],
   "source": [
    "# keep only columns that include venue name, and anything that is associated with location\n",
    "filtered_columns_1 = ['name', 'categories'] + [col for col in dataframe_1.columns if col.startswith('location.')] + ['id']\n",
    "dataframe_filtered_1 = dataframe_1.loc[:, filtered_columns_1]\n",
    "\n",
    "# function that extracts the category of the venue\n",
    "def get_category_type(row):\n",
    "    try:\n",
    "        categories_list_1 = row['categories']\n",
    "    except:\n",
    "        categories_list_1 = row['venue.categories']\n",
    "        \n",
    "    if len(categories_list_1) == 0:\n",
    "        return None\n",
    "    else:\n",
    "        return categories_list_1[0]['name']\n",
    "\n",
    "# filter the category for each row\n",
    "dataframe_filtered_1['categories'] = dataframe_filtered_1.apply(get_category_type, axis=1)\n",
    "\n",
    "# clean column names by keeping only last term\n",
    "dataframe_filtered_1.columns = [column.split('.')[-1] for column in dataframe_filtered_1.columns]\n",
    "\n",
    "dataframe_filtered_1.head()"
   ]
  },
  {
   "cell_type": "markdown",
   "metadata": {},
   "source": [
    "<h4>Filter dataframe 2 according to informaiton of interest.</h4>"
   ]
  },
  {
   "cell_type": "code",
   "execution_count": null,
   "metadata": {},
   "outputs": [],
   "source": [
    "# keep only columns that include venue name, and anything that is associated with location\n",
    "filtered_columns_2 = ['name', 'categories'] + [col for col in dataframe_2.columns if col.startswith('location.')] + ['id']\n",
    "dataframe_filtered_2 = dataframe_2.loc[:, filtered_columns_2]\n",
    "\n",
    "# function that extracts the category of the venue\n",
    "def get_category_type(row):\n",
    "    try:\n",
    "        categories_list_2 = row['categories']\n",
    "    except:\n",
    "        categories_list_2 = row['venue.categories']\n",
    "        \n",
    "    if len(categories_list_2) == 0:\n",
    "        return None\n",
    "    else:\n",
    "        return categories_list_2[0]['name']\n",
    "\n",
    "# filter the category for each row\n",
    "dataframe_filtered_2['categories'] = dataframe_filtered_2.apply(get_category_type, axis=1)\n",
    "\n",
    "# clean column names by keeping only last term\n",
    "dataframe_filtered_2.columns = [column.split('.')[-1] for column in dataframe_filtered_2.columns]\n",
    "\n",
    "dataframe_filtered_2.head()"
   ]
  },
  {
   "cell_type": "markdown",
   "metadata": {},
   "source": [
    "<h4>Create a new dataframe for the first zone showing the data we only need (further filtering)</h4>"
   ]
  },
  {
   "cell_type": "code",
   "execution_count": null,
   "metadata": {},
   "outputs": [],
   "source": [
    "main_filtered_1 = dataframe_filtered_1.drop(['address','cc', 'city', 'country', 'crossStreet','distance', 'formattedAddress','labeledLatLngs', 'state', 'id', 'postalCode'], axis=1)\n",
    "main_filtered_1.head(10)"
   ]
  },
  {
   "cell_type": "markdown",
   "metadata": {},
   "source": [
    "<h4>Create a new dataframe for the second zone showing the data we only need (further filtering)</h4>"
   ]
  },
  {
   "cell_type": "code",
   "execution_count": null,
   "metadata": {},
   "outputs": [],
   "source": [
    "main_filtered_2 = dataframe_filtered_2.drop(['address','cc', 'city', 'country', 'crossStreet','distance', 'formattedAddress','labeledLatLngs', 'state', 'id'], axis=1)\n",
    "main_filtered_2.head(10)"
   ]
  },
  {
   "cell_type": "markdown",
   "metadata": {},
   "source": [
    "<h4>Import the <i>sklearn</i> library to import the <i>kmeans</i> library"
   ]
  },
  {
   "cell_type": "code",
   "execution_count": null,
   "metadata": {},
   "outputs": [],
   "source": [
    "from sklearn.cluster import KMeans"
   ]
  },
  {
   "cell_type": "markdown",
   "metadata": {},
   "source": [
    "<h4>Let's check how many venues were returned for each zone"
   ]
  },
  {
   "cell_type": "markdown",
   "metadata": {},
   "source": [
    "<h4>Determine the number of unique categories can be curated from all the returned venues"
   ]
  },
  {
   "cell_type": "code",
   "execution_count": null,
   "metadata": {},
   "outputs": [],
   "source": [
    "print('There are {} unique categories in Ashrafieh.'.format(len(main_filtered_1['categories'].unique())))\n",
    "print('There are {} unique categories in Bourj Hammoud.'.format(len(main_filtered_2['categories'].unique())))"
   ]
  },
  {
   "cell_type": "markdown",
   "metadata": {},
   "source": [
    "<h4>Determine the top categories of venues in these two locations."
   ]
  },
  {
   "cell_type": "code",
   "execution_count": null,
   "metadata": {},
   "outputs": [],
   "source": [
    "main1=main_filtered_1.groupby('categories').count()\n",
    "main1=main1.drop(['lat', 'lng'], axis=1)\n",
    "main1=main1.sort_values(by=['name'], ascending=False)\n",
    "\n",
    "main2=main_filtered_2.groupby('categories').count()\n",
    "main2=main2.drop(['lat', 'lng'], axis=1)\n",
    "main2=main2.sort_values(by=['name'], ascending=False)\n",
    "\n",
    "\n",
    "main1_styler = main1.style.set_table_attributes(\"style='display:inline'\").set_caption('Ashrafieh Zone 62')\n",
    "main2_styler = main2.style.set_table_attributes(\"style='display:inline'\").set_caption('Bourj Hammoud Zone 89')\n",
    "\n",
    "display_html(main1_styler._repr_html_()+main2_styler._repr_html_(), raw=True)"
   ]
  },
  {
   "cell_type": "code",
   "execution_count": null,
   "metadata": {},
   "outputs": [],
   "source": [
    "import matplotlib.pyplot as plt \n",
    "import matplotlib.cm as cm\n",
    "import matplotlib.colors as colors"
   ]
  },
  {
   "cell_type": "code",
   "execution_count": null,
   "metadata": {},
   "outputs": [],
   "source": [
    "# top 5 categories for both Zones\n",
    "\n",
    "#Ashrafieh\n",
    "top5_main1 = main1.iloc[:5]\n",
    "ax1 = top5_main1.plot(kind = 'barh', figsize = (6, 4), legend=None)\n",
    "ax1.set_title('Top 5 categories for Ashrafieh')\n",
    "ax1.set_xlabel('Count')\n",
    "ax1.set_ylabel('Categories')\n",
    "ax1.invert_yaxis()\n",
    "ax1.spines['top'].set_visible(False)\n",
    "ax1.spines['right'].set_visible(False)\n",
    "ax1.spines['bottom'].set_visible(False)\n",
    "ax1.spines['left'].set_visible(False)\n",
    "\n",
    "#Bourj Hammoud\n",
    "top5_main2 = main2.iloc[:5]\n",
    "ax1 = top5_main2.plot(kind = 'barh', figsize = (6, 4), legend=None)\n",
    "ax1.set_title('Top 5 categories for Bourj Hammoud')\n",
    "ax1.set_xlabel('Count')\n",
    "ax1.set_ylabel('Categories')\n",
    "ax1.invert_yaxis()\n",
    "ax1.spines['top'].set_visible(False)\n",
    "ax1.spines['right'].set_visible(False)\n",
    "ax1.spines['bottom'].set_visible(False)\n",
    "ax1.spines['left'].set_visible(False)\n",
    "\n"
   ]
  },
  {
   "cell_type": "code",
   "execution_count": null,
   "metadata": {},
   "outputs": [],
   "source": []
  },
  {
   "cell_type": "code",
   "execution_count": null,
   "metadata": {},
   "outputs": [],
   "source": []
  },
  {
   "cell_type": "code",
   "execution_count": null,
   "metadata": {},
   "outputs": [],
   "source": []
  },
  {
   "cell_type": "code",
   "execution_count": null,
   "metadata": {},
   "outputs": [],
   "source": []
  },
  {
   "cell_type": "code",
   "execution_count": null,
   "metadata": {},
   "outputs": [],
   "source": []
  },
  {
   "cell_type": "code",
   "execution_count": null,
   "metadata": {},
   "outputs": [],
   "source": []
  },
  {
   "cell_type": "code",
   "execution_count": null,
   "metadata": {},
   "outputs": [],
   "source": []
  },
  {
   "cell_type": "markdown",
   "metadata": {},
   "source": [
    "\n",
    "myscale = (nilpop['Numerical_Designation'].quantile((0,0.1,0.75,0.9,0.98,1))).tolist()\n",
    "import branca.colormap as cm\n",
    "colormap = cm.linear.YlGnBu_09\n",
    "mymap = folium.Map(location=[y_map, x_map], zoom_start=11,tiles=None)\n",
    "folium.TileLayer('CartoDB positron',name=\"Light Map\",control=False).add_to(mymap)\n",
    "colormap.caption = \"Poverty Levels in UN Operational Zones\"\n",
    "style_function = lambda x: {\"weight\":0.5, \n",
    "                            'color':'black',\n",
    "                            'fillColor':colormap(x['properties']['PER_FOREIGN']), \n",
    "                            'fillOpacity':0.75}\n",
    "highlight_function = lambda x: {'fillColor': '#000000', \n",
    "                                'color':'#000000', \n",
    "                                'fillOpacity': 0.50, \n",
    "                                'weight': 0.1}\n",
    "NIL=folium.features.GeoJson(\n",
    "        #nilpop,\n",
    "        style_function=style_function,\n",
    "        control=False,\n",
    "        highlight_function=highlight_function,\n",
    "        tooltip=folium.features.Tooltip(fields=['Cadaster','UN_Habitat'],\n",
    "            aliases=['Cadaster: ','Socioeconomic status of residents: '],\n",
    "            style=(\"background-color: white; color: #333333; font-family: arial; font-size: 12px; padding: 10px;\"),\n",
    "            sticky=True,\n",
    "            location=[y_map, x_map],\n",
    "        )\n",
    "    )\n",
    "colormap.add_to(mymap)\n",
    "mymap.add_child(NIL)\n",
    "mymap"
   ]
  },
  {
   "cell_type": "code",
   "execution_count": null,
   "metadata": {},
   "outputs": [],
   "source": []
  },
  {
   "cell_type": "code",
   "execution_count": null,
   "metadata": {},
   "outputs": [],
   "source": []
  }
 ],
 "metadata": {
  "kernelspec": {
   "display_name": "Python 3",
   "language": "python",
   "name": "python3"
  },
  "language_info": {
   "codemirror_mode": {
    "name": "ipython",
    "version": 3
   },
   "file_extension": ".py",
   "mimetype": "text/x-python",
   "name": "python",
   "nbconvert_exporter": "python",
   "pygments_lexer": "ipython3",
   "version": "3.7.3"
  }
 },
 "nbformat": 4,
 "nbformat_minor": 2
}
