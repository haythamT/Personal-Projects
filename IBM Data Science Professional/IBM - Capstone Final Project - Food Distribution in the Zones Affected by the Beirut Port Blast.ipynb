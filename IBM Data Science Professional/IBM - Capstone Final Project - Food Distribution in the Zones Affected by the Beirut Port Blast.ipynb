{
 "cells": [
  {
   "cell_type": "markdown",
   "metadata": {},
   "source": [
    "Import the \"pandas\" library which allows us to create a dataframe to view, and later manipulate, the CSV data file."
   ]
  },
  {
   "cell_type": "code",
   "execution_count": 1,
   "metadata": {},
   "outputs": [],
   "source": [
    "import pandas as pd\n",
    "from IPython.display import display_html "
   ]
  },
  {
   "cell_type": "markdown",
   "metadata": {},
   "source": [
    "Read the CSV file containing the UN Habitat data classsifying the operational zones according to the socioeconomic status of the residents. The file was read into a dataframe by specifying its location (directory) on the computer."
   ]
  },
  {
   "cell_type": "code",
   "execution_count": 2,
   "metadata": {},
   "outputs": [
    {
     "data": {
      "text/html": [
       "<div>\n",
       "<style scoped>\n",
       "    .dataframe tbody tr th:only-of-type {\n",
       "        vertical-align: middle;\n",
       "    }\n",
       "\n",
       "    .dataframe tbody tr th {\n",
       "        vertical-align: top;\n",
       "    }\n",
       "\n",
       "    .dataframe thead th {\n",
       "        text-align: right;\n",
       "    }\n",
       "</style>\n",
       "<table border=\"1\" class=\"dataframe\">\n",
       "  <thead>\n",
       "    <tr style=\"text-align: right;\">\n",
       "      <th></th>\n",
       "      <th>ACS_CODE_1</th>\n",
       "      <th>Cadaster_1</th>\n",
       "      <th>Cadaster_A</th>\n",
       "      <th>District_1</th>\n",
       "      <th>District_A</th>\n",
       "      <th>Governorat</th>\n",
       "      <th>Governor_1</th>\n",
       "      <th>zone_numbe</th>\n",
       "      <th>UN_Habitat</th>\n",
       "      <th>Comment</th>\n",
       "    </tr>\n",
       "  </thead>\n",
       "  <tbody>\n",
       "    <tr>\n",
       "      <th>0</th>\n",
       "      <td>10999</td>\n",
       "      <td>Beirut Central District</td>\n",
       "      <td>??? ?????</td>\n",
       "      <td>Beirut</td>\n",
       "      <td>?????</td>\n",
       "      <td>Beirut</td>\n",
       "      <td>?????</td>\n",
       "      <td>1</td>\n",
       "      <td>Not residential</td>\n",
       "      <td>NaN</td>\n",
       "    </tr>\n",
       "    <tr>\n",
       "      <th>1</th>\n",
       "      <td>10450</td>\n",
       "      <td>Marfa' fonci�</td>\n",
       "      <td>????</td>\n",
       "      <td>Beirut</td>\n",
       "      <td>?????</td>\n",
       "      <td>Beirut</td>\n",
       "      <td>?????</td>\n",
       "      <td>2</td>\n",
       "      <td>None�po</td>\n",
       "      <td>NaN</td>\n",
       "    </tr>\n",
       "    <tr>\n",
       "      <th>2</th>\n",
       "      <td>10350</td>\n",
       "      <td>Bachoura fonci�</td>\n",
       "      <td>??????</td>\n",
       "      <td>Beirut</td>\n",
       "      <td>?????</td>\n",
       "      <td>Beirut</td>\n",
       "      <td>?????</td>\n",
       "      <td>3</td>\n",
       "      <td>None�po</td>\n",
       "      <td>NaN</td>\n",
       "    </tr>\n",
       "    <tr>\n",
       "      <th>3</th>\n",
       "      <td>10450</td>\n",
       "      <td>Marfa' fonci�</td>\n",
       "      <td>????</td>\n",
       "      <td>Beirut</td>\n",
       "      <td>?????</td>\n",
       "      <td>Beirut</td>\n",
       "      <td>?????</td>\n",
       "      <td>4</td>\n",
       "      <td>Half poor/half not poor</td>\n",
       "      <td>NaN</td>\n",
       "    </tr>\n",
       "    <tr>\n",
       "      <th>4</th>\n",
       "      <td>10610</td>\n",
       "      <td>Mdaouar fonci�</td>\n",
       "      <td>????</td>\n",
       "      <td>Beirut</td>\n",
       "      <td>?????</td>\n",
       "      <td>Beirut</td>\n",
       "      <td>?????</td>\n",
       "      <td>5</td>\n",
       "      <td>Not residential</td>\n",
       "      <td>NaN</td>\n",
       "    </tr>\n",
       "  </tbody>\n",
       "</table>\n",
       "</div>"
      ],
      "text/plain": [
       "   ACS_CODE_1               Cadaster_1 Cadaster_A District_1 District_A  \\\n",
       "0       10999  Beirut Central District  ??? ?????     Beirut      ?????   \n",
       "1       10450            Marfa' fonci�       ????     Beirut      ?????   \n",
       "2       10350          Bachoura fonci�     ??????     Beirut      ?????   \n",
       "3       10450            Marfa' fonci�       ????     Beirut      ?????   \n",
       "4       10610           Mdaouar fonci�       ????     Beirut      ?????   \n",
       "\n",
       "  Governorat Governor_1 zone_numbe               UN_Habitat Comment  \n",
       "0     Beirut      ?????          1          Not residential     NaN  \n",
       "1     Beirut      ?????          2                  None�po     NaN  \n",
       "2     Beirut      ?????          3                  None�po     NaN  \n",
       "3     Beirut      ?????          4  Half poor/half not poor     NaN  \n",
       "4     Beirut      ?????          5          Not residential     NaN  "
      ]
     },
     "execution_count": 2,
     "metadata": {},
     "output_type": "execute_result"
    }
   ],
   "source": [
    "data_file = 'E:/IBM Capstone/SocioEconomic_Zones_UNHabitat.csv'\n",
    "df = pd.read_csv(data_file)\n",
    "df.head()"
   ]
  },
  {
   "cell_type": "markdown",
   "metadata": {},
   "source": [
    "Customize the dataframe by keeping only the data that contirbute to the scope of this project. The approach was dropping irrelevany columns from the dataframe."
   ]
  },
  {
   "cell_type": "code",
   "execution_count": 3,
   "metadata": {},
   "outputs": [
    {
     "data": {
      "text/html": [
       "<div>\n",
       "<style scoped>\n",
       "    .dataframe tbody tr th:only-of-type {\n",
       "        vertical-align: middle;\n",
       "    }\n",
       "\n",
       "    .dataframe tbody tr th {\n",
       "        vertical-align: top;\n",
       "    }\n",
       "\n",
       "    .dataframe thead th {\n",
       "        text-align: right;\n",
       "    }\n",
       "</style>\n",
       "<table border=\"1\" class=\"dataframe\">\n",
       "  <thead>\n",
       "    <tr style=\"text-align: right;\">\n",
       "      <th></th>\n",
       "      <th>ACS_CODE_1</th>\n",
       "      <th>Cadaster_1</th>\n",
       "      <th>zone_numbe</th>\n",
       "      <th>UN_Habitat</th>\n",
       "    </tr>\n",
       "  </thead>\n",
       "  <tbody>\n",
       "    <tr>\n",
       "      <th>0</th>\n",
       "      <td>10999</td>\n",
       "      <td>Beirut Central District</td>\n",
       "      <td>1</td>\n",
       "      <td>Not residential</td>\n",
       "    </tr>\n",
       "    <tr>\n",
       "      <th>1</th>\n",
       "      <td>10450</td>\n",
       "      <td>Marfa' fonci�</td>\n",
       "      <td>2</td>\n",
       "      <td>None�po</td>\n",
       "    </tr>\n",
       "    <tr>\n",
       "      <th>2</th>\n",
       "      <td>10350</td>\n",
       "      <td>Bachoura fonci�</td>\n",
       "      <td>3</td>\n",
       "      <td>None�po</td>\n",
       "    </tr>\n",
       "    <tr>\n",
       "      <th>3</th>\n",
       "      <td>10450</td>\n",
       "      <td>Marfa' fonci�</td>\n",
       "      <td>4</td>\n",
       "      <td>Half poor/half not poor</td>\n",
       "    </tr>\n",
       "    <tr>\n",
       "      <th>4</th>\n",
       "      <td>10610</td>\n",
       "      <td>Mdaouar fonci�</td>\n",
       "      <td>5</td>\n",
       "      <td>Not residential</td>\n",
       "    </tr>\n",
       "  </tbody>\n",
       "</table>\n",
       "</div>"
      ],
      "text/plain": [
       "   ACS_CODE_1               Cadaster_1 zone_numbe               UN_Habitat\n",
       "0       10999  Beirut Central District          1          Not residential\n",
       "1       10450            Marfa' fonci�          2                  None�po\n",
       "2       10350          Bachoura fonci�          3                  None�po\n",
       "3       10450            Marfa' fonci�          4  Half poor/half not poor\n",
       "4       10610           Mdaouar fonci�          5          Not residential"
      ]
     },
     "execution_count": 3,
     "metadata": {},
     "output_type": "execute_result"
    }
   ],
   "source": [
    "df = df.drop(columns=['Cadaster_A', 'District_1', 'District_A', 'Governorat', 'Governor_1', 'Comment'])\n",
    "df.head()"
   ]
  },
  {
   "cell_type": "code",
   "execution_count": 4,
   "metadata": {},
   "outputs": [
    {
     "data": {
      "text/html": [
       "<div>\n",
       "<style scoped>\n",
       "    .dataframe tbody tr th:only-of-type {\n",
       "        vertical-align: middle;\n",
       "    }\n",
       "\n",
       "    .dataframe tbody tr th {\n",
       "        vertical-align: top;\n",
       "    }\n",
       "\n",
       "    .dataframe thead th {\n",
       "        text-align: right;\n",
       "    }\n",
       "</style>\n",
       "<table border=\"1\" class=\"dataframe\">\n",
       "  <thead>\n",
       "    <tr style=\"text-align: right;\">\n",
       "      <th></th>\n",
       "      <th>ACS Code</th>\n",
       "      <th>Cadaster</th>\n",
       "      <th>Zone Number</th>\n",
       "      <th>UN_Habitat</th>\n",
       "    </tr>\n",
       "  </thead>\n",
       "  <tbody>\n",
       "    <tr>\n",
       "      <th>0</th>\n",
       "      <td>10999</td>\n",
       "      <td>Beirut Central District</td>\n",
       "      <td>1</td>\n",
       "      <td>Not residential</td>\n",
       "    </tr>\n",
       "    <tr>\n",
       "      <th>1</th>\n",
       "      <td>10450</td>\n",
       "      <td>Marfa' fonci�</td>\n",
       "      <td>2</td>\n",
       "      <td>None�po</td>\n",
       "    </tr>\n",
       "    <tr>\n",
       "      <th>2</th>\n",
       "      <td>10350</td>\n",
       "      <td>Bachoura fonci�</td>\n",
       "      <td>3</td>\n",
       "      <td>None�po</td>\n",
       "    </tr>\n",
       "    <tr>\n",
       "      <th>3</th>\n",
       "      <td>10450</td>\n",
       "      <td>Marfa' fonci�</td>\n",
       "      <td>4</td>\n",
       "      <td>Half poor/half not poor</td>\n",
       "    </tr>\n",
       "    <tr>\n",
       "      <th>4</th>\n",
       "      <td>10610</td>\n",
       "      <td>Mdaouar fonci�</td>\n",
       "      <td>5</td>\n",
       "      <td>Not residential</td>\n",
       "    </tr>\n",
       "  </tbody>\n",
       "</table>\n",
       "</div>"
      ],
      "text/plain": [
       "   ACS Code                 Cadaster Zone Number               UN_Habitat\n",
       "0     10999  Beirut Central District           1          Not residential\n",
       "1     10450            Marfa' fonci�           2                  None�po\n",
       "2     10350          Bachoura fonci�           3                  None�po\n",
       "3     10450            Marfa' fonci�           4  Half poor/half not poor\n",
       "4     10610           Mdaouar fonci�           5          Not residential"
      ]
     },
     "execution_count": 4,
     "metadata": {},
     "output_type": "execute_result"
    }
   ],
   "source": [
    "df.rename(columns={'ACS_CODE_1':'ACS Code', 'Cadaster_1':'Cadaster', 'zone_numbe':'Zone Number'}, inplace=True)\n",
    "df.head()"
   ]
  },
  {
   "cell_type": "code",
   "execution_count": 5,
   "metadata": {},
   "outputs": [
    {
     "name": "stdout",
     "output_type": "stream",
     "text": [
      "<class 'pandas.core.frame.DataFrame'>\n",
      "RangeIndex: 189 entries, 0 to 188\n",
      "Data columns (total 4 columns):\n",
      "ACS Code       189 non-null int64\n",
      "Cadaster       189 non-null object\n",
      "Zone Number    189 non-null object\n",
      "UN_Habitat     189 non-null object\n",
      "dtypes: int64(1), object(3)\n",
      "memory usage: 6.0+ KB\n"
     ]
    }
   ],
   "source": [
    "df.info()"
   ]
  },
  {
   "cell_type": "code",
   "execution_count": 6,
   "metadata": {},
   "outputs": [],
   "source": [
    "#clean_df.value_counts()"
   ]
  },
  {
   "cell_type": "code",
   "execution_count": 7,
   "metadata": {},
   "outputs": [
    {
     "data": {
      "text/plain": [
       "<Figure size 640x480 with 1 Axes>"
      ]
     },
     "metadata": {},
     "output_type": "display_data"
    }
   ],
   "source": [
    "import matplotlib.pyplot as plt \n",
    "\n",
    "clean_df=df['UN_Habitat'].replace({'None�po': 'None poor', 'All�po': 'All poor', 'Minority�po': 'Minority poor'})\n",
    "\n",
    "y = [5,31,18,58,54,23]\n",
    "x = ['Not residential', 'None poor', 'Minority poor', 'Half poor/half not poor','Majority poor', 'All poor'  ]\n",
    "\n",
    "def Average(lst):\n",
    "    return sum(lst) / len(lst)\n",
    "avg = Average(y)\n",
    "plt.axvline(avg, color='g', linestyle='--')\n",
    "plt.text(32,0,'Mean: {}'.format(avg),rotation=0)\n",
    "\n",
    "plt.barh(x, y, color=['turquoise', 'turquoise', 'turquoise', 'teal', 'turquoise', 'turquoise'])\n",
    "  \n",
    "# setting x-label as pen sold\n",
    "plt.xlabel(\"Count\") \n",
    "  \n",
    "# setting y_label as price\n",
    "plt.ylabel(\"Socioeconomic categories\")   \n",
    "plt.title(\"Number of residents in each socioeconomic category as distributed in the operational zones\")\n",
    "plt.show()"
   ]
  },
  {
   "cell_type": "code",
   "execution_count": 8,
   "metadata": {},
   "outputs": [],
   "source": [
    "import json"
   ]
  },
  {
   "cell_type": "code",
   "execution_count": 9,
   "metadata": {},
   "outputs": [],
   "source": [
    "zones_geo = 'E:/IBM Capstone/beirut_port_explosion_operational_zones.json'"
   ]
  },
  {
   "cell_type": "code",
   "execution_count": 10,
   "metadata": {},
   "outputs": [],
   "source": [
    "with open(zones_geo) as geo_file:\n",
    "    zones_json = json.load(geo_file)"
   ]
  },
  {
   "cell_type": "code",
   "execution_count": 11,
   "metadata": {},
   "outputs": [],
   "source": [
    "#zones_json"
   ]
  },
  {
   "cell_type": "code",
   "execution_count": 12,
   "metadata": {},
   "outputs": [
    {
     "name": "stdout",
     "output_type": "stream",
     "text": [
      "Folium installed and imported\n"
     ]
    }
   ],
   "source": [
    "#! pip install folium==0.5.0\n",
    "import folium # plotting library\n",
    "\n",
    "print('Folium installed and imported')"
   ]
  },
  {
   "cell_type": "markdown",
   "metadata": {},
   "source": [
    "We need numerical data to generate the Choropleth maps. Here, the UN Habitat classification is a categorical variable. As such, I will change them to be numerical representation where all poor is 0 and no poor is 5."
   ]
  },
  {
   "cell_type": "markdown",
   "metadata": {},
   "source": [
    "To begin with, I need to know the variables in order to add a new column with the corresponding numerical value."
   ]
  },
  {
   "cell_type": "code",
   "execution_count": 13,
   "metadata": {},
   "outputs": [
    {
     "name": "stdout",
     "output_type": "stream",
     "text": [
      "No. of unique values : 6\n",
      "unique values : ['Not residential', 'None�po', 'Half poor/half not poor', 'Majority poor', 'All�po', 'Minority�po']\n"
     ]
    }
   ],
   "source": [
    "# variable to hold the count\n",
    "cnt = 0\n",
    "  \n",
    "# list to hold visited values\n",
    "values = []\n",
    "  \n",
    "# loop for counting the unique\n",
    "# values in height\n",
    "for i in range(0, len(df['UN_Habitat'])):\n",
    "    \n",
    "    if df['UN_Habitat'][i] not in values: \n",
    "        \n",
    "        values.append(df['UN_Habitat'][i])\n",
    "          \n",
    "        cnt += 1\n",
    "  \n",
    "print(\"No. of unique values :\",\n",
    "      cnt)\n",
    "  \n",
    "print(\"unique values :\",\n",
    "      values)"
   ]
  },
  {
   "cell_type": "markdown",
   "metadata": {},
   "source": [
    "As can be seen, these are the values that the zones are classified into. Now we need to identify their number in order to assign numerical value for each category."
   ]
  },
  {
   "cell_type": "markdown",
   "metadata": {},
   "source": [
    "As can be seen, we have 6 unique values, one of them is \"Not residential\". In this research, we are focusing on assistance provided to people. Hence, we will drop all rows that are non-residential leaving us with 5 categories for zones. \n",
    "\n",
    "The designations will be as follow:\n",
    "\n",
    "    -None poor: 0\n",
    "    -Minority poor: 1\n",
    "    -Half poor/half not poor: 2\n",
    "    -Majority poor: 3\n",
    "    -All poor: 4"
   ]
  },
  {
   "cell_type": "markdown",
   "metadata": {},
   "source": [
    "Now we add the numerical designations as a new column in the dataframe. The values will map the \"UN_Habitat\" column"
   ]
  },
  {
   "cell_type": "code",
   "execution_count": 14,
   "metadata": {},
   "outputs": [
    {
     "data": {
      "text/html": [
       "<div>\n",
       "<style scoped>\n",
       "    .dataframe tbody tr th:only-of-type {\n",
       "        vertical-align: middle;\n",
       "    }\n",
       "\n",
       "    .dataframe tbody tr th {\n",
       "        vertical-align: top;\n",
       "    }\n",
       "\n",
       "    .dataframe thead th {\n",
       "        text-align: right;\n",
       "    }\n",
       "</style>\n",
       "<table border=\"1\" class=\"dataframe\">\n",
       "  <thead>\n",
       "    <tr style=\"text-align: right;\">\n",
       "      <th></th>\n",
       "      <th>ACS Code</th>\n",
       "      <th>Cadaster</th>\n",
       "      <th>Zone Number</th>\n",
       "      <th>UN_Habitat</th>\n",
       "    </tr>\n",
       "  </thead>\n",
       "  <tbody>\n",
       "    <tr>\n",
       "      <th>0</th>\n",
       "      <td>10999</td>\n",
       "      <td>Beirut Central District</td>\n",
       "      <td>1</td>\n",
       "      <td>Not residential</td>\n",
       "    </tr>\n",
       "    <tr>\n",
       "      <th>1</th>\n",
       "      <td>10450</td>\n",
       "      <td>Marfa' fonci�</td>\n",
       "      <td>2</td>\n",
       "      <td>None�po</td>\n",
       "    </tr>\n",
       "    <tr>\n",
       "      <th>2</th>\n",
       "      <td>10350</td>\n",
       "      <td>Bachoura fonci�</td>\n",
       "      <td>3</td>\n",
       "      <td>None�po</td>\n",
       "    </tr>\n",
       "    <tr>\n",
       "      <th>3</th>\n",
       "      <td>10450</td>\n",
       "      <td>Marfa' fonci�</td>\n",
       "      <td>4</td>\n",
       "      <td>Half poor/half not poor</td>\n",
       "    </tr>\n",
       "    <tr>\n",
       "      <th>4</th>\n",
       "      <td>10610</td>\n",
       "      <td>Mdaouar fonci�</td>\n",
       "      <td>5</td>\n",
       "      <td>Not residential</td>\n",
       "    </tr>\n",
       "  </tbody>\n",
       "</table>\n",
       "</div>"
      ],
      "text/plain": [
       "   ACS Code                 Cadaster Zone Number               UN_Habitat\n",
       "0     10999  Beirut Central District           1          Not residential\n",
       "1     10450            Marfa' fonci�           2                  None�po\n",
       "2     10350          Bachoura fonci�           3                  None�po\n",
       "3     10450            Marfa' fonci�           4  Half poor/half not poor\n",
       "4     10610           Mdaouar fonci�           5          Not residential"
      ]
     },
     "execution_count": 14,
     "metadata": {},
     "output_type": "execute_result"
    }
   ],
   "source": [
    "#df.drop(df.index[df['UN_Habitat'] == 'Not residential'], inplace = True)\n",
    "df.head()"
   ]
  },
  {
   "cell_type": "code",
   "execution_count": 15,
   "metadata": {},
   "outputs": [],
   "source": [
    "df.insert(4, \"Numerical_Designation\", True)"
   ]
  },
  {
   "cell_type": "code",
   "execution_count": 16,
   "metadata": {},
   "outputs": [],
   "source": [
    "import numpy as np"
   ]
  },
  {
   "cell_type": "code",
   "execution_count": 17,
   "metadata": {},
   "outputs": [
    {
     "data": {
      "text/html": [
       "<div>\n",
       "<style scoped>\n",
       "    .dataframe tbody tr th:only-of-type {\n",
       "        vertical-align: middle;\n",
       "    }\n",
       "\n",
       "    .dataframe tbody tr th {\n",
       "        vertical-align: top;\n",
       "    }\n",
       "\n",
       "    .dataframe thead th {\n",
       "        text-align: right;\n",
       "    }\n",
       "</style>\n",
       "<table border=\"1\" class=\"dataframe\">\n",
       "  <thead>\n",
       "    <tr style=\"text-align: right;\">\n",
       "      <th></th>\n",
       "      <th>ACS Code</th>\n",
       "      <th>Cadaster</th>\n",
       "      <th>Zone Number</th>\n",
       "      <th>UN_Habitat</th>\n",
       "      <th>Numerical_Designation</th>\n",
       "    </tr>\n",
       "  </thead>\n",
       "  <tbody>\n",
       "    <tr>\n",
       "      <th>0</th>\n",
       "      <td>10999</td>\n",
       "      <td>Beirut Central District</td>\n",
       "      <td>1</td>\n",
       "      <td>Not residential</td>\n",
       "      <td>0</td>\n",
       "    </tr>\n",
       "    <tr>\n",
       "      <th>1</th>\n",
       "      <td>10450</td>\n",
       "      <td>Marfa' fonci�</td>\n",
       "      <td>2</td>\n",
       "      <td>None�po</td>\n",
       "      <td>1</td>\n",
       "    </tr>\n",
       "    <tr>\n",
       "      <th>2</th>\n",
       "      <td>10350</td>\n",
       "      <td>Bachoura fonci�</td>\n",
       "      <td>3</td>\n",
       "      <td>None�po</td>\n",
       "      <td>1</td>\n",
       "    </tr>\n",
       "    <tr>\n",
       "      <th>3</th>\n",
       "      <td>10450</td>\n",
       "      <td>Marfa' fonci�</td>\n",
       "      <td>4</td>\n",
       "      <td>Half poor/half not poor</td>\n",
       "      <td>3</td>\n",
       "    </tr>\n",
       "    <tr>\n",
       "      <th>4</th>\n",
       "      <td>10610</td>\n",
       "      <td>Mdaouar fonci�</td>\n",
       "      <td>5</td>\n",
       "      <td>Not residential</td>\n",
       "      <td>0</td>\n",
       "    </tr>\n",
       "  </tbody>\n",
       "</table>\n",
       "</div>"
      ],
      "text/plain": [
       "   ACS Code                 Cadaster Zone Number               UN_Habitat  \\\n",
       "0     10999  Beirut Central District           1          Not residential   \n",
       "1     10450            Marfa' fonci�           2                  None�po   \n",
       "2     10350          Bachoura fonci�           3                  None�po   \n",
       "3     10450            Marfa' fonci�           4  Half poor/half not poor   \n",
       "4     10610           Mdaouar fonci�           5          Not residential   \n",
       "\n",
       "  Numerical_Designation  \n",
       "0                     0  \n",
       "1                     1  \n",
       "2                     1  \n",
       "3                     3  \n",
       "4                     0  "
      ]
     },
     "execution_count": 17,
     "metadata": {},
     "output_type": "execute_result"
    }
   ],
   "source": [
    "# create a list of our conditions\n",
    "conditions = [\n",
    "    (df['UN_Habitat'] == 'Not residential'),\n",
    "    (df['UN_Habitat'] == 'None�po'),\n",
    "    (df['UN_Habitat'] == 'Minority�po'),\n",
    "    (df['UN_Habitat'] == 'Half poor/half not poor'),\n",
    "    (df['UN_Habitat'] == 'Majority poor'),\n",
    "    (df['UN_Habitat'] == 'All�po')\n",
    "    ]\n",
    "\n",
    "# create a list of the values we want to assign for each condition\n",
    "values = ['0', '1', '2', '3', '4', '5']\n",
    "\n",
    "# create a new column and use np.select to assign values to it using our lists as arguments\n",
    "df['Numerical_Designation'] = np.select(conditions, values)\n",
    "\n",
    "df.head()"
   ]
  },
  {
   "cell_type": "markdown",
   "metadata": {},
   "source": [
    "Now we need to cast (change the type) of the new column from type <i>string</i> (text) to type <i>integer</i> (number)"
   ]
  },
  {
   "cell_type": "code",
   "execution_count": 18,
   "metadata": {},
   "outputs": [
    {
     "data": {
      "text/plain": [
       "ACS Code                  int64\n",
       "Cadaster                 object\n",
       "Zone Number              object\n",
       "UN_Habitat               object\n",
       "Numerical_Designation     int64\n",
       "dtype: object"
      ]
     },
     "execution_count": 18,
     "metadata": {},
     "output_type": "execute_result"
    }
   ],
   "source": [
    "df['Numerical_Designation'] = pd.to_numeric(df['Numerical_Designation'])\n",
    "df.dtypes"
   ]
  },
  {
   "cell_type": "markdown",
   "metadata": {},
   "source": [
    "Usually if there is a value with 'a' there are another similar values, so we need to view the rows that come after this index at position 155."
   ]
  },
  {
   "cell_type": "code",
   "execution_count": 19,
   "metadata": {},
   "outputs": [
    {
     "name": "stdout",
     "output_type": "stream",
     "text": [
      "The 5 following rows in the 'zone_numbe' column have the following value: 156a\n",
      "The 5 following rows in the 'zone_numbe' column have the following value: 156b\n",
      "The 5 following rows in the 'zone_numbe' column have the following value: 157\n",
      "The 5 following rows in the 'zone_numbe' column have the following value: 158\n",
      "The 5 following rows in the 'zone_numbe' column have the following value: 159\n"
     ]
    }
   ],
   "source": [
    "zone = df['Zone Number']\n",
    "i = 155\n",
    "while i < 160:\n",
    "    ii = zone[i]\n",
    "    i+=1\n",
    "    print(\"The 5 following rows in the 'zone_numbe' column have the following value: {}\".format(ii))\n",
    "    "
   ]
  },
  {
   "cell_type": "markdown",
   "metadata": {},
   "source": [
    "As can be seen, after index 155, there are only two values with an alphabet which are \"156a\" and \"156b\". Hence, we need to change these values at indices 155 and 156 into a purely numeric format to then cast the whole column from the type 'object' to the type 'int'"
   ]
  },
  {
   "cell_type": "code",
   "execution_count": 20,
   "metadata": {},
   "outputs": [
    {
     "data": {
      "text/plain": [
       "155    156\n",
       "156    156\n",
       "Name: Zone Number, dtype: object"
      ]
     },
     "execution_count": 20,
     "metadata": {},
     "output_type": "execute_result"
    }
   ],
   "source": [
    "df.loc[155:156,['Zone Number']] = [156]\n",
    "df['Zone Number'].loc[155:156]\n"
   ]
  },
  {
   "cell_type": "markdown",
   "metadata": {},
   "source": [
    "The values have changed successfully into '156'. However, the values are of type \"object\" unlike the GroJSON file which have the values as type \"int\". Now we can change the whole \"zone_numbe\" column into type \"int\"."
   ]
  },
  {
   "cell_type": "code",
   "execution_count": 21,
   "metadata": {},
   "outputs": [
    {
     "data": {
      "text/plain": [
       "ACS Code                  int64\n",
       "Cadaster                 object\n",
       "Zone Number               int64\n",
       "UN_Habitat               object\n",
       "Numerical_Designation     int64\n",
       "dtype: object"
      ]
     },
     "execution_count": 21,
     "metadata": {},
     "output_type": "execute_result"
    }
   ],
   "source": [
    "df['Zone Number'] = pd.to_numeric(df['Zone Number'])\n",
    "df.dtypes"
   ]
  },
  {
   "cell_type": "code",
   "execution_count": 22,
   "metadata": {},
   "outputs": [],
   "source": [
    "def add_categorical_legend(folium_map, title, colors, labels):\n",
    "    if len(colors) != len(labels):\n",
    "        raise ValueError(\"colors and labels must have the same length.\")\n",
    "\n",
    "    color_by_label = dict(zip(labels, colors))\n",
    "    \n",
    "    legend_categories = \"\"     \n",
    "    for label, color in color_by_label.items():\n",
    "        legend_categories += f\"<li><span style='background:{color}'></span>{label}</li>\"\n",
    "        \n",
    "    legend_html = f\"\"\"\n",
    "    <div id='maplegend' class='maplegend'>\n",
    "      <div class='legend-title'>{title}</div>\n",
    "      <div class='legend-scale'>\n",
    "        <ul class='legend-labels'>\n",
    "        {legend_categories}\n",
    "        </ul>\n",
    "      </div>\n",
    "    </div>\n",
    "    \"\"\"\n",
    "    script = f\"\"\"\n",
    "        <script type=\"text/javascript\">\n",
    "        var oneTimeExecution = (function() {{\n",
    "                    var executed = false;\n",
    "                    return function() {{\n",
    "                        if (!executed) {{\n",
    "                             var checkExist = setInterval(function() {{\n",
    "                                       if ((document.getElementsByClassName('leaflet-top leaflet-right').length) || (!executed)) {{\n",
    "                                          document.getElementsByClassName('leaflet-top leaflet-right')[0].style.display = \"flex\"\n",
    "                                          document.getElementsByClassName('leaflet-top leaflet-right')[0].style.flexDirection = \"column\"\n",
    "                                          document.getElementsByClassName('leaflet-top leaflet-right')[0].innerHTML += `{legend_html}`;\n",
    "                                          clearInterval(checkExist);\n",
    "                                          executed = true;\n",
    "                                       }}\n",
    "                                    }}, 100);\n",
    "                        }}\n",
    "                    }};\n",
    "                }})();\n",
    "        oneTimeExecution()\n",
    "        </script>\n",
    "      \"\"\"\n",
    "   \n",
    "\n",
    "    css = \"\"\"\n",
    "\n",
    "    <style type='text/css'>\n",
    "      .maplegend {\n",
    "        z-index:9999;\n",
    "        float:right;\n",
    "        background-color: rgba(255, 255, 255, 1);\n",
    "        border-radius: 5px;\n",
    "        border: 2px solid #bbb;\n",
    "        padding: 10px;\n",
    "        font-size:12px;\n",
    "        positon: relative;\n",
    "      }\n",
    "      .maplegend .legend-title {\n",
    "        text-align: left;\n",
    "        margin-bottom: 5px;\n",
    "        font-weight: bold;\n",
    "        font-size: 90%;\n",
    "        }\n",
    "      .maplegend .legend-scale ul {\n",
    "        margin: 0;\n",
    "        margin-bottom: 5px;\n",
    "        padding: 0;\n",
    "        float: left;\n",
    "        list-style: none;\n",
    "        }\n",
    "      .maplegend .legend-scale ul li {\n",
    "        font-size: 80%;\n",
    "        list-style: none;\n",
    "        margin-left: 0;\n",
    "        line-height: 18px;\n",
    "        margin-bottom: 2px;\n",
    "        }\n",
    "      .maplegend ul.legend-labels li span {\n",
    "        display: block;\n",
    "        float: left;\n",
    "        height: 16px;\n",
    "        width: 30px;\n",
    "        margin-right: 5px;\n",
    "        margin-left: 0;\n",
    "        border: 0px solid #ccc;\n",
    "        }\n",
    "      .maplegend .legend-source {\n",
    "        font-size: 80%;\n",
    "        color: #777;\n",
    "        clear: both;\n",
    "        }\n",
    "      .maplegend a {\n",
    "        color: #777;\n",
    "        }\n",
    "    </style>\n",
    "    \"\"\"\n",
    "\n",
    "    folium_map.get_root().header.add_child(folium.Element(script + css))\n",
    "\n",
    "    return folium_map"
   ]
  },
  {
   "cell_type": "code",
   "execution_count": 23,
   "metadata": {},
   "outputs": [
    {
     "data": {
      "text/html": [
       "<div style=\"width:100%;\"><div style=\"position:relative;width:100%;height:0;padding-bottom:60%;\"><span style=\"color:#565656\">Make this Notebook Trusted to load map: File -> Trust Notebook</span><iframe src=\"about:blank\" style=\"position:absolute;width:100%;height:100%;left:0;top:0;border:none !important;\" data-html=%3C%21DOCTYPE%20html%3E%0A%3Chead%3E%20%20%20%20%0A%20%20%20%20%3Cmeta%20http-equiv%3D%22content-type%22%20content%3D%22text/html%3B%20charset%3DUTF-8%22%20/%3E%0A%20%20%20%20%0A%20%20%20%20%20%20%20%20%3Cscript%20type%3D%22text/javascript%22%3E%0A%20%20%20%20%20%20%20%20var%20oneTimeExecution%20%3D%20%28function%28%29%20%7B%0A%20%20%20%20%20%20%20%20%20%20%20%20%20%20%20%20%20%20%20%20var%20executed%20%3D%20false%3B%0A%20%20%20%20%20%20%20%20%20%20%20%20%20%20%20%20%20%20%20%20return%20function%28%29%20%7B%0A%20%20%20%20%20%20%20%20%20%20%20%20%20%20%20%20%20%20%20%20%20%20%20%20if%20%28%21executed%29%20%7B%0A%20%20%20%20%20%20%20%20%20%20%20%20%20%20%20%20%20%20%20%20%20%20%20%20%20%20%20%20%20var%20checkExist%20%3D%20setInterval%28function%28%29%20%7B%0A%20%20%20%20%20%20%20%20%20%20%20%20%20%20%20%20%20%20%20%20%20%20%20%20%20%20%20%20%20%20%20%20%20%20%20%20%20%20%20if%20%28%28document.getElementsByClassName%28%27leaflet-top%20leaflet-right%27%29.length%29%20%7C%7C%20%28%21executed%29%29%20%7B%0A%20%20%20%20%20%20%20%20%20%20%20%20%20%20%20%20%20%20%20%20%20%20%20%20%20%20%20%20%20%20%20%20%20%20%20%20%20%20%20%20%20%20document.getElementsByClassName%28%27leaflet-top%20leaflet-right%27%29%5B0%5D.style.display%20%3D%20%22flex%22%0A%20%20%20%20%20%20%20%20%20%20%20%20%20%20%20%20%20%20%20%20%20%20%20%20%20%20%20%20%20%20%20%20%20%20%20%20%20%20%20%20%20%20document.getElementsByClassName%28%27leaflet-top%20leaflet-right%27%29%5B0%5D.style.flexDirection%20%3D%20%22column%22%0A%20%20%20%20%20%20%20%20%20%20%20%20%20%20%20%20%20%20%20%20%20%20%20%20%20%20%20%20%20%20%20%20%20%20%20%20%20%20%20%20%20%20document.getElementsByClassName%28%27leaflet-top%20leaflet-right%27%29%5B0%5D.innerHTML%20%2B%3D%20%60%0A%20%20%20%20%3Cdiv%20id%3D%27maplegend%27%20class%3D%27maplegend%27%3E%0A%20%20%20%20%20%20%3Cdiv%20class%3D%27legend-title%27%3EPoverty%20Levels%20in%20UN%20Operational%20Zones%3C/div%3E%0A%20%20%20%20%20%20%3Cdiv%20class%3D%27legend-scale%27%3E%0A%20%20%20%20%20%20%20%20%3Cul%20class%3D%27legend-labels%27%3E%0A%20%20%20%20%20%20%20%20%3Cli%3E%3Cspan%20style%3D%27background%3A%23ccebc5%27%3E%3C/span%3ENot%20residential%3C/li%3E%3Cli%3E%3Cspan%20style%3D%27background%3A%23a8ddb5%27%3E%3C/span%3ENone%20poor%3C/li%3E%3Cli%3E%3Cspan%20style%3D%27background%3A%237bccc4%27%3E%3C/span%3EMinority%20poor%3C/li%3E%3Cli%3E%3Cspan%20style%3D%27background%3A%234eb3d3%27%3E%3C/span%3EHalf%20poor/half%20not%20poor%3C/li%3E%3Cli%3E%3Cspan%20style%3D%27background%3A%232b8cbe%27%3E%3C/span%3EMajority%20poor%3C/li%3E%3Cli%3E%3Cspan%20style%3D%27background%3A%2308589e%27%3E%3C/span%3EAll%20poor%3C/li%3E%0A%20%20%20%20%20%20%20%20%3C/ul%3E%0A%20%20%20%20%20%20%3C/div%3E%0A%20%20%20%20%3C/div%3E%0A%20%20%20%20%60%3B%0A%20%20%20%20%20%20%20%20%20%20%20%20%20%20%20%20%20%20%20%20%20%20%20%20%20%20%20%20%20%20%20%20%20%20%20%20%20%20%20%20%20%20clearInterval%28checkExist%29%3B%0A%20%20%20%20%20%20%20%20%20%20%20%20%20%20%20%20%20%20%20%20%20%20%20%20%20%20%20%20%20%20%20%20%20%20%20%20%20%20%20%20%20%20executed%20%3D%20true%3B%0A%20%20%20%20%20%20%20%20%20%20%20%20%20%20%20%20%20%20%20%20%20%20%20%20%20%20%20%20%20%20%20%20%20%20%20%20%20%20%20%7D%0A%20%20%20%20%20%20%20%20%20%20%20%20%20%20%20%20%20%20%20%20%20%20%20%20%20%20%20%20%20%20%20%20%20%20%20%20%7D%2C%20100%29%3B%0A%20%20%20%20%20%20%20%20%20%20%20%20%20%20%20%20%20%20%20%20%20%20%20%20%7D%0A%20%20%20%20%20%20%20%20%20%20%20%20%20%20%20%20%20%20%20%20%7D%3B%0A%20%20%20%20%20%20%20%20%20%20%20%20%20%20%20%20%7D%29%28%29%3B%0A%20%20%20%20%20%20%20%20oneTimeExecution%28%29%0A%20%20%20%20%20%20%20%20%3C/script%3E%0A%20%20%20%20%20%20%0A%0A%20%20%20%20%3Cstyle%20type%3D%27text/css%27%3E%0A%20%20%20%20%20%20.maplegend%20%7B%0A%20%20%20%20%20%20%20%20z-index%3A9999%3B%0A%20%20%20%20%20%20%20%20float%3Aright%3B%0A%20%20%20%20%20%20%20%20background-color%3A%20rgba%28255%2C%20255%2C%20255%2C%201%29%3B%0A%20%20%20%20%20%20%20%20border-radius%3A%205px%3B%0A%20%20%20%20%20%20%20%20border%3A%202px%20solid%20%23bbb%3B%0A%20%20%20%20%20%20%20%20padding%3A%2010px%3B%0A%20%20%20%20%20%20%20%20font-size%3A12px%3B%0A%20%20%20%20%20%20%20%20positon%3A%20relative%3B%0A%20%20%20%20%20%20%7D%0A%20%20%20%20%20%20.maplegend%20.legend-title%20%7B%0A%20%20%20%20%20%20%20%20text-align%3A%20left%3B%0A%20%20%20%20%20%20%20%20margin-bottom%3A%205px%3B%0A%20%20%20%20%20%20%20%20font-weight%3A%20bold%3B%0A%20%20%20%20%20%20%20%20font-size%3A%2090%25%3B%0A%20%20%20%20%20%20%20%20%7D%0A%20%20%20%20%20%20.maplegend%20.legend-scale%20ul%20%7B%0A%20%20%20%20%20%20%20%20margin%3A%200%3B%0A%20%20%20%20%20%20%20%20margin-bottom%3A%205px%3B%0A%20%20%20%20%20%20%20%20padding%3A%200%3B%0A%20%20%20%20%20%20%20%20float%3A%20left%3B%0A%20%20%20%20%20%20%20%20list-style%3A%20none%3B%0A%20%20%20%20%20%20%20%20%7D%0A%20%20%20%20%20%20.maplegend%20.legend-scale%20ul%20li%20%7B%0A%20%20%20%20%20%20%20%20font-size%3A%2080%25%3B%0A%20%20%20%20%20%20%20%20list-style%3A%20none%3B%0A%20%20%20%20%20%20%20%20margin-left%3A%200%3B%0A%20%20%20%20%20%20%20%20line-height%3A%2018px%3B%0A%20%20%20%20%20%20%20%20margin-bottom%3A%202px%3B%0A%20%20%20%20%20%20%20%20%7D%0A%20%20%20%20%20%20.maplegend%20ul.legend-labels%20li%20span%20%7B%0A%20%20%20%20%20%20%20%20display%3A%20block%3B%0A%20%20%20%20%20%20%20%20float%3A%20left%3B%0A%20%20%20%20%20%20%20%20height%3A%2016px%3B%0A%20%20%20%20%20%20%20%20width%3A%2030px%3B%0A%20%20%20%20%20%20%20%20margin-right%3A%205px%3B%0A%20%20%20%20%20%20%20%20margin-left%3A%200%3B%0A%20%20%20%20%20%20%20%20border%3A%200px%20solid%20%23ccc%3B%0A%20%20%20%20%20%20%20%20%7D%0A%20%20%20%20%20%20.maplegend%20.legend-source%20%7B%0A%20%20%20%20%20%20%20%20font-size%3A%2080%25%3B%0A%20%20%20%20%20%20%20%20color%3A%20%23777%3B%0A%20%20%20%20%20%20%20%20clear%3A%20both%3B%0A%20%20%20%20%20%20%20%20%7D%0A%20%20%20%20%20%20.maplegend%20a%20%7B%0A%20%20%20%20%20%20%20%20color%3A%20%23777%3B%0A%20%20%20%20%20%20%20%20%7D%0A%20%20%20%20%3C/style%3E%0A%20%20%20%20%0A%20%20%20%20%3Cscript%3EL_PREFER_CANVAS%20%3D%20false%3B%20L_NO_TOUCH%20%3D%20false%3B%20L_DISABLE_3D%20%3D%20false%3B%3C/script%3E%0A%20%20%20%20%3Cscript%20src%3D%22https%3A//cdn.jsdelivr.net/npm/leaflet%401.2.0/dist/leaflet.js%22%3E%3C/script%3E%0A%20%20%20%20%3Cscript%20src%3D%22https%3A//ajax.googleapis.com/ajax/libs/jquery/1.11.1/jquery.min.js%22%3E%3C/script%3E%0A%20%20%20%20%3Cscript%20src%3D%22https%3A//maxcdn.bootstrapcdn.com/bootstrap/3.2.0/js/bootstrap.min.js%22%3E%3C/script%3E%0A%20%20%20%20%3Cscript%20src%3D%22https%3A//cdnjs.cloudflare.com/ajax/libs/Leaflet.awesome-markers/2.0.2/leaflet.awesome-markers.js%22%3E%3C/script%3E%0A%20%20%20%20%3Clink%20rel%3D%22stylesheet%22%20href%3D%22https%3A//cdn.jsdelivr.net/npm/leaflet%401.2.0/dist/leaflet.css%22/%3E%0A%20%20%20%20%3Clink%20rel%3D%22stylesheet%22%20href%3D%22https%3A//maxcdn.bootstrapcdn.com/bootstrap/3.2.0/css/bootstrap.min.css%22/%3E%0A%20%20%20%20%3Clink%20rel%3D%22stylesheet%22%20href%3D%22https%3A//maxcdn.bootstrapcdn.com/bootstrap/3.2.0/css/bootstrap-theme.min.css%22/%3E%0A%20%20%20%20%3Clink%20rel%3D%22stylesheet%22%20href%3D%22https%3A//maxcdn.bootstrapcdn.com/font-awesome/4.6.3/css/font-awesome.min.css%22/%3E%0A%20%20%20%20%3Clink%20rel%3D%22stylesheet%22%20href%3D%22https%3A//cdnjs.cloudflare.com/ajax/libs/Leaflet.awesome-markers/2.0.2/leaflet.awesome-markers.css%22/%3E%0A%20%20%20%20%3Clink%20rel%3D%22stylesheet%22%20href%3D%22https%3A//rawgit.com/python-visualization/folium/master/folium/templates/leaflet.awesome.rotate.css%22/%3E%0A%20%20%20%20%3Cstyle%3Ehtml%2C%20body%20%7Bwidth%3A%20100%25%3Bheight%3A%20100%25%3Bmargin%3A%200%3Bpadding%3A%200%3B%7D%3C/style%3E%0A%20%20%20%20%3Cstyle%3E%23map%20%7Bposition%3Aabsolute%3Btop%3A0%3Bbottom%3A0%3Bright%3A0%3Bleft%3A0%3B%7D%3C/style%3E%0A%20%20%20%20%0A%20%20%20%20%20%20%20%20%20%20%20%20%3Cstyle%3E%20%23map_ea494afa69254bb6bc9bce023d1c01ad%20%7B%0A%20%20%20%20%20%20%20%20%20%20%20%20%20%20%20%20position%20%3A%20relative%3B%0A%20%20%20%20%20%20%20%20%20%20%20%20%20%20%20%20width%20%3A%20100.0%25%3B%0A%20%20%20%20%20%20%20%20%20%20%20%20%20%20%20%20height%3A%20100.0%25%3B%0A%20%20%20%20%20%20%20%20%20%20%20%20%20%20%20%20left%3A%200.0%25%3B%0A%20%20%20%20%20%20%20%20%20%20%20%20%20%20%20%20top%3A%200.0%25%3B%0A%20%20%20%20%20%20%20%20%20%20%20%20%20%20%20%20%7D%0A%20%20%20%20%20%20%20%20%20%20%20%20%3C/style%3E%0A%20%20%20%20%20%20%20%20%0A%3C/head%3E%0A%3Cbody%3E%20%20%20%20%0A%20%20%20%20%0A%20%20%20%20%20%20%20%20%20%20%20%20%3Cdiv%20class%3D%22folium-map%22%20id%3D%22map_ea494afa69254bb6bc9bce023d1c01ad%22%20%3E%3C/div%3E%0A%20%20%20%20%20%20%20%20%0A%3C/body%3E%0A%3Cscript%3E%20%20%20%20%0A%20%20%20%20%0A%0A%20%20%20%20%20%20%20%20%20%20%20%20%0A%20%20%20%20%20%20%20%20%20%20%20%20%20%20%20%20var%20bounds%20%3D%20null%3B%0A%20%20%20%20%20%20%20%20%20%20%20%20%0A%0A%20%20%20%20%20%20%20%20%20%20%20%20var%20map_ea494afa69254bb6bc9bce023d1c01ad%20%3D%20L.map%28%0A%20%20%20%20%20%20%20%20%20%20%20%20%20%20%20%20%20%20%20%20%20%20%20%20%20%20%20%20%20%20%20%20%20%20%27map_ea494afa69254bb6bc9bce023d1c01ad%27%2C%0A%20%20%20%20%20%20%20%20%20%20%20%20%20%20%20%20%20%20%20%20%20%20%20%20%20%20%20%20%20%20%20%20%20%20%7Bcenter%3A%20%5B33.8994574%2C35.5144002%5D%2C%0A%20%20%20%20%20%20%20%20%20%20%20%20%20%20%20%20%20%20%20%20%20%20%20%20%20%20%20%20%20%20%20%20%20%20zoom%3A%2013%2C%0A%20%20%20%20%20%20%20%20%20%20%20%20%20%20%20%20%20%20%20%20%20%20%20%20%20%20%20%20%20%20%20%20%20%20maxBounds%3A%20bounds%2C%0A%20%20%20%20%20%20%20%20%20%20%20%20%20%20%20%20%20%20%20%20%20%20%20%20%20%20%20%20%20%20%20%20%20%20layers%3A%20%5B%5D%2C%0A%20%20%20%20%20%20%20%20%20%20%20%20%20%20%20%20%20%20%20%20%20%20%20%20%20%20%20%20%20%20%20%20%20%20worldCopyJump%3A%20false%2C%0A%20%20%20%20%20%20%20%20%20%20%20%20%20%20%20%20%20%20%20%20%20%20%20%20%20%20%20%20%20%20%20%20%20%20crs%3A%20L.CRS.EPSG3857%0A%20%20%20%20%20%20%20%20%20%20%20%20%20%20%20%20%20%20%20%20%20%20%20%20%20%20%20%20%20%20%20%20%20%7D%29%3B%0A%20%20%20%20%20%20%20%20%20%20%20%20%0A%20%20%20%20%20%20%20%20%0A%20%20%20%20%0A%20%20%20%20%20%20%20%20%20%20%20%20var%20tile_layer_2395bd4f74c9484793df886cd557c46d%20%3D%20L.tileLayer%28%0A%20%20%20%20%20%20%20%20%20%20%20%20%20%20%20%20%27https%3A//cartodb-basemaps-%7Bs%7D.global.ssl.fastly.net/light_all/%7Bz%7D/%7Bx%7D/%7By%7D.png%27%2C%0A%20%20%20%20%20%20%20%20%20%20%20%20%20%20%20%20%7B%0A%20%20%22attribution%22%3A%20null%2C%0A%20%20%22detectRetina%22%3A%20false%2C%0A%20%20%22maxZoom%22%3A%2018%2C%0A%20%20%22minZoom%22%3A%201%2C%0A%20%20%22noWrap%22%3A%20false%2C%0A%20%20%22subdomains%22%3A%20%22abc%22%0A%7D%0A%20%20%20%20%20%20%20%20%20%20%20%20%20%20%20%20%29.addTo%28map_ea494afa69254bb6bc9bce023d1c01ad%29%3B%0A%20%20%20%20%20%20%20%20%0A%20%20%20%20%0A%0A%20%20%20%20%20%20%20%20%20%20%20%20%0A%0A%20%20%20%20%20%20%20%20%20%20%20%20%20%20%20%20var%20geo_json_e1b57d7af6d44f59a7d24a539dd3021e%20%3D%20L.geoJson%28%0A%20%20%20%20%20%20%20%20%20%20%20%20%20%20%20%20%20%20%20%20%7B%22crs%22%3A%20%7B%22properties%22%3A%20%7B%22name%22%3A%20%22EPSG%3A4326%22%7D%2C%20%22type%22%3A%20%22name%22%7D%2C%20%22features%22%3A%20%5B%7B%22geometry%22%3A%20%7B%22coordinates%22%3A%20%5B%5B%5B35.51226592900008%2C%2033.904213080000034%5D%2C%20%5B35.51100407100006%2C%2033.90696231900006%5D%2C%20%5B35.510090853000065%2C%2033.90684111600007%5D%2C%20%5B35.508892272000026%2C%2033.906679788000076%5D%2C%20%5B35.50626591200006%2C%2033.90636560100006%5D%2C%20%5B35.50544036600007%2C%2033.906162119000044%5D%2C%20%5B35.504532116000064%2C%2033.90581419000006%5D%2C%20%5B35.502507682000044%2C%2033.905461278000075%5D%2C%20%5B35.501425174000076%2C%2033.90523004700003%5D%2C%20%5B35.50054341300006%2C%2033.90497804100005%5D%2C%20%5B35.498896296000055%2C%2033.904392210000026%5D%2C%20%5B35.49854826200004%2C%2033.90460169100004%5D%2C%20%5B35.49846452000003%2C%2033.904504865000035%5D%2C%20%5B35.49881516500005%2C%2033.90417619500005%5D%2C%20%5B35.49882509200006%2C%2033.90372282800007%5D%2C%20%5B35.49872263700007%2C%2033.90317233900004%5D%2C%20%5B35.49853226000005%2C%2033.90271606300007%5D%2C%20%5B35.49808500300003%2C%2033.90223191600006%5D%2C%20%5B35.49746234500003%2C%2033.90191224000006%5D%2C%20%5B35.496978091000074%2C%2033.90180945100008%5D%2C%20%5B35.49651978000003%2C%2033.90182628300005%5D%2C%20%5B35.49600270600007%2C%2033.901913809000064%5D%2C%20%5B35.49551112700004%2C%2033.90214505200004%5D%2C%20%5B35.49530873500004%2C%2033.90223737600007%5D%2C%20%5B35.494861333000074%2C%2033.902619522000066%5D%2C%20%5B35.494876024000064%2C%2033.90258550000004%5D%2C%20%5B35.49480106200008%2C%2033.90241241900003%5D%2C%20%5B35.49500027800008%2C%2033.902376279000066%5D%2C%20%5B35.49494984700004%2C%2033.90220977400003%5D%2C%20%5B35.49516679300007%2C%2033.90195095100006%5D%2C%20%5B35.49470080800006%2C%2033.90199006700004%5D%2C%20%5B35.49469457200007%2C%2033.901658078000025%5D%2C%20%5B35.494737376000046%2C%2033.90149440400006%5D%2C%20%5B35.49487422000004%2C%2033.90132751500005%5D%2C%20%5B35.49504327400007%2C%2033.90124863500006%5D%2C%20%5B35.495285059000025%2C%2033.901228788000026%5D%2C%20%5B35.49554036400008%2C%2033.901224367000054%5D%2C%20%5B35.49600800600007%2C%2033.90121740600006%5D%2C%20%5B35.49619977100008%2C%2033.90132053200006%5D%2C%20%5B35.49639691800007%2C%2033.90133241700005%5D%2C%20%5B35.49682910200005%2C%2033.901231333000055%5D%2C%20%5B35.497204977000024%2C%2033.90118547900005%5D%2C%20%5B35.497408894000046%2C%2033.90116603800004%5D%2C%20%5B35.497622689000025%2C%2033.90122031300007%5D%2C%20%5B35.49782985300004%2C%2033.90116061300006%5D%2C%20%5B35.498096572000065%2C%2033.90114438100005%5D%2C%20%5B35.49814045100004%2C%2033.90130162500003%5D%2C%20%5B35.49827166000006%2C%2033.90142256900003%5D%2C%20%5B35.49842035900008%2C%2033.90131603400005%5D%2C%20%5B35.49856560200004%2C%2033.90119746800008%5D%2C%20%5B35.49887390400005%2C%2033.90113465600007%5D%2C%20%5B35.49900438700007%2C%2033.90127334500005%5D%2C%20%5B35.49920658100007%2C%2033.901255425000045%5D%2C%20%5B35.49938133200004%2C%2033.90116309700005%5D%2C%20%5B35.49960430400006%2C%2033.90099892200004%5D%2C%20%5B35.49982707200007%2C%2033.900828543000046%5D%2C%20%5B35.49951995400005%2C%2033.90052847800007%5D%2C%20%5B35.49979078800004%2C%2033.90041675200007%5D%2C%20%5B35.500019046000034%2C%2033.90038161100006%5D%2C%20%5B35.50099980600004%2C%2033.90043613000006%5D%2C%20%5B35.50147388400006%2C%2033.900459124000065%5D%2C%20%5B35.50175098400007%2C%2033.900617374000035%5D%2C%20%5B35.50200930300008%2C%2033.90096982500006%5D%2C%20%5B35.501998609000054%2C%2033.90113427000006%5D%2C%20%5B35.50190034700006%2C%2033.90143888000006%5D%2C%20%5B35.50208801500003%2C%2033.90151332600004%5D%2C%20%5B35.50241429400006%2C%2033.90146304000007%5D%2C%20%5B35.502583575000074%2C%2033.90162091700006%5D%2C%20%5B35.50279524800004%2C%2033.90163329400008%5D%2C%20%5B35.50279354700007%2C%2033.901958679000074%5D%2C%20%5B35.50295057200003%2C%2033.90212059900006%5D%2C%20%5B35.50316131300008%2C%2033.90211379500005%5D%2C%20%5B35.50331391200007%2C%2033.90221532700008%5D%2C%20%5B35.50349939300003%2C%2033.902157825000074%5D%2C%20%5B35.50369529100004%2C%2033.90211866100003%5D%2C%20%5B35.50388846100003%2C%2033.90214245300007%5D%2C%20%5B35.50411890400005%2C%2033.90217766100005%5D%2C%20%5B35.504328583000074%2C%2033.90223496200008%5D%2C%20%5B35.50454576300007%2C%2033.902289275000044%5D%2C%20%5B35.50475869300004%2C%2033.90235254400005%5D%2C%20%5B35.504987474000075%2C%2033.902386457000034%5D%2C%20%5B35.505185751000056%2C%2033.90245513900004%5D%2C%20%5B35.505378191000034%2C%2033.90249695500006%5D%2C%20%5B35.50574842300006%2C%2033.902585862000024%5D%2C%20%5B35.50599006700003%2C%2033.902649987000075%5D%2C%20%5B35.506197103000034%2C%2033.902689063000025%5D%2C%20%5B35.50657058400003%2C%2033.902784076000046%5D%2C%20%5B35.50681661100003%2C%2033.90283332800004%5D%2C%20%5B35.50693705300006%2C%2033.90262699700003%5D%2C%20%5B35.507839413000056%2C%2033.90260811700006%5D%2C%20%5B35.50784102500006%2C%2033.90276682900003%5D%2C%20%5B35.51236255800006%2C%2033.90393071300008%5D%2C%20%5B35.51226592900008%2C%2033.904213080000034%5D%5D%5D%2C%20%22type%22%3A%20%22Polygon%22%7D%2C%20%22id%22%3A%200%2C%20%22properties%22%3A%20%7B%22ACS_CODE_1%22%3A%2010999%2C%20%22Cadaster_1%22%3A%20%22Beirut%20Central%20District%22%2C%20%22Cadaster_A%22%3A%20%22%5Cu0648%5Cu0633%5Cu0637%20%5Cu0628%5Cu064a%5Cu0631%5Cu0648%5Cu062a%22%2C%20%22District_1%22%3A%20%22Beirut%22%2C%20%22District_A%22%3A%20%22%5Cu0628%5Cu064a%5Cu0631%5Cu0648%5Cu062a%22%2C%20%22FID%22%3A%200%2C%20%22Governor_1%22%3A%20%22%5Cu0628%5Cu064a%5Cu0631%5Cu0648%5Cu062a%22%2C%20%22Governorat%22%3A%20%22Beirut%22%2C%20%22OBJECTID_1%22%3A%201%2C%20%22Shape_Area%22%3A%205.22696576175e-05%2C%20%22Shape_Leng%22%3A%200.0452026113606%2C%20%22highlight%22%3A%20%7B%7D%2C%20%22style%22%3A%20%7B%22color%22%3A%20%22black%22%2C%20%22fillColor%22%3A%20%22%23ccebc5%22%2C%20%22fillOpacity%22%3A%201%2C%20%22opacity%22%3A%200.5%2C%20%22weight%22%3A%201%7D%2C%20%22zone_numbe%22%3A%201%7D%2C%20%22type%22%3A%20%22Feature%22%7D%2C%20%7B%22geometry%22%3A%20%7B%22coordinates%22%3A%20%5B%5B%5B35.538589149000074%2C%2033.900933432000045%5D%2C%20%5B35.53860372400004%2C%2033.900965333000045%5D%2C%20%5B35.53908322500007%2C%2033.901587919000065%5D%2C%20%5B35.53981933500006%2C%2033.902256038000075%5D%2C%20%5B35.54049641200004%2C%2033.90285577000003%5D%2C%20%5B35.54233265200003%2C%2033.90423615200007%5D%2C%20%5B35.54224281300003%2C%2033.90427202200004%5D%2C%20%5B35.54211513400003%2C%2033.90432283300004%5D%2C%20%5B35.54165108800004%2C%2033.904493083000034%5D%2C%20%5B35.541187673000024%2C%2033.904633887000045%5D%2C%20%5B35.54057878100008%2C%2033.90451955300006%5D%2C%20%5B35.54043405800007%2C%2033.90475064000003%5D%2C%20%5B35.54021921300006%2C%2033.904980683000076%5D%2C%20%5B35.539909185000056%2C%2033.90530655200007%5D%2C%20%5B35.53962205700003%2C%2033.90565220900004%5D%2C%20%5B35.53955085700005%2C%2033.905709494000064%5D%2C%20%5B35.53943385300005%2C%2033.90572720100005%5D%2C%20%5B35.538993075000064%2C%2033.90562339500008%5D%2C%20%5B35.538644730000044%2C%2033.90556000300006%5D%2C%20%5B35.538436293000075%2C%2033.905498554000076%5D%2C%20%5B35.538434540000026%2C%2033.90549359500005%5D%2C%20%5B35.53815001400005%2C%2033.90541776300006%5D%2C%20%5B35.53760935100007%2C%2033.905266521000044%5D%2C%20%5B35.537301385000035%2C%2033.90495174200004%5D%2C%20%5B35.536962653000046%2C%2033.90473191500007%5D%2C%20%5B35.536708221000026%2C%2033.90458493600005%5D%2C%20%5B35.53648081000006%2C%2033.90450995200007%5D%2C%20%5B35.53619424300007%2C%2033.90452949500008%5D%2C%20%5B35.535878439000044%2C%2033.90457256000008%5D%2C%20%5B35.535875367000074%2C%2033.904715700000054%5D%2C%20%5B35.536014899000065%2C%2033.904884784000046%5D%2C%20%5B35.53699674400008%2C%2033.90580631600005%5D%2C%20%5B35.537108233000026%2C%2033.905951163000054%5D%2C%20%5B35.53652878100007%2C%2033.90627653000007%5D%2C%20%5B35.536837939000065%2C%2033.90654369400005%5D%2C%20%5B35.53721546400004%2C%2033.90628676700004%5D%2C%20%5B35.537381509000056%2C%2033.90655179600003%5D%2C%20%5B35.53709135200006%2C%2033.906738433000044%5D%2C%20%5B35.53767788700003%2C%2033.907415327000024%5D%2C%20%5B35.53758949200005%2C%2033.90753337900003%5D%2C%20%5B35.536817889000076%2C%2033.908810548000076%5D%2C%20%5B35.53555862200005%2C%2033.90880360600005%5D%2C%20%5B35.534443751000026%2C%2033.90873933200004%5D%2C%20%5B35.532040546000076%2C%2033.908691453000074%5D%2C%20%5B35.530744767000044%2C%2033.90905385800005%5D%2C%20%5B35.53073603800004%2C%2033.90945946800008%5D%2C%20%5B35.53030684500004%2C%2033.90945304600007%5D%2C%20%5B35.530314547000046%2C%2033.909095197000056%5D%2C%20%5B35.530254582000055%2C%2033.90656473000007%5D%2C%20%5B35.52954525000007%2C%2033.906279580000046%5D%2C%20%5B35.52829450000007%2C%2033.90587906900004%5D%2C%20%5B35.52636403100007%2C%2033.905146184000046%5D%2C%20%5B35.52579189100004%2C%2033.90778654300004%5D%2C%20%5B35.52330912000008%2C%2033.90612645400006%5D%2C%20%5B35.52359699700003%2C%2033.90339826400003%5D%2C%20%5B35.520150055000045%2C%2033.901330001000076%5D%2C%20%5B35.52004547200005%2C%2033.900648998000065%5D%2C%20%5B35.52032514000007%2C%2033.900248874000056%5D%2C%20%5B35.52037192000006%2C%2033.900070878000065%5D%2C%20%5B35.52039946100007%2C%2033.89987596200007%5D%2C%20%5B35.52033317300004%2C%2033.899596485000075%5D%2C%20%5B35.52022388900008%2C%2033.89941388500006%5D%2C%20%5B35.520137668000075%2C%2033.89913396600008%5D%2C%20%5B35.52008856100008%2C%2033.89890407300004%5D%2C%20%5B35.52016184000007%2C%2033.89856369900008%5D%2C%20%5B35.520382203000054%2C%2033.89843975500003%5D%2C%20%5B35.52072012100007%2C%2033.89831912900007%5D%2C%20%5B35.52130136400007%2C%2033.898450481000054%5D%2C%20%5B35.52175925600005%2C%2033.89826823800007%5D%2C%20%5B35.521549734000075%2C%2033.89796913200007%5D%2C%20%5B35.52261294900006%2C%2033.89835261200005%5D%2C%20%5B35.52422966100005%2C%2033.89911156100004%5D%2C%20%5B35.524643027000025%2C%2033.89927824000006%5D%2C%20%5B35.524826992000044%2C%2033.899658112000054%5D%2C%20%5B35.52540387700003%2C%2033.900512083000024%5D%2C%20%5B35.52523397900006%2C%2033.90109659600006%5D%2C%20%5B35.52564800500005%2C%2033.90188657700003%5D%2C%20%5B35.526661656000044%2C%2033.90326190500008%5D%2C%20%5B35.52738025300005%2C%2033.90384249400006%5D%2C%20%5B35.52784186800005%2C%2033.90406616300004%5D%2C%20%5B35.52872702800005%2C%2033.90392815400003%5D%2C%20%5B35.529312375000075%2C%2033.90376635100006%5D%2C%20%5B35.53048782900004%2C%2033.90419941300007%5D%2C%20%5B35.53137298900003%2C%2033.90448970700004%5D%2C%20%5B35.53214869300007%2C%2033.90432790400007%5D%2C%20%5B35.53345263700004%2C%2033.90376635100006%5D%2C%20%5B35.53477085900005%2C%2033.90336660100007%5D%2C%20%5B35.53598914300005%2C%2033.90318576200008%5D%2C%20%5B35.537050382000075%2C%2033.903128655000046%5D%2C%20%5B35.53742157800008%2C%2033.90260041500005%5D%2C%20%5B35.53826390800003%2C%2033.90210072800005%5D%2C%20%5B35.538573238000026%2C%2033.90181995200004%5D%2C%20%5B35.538589149000074%2C%2033.900933432000045%5D%5D%5D%2C%20%22type%22%3A%20%22Polygon%22%7D%2C%20%22id%22%3A%201%2C%20%22properties%22%3A%20%7B%22ACS_CODE_1%22%3A%2010610%2C%20%22Cadaster_1%22%3A%20%22Mdaouar%20fonci%5Cu00e8re%22%2C%20%22Cadaster_A%22%3A%20%22%5Cu0645%5Cu062f%5Cu0648%5Cu0631%22%2C%20%22District_1%22%3A%20%22Beirut%22%2C%20%22District_A%22%3A%20%22%5Cu0628%5Cu064a%5Cu0631%5Cu0648%5Cu062a%22%2C%20%22FID%22%3A%201%2C%20%22Governor_1%22%3A%20%22%5Cu0628%5Cu064a%5Cu0631%5Cu0648%5Cu062a%22%2C%20%22Governorat%22%3A%20%22Beirut%22%2C%20%22OBJECTID_1%22%3A%202%2C%20%22Shape_Area%22%3A%208.66711248367e-05%2C%20%22Shape_Leng%22%3A%200.0724332587181%2C%20%22highlight%22%3A%20%7B%7D%2C%20%22style%22%3A%20%7B%22color%22%3A%20%22black%22%2C%20%22fillColor%22%3A%20%22%23a8ddb5%22%2C%20%22fillOpacity%22%3A%201%2C%20%22opacity%22%3A%200.5%2C%20%22weight%22%3A%201%7D%2C%20%22zone_numbe%22%3A%205%7D%2C%20%22type%22%3A%20%22Feature%22%7D%2C%20%7B%22geometry%22%3A%20%7B%22coordinates%22%3A%20%5B%5B%5B35.50774917100006%2C%2033.89748445300006%5D%2C%20%5B35.50934053200007%2C%2033.89768570600006%5D%2C%20%5B35.51129564800004%2C%2033.89721639100003%5D%2C%20%5B35.51278951000006%2C%2033.89684915600003%5D%2C%20%5B35.51327990100003%2C%2033.89688291900006%5D%2C%20%5B35.51439820600007%2C%2033.89676564000007%5D%2C%20%5B35.51555140600004%2C%2033.896644509000055%5D%2C%20%5B35.51581734400003%2C%2033.896616669000025%5D%2C%20%5B35.51615713700005%2C%2033.89658106600007%5D%2C%20%5B35.51664294200003%2C%2033.896530047000056%5D%2C%20%5B35.51786394800007%2C%2033.89636791800007%5D%2C%20%5B35.51807716500008%2C%2033.896339703000024%5D%2C%20%5B35.51850075600004%2C%2033.89628957100007%5D%2C%20%5B35.51900543200003%2C%2033.89642837800005%5D%2C%20%5B35.519473926000046%2C%2033.896724060000054%5D%2C%20%5B35.52049706100007%2C%2033.89738055300006%5D%2C%20%5B35.521549734000075%2C%2033.89796913200007%5D%2C%20%5B35.52175925600005%2C%2033.89826823800007%5D%2C%20%5B35.52130136400007%2C%2033.898450481000054%5D%2C%20%5B35.52072012100007%2C%2033.89831912900007%5D%2C%20%5B35.520382203000054%2C%2033.89843975500003%5D%2C%20%5B35.52016184000007%2C%2033.89856369900008%5D%2C%20%5B35.52008856100008%2C%2033.89890407300004%5D%2C%20%5B35.520137668000075%2C%2033.89913396600008%5D%2C%20%5B35.52022388900008%2C%2033.89941388500006%5D%2C%20%5B35.52033317300004%2C%2033.899596485000075%5D%2C%20%5B35.52039946100007%2C%2033.89987596200007%5D%2C%20%5B35.52037192000006%2C%2033.900070878000065%5D%2C%20%5B35.52032514000007%2C%2033.900248874000056%5D%2C%20%5B35.52004547200005%2C%2033.900648998000065%5D%2C%20%5B35.520150055000045%2C%2033.901330001000076%5D%2C%20%5B35.51934268600007%2C%2033.90425316300008%5D%2C%20%5B35.51690415100006%2C%2033.90320214600007%5D%2C%20%5B35.51628113900006%2C%2033.90025743600006%5D%2C%20%5B35.51321389000003%2C%2033.90048553500003%5D%2C%20%5B35.51306218800005%2C%2033.90220147900004%5D%2C%20%5B35.51086510600004%2C%2033.90189387400005%5D%2C%20%5B35.510713158000044%2C%2033.89967218800007%5D%2C%20%5B35.509176136000065%2C%2033.900359681000054%5D%2C%20%5B35.50870182700004%2C%2033.89944372700006%5D%2C%20%5B35.508118066000065%2C%2033.898073157000056%5D%2C%20%5B35.50774917100006%2C%2033.89748445300006%5D%5D%5D%2C%20%22type%22%3A%20%22Polygon%22%7D%2C%20%22id%22%3A%202%2C%20%22properties%22%3A%20%7B%22ACS_CODE_1%22%3A%2010450%2C%20%22Cadaster_1%22%3A%20%22Marfa%27%20fonci%5Cu00e8re%22%2C%20%22Cadaster_A%22%3A%20%22%5Cu0645%5Cu0631%5Cu0641%5Cu0623%22%2C%20%22District_1%22%3A%20%22Beirut%22%2C%20%22District_A%22%3A%20%22%5Cu0628%5Cu064a%5Cu0631%5Cu0648%5Cu062a%22%2C%20%22FID%22%3A%202%2C%20%22Governor_1%22%3A%20%22%5Cu0628%5Cu064a%5Cu0631%5Cu0648%5Cu062a%22%2C%20%22Governorat%22%3A%20%22Beirut%22%2C%20%22OBJECTID_1%22%3A%203%2C%20%22Shape_Area%22%3A%205.62127015598e-05%2C%20%22Shape_Leng%22%3A%200.0422396449695%2C%20%22highlight%22%3A%20%7B%7D%2C%20%22style%22%3A%20%7B%22color%22%3A%20%22black%22%2C%20%22fillColor%22%3A%20%22%23a8ddb5%22%2C%20%22fillOpacity%22%3A%201%2C%20%22opacity%22%3A%200.5%2C%20%22weight%22%3A%201%7D%2C%20%22zone_numbe%22%3A%204%7D%2C%20%22type%22%3A%20%22Feature%22%7D%2C%20%7B%22geometry%22%3A%20%7B%22coordinates%22%3A%20%5B%5B%5B35.51151499200006%2C%2033.89497904000007%5D%2C%20%5B35.511953695000045%2C%2033.89497989400007%5D%2C%20%5B35.512434632000065%2C%2033.89498152700003%5D%2C%20%5B35.51270737900006%2C%2033.894982406000054%5D%2C%20%5B35.513088279000044%2C%2033.89498351100008%5D%2C%20%5B35.51342465400006%2C%2033.89610082300004%5D%2C%20%5B35.51278951000006%2C%2033.89684915600003%5D%2C%20%5B35.51129564800004%2C%2033.89721639100003%5D%2C%20%5B35.50934053200007%2C%2033.89768570600006%5D%2C%20%5B35.50774917100006%2C%2033.89748445300006%5D%2C%20%5B35.50764912500006%2C%2033.89714301200007%5D%2C%20%5B35.507594066000024%2C%2033.896939658000065%5D%2C%20%5B35.507352780000076%2C%2033.896099856000035%5D%2C%20%5B35.50700033600003%2C%2033.89488602700004%5D%2C%20%5B35.50816184800004%2C%2033.895034585000076%5D%2C%20%5B35.50912315000005%2C%2033.89509645100003%5D%2C%20%5B35.51151499200006%2C%2033.89497904000007%5D%5D%5D%2C%20%22type%22%3A%20%22Polygon%22%7D%2C%20%22id%22%3A%203%2C%20%22properties%22%3A%20%7B%22ACS_CODE_1%22%3A%2010510%2C%20%22Cadaster_1%22%3A%20%22Saifi%20fonci%5Cu00e8re%22%2C%20%22Cadaster_A%22%3A%20%22%5Cu0635%5Cu064a%5Cu0641%5Cu064a%22%2C%20%22District_1%22%3A%20%22Beirut%22%2C%20%22District_A%22%3A%20%22%5Cu0628%5Cu064a%5Cu0631%5Cu0648%5Cu062a%22%2C%20%22FID%22%3A%203%2C%20%22Governor_1%22%3A%20%22%5Cu0628%5Cu064a%5Cu0631%5Cu0648%5Cu062a%22%2C%20%22Governorat%22%3A%20%22Beirut%22%2C%20%22OBJECTID_1%22%3A%204%2C%20%22Shape_Area%22%3A%201.35038609509e-05%2C%20%22Shape_Leng%22%3A%200.0161079034699%2C%20%22highlight%22%3A%20%7B%7D%2C%20%22style%22%3A%20%7B%22color%22%3A%20%22black%22%2C%20%22fillColor%22%3A%20%22%234eb3d3%22%2C%20%22fillOpacity%22%3A%201%2C%20%22opacity%22%3A%200.5%2C%20%22weight%22%3A%201%7D%2C%20%22zone_numbe%22%3A%2013%7D%2C%20%22type%22%3A%20%22Feature%22%7D%2C%20%7B%22geometry%22%3A%20%7B%22coordinates%22%3A%20%5B%5B%5B35.533513439000046%2C%2033.89629308700006%5D%2C%20%5B35.533317640000064%2C%2033.89631327400008%5D%2C%20%5B35.53307007800004%2C%2033.896320005000064%5D%2C%20%5B35.53284131800007%2C%2033.896332510000036%5D%2C%20%5B35.53265040700006%2C%2033.89637686900005%5D%2C%20%5B35.53222963300004%2C%2033.89650080100006%5D%2C%20%5B35.53202307400005%2C%2033.896565499000076%5D%2C%20%5B35.53161926200005%2C%2033.89668644000005%5D%2C%20%5B35.53133334100005%2C%2033.89677311000003%5D%2C%20%5B35.53132905100006%2C%2033.896774410000035%5D%2C%20%5B35.530851505000044%2C%2033.89691327000003%5D%2C%20%5B35.53043495900005%2C%2033.896997517000045%5D%2C%20%5B35.52998083500006%2C%2033.89706879600004%5D%2C%20%5B35.52944010500005%2C%2033.89714356800005%5D%2C%20%5B35.52897705300006%2C%2033.897205550000024%5D%2C%20%5B35.528873899000075%2C%2033.89658508800005%5D%2C%20%5B35.52957980600007%2C%2033.89599815500003%5D%2C%20%5B35.53002397200004%2C%2033.895724517000076%5D%2C%20%5B35.53077954300005%2C%2033.89547576900003%5D%2C%20%5B35.53098765400006%2C%2033.895407255000066%5D%2C%20%5B35.53107044400008%2C%2033.89537045900005%5D%2C%20%5B35.53127556900006%2C%2033.89537632200006%5D%2C%20%5B35.531879952000054%2C%2033.89524069300006%5D%2C%20%5B35.53219880000006%2C%2033.895112202000064%5D%2C%20%5B35.53244626400004%2C%2033.89488139400004%5D%2C%20%5B35.53256999600006%2C%2033.894902810000076%5D%2C%20%5B35.53329292900003%2C%2033.894868178000024%5D%2C%20%5B35.533513439000046%2C%2033.89629308700006%5D%5D%5D%2C%20%22type%22%3A%20%22Polygon%22%7D%2C%20%22id%22%3A%204%2C%20%22properties%22%3A%20%7B%22ACS_CODE_1%22%3A%2010550%2C%20%22Cadaster_1%22%3A%20%22Rmeil%20fonci%5Cu00e8re%22%2C%20%22Cadaster_A%22%3A%20%22%5Cu0631%5Cu0645%5Cu064a%5Cu0644%22%2C%20%22District_1%22%3A%20%22Beirut%22%2C%20%22District_A%22%3A%20%22%5Cu0628%5Cu064a%5Cu0631%5Cu0648%5Cu062a%22%2C%20%22FID%22%3A%204%2C%20%22Governor_1%22%3A%20%22%5Cu0628%5Cu064a%5Cu0631%5Cu0648%5Cu062a%22%2C%20%22Governorat%22%3A%20%22Beirut%22%2C%20%22OBJECTID_1%22%3A%205%2C%20%22Shape_Area%22%3A%205.96138111132e-06%2C%20%22Shape_Leng%22%3A%200.0116163753257%2C%20%22highlight%22%3A%20%7B%7D%2C%20%22style%22%3A%20%7B%22color%22%3A%20%22black%22%2C%20%22fillColor%22%3A%20%22%23ccebc5%22%2C%20%22fillOpacity%22%3A%201%2C%20%22opacity%22%3A%200.5%2C%20%22weight%22%3A%201%7D%2C%20%22zone_numbe%22%3A%2039%7D%2C%20%22type%22%3A%20%22Feature%22%7D%2C%20%7B%22geometry%22%3A%20%7B%22coordinates%22%3A%20%5B%5B%5B35.53198325300008%2C%2033.88670023900005%5D%2C%20%5B35.53137306100007%2C%2033.88687775000005%5D%2C%20%5B35.53130960900006%2C%2033.887099833000036%5D%2C%20%5B35.530873374000066%2C%2033.88730605300003%5D%2C%20%5B35.530326098000046%2C%2033.88730605300003%5D%2C%20%5B35.529271204000054%2C%2033.88771056100006%5D%2C%20%5B35.52900153200005%2C%2033.88703638000004%5D%2C%20%5B35.528993600000035%2C%2033.886592214000075%5D%2C%20%5B35.52930293000003%2C%2033.885949760000074%5D%2C%20%5B35.52837494000005%2C%2033.88529144200004%5D%2C%20%5B35.52750247100005%2C%2033.88496624900006%5D%2C%20%5B35.526447577000056%2C%2033.88481555000004%5D%2C%20%5B35.526043069000025%2C%2033.88456174100003%5D%2C%20%5B35.52541013200005%2C%2033.88423813400004%5D%2C%20%5B35.52505479900003%2C%2033.88411123000003%5D%2C%20%5B35.524534490000065%2C%2033.88398432500003%5D%2C%20%5B35.52334389500004%2C%2033.88435915500003%5D%2C%20%5B35.52279286400005%2C%2033.883985574000064%5D%2C%20%5B35.52225034700007%2C%2033.88350968200007%5D%2C%20%5B35.52036581300007%2C%2033.88227236200004%5D%2C%20%5B35.51949969000003%2C%2033.881035043000054%5D%2C%20%5B35.51920463600004%2C%2033.88047349000004%5D%2C%20%5B35.520622795000065%2C%2033.87920761700008%5D%2C%20%5B35.52678546000004%2C%2033.881395471000076%5D%2C%20%5B35.528332110000065%2C%2033.88225207700003%5D%2C%20%5B35.53168715000004%2C%2033.88613059900007%5D%2C%20%5B35.53198325300008%2C%2033.88670023900005%5D%5D%5D%2C%20%22type%22%3A%20%22Polygon%22%7D%2C%20%22id%22%3A%205%2C%20%22properties%22%3A%20%7B%22ACS_CODE_1%22%3A%2010650%2C%20%22Cadaster_1%22%3A%20%22Achrafieh%20fonci%5Cu00e8re%22%2C%20%22Cadaster_A%22%3A%20%22%5Cu0627%5Cu0644%5Cu0627%5Cu0634%5Cu0631%5Cu0641%5Cu064a%5Cu0629%22%2C%20%22District_1%22%3A%20%22Beirut%22%2C%20%22District_A%22%3A%20%22%5Cu0628%5Cu064a%5Cu0631%5Cu0648%5Cu062a%22%2C%20%22FID%22%3A%205%2C%20%22Governor_1%22%3A%20%22%5Cu0628%5Cu064a%5Cu0631%5Cu0648%5Cu062a%22%2C%20%22Governorat%22%3A%20%22Beirut%22%2C%20%22OBJECTID_1%22%3A%206%2C%20%22Shape_Area%22%3A%203.88582848901e-05%2C%20%22Shape_Leng%22%3A%200.0331586842749%2C%20%22highlight%22%3A%20%7B%7D%2C%20%22style%22%3A%20%7B%22color%22%3A%20%22black%22%2C%20%22fillColor%22%3A%20%22%23ccebc5%22%2C%20%22fillOpacity%22%3A%201%2C%20%22opacity%22%3A%200.5%2C%20%22weight%22%3A%201%7D%2C%20%22zone_numbe%22%3A%2062%7D%2C%20%22type%22%3A%20%22Feature%22%7D%2C%20%7B%22geometry%22%3A%20%7B%22coordinates%22%3A%20%5B%5B%5B35.509176136000065%2C%2033.900359681000054%5D%2C%20%5B35.50782307700007%2C%2033.90096489000007%5D%2C%20%5B35.507839413000056%2C%2033.90260811700006%5D%2C%20%5B35.50693705300006%2C%2033.90262699700003%5D%2C%20%5B35.50681661100003%2C%2033.90283332800004%5D%2C%20%5B35.50657058400003%2C%2033.902784076000046%5D%2C%20%5B35.506197103000034%2C%2033.902689063000025%5D%2C%20%5B35.50599006700003%2C%2033.902649987000075%5D%2C%20%5B35.50574842300006%2C%2033.902585862000024%5D%2C%20%5B35.505378191000034%2C%2033.90249695500006%5D%2C%20%5B35.505185751000056%2C%2033.90245513900004%5D%2C%20%5B35.504987474000075%2C%2033.902386457000034%5D%2C%20%5B35.50475869300004%2C%2033.90235254400005%5D%2C%20%5B35.50454576300007%2C%2033.902289275000044%5D%2C%20%5B35.504328583000074%2C%2033.90223496200008%5D%2C%20%5B35.50411890400005%2C%2033.90217766100005%5D%2C%20%5B35.50388846100003%2C%2033.90214245300007%5D%2C%20%5B35.50369529100004%2C%2033.90211866100003%5D%2C%20%5B35.50349939300003%2C%2033.902157825000074%5D%2C%20%5B35.50331391200007%2C%2033.90221532700008%5D%2C%20%5B35.50316131300008%2C%2033.90211379500005%5D%2C%20%5B35.503251060000025%2C%2033.90131678000006%5D%2C%20%5B35.50327307500004%2C%2033.90088149400003%5D%2C%20%5B35.503286682000066%2C%2033.90052162100005%5D%2C%20%5B35.50329107400006%2C%2033.900289574000055%5D%2C%20%5B35.503091754000025%2C%2033.89978934000004%5D%2C%20%5B35.50276590500005%2C%2033.899077618000035%5D%2C%20%5B35.50258645400004%2C%2033.89861193000007%5D%2C%20%5B35.502429352000036%2C%2033.89831457400004%5D%2C%20%5B35.50227210400004%2C%2033.89803948200006%5D%2C%20%5B35.50213098100005%2C%2033.897908244000064%5D%2C%20%5B35.50235072500004%2C%2033.897829139000066%5D%2C%20%5B35.502550417000066%2C%2033.897770586000036%5D%2C%20%5B35.50262434000007%2C%2033.89758962600007%5D%2C%20%5B35.50252449100003%2C%2033.897394750000046%5D%2C%20%5B35.50241913900004%2C%2033.89717329600006%5D%2C%20%5B35.502348178000034%2C%2033.89694038500005%5D%2C%20%5B35.502244294000036%2C%2033.89666723100004%5D%2C%20%5B35.50219578800005%2C%2033.89631937900003%5D%2C%20%5B35.502142939000066%2C%2033.89606194000004%5D%2C%20%5B35.50209120000005%2C%2033.89586201700007%5D%2C%20%5B35.50193216100007%2C%2033.89525162100006%5D%2C%20%5B35.50239760100004%2C%2033.89540568700005%5D%2C%20%5B35.50263543500006%2C%2033.89536476600006%5D%2C%20%5B35.50287524700008%2C%2033.89527962300008%5D%2C%20%5B35.503266619000044%2C%2033.89515732000007%5D%2C%20%5B35.50378038400004%2C%2033.89498684400007%5D%2C%20%5B35.504031885000074%2C%2033.894908077000025%5D%2C%20%5B35.50454043900004%2C%2033.89482137400006%5D%2C%20%5B35.50491355500003%2C%2033.89482295000005%5D%2C%20%5B35.505483053000034%2C%2033.89483976500003%5D%2C%20%5B35.505803868000044%2C%2033.89485280500003%5D%2C%20%5B35.50611758700006%2C%2033.89486573700003%5D%2C%20%5B35.50647169300004%2C%2033.894886609000025%5D%2C%20%5B35.506681324000056%2C%2033.89489880700006%5D%2C%20%5B35.50700033600003%2C%2033.89488602700004%5D%2C%20%5B35.507352780000076%2C%2033.896099856000035%5D%2C%20%5B35.507594066000024%2C%2033.896939658000065%5D%2C%20%5B35.50764912500006%2C%2033.89714301200007%5D%2C%20%5B35.50774917100006%2C%2033.89748445300006%5D%2C%20%5B35.508118066000065%2C%2033.898073157000056%5D%2C%20%5B35.50870182700004%2C%2033.89944372700006%5D%2C%20%5B35.509176136000065%2C%2033.900359681000054%5D%5D%5D%2C%20%22type%22%3A%20%22Polygon%22%7D%2C%20%22id%22%3A%206%2C%20%22properties%22%3A%20%7B%22ACS_CODE_1%22%3A%2010450%2C%20%22Cadaster_1%22%3A%20%22Marfa%27%20fonci%5Cu00e8re%22%2C%20%22Cadaster_A%22%3A%20%22%5Cu0645%5Cu0631%5Cu0641%5Cu0623%22%2C%20%22District_1%22%3A%20%22Beirut%22%2C%20%22District_A%22%3A%20%22%5Cu0628%5Cu064a%5Cu0631%5Cu0648%5Cu062a%22%2C%20%22FID%22%3A%206%2C%20%22Governor_1%22%3A%20%22%5Cu0628%5Cu064a%5Cu0631%5Cu0648%5Cu062a%22%2C%20%22Governorat%22%3A%20%22Beirut%22%2C%20%22OBJECTID_1%22%3A%207%2C%20%22Shape_Area%22%3A%203.95206916455e-05%2C%20%22Shape_Leng%22%3A%200.0267347571702%2C%20%22highlight%22%3A%20%7B%7D%2C%20%22style%22%3A%20%7B%22color%22%3A%20%22black%22%2C%20%22fillColor%22%3A%20%22%232b8cbe%22%2C%20%22fillOpacity%22%3A%201%2C%20%22opacity%22%3A%200.5%2C%20%22weight%22%3A%201%7D%2C%20%22zone_numbe%22%3A%202%7D%2C%20%22type%22%3A%20%22Feature%22%7D%2C%20%7B%22geometry%22%3A%20%7B%22coordinates%22%3A%20%5B%5B%5B35.51119260200005%2C%2033.892349601000035%5D%2C%20%5B35.50974062000006%2C%2033.89235808800004%5D%2C%20%5B35.50678193600004%2C%2033.89225265300007%5D%2C%20%5B35.50656762400007%2C%2033.89208338700007%5D%2C%20%5B35.50646868200005%2C%2033.891707292000035%5D%2C%20%5B35.50667241600007%2C%2033.89115243300006%5D%2C%20%5B35.506748799000036%2C%2033.89057887300004%5D%2C%20%5B35.50669974400006%2C%2033.88958879100005%5D%2C%20%5B35.506793335000054%2C%2033.88932652700004%5D%2C%20%5B35.506935516000055%2C%2033.888928297000064%5D%2C%20%5B35.50714280100004%2C%2033.88844269000003%5D%2C%20%5B35.507321483000055%2C%2033.88802880500003%5D%2C%20%5B35.50762514200005%2C%2033.888036930000055%5D%2C%20%5B35.50786510700004%2C%2033.88802111700005%5D%2C%20%5B35.50807718600004%2C%2033.888013339000054%5D%2C%20%5B35.508301318000065%2C%2033.88801067400004%5D%2C%20%5B35.50854700100007%2C%2033.88802721900004%5D%2C%20%5B35.50887124500008%2C%2033.88803678100004%5D%2C%20%5B35.50917762000006%2C%2033.88805988200005%5D%2C%20%5B35.50943407200003%2C%2033.88807856300008%5D%2C%20%5B35.50974484900007%2C%2033.888101307000056%5D%2C%20%5B35.50996558500003%2C%2033.88811493600008%5D%2C%20%5B35.51021700300004%2C%2033.888131988000055%5D%2C%20%5B35.51031134100003%2C%2033.88878240500003%5D%2C%20%5B35.51034569600006%2C%2033.88902081700007%5D%2C%20%5B35.51042186300003%2C%2033.889512409000076%5D%2C%20%5B35.51044174200007%2C%2033.88968605700006%5D%2C%20%5B35.51046075700003%2C%2033.88985292500007%5D%2C%20%5B35.51049335000005%2C%2033.89004818500007%5D%2C%20%5B35.510624248000056%2C%2033.89061840000005%5D%2C%20%5B35.51071869100008%2C%2033.89132645900003%5D%2C%20%5B35.51078414500006%2C%2033.89148712400004%5D%2C%20%5B35.51086432400007%2C%2033.89176329400004%5D%2C%20%5B35.510992428000066%2C%2033.89216702700003%5D%2C%20%5B35.51119260200005%2C%2033.892349601000035%5D%5D%5D%2C%20%22type%22%3A%20%22Polygon%22%7D%2C%20%22id%22%3A%207%2C%20%22properties%22%3A%20%7B%22ACS_CODE_1%22%3A%2010510%2C%20%22Cadaster_1%22%3A%20%22Saifi%20fonci%5Cu00e8re%22%2C%20%22Cadaster_A%22%3A%20%22%5Cu0635%5Cu064a%5Cu0641%5Cu064a%22%2C%20%22District_1%22%3A%20%22Beirut%22%2C%20%22District_A%22%3A%20%22%5Cu0628%5Cu064a%5Cu0631%5Cu0648%5Cu062a%22%2C%20%22FID%22%3A%207%2C%20%22Governor_1%22%3A%20%22%5Cu0628%5Cu064a%5Cu0631%5Cu0648%5Cu062a%22%2C%20%22Governorat%22%3A%20%22Beirut%22%2C%20%22OBJECTID_1%22%3A%208%2C%20%22Shape_Area%22%3A%201.61287346858e-05%2C%20%22Shape_Leng%22%3A%200.0162072401867%2C%20%22highlight%22%3A%20%7B%7D%2C%20%22style%22%3A%20%7B%22color%22%3A%20%22black%22%2C%20%22fillColor%22%3A%20%22%2308589e%22%2C%20%22fillOpacity%22%3A%201%2C%20%22opacity%22%3A%200.5%2C%20%22weight%22%3A%201%7D%2C%20%22zone_numbe%22%3A%2055%7D%2C%20%22type%22%3A%20%22Feature%22%7D%2C%20%7B%22geometry%22%3A%20%7B%22coordinates%22%3A%20%5B%5B%5B35.50980685300004%2C%2033.89235770100004%5D%2C%20%5B35.51119260200005%2C%2033.892349601000035%5D%2C%20%5B35.51099769100006%2C%2033.892888534000065%5D%2C%20%5B35.510982641000055%2C%2033.89306771100007%5D%2C%20%5B35.51123365500007%2C%2033.89352361500005%5D%2C%20%5B35.51131689400006%2C%2033.89367482600005%5D%2C%20%5B35.511428960000046%2C%2033.89427223700005%5D%2C%20%5B35.51149821400003%2C%2033.89467803800005%5D%2C%20%5B35.51151499200006%2C%2033.89497904000007%5D%2C%20%5B35.509254886000065%2C%2033.89508998500003%5D%2C%20%5B35.509640286000035%2C%2033.89377029800005%5D%2C%20%5B35.50978781300006%2C%2033.89288989800008%5D%2C%20%5B35.50980685300004%2C%2033.89235770100004%5D%5D%5D%2C%20%22type%22%3A%20%22Polygon%22%7D%2C%20%22id%22%3A%208%2C%20%22properties%22%3A%20%7B%22ACS_CODE_1%22%3A%2010510%2C%20%22Cadaster_1%22%3A%20%22Saifi%20fonci%5Cu00e8re%22%2C%20%22Cadaster_A%22%3A%20%22%5Cu0635%5Cu064a%5Cu0641%5Cu064a%22%2C%20%22District_1%22%3A%20%22Beirut%22%2C%20%22District_A%22%3A%20%22%5Cu0628%5Cu064a%5Cu0631%5Cu0648%5Cu062a%22%2C%20%22FID%22%3A%208%2C%20%22Governor_1%22%3A%20%22%5Cu0628%5Cu064a%5Cu0631%5Cu0648%5Cu062a%22%2C%20%22Governorat%22%3A%20%22Beirut%22%2C%20%22OBJECTID_1%22%3A%209%2C%20%22Shape_Area%22%3A%204.46056990531e-06%2C%20%22Shape_Leng%22%3A%200.00921554309978%2C%20%22highlight%22%3A%20%7B%7D%2C%20%22style%22%3A%20%7B%22color%22%3A%20%22black%22%2C%20%22fillColor%22%3A%20%22%232b8cbe%22%2C%20%22fillOpacity%22%3A%201%2C%20%22opacity%22%3A%200.5%2C%20%22weight%22%3A%201%7D%2C%20%22zone_numbe%22%3A%2015%7D%2C%20%22type%22%3A%20%22Feature%22%7D%2C%20%7B%22geometry%22%3A%20%7B%22coordinates%22%3A%20%5B%5B%5B35.509254886000065%2C%2033.89508998500003%5D%2C%20%5B35.50912315000005%2C%2033.89509645100003%5D%2C%20%5B35.50816184800004%2C%2033.895034585000076%5D%2C%20%5B35.50700033600003%2C%2033.89488602700004%5D%2C%20%5B35.50691612900005%2C%2033.894298899000034%5D%2C%20%5B35.50702589200006%2C%2033.89324836800006%5D%2C%20%5B35.50678193600004%2C%2033.89225265300007%5D%2C%20%5B35.50974062000006%2C%2033.89235808800004%5D%2C%20%5B35.50980685300004%2C%2033.89235770100004%5D%2C%20%5B35.50978781300006%2C%2033.89288989800008%5D%2C%20%5B35.509640286000035%2C%2033.89377029800005%5D%2C%20%5B35.509254886000065%2C%2033.89508998500003%5D%5D%5D%2C%20%22type%22%3A%20%22Polygon%22%7D%2C%20%22id%22%3A%209%2C%20%22properties%22%3A%20%7B%22ACS_CODE_1%22%3A%2010510%2C%20%22Cadaster_1%22%3A%20%22Saifi%20fonci%5Cu00e8re%22%2C%20%22Cadaster_A%22%3A%20%22%5Cu0635%5Cu064a%5Cu0641%5Cu064a%22%2C%20%22District_1%22%3A%20%22Beirut%22%2C%20%22District_A%22%3A%20%22%5Cu0628%5Cu064a%5Cu0631%5Cu0648%5Cu062a%22%2C%20%22FID%22%3A%209%2C%20%22Governor_1%22%3A%20%22%5Cu0628%5Cu064a%5Cu0631%5Cu0648%5Cu062a%22%2C%20%22Governorat%22%3A%20%22Beirut%22%2C%20%22OBJECTID_1%22%3A%2010%2C%20%22Shape_Area%22%3A%207.21700323646e-06%2C%20%22Shape_Leng%22%3A%200.0107675294202%2C%20%22highlight%22%3A%20%7B%7D%2C%20%22style%22%3A%20%7B%22color%22%3A%20%22black%22%2C%20%22fillColor%22%3A%20%22%234eb3d3%22%2C%20%22fillOpacity%22%3A%201%2C%20%22opacity%22%3A%200.5%2C%20%22weight%22%3A%201%7D%2C%20%22zone_numbe%22%3A%2014%7D%2C%20%22type%22%3A%20%22Feature%22%7D%2C%20%7B%22geometry%22%3A%20%7B%22coordinates%22%3A%20%5B%5B%5B35.520692171000064%2C%2033.897489644000075%5D%2C%20%5B35.52049706100007%2C%2033.89738055300006%5D%2C%20%5B35.519473926000046%2C%2033.896724060000054%5D%2C%20%5B35.51900543200003%2C%2033.89642837800005%5D%2C%20%5B35.51850075600004%2C%2033.89628957100007%5D%2C%20%5B35.51807716500008%2C%2033.896339703000024%5D%2C%20%5B35.51786394800007%2C%2033.89636791800007%5D%2C%20%5B35.51664294200003%2C%2033.896530047000056%5D%2C%20%5B35.51615713700005%2C%2033.89658106600007%5D%2C%20%5B35.51581734400003%2C%2033.896616669000025%5D%2C%20%5B35.51555140600004%2C%2033.896644509000055%5D%2C%20%5B35.51439820600007%2C%2033.89676564000007%5D%2C%20%5B35.51327990100003%2C%2033.89688291900006%5D%2C%20%5B35.51278951000006%2C%2033.89684915600003%5D%2C%20%5B35.51342465400006%2C%2033.89610082300004%5D%2C%20%5B35.513088279000044%2C%2033.89498351100008%5D%2C%20%5B35.514113371000064%2C%2033.89498616900005%5D%2C%20%5B35.51439355800005%2C%2033.894986876000075%5D%2C%20%5B35.51482259900007%2C%2033.894987935000074%5D%2C%20%5B35.51487349000007%2C%2033.89498806100005%5D%2C%20%5B35.515123595000034%2C%2033.89498873500003%5D%2C%20%5B35.51547257100003%2C%2033.89498131700003%5D%2C%20%5B35.51566584300008%2C%2033.89498423300006%5D%2C%20%5B35.515952707000054%2C%2033.894988701000045%5D%2C%20%5B35.516421139000045%2C%2033.89499027000005%5D%2C%20%5B35.516478697000025%2C%2033.894990516000064%5D%2C%20%5B35.517569552000055%2C%2033.89499518200006%5D%2C%20%5B35.51780272800005%2C%2033.89499714400006%5D%2C%20%5B35.518098990000055%2C%2033.895004708000045%5D%2C%20%5B35.518353122000065%2C%2033.89500670500007%5D%2C%20%5B35.518547847000036%2C%2033.89500498900003%5D%2C%20%5B35.51911044700006%2C%2033.895043903000044%5D%2C%20%5B35.51946797100004%2C%2033.895110026000054%5D%2C%20%5B35.51969735600005%2C%2033.895162242000026%5D%2C%20%5B35.52005087500004%2C%2033.89528848200007%5D%2C%20%5B35.52039698300007%2C%2033.895413623000024%5D%2C%20%5B35.520659382000076%2C%2033.89556470300005%5D%2C%20%5B35.521067111000036%2C%2033.89565384500003%5D%2C%20%5B35.52129561500004%2C%2033.89569998400003%5D%2C%20%5B35.52134132900005%2C%2033.895708839000065%5D%2C%20%5B35.520692171000064%2C%2033.897489644000075%5D%5D%5D%2C%20%22type%22%3A%20%22Polygon%22%7D%2C%20%22id%22%3A%2010%2C%20%22properties%22%3A%20%7B%22ACS_CODE_1%22%3A%2010610%2C%20%22Cadaster_1%22%3A%20%22Mdaouar%20fonci%5Cu00e8re%22%2C%20%22Cadaster_A%22%3A%20%22%5Cu0645%5Cu062f%5Cu0648%5Cu0631%22%2C%20%22District_1%22%3A%20%22Beirut%22%2C%20%22District_A%22%3A%20%22%5Cu0628%5Cu064a%5Cu0631%5Cu0648%5Cu062a%22%2C%20%22FID%22%3A%2010%2C%20%22Governor_1%22%3A%20%22%5Cu0628%5Cu064a%5Cu0631%5Cu0648%5Cu062a%22%2C%20%22Governorat%22%3A%20%22Beirut%22%2C%20%22OBJECTID_1%22%3A%2011%2C%20%22Shape_Area%22%3A%201.27663858495e-05%2C%20%22Shape_Leng%22%3A%200.0206726850465%2C%20%22highlight%22%3A%20%7B%7D%2C%20%22style%22%3A%20%7B%22color%22%3A%20%22black%22%2C%20%22fillColor%22%3A%20%22%234eb3d3%22%2C%20%22fillOpacity%22%3A%201%2C%20%22opacity%22%3A%200.5%2C%20%22weight%22%3A%201%7D%2C%20%22zone_numbe%22%3A%2012%7D%2C%20%22type%22%3A%20%22Feature%22%7D%2C%20%7B%22geometry%22%3A%20%7B%22coordinates%22%3A%20%5B%5B%5B35.52168606300006%2C%2033.89577561600004%5D%2C%20%5B35.52234385500003%2C%2033.89582059700007%5D%2C%20%5B35.52321950700008%2C%2033.89588829600007%5D%2C%20%5B35.52333333400003%2C%2033.89591180700006%5D%2C%20%5B35.52366099600005%2C%2033.895979486000044%5D%2C%20%5B35.52405114600003%2C%2033.896194206000075%5D%2C%20%5B35.52429378900007%2C%2033.89633709000003%5D%2C%20%5B35.52445866700003%2C%2033.896434130000046%5D%2C%20%5B35.524502263000045%2C%2033.896459623000055%5D%2C%20%5B35.524672628000076%2C%2033.89655924700003%5D%2C%20%5B35.52510512600003%2C%2033.896800952000035%5D%2C%20%5B35.52529081400007%2C%2033.896904928000026%5D%2C%20%5B35.52586777300007%2C%2033.89704676400004%5D%2C%20%5B35.52611488700006%2C%2033.897107971000025%5D%2C%20%5B35.526652152000054%2C%2033.89724103400005%5D%2C%20%5B35.527214849000075%2C%2033.89738463600003%5D%2C%20%5B35.527236870000024%2C%2033.89774869800004%5D%2C%20%5B35.52768687900004%2C%2033.899231085000054%5D%2C%20%5B35.527280130000065%2C%2033.899296365000055%5D%2C%20%5B35.52612529800007%2C%2033.89940423400003%5D%2C%20%5B35.524721416000034%2C%2033.899309849000076%5D%2C%20%5B35.524643027000025%2C%2033.89927824000006%5D%2C%20%5B35.52422966100005%2C%2033.89911156100004%5D%2C%20%5B35.52261294900006%2C%2033.89835261200005%5D%2C%20%5B35.521549734000075%2C%2033.89796913200007%5D%2C%20%5B35.520692171000064%2C%2033.897489644000075%5D%2C%20%5B35.52134132900005%2C%2033.895708839000065%5D%2C%20%5B35.52168606300006%2C%2033.89577561600004%5D%5D%5D%2C%20%22type%22%3A%20%22Polygon%22%7D%2C%20%22id%22%3A%2011%2C%20%22properties%22%3A%20%7B%22ACS_CODE_1%22%3A%2010610%2C%20%22Cadaster_1%22%3A%20%22Mdaouar%20fonci%5Cu00e8re%22%2C%20%22Cadaster_A%22%3A%20%22%5Cu0645%5Cu062f%5Cu0648%5Cu0631%22%2C%20%22District_1%22%3A%20%22Beirut%22%2C%20%22District_A%22%3A%20%22%5Cu0628%5Cu064a%5Cu0631%5Cu0648%5Cu062a%22%2C%20%22FID%22%3A%2011%2C%20%22Governor_1%22%3A%20%22%5Cu0628%5Cu064a%5Cu0631%5Cu0648%5Cu062a%22%2C%20%22Governorat%22%3A%20%22Beirut%22%2C%20%22OBJECTID_1%22%3A%2012%2C%20%22Shape_Area%22%3A%201.5600463182e-05%2C%20%22Shape_Leng%22%3A%200.0174140545734%2C%20%22highlight%22%3A%20%7B%7D%2C%20%22style%22%3A%20%7B%22color%22%3A%20%22black%22%2C%20%22fillColor%22%3A%20%22%234eb3d3%22%2C%20%22fillOpacity%22%3A%201%2C%20%22opacity%22%3A%200.5%2C%20%22weight%22%3A%201%7D%2C%20%22zone_numbe%22%3A%2011%7D%2C%20%22type%22%3A%20%22Feature%22%7D%2C%20%7B%22geometry%22%3A%20%7B%22coordinates%22%3A%20%5B%5B%5B35.533513439000046%2C%2033.89629308700006%5D%2C%20%5B35.53375240100007%2C%2033.89627763000004%5D%2C%20%5B35.53396578400003%2C%2033.896241357000065%5D%2C%20%5B35.53419340500005%2C%2033.896171613000035%5D%2C%20%5B35.53440478700003%2C%2033.89610261200005%5D%2C%20%5B35.534626272000025%2C%2033.89603531300003%5D%2C%20%5B35.534970963000035%2C%2033.89589685100003%5D%2C%20%5B35.53572651700006%2C%2033.89559187700007%5D%2C%20%5B35.53596672200007%2C%2033.89551837100004%5D%2C%20%5B35.53655325600005%2C%2033.89538745700003%5D%2C%20%5B35.53688286900007%2C%2033.89598343700004%5D%2C%20%5B35.537285963000045%2C%2033.89682572900006%5D%2C%20%5B35.53738361500007%2C%2033.89707161900003%5D%2C%20%5B35.53418691200005%2C%2033.89785917100005%5D%2C%20%5B35.53353833700004%2C%2033.89800678600005%5D%2C%20%5B35.533513439000046%2C%2033.89629308700006%5D%5D%5D%2C%20%22type%22%3A%20%22Polygon%22%7D%2C%20%22id%22%3A%2012%2C%20%22properties%22%3A%20%7B%22ACS_CODE_1%22%3A%2010610%2C%20%22Cadaster_1%22%3A%20%22Mdaouar%20fonci%5Cu00e8re%22%2C%20%22Cadaster_A%22%3A%20%22%5Cu0645%5Cu062f%5Cu0648%5Cu0631%22%2C%20%22District_1%22%3A%20%22Beirut%22%2C%20%22District_A%22%3A%20%22%5Cu0628%5Cu064a%5Cu0631%5Cu0648%5Cu062a%22%2C%20%22FID%22%3A%2012%2C%20%22Governor_1%22%3A%20%22%5Cu0628%5Cu064a%5Cu0631%5Cu0648%5Cu062a%22%2C%20%22Governorat%22%3A%20%22Beirut%22%2C%20%22OBJECTID_1%22%3A%2013%2C%20%22Shape_Area%22%3A%206.23246618289e-06%2C%20%22Shape_Leng%22%3A%200.0107369571031%2C%20%22highlight%22%3A%20%7B%7D%2C%20%22style%22%3A%20%7B%22color%22%3A%20%22black%22%2C%20%22fillColor%22%3A%20%22%237bccc4%22%2C%20%22fillOpacity%22%3A%201%2C%20%22opacity%22%3A%200.5%2C%20%22weight%22%3A%201%7D%2C%20%22zone_numbe%22%3A%209%7D%2C%20%22type%22%3A%20%22Feature%22%7D%2C%20%7B%22geometry%22%3A%20%7B%22coordinates%22%3A%20%5B%5B%5B35.53353833700004%2C%2033.89800678600005%5D%2C%20%5B35.53241659300005%2C%2033.89826209300003%5D%2C%20%5B35.53025921500006%2C%2033.89880143700003%5D%2C%20%5B35.52907900200006%2C%2033.89900765700003%5D%2C%20%5B35.52768687900004%2C%2033.899231085000054%5D%2C%20%5B35.527236870000024%2C%2033.89774869800004%5D%2C%20%5B35.527214849000075%2C%2033.89738463600003%5D%2C%20%5B35.52724647900004%2C%2033.89739270800004%5D%2C%20%5B35.52748394100007%2C%2033.89741571600007%5D%2C%20%5B35.52809021000007%2C%2033.89732699500007%5D%2C%20%5B35.52849193800006%2C%2033.89727184900005%5D%2C%20%5B35.52897705300006%2C%2033.897205550000024%5D%2C%20%5B35.52944010500005%2C%2033.89714356800005%5D%2C%20%5B35.52998083500006%2C%2033.89706879600004%5D%2C%20%5B35.53043495900005%2C%2033.896997517000045%5D%2C%20%5B35.530851505000044%2C%2033.89691327000003%5D%2C%20%5B35.53132905100006%2C%2033.896774410000035%5D%2C%20%5B35.53161926200005%2C%2033.89668644000005%5D%2C%20%5B35.53202307400005%2C%2033.896565499000076%5D%2C%20%5B35.53222963300004%2C%2033.89650080100006%5D%2C%20%5B35.53265040700006%2C%2033.89637686900005%5D%2C%20%5B35.53284131800007%2C%2033.896332510000036%5D%2C%20%5B35.53307007800004%2C%2033.896320005000064%5D%2C%20%5B35.533317640000064%2C%2033.89631327400008%5D%2C%20%5B35.533513439000046%2C%2033.89629308700006%5D%2C%20%5B35.53353833700004%2C%2033.89800678600005%5D%5D%5D%2C%20%22type%22%3A%20%22Polygon%22%7D%2C%20%22id%22%3A%2013%2C%20%22properties%22%3A%20%7B%22ACS_CODE_1%22%3A%2010610%2C%20%22Cadaster_1%22%3A%20%22Mdaouar%20fonci%5Cu00e8re%22%2C%20%22Cadaster_A%22%3A%20%22%5Cu0645%5Cu062f%5Cu0648%5Cu0631%22%2C%20%22District_1%22%3A%20%22Beirut%22%2C%20%22District_A%22%3A%20%22%5Cu0628%5Cu064a%5Cu0631%5Cu0648%5Cu062a%22%2C%20%22FID%22%3A%2013%2C%20%22Governor_1%22%3A%20%22%5Cu0628%5Cu064a%5Cu0631%5Cu0648%5Cu062a%22%2C%20%22Governorat%22%3A%20%22Beirut%22%2C%20%22OBJECTID_1%22%3A%2014%2C%20%22Shape_Area%22%3A%201.09696617739e-05%2C%20%22Shape_Leng%22%3A%200.0160336151764%2C%20%22highlight%22%3A%20%7B%7D%2C%20%22style%22%3A%20%7B%22color%22%3A%20%22black%22%2C%20%22fillColor%22%3A%20%22%23a8ddb5%22%2C%20%22fillOpacity%22%3A%201%2C%20%22opacity%22%3A%200.5%2C%20%22weight%22%3A%201%7D%2C%20%22zone_numbe%22%3A%2010%7D%2C%20%22type%22%3A%20%22Feature%22%7D%2C%20%7B%22geometry%22%3A%20%7B%22coordinates%22%3A%20%5B%5B%5B35.515354933000026%2C%2033.89498381800007%5D%2C%20%5B35.515123595000034%2C%2033.89498873500003%5D%2C%20%5B35.51487349000007%2C%2033.89498806100005%5D%2C%20%5B35.51439355800005%2C%2033.894986876000075%5D%2C%20%5B35.514138940000066%2C%2033.894986234000044%5D%2C%20%5B35.514113371000064%2C%2033.89498616900005%5D%2C%20%5B35.513088279000044%2C%2033.89498351100008%5D%2C%20%5B35.51275686500003%2C%2033.894982550000066%5D%2C%20%5B35.51295003100006%2C%2033.89426849800003%5D%2C%20%5B35.513203443000066%2C%2033.89324103400003%5D%2C%20%5B35.51432337600005%2C%2033.89346946200004%5D%2C%20%5B35.515494071000035%2C%2033.89348849800007%5D%2C%20%5B35.515502068000046%2C%2033.89348820600003%5D%2C%20%5B35.515354933000026%2C%2033.89498381800007%5D%5D%5D%2C%20%22type%22%3A%20%22Polygon%22%7D%2C%20%22id%22%3A%2014%2C%20%22properties%22%3A%20%7B%22ACS_CODE_1%22%3A%2010550%2C%20%22Cadaster_1%22%3A%20%22Rmeil%20fonci%5Cu00e8re%22%2C%20%22Cadaster_A%22%3A%20%22%5Cu0631%5Cu0645%5Cu064a%5Cu0644%22%2C%20%22District_1%22%3A%20%22Beirut%22%2C%20%22District_A%22%3A%20%22%5Cu0628%5Cu064a%5Cu0631%5Cu0648%5Cu062a%22%2C%20%22FID%22%3A%2014%2C%20%22Governor_1%22%3A%20%22%5Cu0628%5Cu064a%5Cu0631%5Cu0648%5Cu062a%22%2C%20%22Governorat%22%3A%20%22Beirut%22%2C%20%22OBJECTID_1%22%3A%2015%2C%20%22Shape_Area%22%3A%203.87320386407e-06%2C%20%22Shape_Leng%22%3A%200.0082207754605%2C%20%22highlight%22%3A%20%7B%7D%2C%20%22style%22%3A%20%7B%22color%22%3A%20%22black%22%2C%20%22fillColor%22%3A%20%22%237bccc4%22%2C%20%22fillOpacity%22%3A%201%2C%20%22opacity%22%3A%200.5%2C%20%22weight%22%3A%201%7D%2C%20%22zone_numbe%22%3A%2017%7D%2C%20%22type%22%3A%20%22Feature%22%7D%2C%20%7B%22geometry%22%3A%20%7B%22coordinates%22%3A%20%5B%5B%5B35.51292108100006%2C%2033.89317758100003%5D%2C%20%5B35.513203443000066%2C%2033.89324103400003%5D%2C%20%5B35.513083996000034%2C%2033.89372533300008%5D%2C%20%5B35.51295003100006%2C%2033.89426849800003%5D%2C%20%5B35.51275686500003%2C%2033.894982550000066%5D%2C%20%5B35.51270737900006%2C%2033.894982406000054%5D%2C%20%5B35.512434632000065%2C%2033.89498152700003%5D%2C%20%5B35.511953695000045%2C%2033.89497989400007%5D%2C%20%5B35.51151499200006%2C%2033.89497904000007%5D%2C%20%5B35.51149821400003%2C%2033.89467803800005%5D%2C%20%5B35.511428960000046%2C%2033.89427223700005%5D%2C%20%5B35.51131689400006%2C%2033.89367482600005%5D%2C%20%5B35.51123365500007%2C%2033.89352361500005%5D%2C%20%5B35.510982641000055%2C%2033.89306771100007%5D%2C%20%5B35.51099769100006%2C%2033.892888534000065%5D%2C%20%5B35.51101905500008%2C%2033.892829462000066%5D%2C%20%5B35.51127330400004%2C%2033.892817093000076%5D%2C%20%5B35.51292108100006%2C%2033.89317758100003%5D%5D%5D%2C%20%22type%22%3A%20%22Polygon%22%7D%2C%20%22id%22%3A%2015%2C%20%22properties%22%3A%20%7B%22ACS_CODE_1%22%3A%2010550%2C%20%22Cadaster_1%22%3A%20%22Rmeil%20fonci%5Cu00e8re%22%2C%20%22Cadaster_A%22%3A%20%22%5Cu0631%5Cu0645%5Cu064a%5Cu0644%22%2C%20%22District_1%22%3A%20%22Beirut%22%2C%20%22District_A%22%3A%20%22%5Cu0628%5Cu064a%5Cu0631%5Cu0648%5Cu062a%22%2C%20%22FID%22%3A%2015%2C%20%22Governor_1%22%3A%20%22%5Cu0628%5Cu064a%5Cu0631%5Cu0648%5Cu062a%22%2C%20%22Governorat%22%3A%20%22Beirut%22%2C%20%22OBJECTID_1%22%3A%2016%2C%20%22Shape_Area%22%3A%203.32453090995e-06%2C%20%22Shape_Leng%22%3A%200.00752719158466%2C%20%22highlight%22%3A%20%7B%7D%2C%20%22style%22%3A%20%7B%22color%22%3A%20%22black%22%2C%20%22fillColor%22%3A%20%22%234eb3d3%22%2C%20%22fillOpacity%22%3A%201%2C%20%22opacity%22%3A%200.5%2C%20%22weight%22%3A%201%7D%2C%20%22zone_numbe%22%3A%2016%7D%2C%20%22type%22%3A%20%22Feature%22%7D%2C%20%7B%22geometry%22%3A%20%7B%22coordinates%22%3A%20%5B%5B%5B35.51101905500008%2C%2033.892829462000066%5D%2C%20%5B35.51119260200005%2C%2033.892349601000035%5D%2C%20%5B35.51285762800006%2C%2033.89225117800004%5D%2C%20%5B35.51292108100006%2C%2033.89317758100003%5D%2C%20%5B35.51127330400004%2C%2033.892817093000076%5D%2C%20%5B35.51101905500008%2C%2033.892829462000066%5D%5D%5D%2C%20%22type%22%3A%20%22Polygon%22%7D%2C%20%22id%22%3A%2016%2C%20%22properties%22%3A%20%7B%22ACS_CODE_1%22%3A%2010550%2C%20%22Cadaster_1%22%3A%20%22Rmeil%20fonci%5Cu00e8re%22%2C%20%22Cadaster_A%22%3A%20%22%5Cu0631%5Cu0645%5Cu064a%5Cu0644%22%2C%20%22District_1%22%3A%20%22Beirut%22%2C%20%22District_A%22%3A%20%22%5Cu0628%5Cu064a%5Cu0631%5Cu0648%5Cu062a%22%2C%20%22FID%22%3A%2016%2C%20%22Governor_1%22%3A%20%22%5Cu0628%5Cu064a%5Cu0631%5Cu0648%5Cu062a%22%2C%20%22Governorat%22%3A%20%22Beirut%22%2C%20%22OBJECTID_1%22%3A%2017%2C%20%22Shape_Area%22%3A%201.20490917771e-06%2C%20%22Shape_Leng%22%3A%200.00504808369016%2C%20%22highlight%22%3A%20%7B%7D%2C%20%22style%22%3A%20%7B%22color%22%3A%20%22black%22%2C%20%22fillColor%22%3A%20%22%234eb3d3%22%2C%20%22fillOpacity%22%3A%201%2C%20%22opacity%22%3A%200.5%2C%20%22weight%22%3A%201%7D%2C%20%22zone_numbe%22%3A%2019%7D%2C%20%22type%22%3A%20%22Feature%22%7D%2C%20%7B%22geometry%22%3A%20%7B%22coordinates%22%3A%20%5B%5B%5B35.51838749600006%2C%2033.892949153000075%5D%2C%20%5B35.518904632000044%2C%2033.89351877000007%5D%2C%20%5B35.51911481800005%2C%2033.89386379100006%5D%2C%20%5B35.51950732600005%2C%2033.89511898500007%5D%2C%20%5B35.51946797100004%2C%2033.895110026000054%5D%2C%20%5B35.51911044700006%2C%2033.895043903000044%5D%2C%20%5B35.518547847000036%2C%2033.89500498900003%5D%2C%20%5B35.518353122000065%2C%2033.89500670500007%5D%2C%20%5B35.518098990000055%2C%2033.895004708000045%5D%2C%20%5B35.51780272800005%2C%2033.89499714400006%5D%2C%20%5B35.517569552000055%2C%2033.89499518200006%5D%2C%20%5B35.516421139000045%2C%2033.89499027000005%5D%2C%20%5B35.515952707000054%2C%2033.894988701000045%5D%2C%20%5B35.51566584300008%2C%2033.89498423300006%5D%2C%20%5B35.51547257100003%2C%2033.89498131700003%5D%2C%20%5B35.515354933000026%2C%2033.89498381800007%5D%2C%20%5B35.515502068000046%2C%2033.89348820600003%5D%2C%20%5B35.51671235500004%2C%2033.89344408100004%5D%2C%20%5B35.517791044000035%2C%2033.89322517100004%5D%2C%20%5B35.51838749600006%2C%2033.892949153000075%5D%5D%5D%2C%20%22type%22%3A%20%22Polygon%22%7D%2C%20%22id%22%3A%2017%2C%20%22properties%22%3A%20%7B%22ACS_CODE_1%22%3A%2010550%2C%20%22Cadaster_1%22%3A%20%22Rmeil%20fonci%5Cu00e8re%22%2C%20%22Cadaster_A%22%3A%20%22%5Cu0631%5Cu0645%5Cu064a%5Cu0644%22%2C%20%22District_1%22%3A%20%22Beirut%22%2C%20%22District_A%22%3A%20%22%5Cu0628%5Cu064a%5Cu0631%5Cu0648%5Cu062a%22%2C%20%22FID%22%3A%2017%2C%20%22Governor_1%22%3A%20%22%5Cu0628%5Cu064a%5Cu0631%5Cu0648%5Cu062a%22%2C%20%22Governorat%22%3A%20%22Beirut%22%2C%20%22OBJECTID_1%22%3A%2018%2C%20%22Shape_Area%22%3A%206.31934739666e-06%2C%20%22Shape_Leng%22%3A%200.0111213278092%2C%20%22highlight%22%3A%20%7B%7D%2C%20%22style%22%3A%20%7B%22color%22%3A%20%22black%22%2C%20%22fillColor%22%3A%20%22%234eb3d3%22%2C%20%22fillOpacity%22%3A%201%2C%20%22opacity%22%3A%200.5%2C%20%22weight%22%3A%201%7D%2C%20%22zone_numbe%22%3A%2018%7D%2C%20%22type%22%3A%20%22Feature%22%7D%2C%20%7B%22geometry%22%3A%20%7B%22coordinates%22%3A%20%5B%5B%5B35.51569165500007%2C%2033.892036174000054%5D%2C%20%5B35.51621108200004%2C%2033.892029095000055%5D%2C%20%5B35.51771984100003%2C%2033.891988318000074%5D%2C%20%5B35.51838749600006%2C%2033.892949153000075%5D%2C%20%5B35.517791044000035%2C%2033.89322517100004%5D%2C%20%5B35.51671235500004%2C%2033.89344408100004%5D%2C%20%5B35.515502068000046%2C%2033.89348820600003%5D%2C%20%5B35.51569165500007%2C%2033.892036174000054%5D%5D%5D%2C%20%22type%22%3A%20%22Polygon%22%7D%2C%20%22id%22%3A%2018%2C%20%22properties%22%3A%20%7B%22ACS_CODE_1%22%3A%2010550%2C%20%22Cadaster_1%22%3A%20%22Rmeil%20fonci%5Cu00e8re%22%2C%20%22Cadaster_A%22%3A%20%22%5Cu0631%5Cu0645%5Cu064a%5Cu0644%22%2C%20%22District_1%22%3A%20%22Beirut%22%2C%20%22District_A%22%3A%20%22%5Cu0628%5Cu064a%5Cu0631%5Cu0648%5Cu062a%22%2C%20%22FID%22%3A%2018%2C%20%22Governor_1%22%3A%20%22%5Cu0628%5Cu064a%5Cu0631%5Cu0648%5Cu062a%22%2C%20%22Governorat%22%3A%20%22Beirut%22%2C%20%22OBJECTID_1%22%3A%2019%2C%20%22Shape_Area%22%3A%203.37499858619e-06%2C%20%22Shape_Leng%22%3A%200.00763216140208%2C%20%22highlight%22%3A%20%7B%7D%2C%20%22style%22%3A%20%7B%22color%22%3A%20%22black%22%2C%20%22fillColor%22%3A%20%22%23a8ddb5%22%2C%20%22fillOpacity%22%3A%201%2C%20%22opacity%22%3A%200.5%2C%20%22weight%22%3A%201%7D%2C%20%22zone_numbe%22%3A%2021%7D%2C%20%22type%22%3A%20%22Feature%22%7D%2C%20%7B%22geometry%22%3A%20%7B%22coordinates%22%3A%20%5B%5B%5B35.515502068000046%2C%2033.89348820600003%5D%2C%20%5B35.515494071000035%2C%2033.89348849800007%5D%2C%20%5B35.51432337600005%2C%2033.89346946200004%5D%2C%20%5B35.513203443000066%2C%2033.89324103400003%5D%2C%20%5B35.51292108100006%2C%2033.89317758100003%5D%2C%20%5B35.51285762800006%2C%2033.89225117800004%5D%2C%20%5B35.51434875700005%2C%2033.892054476000055%5D%2C%20%5B35.51569165500007%2C%2033.892036174000054%5D%2C%20%5B35.515502068000046%2C%2033.89348820600003%5D%5D%5D%2C%20%22type%22%3A%20%22Polygon%22%7D%2C%20%22id%22%3A%2019%2C%20%22properties%22%3A%20%7B%22ACS_CODE_1%22%3A%2010550%2C%20%22Cadaster_1%22%3A%20%22Rmeil%20fonci%5Cu00e8re%22%2C%20%22Cadaster_A%22%3A%20%22%5Cu0631%5Cu0645%5Cu064a%5Cu0644%22%2C%20%22District_1%22%3A%20%22Beirut%22%2C%20%22District_A%22%3A%20%22%5Cu0628%5Cu064a%5Cu0631%5Cu0648%5Cu062a%22%2C%20%22FID%22%3A%2019%2C%20%22Governor_1%22%3A%20%22%5Cu0628%5Cu064a%5Cu0631%5Cu0648%5Cu062a%22%2C%20%22Governorat%22%3A%20%22Beirut%22%2C%20%22OBJECTID_1%22%3A%2020%2C%20%22Shape_Area%22%3A%203.50366549913e-06%2C%20%22Shape_Leng%22%3A%200.00785124710425%2C%20%22highlight%22%3A%20%7B%7D%2C%20%22style%22%3A%20%7B%22color%22%3A%20%22black%22%2C%20%22fillColor%22%3A%20%22%23a8ddb5%22%2C%20%22fillOpacity%22%3A%201%2C%20%22opacity%22%3A%200.5%2C%20%22weight%22%3A%201%7D%2C%20%22zone_numbe%22%3A%2020%7D%2C%20%22type%22%3A%20%22Feature%22%7D%2C%20%7B%22geometry%22%3A%20%7B%22coordinates%22%3A%20%5B%5B%5B35.51771984100003%2C%2033.891988318000074%5D%2C%20%5B35.51621108200004%2C%2033.892029095000055%5D%2C%20%5B35.51569165500007%2C%2033.892036174000054%5D%2C%20%5B35.51434875700005%2C%2033.892054476000055%5D%2C%20%5B35.51363512300003%2C%2033.89214861500005%5D%2C%20%5B35.51285762800006%2C%2033.89225117800004%5D%2C%20%5B35.51119260200005%2C%2033.892349601000035%5D%2C%20%5B35.51186930000006%2C%2033.89212983300007%5D%2C%20%5B35.512117233000026%2C%2033.89207453100005%5D%2C%20%5B35.51231495500008%2C%2033.89202791200006%5D%2C%20%5B35.51266125600006%2C%2033.89189418800004%5D%2C%20%5B35.51310494000006%2C%2033.89171176200006%5D%2C%20%5B35.51338949400008%2C%2033.89160416100003%5D%2C%20%5B35.513737803000026%2C%2033.891580109000074%5D%2C%20%5B35.51410106800006%2C%2033.89158334000007%5D%2C%20%5B35.51441134300006%2C%2033.891583092000076%5D%2C%20%5B35.51489969600004%2C%2033.89160032900003%5D%2C%20%5B35.515273241000045%2C%2033.89161259000008%5D%2C%20%5B35.51548166400005%2C%2033.891617849000056%5D%2C%20%5B35.515718255000024%2C%2033.891579687000046%5D%2C%20%5B35.51575571600006%2C%2033.89157364500005%5D%2C%20%5B35.51608366900007%2C%2033.891553083000076%5D%2C%20%5B35.51656206000007%2C%2033.89151534100006%5D%2C%20%5B35.51677270700003%2C%2033.89149596800007%5D%2C%20%5B35.51711755800005%2C%2033.89139744200003%5D%2C%20%5B35.51756886000004%2C%2033.891268387000025%5D%2C%20%5B35.51761548700006%2C%2033.89125514400007%5D%2C%20%5B35.51771984100003%2C%2033.891988318000074%5D%5D%5D%2C%20%22type%22%3A%20%22Polygon%22%7D%2C%20%22id%22%3A%2020%2C%20%22properties%22%3A%20%7B%22ACS_CODE_1%22%3A%2010550%2C%20%22Cadaster_1%22%3A%20%22Rmeil%20fonci%5Cu00e8re%22%2C%20%22Cadaster_A%22%3A%20%22%5Cu0631%5Cu0645%5Cu064a%5Cu0644%22%2C%20%22District_1%22%3A%20%22Beirut%22%2C%20%22District_A%22%3A%20%22%5Cu0628%5Cu064a%5Cu0631%5Cu0648%5Cu062a%22%2C%20%22FID%22%3A%2020%2C%20%22Governor_1%22%3A%20%22%5Cu0628%5Cu064a%5Cu0631%5Cu0648%5Cu062a%22%2C%20%22Governorat%22%3A%20%22Beirut%22%2C%20%22OBJECTID_1%22%3A%2021%2C%20%22Shape_Area%22%3A%202.81616875868e-06%2C%20%22Shape_Leng%22%3A%200.0138758779109%2C%20%22highlight%22%3A%20%7B%7D%2C%20%22style%22%3A%20%7B%22color%22%3A%20%22black%22%2C%20%22fillColor%22%3A%20%22%23a8ddb5%22%2C%20%22fillOpacity%22%3A%201%2C%20%22opacity%22%3A%200.5%2C%20%22weight%22%3A%201%7D%2C%20%22zone_numbe%22%3A%2050%7D%2C%20%22type%22%3A%20%22Feature%22%7D%2C%20%7B%22geometry%22%3A%20%7B%22coordinates%22%3A%20%5B%5B%5B35.52114461200006%2C%2033.89204168400005%5D%2C%20%5B35.520508653000036%2C%2033.892017621000036%5D%2C%20%5B35.51935020500008%2C%2033.89196186600003%5D%2C%20%5B35.518135537000035%2C%2033.89190340600004%5D%2C%20%5B35.51771984100003%2C%2033.891988318000074%5D%2C%20%5B35.51761548700006%2C%2033.89125514400007%5D%2C%20%5B35.517797391000045%2C%2033.89120348000006%5D%2C%20%5B35.518045717000064%2C%2033.89120778600005%5D%2C%20%5B35.518389659000036%2C%2033.89121353100006%5D%2C%20%5B35.51867783400007%2C%2033.891219281000076%5D%2C%20%5B35.51917364700006%2C%2033.89121970200006%5D%2C%20%5B35.51923478200007%2C%2033.89122031100004%5D%2C%20%5B35.52000490700004%2C%2033.89122798900007%5D%2C%20%5B35.52065234100007%2C%2033.891234489000055%5D%2C%20%5B35.52087144200004%2C%2033.891246101000036%5D%2C%20%5B35.52096639300004%2C%2033.891257015000065%5D%2C%20%5B35.52114461200006%2C%2033.89204168400005%5D%5D%5D%2C%20%22type%22%3A%20%22Polygon%22%7D%2C%20%22id%22%3A%2021%2C%20%22properties%22%3A%20%7B%22ACS_CODE_1%22%3A%2010550%2C%20%22Cadaster_1%22%3A%20%22Rmeil%20fonci%5Cu00e8re%22%2C%20%22Cadaster_A%22%3A%20%22%5Cu0631%5Cu0645%5Cu064a%5Cu0644%22%2C%20%22District_1%22%3A%20%22Beirut%22%2C%20%22District_A%22%3A%20%22%5Cu0628%5Cu064a%5Cu0631%5Cu0648%5Cu062a%22%2C%20%22FID%22%3A%2021%2C%20%22Governor_1%22%3A%20%22%5Cu0628%5Cu064a%5Cu0631%5Cu0648%5Cu062a%22%2C%20%22Governorat%22%3A%20%22Beirut%22%2C%20%22OBJECTID_1%22%3A%2022%2C%20%22Shape_Area%22%3A%202.52783020564e-06%2C%20%22Shape_Leng%22%3A%200.00834102340994%2C%20%22highlight%22%3A%20%7B%7D%2C%20%22style%22%3A%20%7B%22color%22%3A%20%22black%22%2C%20%22fillColor%22%3A%20%22%23a8ddb5%22%2C%20%22fillOpacity%22%3A%201%2C%20%22opacity%22%3A%200.5%2C%20%22weight%22%3A%201%7D%2C%20%22zone_numbe%22%3A%2047%7D%2C%20%22type%22%3A%20%22Feature%22%7D%2C%20%7B%22geometry%22%3A%20%7B%22coordinates%22%3A%20%5B%5B%5B35.52668072600005%2C%2033.891605352000056%5D%2C%20%5B35.52688589700006%2C%2033.89171441000008%5D%2C%20%5B35.52692222500008%2C%2033.891724829000054%5D%2C%20%5B35.52634150500006%2C%2033.89186930100004%5D%2C%20%5B35.52494396800006%2C%2033.89192878700004%5D%2C%20%5B35.52470741700006%2C%2033.89193845200003%5D%2C%20%5B35.523177402000044%2C%2033.892000962000054%5D%2C%20%5B35.52168252100006%2C%2033.89206203700007%5D%2C%20%5B35.52114461200006%2C%2033.89204168400005%5D%2C%20%5B35.52096639300004%2C%2033.891257015000065%5D%2C%20%5B35.52162900800005%2C%2033.891333176000046%5D%2C%20%5B35.521932754000034%2C%2033.89130659700004%5D%2C%20%5B35.522180443000025%2C%2033.89129341000006%5D%2C%20%5B35.522429481000074%2C%2033.89128038200005%5D%2C%20%5B35.52264773200005%2C%2033.89126872300005%5D%2C%20%5B35.52304954900006%2C%2033.89125517200006%5D%2C%20%5B35.52309681600008%2C%2033.89125356900007%5D%2C%20%5B35.52361101300005%2C%2033.89123612700007%5D%2C%20%5B35.524146622000046%2C%2033.891209219000075%5D%2C%20%5B35.52449038200007%2C%2033.891192114000035%5D%2C%20%5B35.52463162600003%2C%2033.891182600000036%5D%2C%20%5B35.52498827800008%2C%2033.891158578000045%5D%2C%20%5B35.52522744800007%2C%2033.89119556900005%5D%2C%20%5B35.52576833000006%2C%2033.89126879500003%5D%2C%20%5B35.526011545000074%2C%2033.89127498000005%5D%2C%20%5B35.52668072600005%2C%2033.891605352000056%5D%5D%5D%2C%20%22type%22%3A%20%22Polygon%22%7D%2C%20%22id%22%3A%2022%2C%20%22properties%22%3A%20%7B%22ACS_CODE_1%22%3A%2010550%2C%20%22Cadaster_1%22%3A%20%22Rmeil%20fonci%5Cu00e8re%22%2C%20%22Cadaster_A%22%3A%20%22%5Cu0631%5Cu0645%5Cu064a%5Cu0644%22%2C%20%22District_1%22%3A%20%22Beirut%22%2C%20%22District_A%22%3A%20%22%5Cu0628%5Cu064a%5Cu0631%5Cu0648%5Cu062a%22%2C%20%22FID%22%3A%2022%2C%20%22Governor_1%22%3A%20%22%5Cu0628%5Cu064a%5Cu0631%5Cu0648%5Cu062a%22%2C%20%22Governorat%22%3A%20%22Beirut%22%2C%20%22OBJECTID_1%22%3A%2023%2C%20%22Shape_Area%22%3A%203.94008700262e-06%2C%20%22Shape_Leng%22%3A%200.0126830911755%2C%20%22highlight%22%3A%20%7B%7D%2C%20%22style%22%3A%20%7B%22color%22%3A%20%22black%22%2C%20%22fillColor%22%3A%20%22%234eb3d3%22%2C%20%22fillOpacity%22%3A%201%2C%20%22opacity%22%3A%200.5%2C%20%22weight%22%3A%201%7D%2C%20%22zone_numbe%22%3A%2044%7D%2C%20%22type%22%3A%20%22Feature%22%7D%2C%20%7B%22geometry%22%3A%20%7B%22coordinates%22%3A%20%5B%5B%5B35.51974557300008%2C%2033.89393893000005%5D%2C%20%5B35.51958059700007%2C%2033.89386913200008%5D%2C%20%5B35.51939975800008%2C%2033.893767608000076%5D%2C%20%5B35.51915229400004%2C%2033.89379933500004%5D%2C%20%5B35.51909219300006%2C%2033.893826653000076%5D%2C%20%5B35.51901460400006%2C%2033.89369929000003%5D%2C%20%5B35.518904632000044%2C%2033.89351877000007%5D%2C%20%5B35.51838749600006%2C%2033.892949153000075%5D%2C%20%5B35.51771984100003%2C%2033.891988318000074%5D%2C%20%5B35.518135537000035%2C%2033.89190340600004%5D%2C%20%5B35.51935020500008%2C%2033.89196186600003%5D%2C%20%5B35.520508653000036%2C%2033.892017621000036%5D%2C%20%5B35.52114461200006%2C%2033.89204168400005%5D%2C%20%5B35.52131284500007%2C%2033.892628640000055%5D%2C%20%5B35.520518105000065%2C%2033.89310929100003%5D%2C%20%5B35.520270641000025%2C%2033.893290130000025%5D%2C%20%5B35.520021591000045%2C%2033.89353600700008%5D%2C%20%5B35.51974557300008%2C%2033.89393893000005%5D%5D%5D%2C%20%22type%22%3A%20%22Polygon%22%7D%2C%20%22id%22%3A%2023%2C%20%22properties%22%3A%20%7B%22ACS_CODE_1%22%3A%2010550%2C%20%22Cadaster_1%22%3A%20%22Rmeil%20fonci%5Cu00e8re%22%2C%20%22Cadaster_A%22%3A%20%22%5Cu0631%5Cu0645%5Cu064a%5Cu0644%22%2C%20%22District_1%22%3A%20%22Beirut%22%2C%20%22District_A%22%3A%20%22%5Cu0628%5Cu064a%5Cu0631%5Cu0648%5Cu062a%22%2C%20%22FID%22%3A%2023%2C%20%22Governor_1%22%3A%20%22%5Cu0628%5Cu064a%5Cu0631%5Cu0648%5Cu062a%22%2C%20%22Governorat%22%3A%20%22Beirut%22%2C%20%22OBJECTID_1%22%3A%2024%2C%20%22Shape_Area%22%3A%204.31802680695e-06%2C%20%22Shape_Leng%22%3A%200.00912271793619%2C%20%22highlight%22%3A%20%7B%7D%2C%20%22style%22%3A%20%7B%22color%22%3A%20%22black%22%2C%20%22fillColor%22%3A%20%22%234eb3d3%22%2C%20%22fillOpacity%22%3A%201%2C%20%22opacity%22%3A%200.5%2C%20%22weight%22%3A%201%7D%2C%20%22zone_numbe%22%3A%2022%7D%2C%20%22type%22%3A%20%22Feature%22%7D%2C%20%7B%22geometry%22%3A%20%7B%22coordinates%22%3A%20%5B%5B%5B35.523677157000066%2C%2033.89532278400003%5D%2C%20%5B35.52386751300003%2C%2033.895484588000045%5D%2C%20%5B35.52427402400008%2C%2033.895619176000025%5D%2C%20%5B35.52405114600003%2C%2033.896194206000075%5D%2C%20%5B35.52366099600005%2C%2033.895979486000044%5D%2C%20%5B35.52321950700008%2C%2033.89588829600007%5D%2C%20%5B35.52234385500003%2C%2033.89582059700007%5D%2C%20%5B35.52168606300006%2C%2033.89577561600004%5D%2C%20%5B35.52129561500004%2C%2033.89569998400003%5D%2C%20%5B35.521067111000036%2C%2033.89565384500003%5D%2C%20%5B35.520659382000076%2C%2033.89556470300005%5D%2C%20%5B35.52039698300007%2C%2033.895413623000024%5D%2C%20%5B35.52005087500004%2C%2033.89528848200007%5D%2C%20%5B35.51969735600005%2C%2033.895162242000026%5D%2C%20%5B35.51950732600005%2C%2033.89511898500007%5D%2C%20%5B35.519311870000024%2C%2033.894493940000075%5D%2C%20%5B35.51911481800005%2C%2033.89386379100006%5D%2C%20%5B35.51909219300006%2C%2033.893826653000076%5D%2C%20%5B35.51915229400004%2C%2033.89379933500004%5D%2C%20%5B35.51939975800008%2C%2033.893767608000076%5D%2C%20%5B35.51958059700007%2C%2033.89386913200008%5D%2C%20%5B35.51974557300008%2C%2033.89393893000005%5D%2C%20%5B35.51966808200007%2C%2033.894087091000074%5D%2C%20%5B35.519934582000076%2C%2033.89430124200004%5D%2C%20%5B35.52029150100003%2C%2033.894510635000074%5D%2C%20%5B35.521067205000065%2C%2033.89475809900006%5D%2C%20%5B35.52141698600008%2C%2033.89485327700004%5D%2C%20%5B35.52196517300007%2C%2033.89492426500004%5D%2C%20%5B35.52243753700003%2C%2033.89463214600005%5D%2C%20%5B35.523129167000036%2C%2033.894648009000036%5D%2C%20%5B35.52316971400006%2C%2033.89465047600004%5D%2C%20%5B35.52320443700006%2C%2033.894780267000044%5D%2C%20%5B35.523677157000066%2C%2033.89532278400003%5D%5D%5D%2C%20%22type%22%3A%20%22Polygon%22%7D%2C%20%22id%22%3A%2024%2C%20%22properties%22%3A%20%7B%22ACS_CODE_1%22%3A%2010550%2C%20%22Cadaster_1%22%3A%20%22Rmeil%20fonci%5Cu00e8re%22%2C%20%22Cadaster_A%22%3A%20%22%5Cu0631%5Cu0645%5Cu064a%5Cu0644%22%2C%20%22District_1%22%3A%20%22Beirut%22%2C%20%22District_A%22%3A%20%22%5Cu0628%5Cu064a%5Cu0631%5Cu0648%5Cu062a%22%2C%20%22FID%22%3A%2024%2C%20%22Governor_1%22%3A%20%22%5Cu0628%5Cu064a%5Cu0631%5Cu0648%5Cu062a%22%2C%20%22Governorat%22%3A%20%22Beirut%22%2C%20%22OBJECTID_1%22%3A%2025%2C%20%22Shape_Area%22%3A%204.71526633856e-06%2C%20%22Shape_Leng%22%3A%200.0128725487447%2C%20%22highlight%22%3A%20%7B%7D%2C%20%22style%22%3A%20%7B%22color%22%3A%20%22black%22%2C%20%22fillColor%22%3A%20%22%234eb3d3%22%2C%20%22fillOpacity%22%3A%201%2C%20%22opacity%22%3A%200.5%2C%20%22weight%22%3A%201%7D%2C%20%22zone_numbe%22%3A%2024%7D%2C%20%22type%22%3A%20%22Feature%22%7D%2C%20%7B%22geometry%22%3A%20%7B%22coordinates%22%3A%20%5B%5B%5B35.52196517300007%2C%2033.89492426500004%5D%2C%20%5B35.52141698600008%2C%2033.89485327700004%5D%2C%20%5B35.521067205000065%2C%2033.89475809900006%5D%2C%20%5B35.52029150100003%2C%2033.894510635000074%5D%2C%20%5B35.519934582000076%2C%2033.89430124200004%5D%2C%20%5B35.51966808200007%2C%2033.894087091000074%5D%2C%20%5B35.51974557300008%2C%2033.89393893000005%5D%2C%20%5B35.520021591000045%2C%2033.89353600700008%5D%2C%20%5B35.520270641000025%2C%2033.893290130000025%5D%2C%20%5B35.52030748200008%2C%2033.893263207000075%5D%2C%20%5B35.520518105000065%2C%2033.89310929100003%5D%2C%20%5B35.52131284500007%2C%2033.892628640000055%5D%2C%20%5B35.52114461200006%2C%2033.89204168400005%5D%2C%20%5B35.52168252100006%2C%2033.89206203700007%5D%2C%20%5B35.523177402000044%2C%2033.892000962000054%5D%2C%20%5B35.523266224000054%2C%2033.892944949000025%5D%2C%20%5B35.52326606300005%2C%2033.89296236100006%5D%2C%20%5B35.52325048300003%2C%2033.894655389000036%5D%2C%20%5B35.523129167000036%2C%2033.894648009000036%5D%2C%20%5B35.52243753700003%2C%2033.89463214600005%5D%2C%20%5B35.52196517300007%2C%2033.89492426500004%5D%5D%5D%2C%20%22type%22%3A%20%22Polygon%22%7D%2C%20%22id%22%3A%2025%2C%20%22properties%22%3A%20%7B%22ACS_CODE_1%22%3A%2010550%2C%20%22Cadaster_1%22%3A%20%22Rmeil%20fonci%5Cu00e8re%22%2C%20%22Cadaster_A%22%3A%20%22%5Cu0631%5Cu0645%5Cu064a%5Cu0644%22%2C%20%22District_1%22%3A%20%22Beirut%22%2C%20%22District_A%22%3A%20%22%5Cu0628%5Cu064a%5Cu0631%5Cu0648%5Cu062a%22%2C%20%22FID%22%3A%2025%2C%20%22Governor_1%22%3A%20%22%5Cu0628%5Cu064a%5Cu0631%5Cu0648%5Cu062a%22%2C%20%22Governorat%22%3A%20%22Beirut%22%2C%20%22OBJECTID_1%22%3A%2026%2C%20%22Shape_Area%22%3A%207.50465103425e-06%2C%20%22Shape_Leng%22%3A%200.0113984530117%2C%20%22highlight%22%3A%20%7B%7D%2C%20%22style%22%3A%20%7B%22color%22%3A%20%22black%22%2C%20%22fillColor%22%3A%20%22%234eb3d3%22%2C%20%22fillOpacity%22%3A%201%2C%20%22opacity%22%3A%200.5%2C%20%22weight%22%3A%201%7D%2C%20%22zone_numbe%22%3A%2023%7D%2C%20%22type%22%3A%20%22Feature%22%7D%2C%20%7B%22geometry%22%3A%20%7B%22coordinates%22%3A%20%5B%5B%5B35.52444839700007%2C%2033.89468352400007%5D%2C%20%5B35.52396356400004%2C%2033.89469877100004%5D%2C%20%5B35.52325048300003%2C%2033.894655389000036%5D%2C%20%5B35.52326606300005%2C%2033.89296236100006%5D%2C%20%5B35.523551362000035%2C%2033.892910209000036%5D%2C%20%5B35.523955871000055%2C%2033.892895932000044%5D%2C%20%5B35.52416526300004%2C%2033.893723985000065%5D%2C%20%5B35.52439369200005%2C%2033.894316471000025%5D%2C%20%5B35.52444839700007%2C%2033.89468352400007%5D%5D%5D%2C%20%22type%22%3A%20%22Polygon%22%7D%2C%20%22id%22%3A%2026%2C%20%22properties%22%3A%20%7B%22ACS_CODE_1%22%3A%2010550%2C%20%22Cadaster_1%22%3A%20%22Rmeil%20fonci%5Cu00e8re%22%2C%20%22Cadaster_A%22%3A%20%22%5Cu0631%5Cu0645%5Cu064a%5Cu0644%22%2C%20%22District_1%22%3A%20%22Beirut%22%2C%20%22District_A%22%3A%20%22%5Cu0628%5Cu064a%5Cu0631%5Cu0648%5Cu062a%22%2C%20%22FID%22%3A%2026%2C%20%22Governor_1%22%3A%20%22%5Cu0628%5Cu064a%5Cu0631%5Cu0648%5Cu062a%22%2C%20%22Governorat%22%3A%20%22Beirut%22%2C%20%22OBJECTID_1%22%3A%2027%2C%20%22Shape_Area%22%3A%201.68059255248e-06%2C%20%22Shape_Leng%22%3A%200.00544757948564%2C%20%22highlight%22%3A%20%7B%7D%2C%20%22style%22%3A%20%7B%22color%22%3A%20%22black%22%2C%20%22fillColor%22%3A%20%22%23ccebc5%22%2C%20%22fillOpacity%22%3A%201%2C%20%22opacity%22%3A%200.5%2C%20%22weight%22%3A%201%7D%2C%20%22zone_numbe%22%3A%2027%7D%2C%20%22type%22%3A%20%22Feature%22%7D%2C%20%7B%22geometry%22%3A%20%7B%22coordinates%22%3A%20%5B%5B%5B35.52678178700006%2C%2033.893322158000046%5D%2C%20%5B35.52621953100004%2C%2033.89345345300006%5D%2C%20%5B35.52617392500008%2C%2033.89335232600007%5D%2C%20%5B35.52561673500003%2C%2033.89351459200003%5D%2C%20%5B35.52420977700007%2C%2033.89383944200006%5D%2C%20%5B35.52416526300004%2C%2033.893723985000065%5D%2C%20%5B35.523955871000055%2C%2033.892895932000044%5D%2C%20%5B35.52405580800007%2C%2033.892953040000066%5D%2C%20%5B35.52478392300003%2C%2033.89279123600005%5D%2C%20%5B35.52568811800006%2C%2033.892529495000076%5D%2C%20%5B35.52624491200004%2C%2033.89233913900006%5D%2C%20%5B35.526644662000024%2C%2033.89298159300006%5D%2C%20%5B35.52678178700006%2C%2033.893322158000046%5D%5D%5D%2C%20%22type%22%3A%20%22Polygon%22%7D%2C%20%22id%22%3A%2027%2C%20%22properties%22%3A%20%7B%22ACS_CODE_1%22%3A%2010550%2C%20%22Cadaster_1%22%3A%20%22Rmeil%20fonci%5Cu00e8re%22%2C%20%22Cadaster_A%22%3A%20%22%5Cu0631%5Cu0645%5Cu064a%5Cu0644%22%2C%20%22District_1%22%3A%20%22Beirut%22%2C%20%22District_A%22%3A%20%22%5Cu0628%5Cu064a%5Cu0631%5Cu0648%5Cu062a%22%2C%20%22FID%22%3A%2027%2C%20%22Governor_1%22%3A%20%22%5Cu0628%5Cu064a%5Cu0631%5Cu0648%5Cu062a%22%2C%20%22Governorat%22%3A%20%22Beirut%22%2C%20%22OBJECTID_1%22%3A%2028%2C%20%22Shape_Area%22%3A%202.3678260405e-06%2C%20%22Shape_Leng%22%3A%200.00720501946138%2C%20%22highlight%22%3A%20%7B%7D%2C%20%22style%22%3A%20%7B%22color%22%3A%20%22black%22%2C%20%22fillColor%22%3A%20%22%234eb3d3%22%2C%20%22fillOpacity%22%3A%201%2C%20%22opacity%22%3A%200.5%2C%20%22weight%22%3A%201%7D%2C%20%22zone_numbe%22%3A%2029%7D%2C%20%22type%22%3A%20%22Feature%22%7D%2C%20%7B%22geometry%22%3A%20%7B%22coordinates%22%3A%20%5B%5B%5B35.52678178700006%2C%2033.893322158000046%5D%2C%20%5B35.527167493000036%2C%2033.89428010100005%5D%2C%20%5B35.52679670900005%2C%2033.89448937800006%5D%2C%20%5B35.52620660300005%2C%2033.894695598000055%5D%2C%20%5B35.525759264000044%2C%2033.89474953300004%5D%2C%20%5B35.52504225300004%2C%2033.89465752700005%5D%2C%20%5B35.52446801000008%2C%2033.89468290800005%5D%2C%20%5B35.52444839700007%2C%2033.89468352400007%5D%2C%20%5B35.52439369200005%2C%2033.894316471000025%5D%2C%20%5B35.52420977700007%2C%2033.89383944200006%5D%2C%20%5B35.52561673500003%2C%2033.89351459200003%5D%2C%20%5B35.52617392500008%2C%2033.89335232600007%5D%2C%20%5B35.52621953100004%2C%2033.89345345300006%5D%2C%20%5B35.52678178700006%2C%2033.893322158000046%5D%5D%5D%2C%20%22type%22%3A%20%22Polygon%22%7D%2C%20%22id%22%3A%2028%2C%20%22properties%22%3A%20%7B%22ACS_CODE_1%22%3A%2010550%2C%20%22Cadaster_1%22%3A%20%22Rmeil%20fonci%5Cu00e8re%22%2C%20%22Cadaster_A%22%3A%20%22%5Cu0631%5Cu0645%5Cu064a%5Cu0644%22%2C%20%22District_1%22%3A%20%22Beirut%22%2C%20%22District_A%22%3A%20%22%5Cu0628%5Cu064a%5Cu0631%5Cu0648%5Cu062a%22%2C%20%22FID%22%3A%2028%2C%20%22Governor_1%22%3A%20%22%5Cu0628%5Cu064a%5Cu0631%5Cu0648%5Cu062a%22%2C%20%22Governorat%22%3A%20%22Beirut%22%2C%20%22OBJECTID_1%22%3A%2029%2C%20%22Shape_Area%22%3A%202.97815570055e-06%2C%20%22Shape_Leng%22%3A%200.00744643065862%2C%20%22highlight%22%3A%20%7B%7D%2C%20%22style%22%3A%20%7B%22color%22%3A%20%22black%22%2C%20%22fillColor%22%3A%20%22%234eb3d3%22%2C%20%22fillOpacity%22%3A%201%2C%20%22opacity%22%3A%200.5%2C%20%22weight%22%3A%201%7D%2C%20%22zone_numbe%22%3A%2030%7D%2C%20%22type%22%3A%20%22Feature%22%7D%2C%20%7B%22geometry%22%3A%20%7B%22coordinates%22%3A%20%5B%5B%5B35.529189752000036%2C%2033.89207811600005%5D%2C%20%5B35.529254958000024%2C%2033.89208532400005%5D%2C%20%5B35.52969828400006%2C%2033.89205912500006%5D%2C%20%5B35.53001740600007%2C%2033.892040508000036%5D%2C%20%5B35.530284573000074%2C%2033.89204887400007%5D%2C%20%5B35.53060798200005%2C%2033.89208232300007%5D%2C%20%5B35.53102555600003%2C%2033.89218482700005%5D%2C%20%5B35.53126869500005%2C%2033.892244239000036%5D%2C%20%5B35.53133989300005%2C%2033.892351036000036%5D%2C%20%5B35.531590530000074%2C%2033.89283961900003%5D%2C%20%5B35.53162860100008%2C%2033.893052184000055%5D%2C%20%5B35.53141603600005%2C%2033.89320446900007%5D%2C%20%5B35.53104484000005%2C%2033.89330916600005%5D%2C%20%5B35.53010257400007%2C%2033.89344558800008%5D%2C%20%5B35.52917949400006%2C%2033.89370735700004%5D%2C%20%5B35.529189752000036%2C%2033.89207811600005%5D%5D%5D%2C%20%22type%22%3A%20%22Polygon%22%7D%2C%20%22id%22%3A%2029%2C%20%22properties%22%3A%20%7B%22ACS_CODE_1%22%3A%2010550%2C%20%22Cadaster_1%22%3A%20%22Rmeil%20fonci%5Cu00e8re%22%2C%20%22Cadaster_A%22%3A%20%22%5Cu0631%5Cu0645%5Cu064a%5Cu0644%22%2C%20%22District_1%22%3A%20%22Beirut%22%2C%20%22District_A%22%3A%20%22%5Cu0628%5Cu064a%5Cu0631%5Cu0648%5Cu062a%22%2C%20%22FID%22%3A%2029%2C%20%22Governor_1%22%3A%20%22%5Cu0628%5Cu064a%5Cu0631%5Cu0648%5Cu062a%22%2C%20%22Governorat%22%3A%20%22Beirut%22%2C%20%22OBJECTID_1%22%3A%2030%2C%20%22Shape_Area%22%3A%203.04952363652e-06%2C%20%22Shape_Leng%22%3A%200.00718349037856%2C%20%22highlight%22%3A%20%7B%7D%2C%20%22style%22%3A%20%7B%22color%22%3A%20%22black%22%2C%20%22fillColor%22%3A%20%22%234eb3d3%22%2C%20%22fillOpacity%22%3A%201%2C%20%22opacity%22%3A%200.5%2C%20%22weight%22%3A%201%7D%2C%20%22zone_numbe%22%3A%2034%7D%2C%20%22type%22%3A%20%22Feature%22%7D%2C%20%7B%22geometry%22%3A%20%7B%22coordinates%22%3A%20%5B%5B%5B35.52608094200008%2C%2033.891880392000076%5D%2C%20%5B35.52634150500006%2C%2033.89186930100004%5D%2C%20%5B35.52692222500008%2C%2033.891724829000054%5D%2C%20%5B35.52735616900003%2C%2033.891849285000035%5D%2C%20%5B35.52757557700005%2C%2033.89187808100007%5D%2C%20%5B35.52784786900003%2C%2033.89188385400007%5D%2C%20%5B35.52794819200005%2C%2033.89189419100006%5D%2C%20%5B35.52796891100007%2C%2033.892115800000056%5D%2C%20%5B35.52692670700003%2C%2033.892258567000056%5D%2C%20%5B35.52632268900004%2C%2033.89246413700005%5D%2C%20%5B35.52624491200004%2C%2033.89233913900006%5D%2C%20%5B35.52608094200008%2C%2033.891880392000076%5D%5D%5D%2C%20%22type%22%3A%20%22Polygon%22%7D%2C%20%22id%22%3A%2030%2C%20%22properties%22%3A%20%7B%22ACS_CODE_1%22%3A%2010550%2C%20%22Cadaster_1%22%3A%20%22Rmeil%20fonci%5Cu00e8re%22%2C%20%22Cadaster_A%22%3A%20%22%5Cu0631%5Cu0645%5Cu064a%5Cu0644%22%2C%20%22District_1%22%3A%20%22Beirut%22%2C%20%22District_A%22%3A%20%22%5Cu0628%5Cu064a%5Cu0631%5Cu0648%5Cu062a%22%2C%20%22FID%22%3A%2030%2C%20%22Governor_1%22%3A%20%22%5Cu0628%5Cu064a%5Cu0631%5Cu0648%5Cu062a%22%2C%20%22Governorat%22%3A%20%22Beirut%22%2C%20%22OBJECTID_1%22%3A%2031%2C%20%22Shape_Area%22%3A%207.78797806134e-07%2C%20%22Shape_Leng%22%3A%200.00445209982447%2C%20%22highlight%22%3A%20%7B%7D%2C%20%22style%22%3A%20%7B%22color%22%3A%20%22black%22%2C%20%22fillColor%22%3A%20%22%234eb3d3%22%2C%20%22fillOpacity%22%3A%201%2C%20%22opacity%22%3A%200.5%2C%20%22weight%22%3A%201%7D%2C%20%22zone_numbe%22%3A%2031%7D%2C%20%22type%22%3A%20%22Feature%22%7D%2C%20%7B%22geometry%22%3A%20%7B%22coordinates%22%3A%20%5B%5B%5B35.523551362000035%2C%2033.892910209000036%5D%2C%20%5B35.52326606300005%2C%2033.89296236100006%5D%2C%20%5B35.523266224000054%2C%2033.892944949000025%5D%2C%20%5B35.523177402000044%2C%2033.892000962000054%5D%2C%20%5B35.52379147100004%2C%2033.891975874000025%5D%2C%20%5B35.52494396800006%2C%2033.89192878700004%5D%2C%20%5B35.52608094200008%2C%2033.891880392000076%5D%2C%20%5B35.52624491200004%2C%2033.89233913900006%5D%2C%20%5B35.52568811800006%2C%2033.892529495000076%5D%2C%20%5B35.52478392300003%2C%2033.89279123600005%5D%2C%20%5B35.52405580800007%2C%2033.892953040000066%5D%2C%20%5B35.523955871000055%2C%2033.892895932000044%5D%2C%20%5B35.523551362000035%2C%2033.892910209000036%5D%5D%5D%2C%20%22type%22%3A%20%22Polygon%22%7D%2C%20%22id%22%3A%2031%2C%20%22properties%22%3A%20%7B%22ACS_CODE_1%22%3A%2010550%2C%20%22Cadaster_1%22%3A%20%22Rmeil%20fonci%5Cu00e8re%22%2C%20%22Cadaster_A%22%3A%20%22%5Cu0631%5Cu0645%5Cu064a%5Cu0644%22%2C%20%22District_1%22%3A%20%22Beirut%22%2C%20%22District_A%22%3A%20%22%5Cu0628%5Cu064a%5Cu0631%5Cu0648%5Cu062a%22%2C%20%22FID%22%3A%2031%2C%20%22Governor_1%22%3A%20%22%5Cu0628%5Cu064a%5Cu0631%5Cu0648%5Cu062a%22%2C%20%22Governorat%22%3A%20%22Beirut%22%2C%20%22OBJECTID_1%22%3A%2032%2C%20%22Shape_Area%22%3A%202.39314014602e-06%2C%20%22Shape_Leng%22%3A%200.00744430096896%2C%20%22highlight%22%3A%20%7B%7D%2C%20%22style%22%3A%20%7B%22color%22%3A%20%22black%22%2C%20%22fillColor%22%3A%20%22%234eb3d3%22%2C%20%22fillOpacity%22%3A%201%2C%20%22opacity%22%3A%200.5%2C%20%22weight%22%3A%201%7D%2C%20%22zone_numbe%22%3A%2028%7D%2C%20%22type%22%3A%20%22Feature%22%7D%2C%20%7B%22geometry%22%3A%20%7B%22coordinates%22%3A%20%5B%5B%5B35.52842170100007%2C%2033.89391182400004%5D%2C%20%5B35.52731384500004%2C%2033.89419749800004%5D%2C%20%5B35.527167493000036%2C%2033.89428010100005%5D%2C%20%5B35.526644662000024%2C%2033.89298159300006%5D%2C%20%5B35.52632268900004%2C%2033.89246413700005%5D%2C%20%5B35.52692670700003%2C%2033.892258567000056%5D%2C%20%5B35.52796891100007%2C%2033.892115800000056%5D%2C%20%5B35.528128335000076%2C%2033.89313526700005%5D%2C%20%5B35.52842170100007%2C%2033.89391182400004%5D%5D%5D%2C%20%22type%22%3A%20%22Polygon%22%7D%2C%20%22id%22%3A%2032%2C%20%22properties%22%3A%20%7B%22ACS_CODE_1%22%3A%2010550%2C%20%22Cadaster_1%22%3A%20%22Rmeil%20fonci%5Cu00e8re%22%2C%20%22Cadaster_A%22%3A%20%22%5Cu0631%5Cu0645%5Cu064a%5Cu0644%22%2C%20%22District_1%22%3A%20%22Beirut%22%2C%20%22District_A%22%3A%20%22%5Cu0628%5Cu064a%5Cu0631%5Cu0648%5Cu062a%22%2C%20%22FID%22%3A%2032%2C%20%22Governor_1%22%3A%20%22%5Cu0628%5Cu064a%5Cu0631%5Cu0648%5Cu062a%22%2C%20%22Governorat%22%3A%20%22Beirut%22%2C%20%22OBJECTID_1%22%3A%2033%2C%20%22Shape_Area%22%3A%202.72929367518e-06%2C%20%22Shape_Leng%22%3A%200.00687336911828%2C%20%22highlight%22%3A%20%7B%7D%2C%20%22style%22%3A%20%7B%22color%22%3A%20%22black%22%2C%20%22fillColor%22%3A%20%22%234eb3d3%22%2C%20%22fillOpacity%22%3A%201%2C%20%22opacity%22%3A%200.5%2C%20%22weight%22%3A%201%7D%2C%20%22zone_numbe%22%3A%2032%7D%2C%20%22type%22%3A%20%22Feature%22%7D%2C%20%7B%22geometry%22%3A%20%7B%22coordinates%22%3A%20%5B%5B%5B35.52917949400006%2C%2033.89370735700004%5D%2C%20%5B35.52882718300003%2C%2033.89380726600007%5D%2C%20%5B35.52842170100007%2C%2033.89391182400004%5D%2C%20%5B35.528128335000076%2C%2033.89313526700005%5D%2C%20%5B35.52796891100007%2C%2033.892115800000056%5D%2C%20%5B35.52794819200005%2C%2033.89189419100006%5D%2C%20%5B35.528377668000076%2C%2033.891938441000036%5D%2C%20%5B35.528674882000075%2C%2033.89199546000003%5D%2C%20%5B35.52899836100005%2C%2033.89205695900006%5D%2C%20%5B35.529189752000036%2C%2033.89207811600005%5D%2C%20%5B35.52917949400006%2C%2033.89370735700004%5D%5D%5D%2C%20%22type%22%3A%20%22Polygon%22%7D%2C%20%22id%22%3A%2033%2C%20%22properties%22%3A%20%7B%22ACS_CODE_1%22%3A%2010550%2C%20%22Cadaster_1%22%3A%20%22Rmeil%20fonci%5Cu00e8re%22%2C%20%22Cadaster_A%22%3A%20%22%5Cu0631%5Cu0645%5Cu064a%5Cu0644%22%2C%20%22District_1%22%3A%20%22Beirut%22%2C%20%22District_A%22%3A%20%22%5Cu0628%5Cu064a%5Cu0631%5Cu0648%5Cu062a%22%2C%20%22FID%22%3A%2033%2C%20%22Governor_1%22%3A%20%22%5Cu0628%5Cu064a%5Cu0631%5Cu0648%5Cu062a%22%2C%20%22Governorat%22%3A%20%22Beirut%22%2C%20%22OBJECTID_1%22%3A%2034%2C%20%22Shape_Area%22%3A%201.95343364333e-06%2C%20%22Shape_Leng%22%3A%200.00575499148266%2C%20%22highlight%22%3A%20%7B%7D%2C%20%22style%22%3A%20%7B%22color%22%3A%20%22black%22%2C%20%22fillColor%22%3A%20%22%234eb3d3%22%2C%20%22fillOpacity%22%3A%201%2C%20%22opacity%22%3A%200.5%2C%20%22weight%22%3A%201%7D%2C%20%22zone_numbe%22%3A%2033%7D%2C%20%22type%22%3A%20%22Feature%22%7D%2C%20%7B%22geometry%22%3A%20%7B%22coordinates%22%3A%20%5B%5B%5B35.52700471700007%2C%2033.89625341100003%5D%2C%20%5B35.52585674300008%2C%2033.89644271700007%5D%2C%20%5B35.52572032000006%2C%2033.89644271700007%5D%2C%20%5B35.52519049400007%2C%2033.89597951600007%5D%2C%20%5B35.52458135200004%2C%2033.89566542700004%5D%2C%20%5B35.52433706000005%2C%2033.89564004600004%5D%2C%20%5B35.52386751300003%2C%2033.895484588000045%5D%2C%20%5B35.523677157000066%2C%2033.89532278400003%5D%2C%20%5B35.52320443700006%2C%2033.894780267000044%5D%2C%20%5B35.52316971400006%2C%2033.89465047600004%5D%2C%20%5B35.52396356400004%2C%2033.89469877100004%5D%2C%20%5B35.52446801000008%2C%2033.89468290800005%5D%2C%20%5B35.52504225300004%2C%2033.89465752700005%5D%2C%20%5B35.525759264000044%2C%2033.89474953300004%5D%2C%20%5B35.52620660300005%2C%2033.894695598000055%5D%2C%20%5B35.526437144000056%2C%2033.894615033000036%5D%2C%20%5B35.52671493500003%2C%2033.89556707600008%5D%2C%20%5B35.526997298000026%2C%2033.896230152000044%5D%2C%20%5B35.52700471700007%2C%2033.89625341100003%5D%5D%5D%2C%20%22type%22%3A%20%22Polygon%22%7D%2C%20%22id%22%3A%2034%2C%20%22properties%22%3A%20%7B%22ACS_CODE_1%22%3A%2010550%2C%20%22Cadaster_1%22%3A%20%22Rmeil%20fonci%5Cu00e8re%22%2C%20%22Cadaster_A%22%3A%20%22%5Cu0631%5Cu0645%5Cu064a%5Cu0644%22%2C%20%22District_1%22%3A%20%22Beirut%22%2C%20%22District_A%22%3A%20%22%5Cu0628%5Cu064a%5Cu0631%5Cu0648%5Cu062a%22%2C%20%22FID%22%3A%2034%2C%20%22Governor_1%22%3A%20%22%5Cu0628%5Cu064a%5Cu0631%5Cu0648%5Cu062a%22%2C%20%22Governorat%22%3A%20%22Beirut%22%2C%20%22OBJECTID_1%22%3A%2035%2C%20%22Shape_Area%22%3A%204.13338713951e-06%2C%20%22Shape_Leng%22%3A%200.00956233656484%2C%20%22highlight%22%3A%20%7B%7D%2C%20%22style%22%3A%20%7B%22color%22%3A%20%22black%22%2C%20%22fillColor%22%3A%20%22%234eb3d3%22%2C%20%22fillOpacity%22%3A%201%2C%20%22opacity%22%3A%200.5%2C%20%22weight%22%3A%201%7D%2C%20%22zone_numbe%22%3A%2026%7D%2C%20%22type%22%3A%20%22Feature%22%7D%2C%20%7B%22geometry%22%3A%20%7B%22coordinates%22%3A%20%5B%5B%5B35.52427402400008%2C%2033.895619176000025%5D%2C%20%5B35.52433706000005%2C%2033.89564004600004%5D%2C%20%5B35.52458135200004%2C%2033.89566542700004%5D%2C%20%5B35.52519049400007%2C%2033.89597951600007%5D%2C%20%5B35.52572032000006%2C%2033.89644271700007%5D%2C%20%5B35.52585674300008%2C%2033.89644271700007%5D%2C%20%5B35.52700471700007%2C%2033.89625341100003%5D%2C%20%5B35.52737199000006%2C%2033.89740486900007%5D%2C%20%5B35.52724647900004%2C%2033.89739270800004%5D%2C%20%5B35.526652152000054%2C%2033.89724103400005%5D%2C%20%5B35.52611488700006%2C%2033.897107971000025%5D%2C%20%5B35.52586777300007%2C%2033.89704676400004%5D%2C%20%5B35.52529081400007%2C%2033.896904928000026%5D%2C%20%5B35.52510512600003%2C%2033.896800952000035%5D%2C%20%5B35.524672628000076%2C%2033.89655924700003%5D%2C%20%5B35.52445866700003%2C%2033.896434130000046%5D%2C%20%5B35.52429378900007%2C%2033.89633709000003%5D%2C%20%5B35.52405114600003%2C%2033.896194206000075%5D%2C%20%5B35.52427402400008%2C%2033.895619176000025%5D%5D%5D%2C%20%22type%22%3A%20%22Polygon%22%7D%2C%20%22id%22%3A%2035%2C%20%22properties%22%3A%20%7B%22ACS_CODE_1%22%3A%2010550%2C%20%22Cadaster_1%22%3A%20%22Rmeil%20fonci%5Cu00e8re%22%2C%20%22Cadaster_A%22%3A%20%22%5Cu0631%5Cu0645%5Cu064a%5Cu0644%22%2C%20%22District_1%22%3A%20%22Beirut%22%2C%20%22District_A%22%3A%20%22%5Cu0628%5Cu064a%5Cu0631%5Cu0648%5Cu062a%22%2C%20%22FID%22%3A%2035%2C%20%22Governor_1%22%3A%20%22%5Cu0628%5Cu064a%5Cu0631%5Cu0648%5Cu062a%22%2C%20%22Governorat%22%3A%20%22Beirut%22%2C%20%22OBJECTID_1%22%3A%2036%2C%20%22Shape_Area%22%3A%202.46609791745e-06%2C%20%22Shape_Leng%22%3A%200.00839706288458%2C%20%22highlight%22%3A%20%7B%7D%2C%20%22style%22%3A%20%7B%22color%22%3A%20%22black%22%2C%20%22fillColor%22%3A%20%22%234eb3d3%22%2C%20%22fillOpacity%22%3A%201%2C%20%22opacity%22%3A%200.5%2C%20%22weight%22%3A%201%7D%2C%20%22zone_numbe%22%3A%2025%7D%2C%20%22type%22%3A%20%22Feature%22%7D%2C%20%7B%22geometry%22%3A%20%7B%22coordinates%22%3A%20%5B%5B%5B35.53219956500004%2C%2033.89444920100004%5D%2C%20%5B35.53138581700006%2C%2033.89470134900006%5D%2C%20%5B35.53034361300007%2C%2033.89478700900003%5D%2C%20%5B35.530276988000026%2C%2033.894710866000025%5D%2C%20%5B35.53001881400007%2C%2033.89346934100007%5D%2C%20%5B35.53010257400007%2C%2033.89344558800008%5D%2C%20%5B35.53104484000005%2C%2033.89330916600005%5D%2C%20%5B35.53141603600005%2C%2033.89320446900007%5D%2C%20%5B35.53162860100008%2C%2033.893052184000055%5D%2C%20%5B35.531745116000025%2C%2033.89301986300006%5D%2C%20%5B35.53194340400006%2C%2033.89334902200005%5D%2C%20%5B35.53214169300003%2C%2033.893519550000065%5D%2C%20%5B35.53232808400003%2C%2033.893801119000045%5D%2C%20%5B35.53232015200007%2C%2033.89422942200002%5D%2C%20%5B35.53219956500004%2C%2033.89444920100004%5D%5D%5D%2C%20%22type%22%3A%20%22Polygon%22%7D%2C%20%22id%22%3A%2036%2C%20%22properties%22%3A%20%7B%22ACS_CODE_1%22%3A%2010550%2C%20%22Cadaster_1%22%3A%20%22Rmeil%20fonci%5Cu00e8re%22%2C%20%22Cadaster_A%22%3A%20%22%5Cu0631%5Cu0645%5Cu064a%5Cu0644%22%2C%20%22District_1%22%3A%20%22Beirut%22%2C%20%22District_A%22%3A%20%22%5Cu0628%5Cu064a%5Cu0631%5Cu0648%5Cu062a%22%2C%20%22FID%22%3A%2036%2C%20%22Governor_1%22%3A%20%22%5Cu0628%5Cu064a%5Cu0631%5Cu0648%5Cu062a%22%2C%20%22Governorat%22%3A%20%22Beirut%22%2C%20%22OBJECTID_1%22%3A%2037%2C%20%22Shape_Area%22%3A%202.90070458358e-06%2C%20%22Shape_Leng%22%3A%200.00673666640983%2C%20%22highlight%22%3A%20%7B%7D%2C%20%22style%22%3A%20%7B%22color%22%3A%20%22black%22%2C%20%22fillColor%22%3A%20%22%234eb3d3%22%2C%20%22fillOpacity%22%3A%201%2C%20%22opacity%22%3A%200.5%2C%20%22weight%22%3A%201%7D%2C%20%22zone_numbe%22%3A%2035%7D%2C%20%22type%22%3A%20%22Feature%22%7D%2C%20%7B%22geometry%22%3A%20%7B%22coordinates%22%3A%20%5B%5B%5B35.52780801900008%2C%2033.894070069000065%5D%2C%20%5B35.52817830400005%2C%2033.89492819000003%5D%2C%20%5B35.52780076200003%2C%2033.89514710100008%5D%2C%20%5B35.527972084000055%2C%2033.89554685000007%5D%2C%20%5B35.52806409000004%2C%2033.895900597000036%5D%2C%20%5B35.52700471700007%2C%2033.89625341100003%5D%2C%20%5B35.526997298000026%2C%2033.896230152000044%5D%2C%20%5B35.52671493500003%2C%2033.89556707600008%5D%2C%20%5B35.526437144000056%2C%2033.894615033000036%5D%2C%20%5B35.52679670900005%2C%2033.89448937800006%5D%2C%20%5B35.52731384500004%2C%2033.89419749800004%5D%2C%20%5B35.52780801900008%2C%2033.894070069000065%5D%5D%5D%2C%20%22type%22%3A%20%22Polygon%22%7D%2C%20%22id%22%3A%2037%2C%20%22properties%22%3A%20%7B%22ACS_CODE_1%22%3A%2010550%2C%20%22Cadaster_1%22%3A%20%22Rmeil%20fonci%5Cu00e8re%22%2C%20%22Cadaster_A%22%3A%20%22%5Cu0631%5Cu0645%5Cu064a%5Cu0644%22%2C%20%22District_1%22%3A%20%22Beirut%22%2C%20%22District_A%22%3A%20%22%5Cu0628%5Cu064a%5Cu0631%5Cu0648%5Cu062a%22%2C%20%22FID%22%3A%2037%2C%20%22Governor_1%22%3A%20%22%5Cu0628%5Cu064a%5Cu0631%5Cu0648%5Cu062a%22%2C%20%22Governorat%22%3A%20%22Beirut%22%2C%20%22OBJECTID_1%22%3A%2038%2C%20%22Shape_Area%22%3A%202.43144209894e-06%2C%20%22Shape_Leng%22%3A%200.00650992824666%2C%20%22highlight%22%3A%20%7B%7D%2C%20%22style%22%3A%20%7B%22color%22%3A%20%22black%22%2C%20%22fillColor%22%3A%20%22%234eb3d3%22%2C%20%22fillOpacity%22%3A%201%2C%20%22opacity%22%3A%200.5%2C%20%22weight%22%3A%201%7D%2C%20%22zone_numbe%22%3A%2037%7D%2C%20%22type%22%3A%20%22Feature%22%7D%2C%20%7B%22geometry%22%3A%20%7B%22coordinates%22%3A%20%5B%5B%5B35.52906057300004%2C%2033.89642987600007%5D%2C%20%5B35.528873899000075%2C%2033.89658508800005%5D%2C%20%5B35.52897705300006%2C%2033.897205550000024%5D%2C%20%5B35.52849193800006%2C%2033.89727184900005%5D%2C%20%5B35.52809021000007%2C%2033.89732699500007%5D%2C%20%5B35.52748394100007%2C%2033.89741571600007%5D%2C%20%5B35.52737199000006%2C%2033.89740486900007%5D%2C%20%5B35.52700471700007%2C%2033.89625341100003%5D%2C%20%5B35.52806409000004%2C%2033.895900597000036%5D%2C%20%5B35.52804515400004%2C%2033.895827793000024%5D%2C%20%5B35.52827665500007%2C%2033.89575624300005%5D%2C%20%5B35.52906057300004%2C%2033.89642987600007%5D%5D%5D%2C%20%22type%22%3A%20%22Polygon%22%7D%2C%20%22id%22%3A%2038%2C%20%22properties%22%3A%20%7B%22ACS_CODE_1%22%3A%2010550%2C%20%22Cadaster_1%22%3A%20%22Rmeil%20fonci%5Cu00e8re%22%2C%20%22Cadaster_A%22%3A%20%22%5Cu0631%5Cu0645%5Cu064a%5Cu0644%22%2C%20%22District_1%22%3A%20%22Beirut%22%2C%20%22District_A%22%3A%20%22%5Cu0628%5Cu064a%5Cu0631%5Cu0648%5Cu062a%22%2C%20%22FID%22%3A%2038%2C%20%22Governor_1%22%3A%20%22%5Cu0628%5Cu064a%5Cu0631%5Cu0648%5Cu062a%22%2C%20%22Governorat%22%3A%20%22Beirut%22%2C%20%22OBJECTID_1%22%3A%2039%2C%20%22Shape_Area%22%3A%202.31016804833e-06%2C%20%22Shape_Leng%22%3A%200.00616838547884%2C%20%22highlight%22%3A%20%7B%7D%2C%20%22style%22%3A%20%7B%22color%22%3A%20%22black%22%2C%20%22fillColor%22%3A%20%22%234eb3d3%22%2C%20%22fillOpacity%22%3A%201%2C%20%22opacity%22%3A%200.5%2C%20%22weight%22%3A%201%7D%2C%20%22zone_numbe%22%3A%2038%7D%2C%20%22type%22%3A%20%22Feature%22%7D%2C%20%7B%22geometry%22%3A%20%7B%22coordinates%22%3A%20%5B%5B%5B35.52804515400004%2C%2033.895827793000024%5D%2C%20%5B35.527972084000055%2C%2033.89554685000007%5D%2C%20%5B35.52780076200003%2C%2033.89514710100008%5D%2C%20%5B35.52817830400005%2C%2033.89492819000003%5D%2C%20%5B35.52780801900008%2C%2033.894070069000065%5D%2C%20%5B35.52882718300003%2C%2033.89380726600007%5D%2C%20%5B35.53001881400007%2C%2033.89346934100007%5D%2C%20%5B35.530276988000026%2C%2033.894710866000025%5D%2C%20%5B35.53034361300007%2C%2033.89478700900003%5D%2C%20%5B35.53138581700006%2C%2033.89470134900006%5D%2C%20%5B35.53219956500004%2C%2033.89444920100004%5D%2C%20%5B35.532074274000024%2C%2033.894677554000054%5D%2C%20%5B35.53166580000004%2C%2033.89510585700003%5D%2C%20%5B35.53098765400006%2C%2033.895407255000066%5D%2C%20%5B35.53002397200004%2C%2033.895724517000076%5D%2C%20%5B35.52957980600007%2C%2033.89599815500003%5D%2C%20%5B35.52906057300004%2C%2033.89642987600007%5D%2C%20%5B35.52827665500007%2C%2033.89575624300005%5D%2C%20%5B35.52804515400004%2C%2033.895827793000024%5D%5D%5D%2C%20%22type%22%3A%20%22Polygon%22%7D%2C%20%22id%22%3A%2039%2C%20%22properties%22%3A%20%7B%22ACS_CODE_1%22%3A%2010550%2C%20%22Cadaster_1%22%3A%20%22Rmeil%20fonci%5Cu00e8re%22%2C%20%22Cadaster_A%22%3A%20%22%5Cu0631%5Cu0645%5Cu064a%5Cu0644%22%2C%20%22District_1%22%3A%20%22Beirut%22%2C%20%22District_A%22%3A%20%22%5Cu0628%5Cu064a%5Cu0631%5Cu0648%5Cu062a%22%2C%20%22FID%22%3A%2039%2C%20%22Governor_1%22%3A%20%22%5Cu0628%5Cu064a%5Cu0631%5Cu0648%5Cu062a%22%2C%20%22Governorat%22%3A%20%22Beirut%22%2C%20%22OBJECTID_1%22%3A%2040%2C%20%22Shape_Area%22%3A%206.15170788521e-06%2C%20%22Shape_Leng%22%3A%200.0127360905613%2C%20%22highlight%22%3A%20%7B%7D%2C%20%22style%22%3A%20%7B%22color%22%3A%20%22black%22%2C%20%22fillColor%22%3A%20%22%234eb3d3%22%2C%20%22fillOpacity%22%3A%201%2C%20%22opacity%22%3A%200.5%2C%20%22weight%22%3A%201%7D%2C%20%22zone_numbe%22%3A%2036%7D%2C%20%22type%22%3A%20%22Feature%22%7D%2C%20%7B%22geometry%22%3A%20%7B%22coordinates%22%3A%20%5B%5B%5B35.532992526000044%2C%2033.89308017800005%5D%2C%20%5B35.533030362000034%2C%2033.893071802000065%5D%2C%20%5B35.53335501300006%2C%2033.893000409000024%5D%2C%20%5B35.53487683800006%2C%2033.892660662000026%5D%2C%20%5B35.534883594000064%2C%2033.89332215100006%5D%2C%20%5B35.53491906700003%2C%2033.89365358600003%5D%2C%20%5B35.53512031900004%2C%2033.89396170500004%5D%2C%20%5B35.535977381000066%2C%2033.894737916000054%5D%2C%20%5B35.53630968500005%2C%2033.895019097000045%5D%2C%20%5B35.53655325600005%2C%2033.89538745700003%5D%2C%20%5B35.53596672200007%2C%2033.89551837100004%5D%2C%20%5B35.53572651700006%2C%2033.89559187700007%5D%2C%20%5B35.534970963000035%2C%2033.89589685100003%5D%2C%20%5B35.534626272000025%2C%2033.89603531300003%5D%2C%20%5B35.53440478700003%2C%2033.89610261200005%5D%2C%20%5B35.53419340500005%2C%2033.896171613000035%5D%2C%20%5B35.53396578400003%2C%2033.896241357000065%5D%2C%20%5B35.53375240100007%2C%2033.89627763000004%5D%2C%20%5B35.533513439000046%2C%2033.89629308700006%5D%2C%20%5B35.53326797100004%2C%2033.89470690100006%5D%2C%20%5B35.53318072400003%2C%2033.894112035000035%5D%2C%20%5B35.53313313500007%2C%2033.893552862000035%5D%2C%20%5B35.532992526000044%2C%2033.89308017800005%5D%5D%5D%2C%20%22type%22%3A%20%22Polygon%22%7D%2C%20%22id%22%3A%2040%2C%20%22properties%22%3A%20%7B%22ACS_CODE_1%22%3A%2010550%2C%20%22Cadaster_1%22%3A%20%22Rmeil%20fonci%5Cu00e8re%22%2C%20%22Cadaster_A%22%3A%20%22%5Cu0631%5Cu0645%5Cu064a%5Cu0644%22%2C%20%22District_1%22%3A%20%22Beirut%22%2C%20%22District_A%22%3A%20%22%5Cu0628%5Cu064a%5Cu0631%5Cu0648%5Cu062a%22%2C%20%22FID%22%3A%2040%2C%20%22Governor_1%22%3A%20%22%5Cu0628%5Cu064a%5Cu0631%5Cu0648%5Cu062a%22%2C%20%22Governorat%22%3A%20%22Beirut%22%2C%20%22OBJECTID_1%22%3A%2041%2C%20%22Shape_Area%22%3A%207.26819646007e-06%2C%20%22Shape_Leng%22%3A%200.0117734139066%2C%20%22highlight%22%3A%20%7B%7D%2C%20%22style%22%3A%20%7B%22color%22%3A%20%22black%22%2C%20%22fillColor%22%3A%20%22%232b8cbe%22%2C%20%22fillOpacity%22%3A%201%2C%20%22opacity%22%3A%200.5%2C%20%22weight%22%3A%201%7D%2C%20%22zone_numbe%22%3A%2041%7D%2C%20%22type%22%3A%20%22Feature%22%7D%2C%20%7B%22geometry%22%3A%20%7B%22coordinates%22%3A%20%5B%5B%5B35.53329292900003%2C%2033.894868178000024%5D%2C%20%5B35.53256999600006%2C%2033.894902810000076%5D%2C%20%5B35.53244626400004%2C%2033.89488139400004%5D%2C%20%5B35.53219880000006%2C%2033.895112202000064%5D%2C%20%5B35.531879952000054%2C%2033.89524069300006%5D%2C%20%5B35.53127556900006%2C%2033.89537632200006%5D%2C%20%5B35.53107044400008%2C%2033.89537045900005%5D%2C%20%5B35.53166580000004%2C%2033.89510585700003%5D%2C%20%5B35.532074274000024%2C%2033.894677554000054%5D%2C%20%5B35.53232015200007%2C%2033.89422942200002%5D%2C%20%5B35.53232808400003%2C%2033.893801119000045%5D%2C%20%5B35.53214169300003%2C%2033.893519550000065%5D%2C%20%5B35.53194340400006%2C%2033.89334902200005%5D%2C%20%5B35.531745116000025%2C%2033.89301986300006%5D%2C%20%5B35.53162860100008%2C%2033.893052184000055%5D%2C%20%5B35.531590530000074%2C%2033.89283961900003%5D%2C%20%5B35.53133989300005%2C%2033.892351036000036%5D%2C%20%5B35.53126869500005%2C%2033.892244239000036%5D%2C%20%5B35.53134563800006%2C%2033.892263040000046%5D%2C%20%5B35.532189722000055%2C%2033.89279146800004%5D%2C%20%5B35.53252964200004%2C%2033.893063332000054%5D%2C%20%5B35.53278109100006%2C%2033.89312698600003%5D%2C%20%5B35.532992526000044%2C%2033.89308017800005%5D%2C%20%5B35.53313313500007%2C%2033.893552862000035%5D%2C%20%5B35.53318072400003%2C%2033.894112035000035%5D%2C%20%5B35.53326797100004%2C%2033.89470690100006%5D%2C%20%5B35.53329292900003%2C%2033.894868178000024%5D%5D%5D%2C%20%22type%22%3A%20%22Polygon%22%7D%2C%20%22id%22%3A%2041%2C%20%22properties%22%3A%20%7B%22ACS_CODE_1%22%3A%2010550%2C%20%22Cadaster_1%22%3A%20%22Rmeil%20fonci%5Cu00e8re%22%2C%20%22Cadaster_A%22%3A%20%22%5Cu0631%5Cu0645%5Cu064a%5Cu0644%22%2C%20%22District_1%22%3A%20%22Beirut%22%2C%20%22District_A%22%3A%20%22%5Cu0628%5Cu064a%5Cu0631%5Cu0648%5Cu062a%22%2C%20%22FID%22%3A%2041%2C%20%22Governor_1%22%3A%20%22%5Cu0628%5Cu064a%5Cu0631%5Cu0648%5Cu062a%22%2C%20%22Governorat%22%3A%20%22Beirut%22%2C%20%22OBJECTID_1%22%3A%2042%2C%20%22Shape_Area%22%3A%202.47678850693e-06%2C%20%22Shape_Leng%22%3A%200.0103418509992%2C%20%22highlight%22%3A%20%7B%7D%2C%20%22style%22%3A%20%7B%22color%22%3A%20%22black%22%2C%20%22fillColor%22%3A%20%22%234eb3d3%22%2C%20%22fillOpacity%22%3A%201%2C%20%22opacity%22%3A%200.5%2C%20%22weight%22%3A%201%7D%2C%20%22zone_numbe%22%3A%2040%7D%2C%20%22type%22%3A%20%22Feature%22%7D%2C%20%7B%22geometry%22%3A%20%7B%22coordinates%22%3A%20%5B%5B%5B35.532632517000025%2C%2033.90014322500008%5D%2C%20%5B35.531656938000026%2C%2033.900338341000065%5D%2C%20%5B35.52919657500007%2C%2033.90069526000008%5D%2C%20%5B35.527826005000065%2C%2033.90076664400004%5D%2C%20%5B35.52569139900004%2C%2033.900889939000024%5D%2C%20%5B35.52543137500004%2C%2033.90055279000006%5D%2C%20%5B35.524826992000044%2C%2033.899658112000054%5D%2C%20%5B35.524643027000025%2C%2033.89927824000006%5D%2C%20%5B35.524721416000034%2C%2033.899309849000076%5D%2C%20%5B35.52612529800007%2C%2033.89940423400003%5D%2C%20%5B35.527280130000065%2C%2033.899296365000055%5D%2C%20%5B35.52768687900004%2C%2033.899231085000054%5D%2C%20%5B35.52907900200006%2C%2033.89900765700003%5D%2C%20%5B35.53025921500006%2C%2033.89880143700003%5D%2C%20%5B35.53241659300005%2C%2033.89826209300003%5D%2C%20%5B35.53353833700004%2C%2033.89800678600005%5D%2C%20%5B35.53418691200005%2C%2033.89785917100005%5D%2C%20%5B35.53738361500007%2C%2033.89707161900003%5D%2C%20%5B35.537428351000074%2C%2033.89718426600007%5D%2C%20%5B35.53740953200003%2C%2033.89736846400007%5D%2C%20%5B35.53741026400007%2C%2033.89753928300007%5D%2C%20%5B35.53776607900005%2C%2033.898332811000046%5D%2C%20%5B35.53819797700004%2C%2033.89921992200004%5D%2C%20%5B35.53821481500006%2C%2033.89930434900003%5D%2C%20%5B35.53427910400006%2C%2033.900014734000024%5D%2C%20%5B35.53404115700005%2C%2033.89956263600004%5D%2C%20%5B35.532632517000025%2C%2033.90014322500008%5D%5D%5D%2C%20%22type%22%3A%20%22Polygon%22%7D%2C%20%22id%22%3A%2042%2C%20%22properties%22%3A%20%7B%22ACS_CODE_1%22%3A%2010610%2C%20%22Cadaster_1%22%3A%20%22Mdaouar%20fonci%5Cu00e8re%22%2C%20%22Cadaster_A%22%3A%20%22%5Cu0645%5Cu062f%5Cu0648%5Cu0631%22%2C%20%22District_1%22%3A%20%22Beirut%22%2C%20%22District_A%22%3A%20%22%5Cu0628%5Cu064a%5Cu0631%5Cu0648%5Cu062a%22%2C%20%22FID%22%3A%2042%2C%20%22Governor_1%22%3A%20%22%5Cu0628%5Cu064a%5Cu0631%5Cu0648%5Cu062a%22%2C%20%22Governorat%22%3A%20%22Beirut%22%2C%20%22OBJECTID_1%22%3A%2043%2C%20%22Shape_Area%22%3A%202.3416554793e-05%2C%20%22Shape_Leng%22%3A%200.030375596301%2C%20%22highlight%22%3A%20%7B%7D%2C%20%22style%22%3A%20%7B%22color%22%3A%20%22black%22%2C%20%22fillColor%22%3A%20%22%234eb3d3%22%2C%20%22fillOpacity%22%3A%201%2C%20%22opacity%22%3A%200.5%2C%20%22weight%22%3A%201%7D%2C%20%22zone_numbe%22%3A%208%7D%2C%20%22type%22%3A%20%22Feature%22%7D%2C%20%7B%22geometry%22%3A%20%7B%22coordinates%22%3A%20%5B%5B%5B35.534420186000034%2C%2033.90217201300004%5D%2C%20%5B35.534013694000066%2C%2033.902348490000065%5D%2C%20%5B35.53306984200003%2C%2033.902524966000044%5D%2C%20%5B35.53206303200005%2C%2033.90273366500003%5D%2C%20%5B35.53083047100006%2C%2033.90287167300005%5D%2C%20%5B35.53043072200006%2C%2033.90280980800003%5D%2C%20%5B35.53033078500005%2C%2033.902690834000055%5D%2C%20%5B35.53012238000008%2C%2033.90193545900007%5D%2C%20%5B35.53007132400006%2C%2033.90194715400003%5D%2C%20%5B35.52803450600004%2C%2033.90195191300006%5D%2C%20%5B35.52764992500005%2C%2033.90195191300006%5D%2C%20%5B35.52694947100008%2C%2033.90195191300006%5D%2C%20%5B35.52628798100005%2C%2033.90150457400006%5D%2C%20%5B35.52599292800005%2C%2033.90128090500008%5D%2C%20%5B35.52569139900004%2C%2033.900889939000024%5D%2C%20%5B35.527826005000065%2C%2033.90076664400004%5D%2C%20%5B35.52919657500007%2C%2033.90069526000008%5D%2C%20%5B35.531656938000026%2C%2033.900338341000065%5D%2C%20%5B35.532632517000025%2C%2033.90014322500008%5D%2C%20%5B35.53404115700005%2C%2033.89956263600004%5D%2C%20%5B35.53427910400006%2C%2033.900014734000024%5D%2C%20%5B35.53821481500006%2C%2033.89930434900003%5D%2C%20%5B35.53836371500006%2C%2033.90005092300004%5D%2C%20%5B35.53843744000005%2C%2033.90060136900007%5D%2C%20%5B35.538589149000074%2C%2033.900933432000045%5D%2C%20%5B35.53741632400005%2C%2033.90104454500005%5D%2C%20%5B35.537245003000066%2C%2033.90114606900005%5D%2C%20%5B35.53637887900004%2C%2033.90128883600005%5D%2C%20%5B35.53516694000007%2C%2033.90156485400007%5D%2C%20%5B35.53475331000004%2C%2033.901826991000064%5D%2C%20%5B35.534745765000025%2C%2033.90183480500008%5D%2C%20%5B35.534420186000034%2C%2033.90217201300004%5D%5D%5D%2C%20%22type%22%3A%20%22Polygon%22%7D%2C%20%22id%22%3A%2043%2C%20%22properties%22%3A%20%7B%22ACS_CODE_1%22%3A%2010610%2C%20%22Cadaster_1%22%3A%20%22Mdaouar%20fonci%5Cu00e8re%22%2C%20%22Cadaster_A%22%3A%20%22%5Cu0645%5Cu062f%5Cu0648%5Cu0631%22%2C%20%22District_1%22%3A%20%22Beirut%22%2C%20%22District_A%22%3A%20%22%5Cu0628%5Cu064a%5Cu0631%5Cu0648%5Cu062a%22%2C%20%22FID%22%3A%2043%2C%20%22Governor_1%22%3A%20%22%5Cu0628%5Cu064a%5Cu0631%5Cu0648%5Cu062a%22%2C%20%22Governorat%22%3A%20%22Beirut%22%2C%20%22OBJECTID_1%22%3A%2044%2C%20%22Shape_Area%22%3A%202.20096205448e-05%2C%20%22Shape_Leng%22%3A%200.0290265070042%2C%20%22highlight%22%3A%20%7B%7D%2C%20%22style%22%3A%20%7B%22color%22%3A%20%22black%22%2C%20%22fillColor%22%3A%20%22%237bccc4%22%2C%20%22fillOpacity%22%3A%201%2C%20%22opacity%22%3A%200.5%2C%20%22weight%22%3A%201%7D%2C%20%22zone_numbe%22%3A%207%7D%2C%20%22type%22%3A%20%22Feature%22%7D%2C%20%7B%22geometry%22%3A%20%7B%22coordinates%22%3A%20%5B%5B%5B35.53306984200003%2C%2033.902524966000044%5D%2C%20%5B35.534013694000066%2C%2033.902348490000065%5D%2C%20%5B35.534420186000034%2C%2033.90217201300004%5D%2C%20%5B35.53475331000004%2C%2033.901826991000064%5D%2C%20%5B35.53516694000007%2C%2033.90156485400007%5D%2C%20%5B35.53637887900004%2C%2033.90128883600005%5D%2C%20%5B35.537245003000066%2C%2033.90114606900005%5D%2C%20%5B35.53741632400005%2C%2033.90104454500005%5D%2C%20%5B35.538589149000074%2C%2033.900933432000045%5D%2C%20%5B35.538573238000026%2C%2033.90181995200004%5D%2C%20%5B35.53826390800003%2C%2033.90210072800005%5D%2C%20%5B35.53742157800008%2C%2033.90260041500005%5D%2C%20%5B35.537050382000075%2C%2033.903128655000046%5D%2C%20%5B35.53598914300005%2C%2033.90318576200008%5D%2C%20%5B35.53477085900005%2C%2033.90336660100007%5D%2C%20%5B35.53345263700004%2C%2033.90376635100006%5D%2C%20%5B35.53214869300007%2C%2033.90432790400007%5D%2C%20%5B35.53137298900003%2C%2033.90448970700004%5D%2C%20%5B35.53048782900004%2C%2033.90419941300007%5D%2C%20%5B35.529312375000075%2C%2033.90376635100006%5D%2C%20%5B35.52872702800005%2C%2033.90392815400003%5D%2C%20%5B35.52784186800005%2C%2033.90406616300004%5D%2C%20%5B35.52738025300005%2C%2033.90384249400006%5D%2C%20%5B35.526661656000044%2C%2033.90326190500008%5D%2C%20%5B35.52564800500005%2C%2033.90188657700003%5D%2C%20%5B35.52523397900006%2C%2033.90109659600006%5D%2C%20%5B35.52540387700003%2C%2033.900512083000024%5D%2C%20%5B35.52543137500004%2C%2033.90055279000006%5D%2C%20%5B35.52599292800005%2C%2033.90128090500008%5D%2C%20%5B35.52628798100005%2C%2033.90150457400006%5D%2C%20%5B35.52694947100008%2C%2033.90195191300006%5D%2C%20%5B35.52803450600004%2C%2033.90195191300006%5D%2C%20%5B35.53007132400006%2C%2033.90194715400003%5D%2C%20%5B35.53012238000008%2C%2033.90193545900007%5D%2C%20%5B35.53033078500005%2C%2033.902690834000055%5D%2C%20%5B35.53043072200006%2C%2033.90280980800003%5D%2C%20%5B35.53083047100006%2C%2033.90287167300005%5D%2C%20%5B35.53206303200005%2C%2033.90273366500003%5D%2C%20%5B35.53306984200003%2C%2033.902524966000044%5D%5D%5D%2C%20%22type%22%3A%20%22Polygon%22%7D%2C%20%22id%22%3A%2044%2C%20%22properties%22%3A%20%7B%22ACS_CODE_1%22%3A%2010610%2C%20%22Cadaster_1%22%3A%20%22Mdaouar%20fonci%5Cu00e8re%22%2C%20%22Cadaster_A%22%3A%20%22%5Cu0645%5Cu062f%5Cu0648%5Cu0631%22%2C%20%22District_1%22%3A%20%22Beirut%22%2C%20%22District_A%22%3A%20%22%5Cu0628%5Cu064a%5Cu0631%5Cu0648%5Cu062a%22%2C%20%22FID%22%3A%2044%2C%20%22Governor_1%22%3A%20%22%5Cu0628%5Cu064a%5Cu0631%5Cu0648%5Cu062a%22%2C%20%22Governorat%22%3A%20%22Beirut%22%2C%20%22OBJECTID_1%22%3A%2045%2C%20%22Shape_Area%22%3A%202.12144583843e-05%2C%20%22Shape_Leng%22%3A%200.0319410276713%2C%20%22highlight%22%3A%20%7B%7D%2C%20%22style%22%3A%20%7B%22color%22%3A%20%22black%22%2C%20%22fillColor%22%3A%20%22%234eb3d3%22%2C%20%22fillOpacity%22%3A%201%2C%20%22opacity%22%3A%200.5%2C%20%22weight%22%3A%201%7D%2C%20%22zone_numbe%22%3A%206%7D%2C%20%22type%22%3A%20%22Feature%22%7D%2C%20%7B%22geometry%22%3A%20%7B%22coordinates%22%3A%20%5B%5B%5B35.51082703700007%2C%2033.886334548000036%5D%2C%20%5B35.51067030300004%2C%2033.88630475600007%5D%2C%20%5B35.50987080400006%2C%2033.88635551700003%5D%2C%20%5B35.509274352000034%2C%2033.88648242200003%5D%2C%20%5B35.50845943000007%2C%2033.88649256000008%5D%2C%20%5B35.50886362000006%2C%2033.885981042000026%5D%2C%20%5B35.50920158300005%2C%2033.88554631200003%5D%2C%20%5B35.50942588100003%2C%2033.88525629000003%5D%2C%20%5B35.50958273700007%2C%2033.88505248200005%5D%2C%20%5B35.50980608700007%2C%2033.88477484600003%5D%2C%20%5B35.51008696300005%2C%2033.884416058000056%5D%2C%20%5B35.51032061600006%2C%2033.88411518300006%5D%2C%20%5B35.512261230000036%2C%2033.88314834100004%5D%2C%20%5B35.514177490000066%2C%2033.88189198600003%5D%2C%20%5B35.51710898600004%2C%2033.88080060600004%5D%2C%20%5B35.51893641200007%2C%2033.88033105900007%5D%2C%20%5B35.51920463600004%2C%2033.88047349000004%5D%2C%20%5B35.51949969000003%2C%2033.881035043000054%5D%2C%20%5B35.52036581300007%2C%2033.88227236200004%5D%2C%20%5B35.52225034700007%2C%2033.88350968200007%5D%2C%20%5B35.52279286400005%2C%2033.883985574000064%5D%2C%20%5B35.52334389500004%2C%2033.88435915500003%5D%2C%20%5B35.522350145000075%2C%2033.88439200600004%5D%2C%20%5B35.52089074200006%2C%2033.88417626800003%5D%2C%20%5B35.519101388000024%2C%2033.88390976900007%5D%2C%20%5B35.51902524500008%2C%2033.88420164900003%5D%2C%20%5B35.51756584200007%2C%2033.884227030000034%5D%2C%20%5B35.51622065400005%2C%2033.88416357800003%5D%2C%20%5B35.51542115500007%2C%2033.884379316000036%5D%2C%20%5B35.514850084000045%2C%2033.88439200600004%5D%2C%20%5B35.51483739400004%2C%2033.88469657700006%5D%2C%20%5B35.51246427800004%2C%2033.885584909000045%5D%2C%20%5B35.51105563700003%2C%2033.88581333700006%5D%2C%20%5B35.51082703700007%2C%2033.886334548000036%5D%5D%5D%2C%20%22type%22%3A%20%22Polygon%22%7D%2C%20%22id%22%3A%2045%2C%20%22properties%22%3A%20%7B%22ACS_CODE_1%22%3A%2010650%2C%20%22Cadaster_1%22%3A%20%22Achrafieh%20fonci%5Cu00e8re%22%2C%20%22Cadaster_A%22%3A%20%22%5Cu0627%5Cu0644%5Cu0627%5Cu0634%5Cu0631%5Cu0641%5Cu064a%5Cu0629%22%2C%20%22District_1%22%3A%20%22Beirut%22%2C%20%22District_A%22%3A%20%22%5Cu0628%5Cu064a%5Cu0631%5Cu0648%5Cu062a%22%2C%20%22FID%22%3A%2045%2C%20%22Governor_1%22%3A%20%22%5Cu0628%5Cu064a%5Cu0631%5Cu0648%5Cu062a%22%2C%20%22Governorat%22%3A%20%22Beirut%22%2C%20%22OBJECTID_1%22%3A%2046%2C%20%22Shape_Area%22%3A%203.44230602021e-05%2C%20%22Shape_Leng%22%3A%200.0345901840108%2C%20%22highlight%22%3A%20%7B%7D%2C%20%22style%22%3A%20%7B%22color%22%3A%20%22black%22%2C%20%22fillColor%22%3A%20%22%23a8ddb5%22%2C%20%22fillOpacity%22%3A%201%2C%20%22opacity%22%3A%200.5%2C%20%22weight%22%3A%201%7D%2C%20%22zone_numbe%22%3A%2063%7D%2C%20%22type%22%3A%20%22Feature%22%7D%2C%20%7B%22geometry%22%3A%20%7B%22coordinates%22%3A%20%5B%5B%5B35.51134999200008%2C%2033.89229848600007%5D%2C%20%5B35.51119260200005%2C%2033.892349601000035%5D%2C%20%5B35.510992428000066%2C%2033.89216702700003%5D%2C%20%5B35.51086432400007%2C%2033.89176329400004%5D%2C%20%5B35.51078414500006%2C%2033.89148712400004%5D%2C%20%5B35.51071869100008%2C%2033.89132645900003%5D%2C%20%5B35.510624248000056%2C%2033.89061840000005%5D%2C%20%5B35.51049335000005%2C%2033.89004818500007%5D%2C%20%5B35.51048702300005%2C%2033.89001027900008%5D%2C%20%5B35.51141269500005%2C%2033.89000402400006%5D%2C%20%5B35.513393507000046%2C%2033.89011398300005%5D%2C%20%5B35.51332786300003%2C%2033.89039138100003%5D%2C%20%5B35.51312957500005%2C%2033.89070864200005%5D%2C%20%5B35.51268540900003%2C%2033.891240055000026%5D%2C%20%5B35.51193984500003%2C%2033.89181509200006%5D%2C%20%5B35.51134999200008%2C%2033.89229848600007%5D%5D%5D%2C%20%22type%22%3A%20%22Polygon%22%7D%2C%20%22id%22%3A%2046%2C%20%22properties%22%3A%20%7B%22ACS_CODE_1%22%3A%2010650%2C%20%22Cadaster_1%22%3A%20%22Achrafieh%20fonci%5Cu00e8re%22%2C%20%22Cadaster_A%22%3A%20%22%5Cu0627%5Cu0644%5Cu0627%5Cu0634%5Cu0631%5Cu0641%5Cu064a%5Cu0629%22%2C%20%22District_1%22%3A%20%22Beirut%22%2C%20%22District_A%22%3A%20%22%5Cu0628%5Cu064a%5Cu0631%5Cu0648%5Cu062a%22%2C%20%22FID%22%3A%2046%2C%20%22Governor_1%22%3A%20%22%5Cu0628%5Cu064a%5Cu0631%5Cu0648%5Cu062a%22%2C%20%22Governorat%22%3A%20%22Beirut%22%2C%20%22OBJECTID_1%22%3A%2047%2C%20%22Shape_Area%22%3A%204.21465346894e-06%2C%20%22Shape_Leng%22%3A%200.00862436618089%2C%20%22highlight%22%3A%20%7B%7D%2C%20%22style%22%3A%20%7B%22color%22%3A%20%22black%22%2C%20%22fillColor%22%3A%20%22%234eb3d3%22%2C%20%22fillOpacity%22%3A%201%2C%20%22opacity%22%3A%200.5%2C%20%22weight%22%3A%201%7D%2C%20%22zone_numbe%22%3A%2054%7D%2C%20%22type%22%3A%20%22Feature%22%7D%2C%20%7B%22geometry%22%3A%20%7B%22coordinates%22%3A%20%5B%5B%5B35.515273241000045%2C%2033.89161259000008%5D%2C%20%5B35.51489969600004%2C%2033.89160032900003%5D%2C%20%5B35.51441134300006%2C%2033.891583092000076%5D%2C%20%5B35.51410106800006%2C%2033.89158334000007%5D%2C%20%5B35.513737803000026%2C%2033.891580109000074%5D%2C%20%5B35.51338949400008%2C%2033.89160416100003%5D%2C%20%5B35.51310494000006%2C%2033.89171176200006%5D%2C%20%5B35.51266125600006%2C%2033.89189418800004%5D%2C%20%5B35.51231495500008%2C%2033.89202791200006%5D%2C%20%5B35.512117233000026%2C%2033.89207453100005%5D%2C%20%5B35.51186930000006%2C%2033.89212983300007%5D%2C%20%5B35.51134999200008%2C%2033.89229848600007%5D%2C%20%5B35.51193984500003%2C%2033.89181509200006%5D%2C%20%5B35.51268540900003%2C%2033.891240055000026%5D%2C%20%5B35.51312957500005%2C%2033.89070864200005%5D%2C%20%5B35.51332786300003%2C%2033.89039138100003%5D%2C%20%5B35.513393507000046%2C%2033.89011398300005%5D%2C%20%5B35.51344158200004%2C%2033.890116652000074%5D%2C%20%5B35.51532135600007%2C%2033.890037337000024%5D%2C%20%5B35.515273241000045%2C%2033.89161259000008%5D%5D%5D%2C%20%22type%22%3A%20%22Polygon%22%7D%2C%20%22id%22%3A%2047%2C%20%22properties%22%3A%20%7B%22ACS_CODE_1%22%3A%2010650%2C%20%22Cadaster_1%22%3A%20%22Achrafieh%20fonci%5Cu00e8re%22%2C%20%22Cadaster_A%22%3A%20%22%5Cu0627%5Cu0644%5Cu0627%5Cu0634%5Cu0631%5Cu0641%5Cu064a%5Cu0629%22%2C%20%22District_1%22%3A%20%22Beirut%22%2C%20%22District_A%22%3A%20%22%5Cu0628%5Cu064a%5Cu0631%5Cu0648%5Cu062a%22%2C%20%22FID%22%3A%2047%2C%20%22Governor_1%22%3A%20%22%5Cu0628%5Cu064a%5Cu0631%5Cu0648%5Cu062a%22%2C%20%22Governorat%22%3A%20%22Beirut%22%2C%20%22OBJECTID_1%22%3A%2048%2C%20%22Shape_Area%22%3A%204.0041107043e-06%2C%20%22Shape_Leng%22%3A%200.0106049855679%2C%20%22highlight%22%3A%20%7B%7D%2C%20%22style%22%3A%20%7B%22color%22%3A%20%22black%22%2C%20%22fillColor%22%3A%20%22%23a8ddb5%22%2C%20%22fillOpacity%22%3A%201%2C%20%22opacity%22%3A%200.5%2C%20%22weight%22%3A%201%7D%2C%20%22zone_numbe%22%3A%2051%7D%2C%20%22type%22%3A%20%22Feature%22%7D%2C%20%7B%22geometry%22%3A%20%7B%22coordinates%22%3A%20%5B%5B%5B35.51761548700006%2C%2033.89125514400007%5D%2C%20%5B35.51756886000004%2C%2033.891268387000025%5D%2C%20%5B35.51711755800005%2C%2033.89139744200003%5D%2C%20%5B35.51677270700003%2C%2033.89149596800007%5D%2C%20%5B35.51656206000007%2C%2033.89151534100006%5D%2C%20%5B35.51608366900007%2C%2033.891553083000076%5D%2C%20%5B35.51575571600006%2C%2033.89157364500005%5D%2C%20%5B35.51548166400005%2C%2033.891617849000056%5D%2C%20%5B35.515273241000045%2C%2033.89161259000008%5D%2C%20%5B35.51532135600007%2C%2033.890037337000024%5D%2C%20%5B35.51584483700003%2C%2033.88960110200003%5D%2C%20%5B35.516844211000034%2C%2033.88918866200004%5D%2C%20%5B35.517589229000066%2C%2033.888860290000025%5D%2C%20%5B35.517611686000066%2C%2033.88960140000006%5D%2C%20%5B35.517549820000056%2C%2033.89060553200005%5D%2C%20%5B35.51761548700006%2C%2033.89125514400007%5D%5D%5D%2C%20%22type%22%3A%20%22Polygon%22%7D%2C%20%22id%22%3A%2048%2C%20%22properties%22%3A%20%7B%22ACS_CODE_1%22%3A%2010650%2C%20%22Cadaster_1%22%3A%20%22Achrafieh%20fonci%5Cu00e8re%22%2C%20%22Cadaster_A%22%3A%20%22%5Cu0627%5Cu0644%5Cu0627%5Cu0634%5Cu0631%5Cu0641%5Cu064a%5Cu0629%22%2C%20%22District_1%22%3A%20%22Beirut%22%2C%20%22District_A%22%3A%20%22%5Cu0628%5Cu064a%5Cu0631%5Cu0648%5Cu062a%22%2C%20%22FID%22%3A%2048%2C%20%22Governor_1%22%3A%20%22%5Cu0628%5Cu064a%5Cu0631%5Cu0648%5Cu062a%22%2C%20%22Governorat%22%3A%20%22Beirut%22%2C%20%22OBJECTID_1%22%3A%2049%2C%20%22Shape_Area%22%3A%204.84611387624e-06%2C%20%22Shape_Leng%22%3A%200.00893573353275%2C%20%22highlight%22%3A%20%7B%7D%2C%20%22style%22%3A%20%7B%22color%22%3A%20%22black%22%2C%20%22fillColor%22%3A%20%22%23a8ddb5%22%2C%20%22fillOpacity%22%3A%201%2C%20%22opacity%22%3A%200.5%2C%20%22weight%22%3A%201%7D%2C%20%22zone_numbe%22%3A%2049%7D%2C%20%22type%22%3A%20%22Feature%22%7D%2C%20%7B%22geometry%22%3A%20%7B%22coordinates%22%3A%20%5B%5B%5B35.51923478200007%2C%2033.89122031100004%5D%2C%20%5B35.51917364700006%2C%2033.89121970200006%5D%2C%20%5B35.51867783400007%2C%2033.891219281000076%5D%2C%20%5B35.518389659000036%2C%2033.89121353100006%5D%2C%20%5B35.518045717000064%2C%2033.89120778600005%5D%2C%20%5B35.517797391000045%2C%2033.89120348000006%5D%2C%20%5B35.51761548700006%2C%2033.89125514400007%5D%2C%20%5B35.517549820000056%2C%2033.89060553200005%5D%2C%20%5B35.517611686000066%2C%2033.88960140000006%5D%2C%20%5B35.517589229000066%2C%2033.888860290000025%5D%2C%20%5B35.51851776500007%2C%2033.888451029000066%5D%2C%20%5B35.518583775000025%2C%2033.88842287800003%5D%2C%20%5B35.51923478200007%2C%2033.89122031100004%5D%5D%5D%2C%20%22type%22%3A%20%22Polygon%22%7D%2C%20%22id%22%3A%2049%2C%20%22properties%22%3A%20%7B%22ACS_CODE_1%22%3A%2010650%2C%20%22Cadaster_1%22%3A%20%22Achrafieh%20fonci%5Cu00e8re%22%2C%20%22Cadaster_A%22%3A%20%22%5Cu0627%5Cu0644%5Cu0627%5Cu0634%5Cu0631%5Cu0641%5Cu064a%5Cu0629%22%2C%20%22District_1%22%3A%20%22Beirut%22%2C%20%22District_A%22%3A%20%22%5Cu0628%5Cu064a%5Cu0631%5Cu0648%5Cu062a%22%2C%20%22FID%22%3A%2049%2C%20%22Governor_1%22%3A%20%22%5Cu0628%5Cu064a%5Cu0631%5Cu0648%5Cu062a%22%2C%20%22Governorat%22%3A%20%22Beirut%22%2C%20%22OBJECTID_1%22%3A%2050%2C%20%22Shape_Area%22%3A%203.47417277509e-06%2C%20%22Shape_Leng%22%3A%200.00798571870268%2C%20%22highlight%22%3A%20%7B%7D%2C%20%22style%22%3A%20%7B%22color%22%3A%20%22black%22%2C%20%22fillColor%22%3A%20%22%23a8ddb5%22%2C%20%22fillOpacity%22%3A%201%2C%20%22opacity%22%3A%200.5%2C%20%22weight%22%3A%201%7D%2C%20%22zone_numbe%22%3A%2048%7D%2C%20%22type%22%3A%20%22Feature%22%7D%2C%20%7B%22geometry%22%3A%20%7B%22coordinates%22%3A%20%5B%5B%5B35.518583775000025%2C%2033.88842287800003%5D%2C%20%5B35.51905711000006%2C%2033.888221015000056%5D%2C%20%5B35.51989785300003%2C%2033.888006863000044%5D%2C%20%5B35.52098866700004%2C%2033.88732031200004%5D%2C%20%5B35.52072749100006%2C%2033.88815439000007%5D%2C%20%5B35.52075604500004%2C%2033.88931556700004%5D%2C%20%5B35.52096639300004%2C%2033.891257015000065%5D%2C%20%5B35.52087144200004%2C%2033.891246101000036%5D%2C%20%5B35.52065234100007%2C%2033.891234489000055%5D%2C%20%5B35.52000490700004%2C%2033.89122798900007%5D%2C%20%5B35.51923478200007%2C%2033.89122031100004%5D%2C%20%5B35.518583775000025%2C%2033.88842287800003%5D%5D%5D%2C%20%22type%22%3A%20%22Polygon%22%7D%2C%20%22id%22%3A%2050%2C%20%22properties%22%3A%20%7B%22ACS_CODE_1%22%3A%2010650%2C%20%22Cadaster_1%22%3A%20%22Achrafieh%20fonci%5Cu00e8re%22%2C%20%22Cadaster_A%22%3A%20%22%5Cu0627%5Cu0644%5Cu0627%5Cu0634%5Cu0631%5Cu0641%5Cu064a%5Cu0629%22%2C%20%22District_1%22%3A%20%22Beirut%22%2C%20%22District_A%22%3A%20%22%5Cu0628%5Cu064a%5Cu0631%5Cu0648%5Cu062a%22%2C%20%22FID%22%3A%2050%2C%20%22Governor_1%22%3A%20%22%5Cu0628%5Cu064a%5Cu0631%5Cu0648%5Cu062a%22%2C%20%22Governorat%22%3A%20%22Beirut%22%2C%20%22OBJECTID_1%22%3A%2051%2C%20%22Shape_Area%22%3A%206.32785440954e-06%2C%20%22Shape_Leng%22%3A%200.0112642065282%2C%20%22highlight%22%3A%20%7B%7D%2C%20%22style%22%3A%20%7B%22color%22%3A%20%22black%22%2C%20%22fillColor%22%3A%20%22%23a8ddb5%22%2C%20%22fillOpacity%22%3A%201%2C%20%22opacity%22%3A%200.5%2C%20%22weight%22%3A%201%7D%2C%20%22zone_numbe%22%3A%2046%7D%2C%20%22type%22%3A%20%22Feature%22%7D%2C%20%7B%22geometry%22%3A%20%7B%22coordinates%22%3A%20%5B%5B%5B35.51435221500003%2C%2033.88842026400005%5D%2C%20%5B35.51452473200004%2C%2033.88843229100007%5D%2C%20%5B35.515252847000056%2C%2033.888541746000044%5D%2C%20%5B35.516323605000025%2C%2033.88885107600004%5D%2C%20%5B35.51678744000003%2C%2033.88921209200004%5D%2C%20%5B35.51584483700003%2C%2033.88960110200003%5D%2C%20%5B35.51532135600007%2C%2033.890037337000024%5D%2C%20%5B35.51344158200004%2C%2033.890116652000074%5D%2C%20%5B35.513393507000046%2C%2033.89011398300005%5D%2C%20%5B35.51368398900007%2C%2033.88930000100004%5D%2C%20%5B35.51394414400005%2C%2033.88930000100004%5D%2C%20%5B35.51435221500003%2C%2033.88842026400005%5D%5D%5D%2C%20%22type%22%3A%20%22Polygon%22%7D%2C%20%22id%22%3A%2051%2C%20%22properties%22%3A%20%7B%22ACS_CODE_1%22%3A%2010650%2C%20%22Cadaster_1%22%3A%20%22Achrafieh%20fonci%5Cu00e8re%22%2C%20%22Cadaster_A%22%3A%20%22%5Cu0627%5Cu0644%5Cu0627%5Cu0634%5Cu0631%5Cu0641%5Cu064a%5Cu0629%22%2C%20%22District_1%22%3A%20%22Beirut%22%2C%20%22District_A%22%3A%20%22%5Cu0628%5Cu064a%5Cu0631%5Cu0648%5Cu062a%22%2C%20%22FID%22%3A%2051%2C%20%22Governor_1%22%3A%20%22%5Cu0628%5Cu064a%5Cu0631%5Cu0648%5Cu062a%22%2C%20%22Governorat%22%3A%20%22Beirut%22%2C%20%22OBJECTID_1%22%3A%2052%2C%20%22Shape_Area%22%3A%203.44679819862e-06%2C%20%22Shape_Leng%22%3A%200.00833647131267%2C%20%22highlight%22%3A%20%7B%7D%2C%20%22style%22%3A%20%7B%22color%22%3A%20%22black%22%2C%20%22fillColor%22%3A%20%22%23a8ddb5%22%2C%20%22fillOpacity%22%3A%201%2C%20%22opacity%22%3A%200.5%2C%20%22weight%22%3A%201%7D%2C%20%22zone_numbe%22%3A%2052%7D%2C%20%22type%22%3A%20%22Feature%22%7D%2C%20%7B%22geometry%22%3A%20%7B%22coordinates%22%3A%20%5B%5B%5B35.51435221500003%2C%2033.88842026400005%5D%2C%20%5B35.51394414400005%2C%2033.88930000100004%5D%2C%20%5B35.51368398900007%2C%2033.88930000100004%5D%2C%20%5B35.513393507000046%2C%2033.89011398300005%5D%2C%20%5B35.51141269500005%2C%2033.89000402400006%5D%2C%20%5B35.51048702300005%2C%2033.89001027900008%5D%2C%20%5B35.51046075700003%2C%2033.88985292500007%5D%2C%20%5B35.51044174200007%2C%2033.88968605700006%5D%2C%20%5B35.51042186300003%2C%2033.889512409000076%5D%2C%20%5B35.51034569600006%2C%2033.88902081700007%5D%2C%20%5B35.51031134100003%2C%2033.88878240500003%5D%2C%20%5B35.51021700300004%2C%2033.888131988000055%5D%2C%20%5B35.51435221500003%2C%2033.88842026400005%5D%5D%5D%2C%20%22type%22%3A%20%22Polygon%22%7D%2C%20%22id%22%3A%2052%2C%20%22properties%22%3A%20%7B%22ACS_CODE_1%22%3A%2010650%2C%20%22Cadaster_1%22%3A%20%22Achrafieh%20fonci%5Cu00e8re%22%2C%20%22Cadaster_A%22%3A%20%22%5Cu0627%5Cu0644%5Cu0627%5Cu0634%5Cu0631%5Cu0641%5Cu064a%5Cu0629%22%2C%20%22District_1%22%3A%20%22Beirut%22%2C%20%22District_A%22%3A%20%22%5Cu0628%5Cu064a%5Cu0631%5Cu0648%5Cu062a%22%2C%20%22FID%22%3A%2052%2C%20%22Governor_1%22%3A%20%22%5Cu0628%5Cu064a%5Cu0631%5Cu0648%5Cu062a%22%2C%20%22Governorat%22%3A%20%22Beirut%22%2C%20%22OBJECTID_1%22%3A%2053%2C%20%22Shape_Area%22%3A%206.26642401917e-06%2C%20%22Shape_Leng%22%3A%200.0110468075234%2C%20%22highlight%22%3A%20%7B%7D%2C%20%22style%22%3A%20%7B%22color%22%3A%20%22black%22%2C%20%22fillColor%22%3A%20%22%23a8ddb5%22%2C%20%22fillOpacity%22%3A%201%2C%20%22opacity%22%3A%200.5%2C%20%22weight%22%3A%201%7D%2C%20%22zone_numbe%22%3A%2053%7D%2C%20%22type%22%3A%20%22Feature%22%7D%2C%20%7B%22geometry%22%3A%20%7B%22coordinates%22%3A%20%5B%5B%5B35.51179340900006%2C%2033.886622017000036%5D%2C%20%5B35.51129279000003%2C%2033.88676571700006%5D%2C%20%5B35.51053929400007%2C%2033.886789511000075%5D%2C%20%5B35.51065599100008%2C%2033.888162591000025%5D%2C%20%5B35.51021700300004%2C%2033.888131988000055%5D%2C%20%5B35.50996558500003%2C%2033.88811493600008%5D%2C%20%5B35.50974484900007%2C%2033.888101307000056%5D%2C%20%5B35.50943407200003%2C%2033.88807856300008%5D%2C%20%5B35.50917762000006%2C%2033.88805988200005%5D%2C%20%5B35.50887124500008%2C%2033.88803678100004%5D%2C%20%5B35.50854700100007%2C%2033.88802721900004%5D%2C%20%5B35.508301318000065%2C%2033.88801067400004%5D%2C%20%5B35.50807718600004%2C%2033.888013339000054%5D%2C%20%5B35.50786510700004%2C%2033.88802111700005%5D%2C%20%5B35.50762514200005%2C%2033.888036930000055%5D%2C%20%5B35.507321483000055%2C%2033.88802880500003%5D%2C%20%5B35.507484668000075%2C%2033.88776759500007%5D%2C%20%5B35.507858670000076%2C%2033.88729268600002%5D%2C%20%5B35.50845943000007%2C%2033.88649256000008%5D%2C%20%5B35.509274352000034%2C%2033.88648242200003%5D%2C%20%5B35.50987080400006%2C%2033.88635551700003%5D%2C%20%5B35.51067030300004%2C%2033.88630475600007%5D%2C%20%5B35.51143807600005%2C%2033.886450696000054%5D%2C%20%5B35.51179340900006%2C%2033.886622017000036%5D%5D%5D%2C%20%22type%22%3A%20%22Polygon%22%7D%2C%20%22id%22%3A%2053%2C%20%22properties%22%3A%20%7B%22ACS_CODE_1%22%3A%2010650%2C%20%22Cadaster_1%22%3A%20%22Achrafieh%20fonci%5Cu00e8re%22%2C%20%22Cadaster_A%22%3A%20%22%5Cu0627%5Cu0644%5Cu0627%5Cu0634%5Cu0631%5Cu0641%5Cu064a%5Cu0629%22%2C%20%22District_1%22%3A%20%22Beirut%22%2C%20%22District_A%22%3A%20%22%5Cu0628%5Cu064a%5Cu0631%5Cu0648%5Cu062a%22%2C%20%22FID%22%3A%2053%2C%20%22Governor_1%22%3A%20%22%5Cu0628%5Cu064a%5Cu0631%5Cu0648%5Cu062a%22%2C%20%22Governorat%22%3A%20%22Beirut%22%2C%20%22OBJECTID_1%22%3A%2054%2C%20%22Shape_Area%22%3A%204.83846788011e-06%2C%20%22Shape_Leng%22%3A%200.0113081149447%2C%20%22highlight%22%3A%20%7B%7D%2C%20%22style%22%3A%20%7B%22color%22%3A%20%22black%22%2C%20%22fillColor%22%3A%20%22%23a8ddb5%22%2C%20%22fillOpacity%22%3A%201%2C%20%22opacity%22%3A%200.5%2C%20%22weight%22%3A%201%7D%2C%20%22zone_numbe%22%3A%2056%7D%2C%20%22type%22%3A%20%22Feature%22%7D%2C%20%7B%22geometry%22%3A%20%7B%22coordinates%22%3A%20%5B%5B%5B35.518583775000025%2C%2033.88842287800003%5D%2C%20%5B35.51851776500007%2C%2033.888451029000066%5D%2C%20%5B35.516844211000034%2C%2033.88918866200004%5D%2C%20%5B35.51678744000003%2C%2033.88921209200004%5D%2C%20%5B35.516323605000025%2C%2033.88885107600004%5D%2C%20%5B35.515252847000056%2C%2033.888541746000044%5D%2C%20%5B35.51452473200004%2C%2033.88843229100007%5D%2C%20%5B35.51065599100008%2C%2033.888162591000025%5D%2C%20%5B35.51053929400007%2C%2033.886789511000075%5D%2C%20%5B35.51129279000003%2C%2033.88676571700006%5D%2C%20%5B35.51232389000006%2C%2033.88732092400005%5D%2C%20%5B35.515218900000036%2C%2033.88793165300007%5D%2C%20%5B35.516890868000075%2C%2033.888309194000044%5D%2C%20%5B35.51711929700008%2C%2033.888309194000044%5D%2C%20%5B35.51847083000007%2C%2033.888242569000056%5D%2C%20%5B35.51857552700005%2C%2033.88828064000006%5D%2C%20%5B35.518583775000025%2C%2033.88842287800003%5D%5D%5D%2C%20%22type%22%3A%20%22Polygon%22%7D%2C%20%22id%22%3A%2054%2C%20%22properties%22%3A%20%7B%22ACS_CODE_1%22%3A%2010650%2C%20%22Cadaster_1%22%3A%20%22Achrafieh%20fonci%5Cu00e8re%22%2C%20%22Cadaster_A%22%3A%20%22%5Cu0627%5Cu0644%5Cu0627%5Cu0634%5Cu0631%5Cu0641%5Cu064a%5Cu0629%22%2C%20%22District_1%22%3A%20%22Beirut%22%2C%20%22District_A%22%3A%20%22%5Cu0628%5Cu064a%5Cu0631%5Cu0648%5Cu062a%22%2C%20%22FID%22%3A%2054%2C%20%22Governor_1%22%3A%20%22%5Cu0628%5Cu064a%5Cu0631%5Cu0648%5Cu062a%22%2C%20%22Governorat%22%3A%20%22Beirut%22%2C%20%22OBJECTID_1%22%3A%2055%2C%20%22Shape_Area%22%3A%206.45166956659e-06%2C%20%22Shape_Leng%22%3A%200.0180900775208%2C%20%22highlight%22%3A%20%7B%7D%2C%20%22style%22%3A%20%7B%22color%22%3A%20%22black%22%2C%20%22fillColor%22%3A%20%22%23a8ddb5%22%2C%20%22fillOpacity%22%3A%201%2C%20%22opacity%22%3A%200.5%2C%20%22weight%22%3A%201%7D%2C%20%22zone_numbe%22%3A%2057%7D%2C%20%22type%22%3A%20%22Feature%22%7D%2C%20%7B%22geometry%22%3A%20%7B%22coordinates%22%3A%20%5B%5B%5B35.51129279000003%2C%2033.88676571700006%5D%2C%20%5B35.51179340900006%2C%2033.886622017000036%5D%2C%20%5B35.512307372000066%2C%2033.886622017000036%5D%2C%20%5B35.51344951300007%2C%2033.886767957000075%5D%2C%20%5B35.51628583100006%2C%2033.88678064800007%5D%2C%20%5B35.51891275600008%2C%2033.88694562400008%5D%2C%20%5B35.52029601600003%2C%2033.88707252800003%5D%2C%20%5B35.52098866700004%2C%2033.88732031200004%5D%2C%20%5B35.51989785300003%2C%2033.888006863000044%5D%2C%20%5B35.51905711000006%2C%2033.888221015000056%5D%2C%20%5B35.518583775000025%2C%2033.88842287800003%5D%2C%20%5B35.51857552700005%2C%2033.88828064000006%5D%2C%20%5B35.51847083000007%2C%2033.888242569000056%5D%2C%20%5B35.51711929700008%2C%2033.888309194000044%5D%2C%20%5B35.516890868000075%2C%2033.888309194000044%5D%2C%20%5B35.515218900000036%2C%2033.88793165300007%5D%2C%20%5B35.51232389000006%2C%2033.88732092400005%5D%2C%20%5B35.51129279000003%2C%2033.88676571700006%5D%5D%5D%2C%20%22type%22%3A%20%22Polygon%22%7D%2C%20%22id%22%3A%2055%2C%20%22properties%22%3A%20%7B%22ACS_CODE_1%22%3A%2010650%2C%20%22Cadaster_1%22%3A%20%22Achrafieh%20fonci%5Cu00e8re%22%2C%20%22Cadaster_A%22%3A%20%22%5Cu0627%5Cu0644%5Cu0627%5Cu0634%5Cu0631%5Cu0641%5Cu064a%5Cu0629%22%2C%20%22District_1%22%3A%20%22Beirut%22%2C%20%22District_A%22%3A%20%22%5Cu0628%5Cu064a%5Cu0631%5Cu0648%5Cu062a%22%2C%20%22FID%22%3A%2055%2C%20%22Governor_1%22%3A%20%22%5Cu0628%5Cu064a%5Cu0631%5Cu0648%5Cu062a%22%2C%20%22Governorat%22%3A%20%22Beirut%22%2C%20%22OBJECTID_1%22%3A%2056%2C%20%22Shape_Area%22%3A%209.73086081051e-06%2C%20%22Shape_Leng%22%3A%200.0201297883457%2C%20%22highlight%22%3A%20%7B%7D%2C%20%22style%22%3A%20%7B%22color%22%3A%20%22black%22%2C%20%22fillColor%22%3A%20%22%237bccc4%22%2C%20%22fillOpacity%22%3A%201%2C%20%22opacity%22%3A%200.5%2C%20%22weight%22%3A%201%7D%2C%20%22zone_numbe%22%3A%2058%7D%2C%20%22type%22%3A%20%22Feature%22%7D%2C%20%7B%22geometry%22%3A%20%7B%22coordinates%22%3A%20%5B%5B%5B35.53032887400008%2C%2033.890550844000074%5D%2C%20%5B35.53144246200003%2C%2033.89056036200003%5D%2C%20%5B35.53373743900005%2C%2033.89035102300005%5D%2C%20%5B35.53383946400004%2C%2033.89063465500004%5D%2C%20%5B35.53397872200003%2C%2033.890964680000025%5D%2C%20%5B35.534111594000024%2C%2033.89119863700006%5D%2C%20%5B35.53448994900003%2C%2033.891821281000034%5D%2C%20%5B35.53487683800006%2C%2033.892660662000026%5D%2C%20%5B35.53335501300006%2C%2033.893000409000024%5D%2C%20%5B35.533030362000034%2C%2033.893071802000065%5D%2C%20%5B35.53278109100006%2C%2033.89312698600003%5D%2C%20%5B35.53252964200004%2C%2033.893063332000054%5D%2C%20%5B35.532189722000055%2C%2033.89279146800004%5D%2C%20%5B35.53134563800006%2C%2033.892263040000046%5D%2C%20%5B35.53102555600003%2C%2033.89218482700005%5D%2C%20%5B35.53060798200005%2C%2033.89208232300007%5D%2C%20%5B35.530284573000074%2C%2033.89204887400007%5D%2C%20%5B35.53001740600007%2C%2033.892040508000036%5D%2C%20%5B35.52969828400006%2C%2033.89205912500006%5D%2C%20%5B35.529254958000024%2C%2033.89208532400005%5D%2C%20%5B35.52899836100005%2C%2033.89205695900006%5D%2C%20%5B35.528674882000075%2C%2033.89199546000003%5D%2C%20%5B35.528377668000076%2C%2033.891938441000036%5D%2C%20%5B35.52784786900003%2C%2033.89188385400007%5D%2C%20%5B35.52757557700005%2C%2033.89187808100007%5D%2C%20%5B35.52735616900003%2C%2033.891849285000035%5D%2C%20%5B35.52692222500008%2C%2033.891724829000054%5D%2C%20%5B35.528311091000035%2C%2033.89118854000003%5D%2C%20%5B35.52960551800004%2C%2033.89096011200007%5D%2C%20%5B35.53032887400008%2C%2033.890550844000074%5D%5D%5D%2C%20%22type%22%3A%20%22Polygon%22%7D%2C%20%22id%22%3A%2056%2C%20%22properties%22%3A%20%7B%22ACS_CODE_1%22%3A%2010650%2C%20%22Cadaster_1%22%3A%20%22Achrafieh%20fonci%5Cu00e8re%22%2C%20%22Cadaster_A%22%3A%20%22%5Cu0627%5Cu0644%5Cu0627%5Cu0634%5Cu0631%5Cu0641%5Cu064a%5Cu0629%22%2C%20%22District_1%22%3A%20%22Beirut%22%2C%20%22District_A%22%3A%20%22%5Cu0628%5Cu064a%5Cu0631%5Cu0648%5Cu062a%22%2C%20%22FID%22%3A%2056%2C%20%22Governor_1%22%3A%20%22%5Cu0628%5Cu064a%5Cu0631%5Cu0648%5Cu062a%22%2C%20%22Governorat%22%3A%20%22Beirut%22%2C%20%22OBJECTID_1%22%3A%2057%2C%20%22Shape_Area%22%3A%201.14744326788e-05%2C%20%22Shape_Leng%22%3A%200.0179549180508%2C%20%22highlight%22%3A%20%7B%7D%2C%20%22style%22%3A%20%7B%22color%22%3A%20%22black%22%2C%20%22fillColor%22%3A%20%22%23a8ddb5%22%2C%20%22fillOpacity%22%3A%201%2C%20%22opacity%22%3A%200.5%2C%20%22weight%22%3A%201%7D%2C%20%22zone_numbe%22%3A%2042%7D%2C%20%22type%22%3A%20%22Feature%22%7D%2C%20%7B%22geometry%22%3A%20%7B%22coordinates%22%3A%20%5B%5B%5B35.52501843700003%2C%2033.88807534600005%5D%2C%20%5B35.526911968000036%2C%2033.88891377500005%5D%2C%20%5B35.52820639500004%2C%2033.889456292000034%5D%2C%20%5B35.52947226800006%2C%2033.88978941700003%5D%2C%20%5B35.53032887400008%2C%2033.890550844000074%5D%2C%20%5B35.52960551800004%2C%2033.89096011200007%5D%2C%20%5B35.528311091000035%2C%2033.89118854000003%5D%2C%20%5B35.52692222500008%2C%2033.891724829000054%5D%2C%20%5B35.52688589700006%2C%2033.89171441000008%5D%2C%20%5B35.52668072600005%2C%2033.891605352000056%5D%2C%20%5B35.526011545000074%2C%2033.89127498000005%5D%2C%20%5B35.52576833000006%2C%2033.89126879500003%5D%2C%20%5B35.52522744800007%2C%2033.89119556900005%5D%2C%20%5B35.52501843700003%2C%2033.88807534600005%5D%5D%5D%2C%20%22type%22%3A%20%22Polygon%22%7D%2C%20%22id%22%3A%2057%2C%20%22properties%22%3A%20%7B%22ACS_CODE_1%22%3A%2010650%2C%20%22Cadaster_1%22%3A%20%22Achrafieh%20fonci%5Cu00e8re%22%2C%20%22Cadaster_A%22%3A%20%22%5Cu0627%5Cu0644%5Cu0627%5Cu0634%5Cu0631%5Cu0641%5Cu064a%5Cu0629%22%2C%20%22District_1%22%3A%20%22Beirut%22%2C%20%22District_A%22%3A%20%22%5Cu0628%5Cu064a%5Cu0631%5Cu0648%5Cu062a%22%2C%20%22FID%22%3A%2057%2C%20%22Governor_1%22%3A%20%22%5Cu0628%5Cu064a%5Cu0631%5Cu0648%5Cu062a%22%2C%20%22Governorat%22%3A%20%22Beirut%22%2C%20%22OBJECTID_1%22%3A%2058%2C%20%22Shape_Area%22%3A%201.04638254985e-05%2C%20%22Shape_Leng%22%3A%200.0144965522485%2C%20%22highlight%22%3A%20%7B%7D%2C%20%22style%22%3A%20%7B%22color%22%3A%20%22black%22%2C%20%22fillColor%22%3A%20%22%237bccc4%22%2C%20%22fillOpacity%22%3A%201%2C%20%22opacity%22%3A%200.5%2C%20%22weight%22%3A%201%7D%2C%20%22zone_numbe%22%3A%2043%7D%2C%20%22type%22%3A%20%22Feature%22%7D%2C%20%7B%22geometry%22%3A%20%7B%22coordinates%22%3A%20%5B%5B%5B35.52522744800007%2C%2033.89119556900005%5D%2C%20%5B35.52498827800008%2C%2033.891158578000045%5D%2C%20%5B35.52449038200007%2C%2033.891192114000035%5D%2C%20%5B35.524146622000046%2C%2033.891209219000075%5D%2C%20%5B35.52361101300005%2C%2033.89123612700007%5D%2C%20%5B35.52304954900006%2C%2033.89125517200006%5D%2C%20%5B35.52264773200005%2C%2033.89126872300005%5D%2C%20%5B35.522429481000074%2C%2033.89128038200005%5D%2C%20%5B35.522180443000025%2C%2033.89129341000006%5D%2C%20%5B35.521932754000034%2C%2033.89130659700004%5D%2C%20%5B35.52162900800005%2C%2033.891333176000046%5D%2C%20%5B35.52096639300004%2C%2033.891257015000065%5D%2C%20%5B35.52075604500004%2C%2033.88931556700004%5D%2C%20%5B35.52072749100006%2C%2033.88815439000007%5D%2C%20%5B35.52098866700004%2C%2033.88732031200004%5D%2C%20%5B35.521905582000045%2C%2033.88762886600006%5D%2C%20%5B35.52295254500007%2C%2033.88784777700005%5D%2C%20%5B35.524227936000045%2C%2033.88788584800005%5D%2C%20%5B35.524998882000034%2C%2033.88806668700005%5D%2C%20%5B35.52501843700003%2C%2033.88807534600005%5D%2C%20%5B35.52522744800007%2C%2033.89119556900005%5D%5D%5D%2C%20%22type%22%3A%20%22Polygon%22%7D%2C%20%22id%22%3A%2058%2C%20%22properties%22%3A%20%7B%22ACS_CODE_1%22%3A%2010650%2C%20%22Cadaster_1%22%3A%20%22Achrafieh%20fonci%5Cu00e8re%22%2C%20%22Cadaster_A%22%3A%20%22%5Cu0627%5Cu0644%5Cu0627%5Cu0634%5Cu0631%5Cu0641%5Cu064a%5Cu0629%22%2C%20%22District_1%22%3A%20%22Beirut%22%2C%20%22District_A%22%3A%20%22%5Cu0628%5Cu064a%5Cu0631%5Cu0648%5Cu062a%22%2C%20%22FID%22%3A%2058%2C%20%22Governor_1%22%3A%20%22%5Cu0628%5Cu064a%5Cu0631%5Cu0648%5Cu062a%22%2C%20%22Governorat%22%3A%20%22Beirut%22%2C%20%22OBJECTID_1%22%3A%2059%2C%20%22Shape_Area%22%3A%201.50137918542e-05%2C%20%22Shape_Leng%22%3A%200.0155150320081%2C%20%22highlight%22%3A%20%7B%7D%2C%20%22style%22%3A%20%7B%22color%22%3A%20%22black%22%2C%20%22fillColor%22%3A%20%22%237bccc4%22%2C%20%22fillOpacity%22%3A%201%2C%20%22opacity%22%3A%200.5%2C%20%22weight%22%3A%201%7D%2C%20%22zone_numbe%22%3A%2045%7D%2C%20%22type%22%3A%20%22Feature%22%7D%2C%20%7B%22geometry%22%3A%20%7B%22coordinates%22%3A%20%5B%5B%5B35.51920463600004%2C%2033.88047349000004%5D%2C%20%5B35.51893641200007%2C%2033.88033105900007%5D%2C%20%5B35.51710898600004%2C%2033.88080060600004%5D%2C%20%5B35.514177490000066%2C%2033.88189198600003%5D%2C%20%5B35.512261230000036%2C%2033.88314834100004%5D%2C%20%5B35.51032061600006%2C%2033.88411518300006%5D%2C%20%5B35.51053874000007%2C%2033.883797866000066%5D%2C%20%5B35.51072462700006%2C%2033.88350204500006%5D%2C%20%5B35.51087650900007%2C%2033.88326250500006%5D%2C%20%5B35.51099726700005%2C%2033.88307097300003%5D%2C%20%5B35.51114216600007%2C%2033.882841615000075%5D%2C%20%5B35.51127732400005%2C%2033.88262507500008%5D%2C%20%5B35.51144453400008%2C%2033.882395350000024%5D%2C%20%5B35.51161588000008%2C%2033.88222403200007%5D%2C%20%5B35.51189630300007%2C%2033.881932035000034%5D%2C%20%5B35.512207200000034%2C%2033.881606110000064%5D%2C%20%5B35.51248730200007%2C%2033.88131312100006%5D%2C%20%5B35.512899305000076%2C%2033.88087527300007%5D%2C%20%5B35.51347724000004%2C%2033.88026588100007%5D%2C%20%5B35.514026056000034%2C%2033.87968987100004%5D%2C%20%5B35.51443820500003%2C%2033.87926005400004%5D%2C%20%5B35.51489388300007%2C%2033.87878404700007%5D%2C%20%5B35.51672047900007%2C%2033.87889352800005%5D%2C%20%5B35.520622795000065%2C%2033.87920761700008%5D%2C%20%5B35.51920463600004%2C%2033.88047349000004%5D%5D%5D%2C%20%22type%22%3A%20%22Polygon%22%7D%2C%20%22id%22%3A%2059%2C%20%22properties%22%3A%20%7B%22ACS_CODE_1%22%3A%2010650%2C%20%22Cadaster_1%22%3A%20%22Achrafieh%20fonci%5Cu00e8re%22%2C%20%22Cadaster_A%22%3A%20%22%5Cu0627%5Cu0644%5Cu0627%5Cu0634%5Cu0631%5Cu0641%5Cu064a%5Cu0629%22%2C%20%22District_1%22%3A%20%22Beirut%22%2C%20%22District_A%22%3A%20%22%5Cu0628%5Cu064a%5Cu0631%5Cu0648%5Cu062a%22%2C%20%22FID%22%3A%2059%2C%20%22Governor_1%22%3A%20%22%5Cu0628%5Cu064a%5Cu0631%5Cu0648%5Cu062a%22%2C%20%22Governorat%22%3A%20%22Beirut%22%2C%20%22OBJECTID_1%22%3A%2060%2C%20%22Shape_Area%22%3A%201.68667599985e-05%2C%20%22Shape_Leng%22%3A%200.0244730358156%2C%20%22highlight%22%3A%20%7B%7D%2C%20%22style%22%3A%20%7B%22color%22%3A%20%22black%22%2C%20%22fillColor%22%3A%20%22%234eb3d3%22%2C%20%22fillOpacity%22%3A%201%2C%20%22opacity%22%3A%200.5%2C%20%22weight%22%3A%201%7D%2C%20%22zone_numbe%22%3A%2064%7D%2C%20%22type%22%3A%20%22Feature%22%7D%2C%20%7B%22geometry%22%3A%20%7B%22coordinates%22%3A%20%5B%5B%5B35.52334389500004%2C%2033.88435915500003%5D%2C%20%5B35.523354416000075%2C%2033.884366288000024%5D%2C%20%5B35.523449595000045%2C%2033.88486121600005%5D%2C%20%5B35.523325863000025%2C%2033.88513723300008%5D%2C%20%5B35.52290707800006%2C%2033.885460840000064%5D%2C%20%5B35.52227890000006%2C%2033.88587010700007%5D%2C%20%5B35.52133663300003%2C%2033.88656491000006%5D%2C%20%5B35.52102254500005%2C%2033.88721212300004%5D%2C%20%5B35.52098866700004%2C%2033.88732031200004%5D%2C%20%5B35.52029601600003%2C%2033.88707252800003%5D%2C%20%5B35.51891275600008%2C%2033.88694562400008%5D%2C%20%5B35.51628583100006%2C%2033.88678064800007%5D%2C%20%5B35.51344951300007%2C%2033.886767957000075%5D%2C%20%5B35.512307372000066%2C%2033.886622017000036%5D%2C%20%5B35.51179340900006%2C%2033.886622017000036%5D%2C%20%5B35.51143807600005%2C%2033.886450696000054%5D%2C%20%5B35.51082703700007%2C%2033.886334548000036%5D%2C%20%5B35.51105563700003%2C%2033.88581333700006%5D%2C%20%5B35.51246427800004%2C%2033.885584909000045%5D%2C%20%5B35.51483739400004%2C%2033.88469657700006%5D%2C%20%5B35.514850084000045%2C%2033.88439200600004%5D%2C%20%5B35.51542115500007%2C%2033.884379316000036%5D%2C%20%5B35.51622065400005%2C%2033.88416357800003%5D%2C%20%5B35.51756584200007%2C%2033.884227030000034%5D%2C%20%5B35.51902524500008%2C%2033.88420164900003%5D%2C%20%5B35.519101388000024%2C%2033.88390976900007%5D%2C%20%5B35.52089074200006%2C%2033.88417626800003%5D%2C%20%5B35.522350145000075%2C%2033.88439200600004%5D%2C%20%5B35.52334389500004%2C%2033.88435915500003%5D%5D%5D%2C%20%22type%22%3A%20%22Polygon%22%7D%2C%20%22id%22%3A%2060%2C%20%22properties%22%3A%20%7B%22ACS_CODE_1%22%3A%2010650%2C%20%22Cadaster_1%22%3A%20%22Achrafieh%20fonci%5Cu00e8re%22%2C%20%22Cadaster_A%22%3A%20%22%5Cu0627%5Cu0644%5Cu0627%5Cu0634%5Cu0631%5Cu0641%5Cu064a%5Cu0629%22%2C%20%22District_1%22%3A%20%22Beirut%22%2C%20%22District_A%22%3A%20%22%5Cu0628%5Cu064a%5Cu0631%5Cu0648%5Cu062a%22%2C%20%22FID%22%3A%2060%2C%20%22Governor_1%22%3A%20%22%5Cu0628%5Cu064a%5Cu0631%5Cu0648%5Cu062a%22%2C%20%22Governorat%22%3A%20%22Beirut%22%2C%20%22OBJECTID_1%22%3A%2061%2C%20%22Shape_Area%22%3A%202.58508272408e-05%2C%20%22Shape_Leng%22%3A%200.0279975352426%2C%20%22highlight%22%3A%20%7B%7D%2C%20%22style%22%3A%20%7B%22color%22%3A%20%22black%22%2C%20%22fillColor%22%3A%20%22%232b8cbe%22%2C%20%22fillOpacity%22%3A%201%2C%20%22opacity%22%3A%200.5%2C%20%22weight%22%3A%201%7D%2C%20%22zone_numbe%22%3A%2059%7D%2C%20%22type%22%3A%20%22Feature%22%7D%2C%20%7B%22geometry%22%3A%20%7B%22coordinates%22%3A%20%5B%5B%5B35.520622795000065%2C%2033.87920761700008%5D%2C%20%5B35.51672047900007%2C%2033.87889352800005%5D%2C%20%5B35.51489388300007%2C%2033.87878404700007%5D%2C%20%5B35.514911916000074%2C%2033.87876521000004%5D%2C%20%5B35.51518261800004%2C%2033.87846840900005%5D%2C%20%5B35.51535400400007%2C%2033.87831019200007%5D%2C%20%5B35.51561509100003%2C%2033.87809822600008%5D%2C%20%5B35.51585151900008%2C%2033.87793253600006%5D%2C%20%5B35.51613692600006%2C%2033.87778336800005%5D%2C%20%5B35.516462482000065%2C%2033.87763705900005%5D%2C%20%5B35.51681827500005%2C%2033.877483314000074%5D%2C%20%5B35.51718267000007%2C%2033.87732236900007%5D%2C%20%5B35.517527581000024%2C%2033.87715605500006%5D%2C%20%5B35.51773196800008%2C%2033.87704963300007%5D%2C%20%5B35.51792521300007%2C%2033.87689583100007%5D%2C%20%5B35.518194951000055%2C%2033.87664283700008%5D%2C%20%5B35.51846921900005%2C%2033.87638342900004%5D%2C%20%5B35.51876988200007%2C%2033.87609101700008%5D%2C%20%5B35.519104983000034%2C%2033.87576868200006%5D%2C%20%5B35.51943823100004%2C%2033.875453787000026%5D%2C%20%5B35.519736796000075%2C%2033.87517994500007%5D%2C%20%5B35.51995444000005%2C%2033.875256928000056%5D%2C%20%5B35.52015695500006%2C%2033.87517415000008%5D%2C%20%5B35.520446106000065%2C%2033.87511663300006%5D%2C%20%5B35.520684396000036%2C%2033.875301457000035%5D%2C%20%5B35.52109727100003%2C%2033.87561687200008%5D%2C%20%5B35.52196468100004%2C%2033.87627495900006%5D%2C%20%5B35.52217502800005%2C%2033.87643962900006%5D%2C%20%5B35.52239821200004%2C%2033.87665142000003%5D%2C%20%5B35.52252502500005%2C%2033.876819203000025%5D%2C%20%5B35.52286179600003%2C%2033.876997750000044%5D%2C%20%5B35.52331186600003%2C%2033.877187725000056%5D%2C%20%5B35.52382418900004%2C%2033.87728040400003%5D%2C%20%5B35.52450149800006%2C%2033.87741656800006%5D%2C%20%5B35.52509652100008%2C%2033.87749794000007%5D%2C%20%5B35.525827579000065%2C%2033.87757078200008%5D%2C%20%5B35.52612922900005%2C%2033.87757629400005%5D%2C%20%5B35.52652189200006%2C%2033.87746704400007%5D%2C%20%5B35.526774368000076%2C%2033.87730819600006%5D%2C%20%5B35.52696084400003%2C%2033.877169921000075%5D%2C%20%5B35.527192924000076%2C%2033.87711068700003%5D%2C%20%5B35.52738817100004%2C%2033.87705146500008%5D%2C%20%5B35.52763385700007%2C%2033.876988065000035%5D%2C%20%5B35.52794349900006%2C%2033.87696762000007%5D%2C%20%5B35.52827555600004%2C%2033.87700472900008%5D%2C%20%5B35.528492895000056%2C%2033.877159204000066%5D%2C%20%5B35.52913639500008%2C%2033.87726495900006%5D%2C%20%5B35.52950416200008%2C%2033.87729160600003%5D%2C%20%5B35.53005579000006%2C%2033.877316919000066%5D%2C%20%5B35.53022031000006%2C%2033.87764901800006%5D%2C%20%5B35.53046457900007%2C%2033.87807560700003%5D%2C%20%5B35.53076505400003%2C%2033.878434404000075%5D%2C%20%5B35.531028255000024%2C%2033.87889228000006%5D%2C%20%5B35.531171690000065%2C%2033.87918375600003%5D%2C%20%5B35.53126014500003%2C%2033.87942339400007%5D%2C%20%5B35.53132739100005%2C%2033.87967497500006%5D%2C%20%5B35.531468088000054%2C%2033.88009395200004%5D%2C%20%5B35.53116916000005%2C%2033.880212795000034%5D%2C%20%5B35.53115750000006%2C%2033.88058214100005%5D%2C%20%5B35.531120620000024%2C%2033.881134178000025%5D%2C%20%5B35.53109465600005%2C%2033.881744301000026%5D%2C%20%5B35.53124034800004%2C%2033.882308230000035%5D%2C%20%5B35.53138902500007%2C%2033.88285923900003%5D%2C%20%5B35.53154032800006%2C%2033.88342959300007%5D%2C%20%5B35.53169061300008%2C%2033.88401599900004%5D%2C%20%5B35.53262865100004%2C%2033.884650683000075%5D%2C%20%5B35.532859349000034%2C%2033.88475095100006%5D%2C%20%5B35.53307839400003%2C%2033.88493743400005%5D%2C%20%5B35.533271487000036%2C%2033.88518356700007%5D%2C%20%5B35.53337716600004%2C%2033.88547151700004%5D%2C%20%5B35.53338166200007%2C%2033.88574992200006%5D%2C%20%5B35.53336538900004%2C%2033.886035486000026%5D%2C%20%5B35.53334773100005%2C%2033.88619672900006%5D%2C%20%5B35.53330385900006%2C%2033.88639830900007%5D%2C%20%5B35.53316842000004%2C%2033.88678765000003%5D%2C%20%5B35.532937023000045%2C%2033.88753760700007%5D%2C%20%5B35.53290440400008%2C%2033.88786027300006%5D%2C%20%5B35.532895403000055%2C%2033.88826348300006%5D%2C%20%5B35.53298687000006%2C%2033.888630987000056%5D%2C%20%5B35.53168715000004%2C%2033.88613059900007%5D%2C%20%5B35.528332110000065%2C%2033.88225207700003%5D%2C%20%5B35.52678546000004%2C%2033.881395471000076%5D%2C%20%5B35.520622795000065%2C%2033.87920761700008%5D%5D%5D%2C%20%22type%22%3A%20%22Polygon%22%7D%2C%20%22id%22%3A%2061%2C%20%22properties%22%3A%20%7B%22ACS_CODE_1%22%3A%2010650%2C%20%22Cadaster_1%22%3A%20%22Achrafieh%20fonci%5Cu00e8re%22%2C%20%22Cadaster_A%22%3A%20%22%5Cu0627%5Cu0644%5Cu0627%5Cu0634%5Cu0631%5Cu0641%5Cu064a%5Cu0629%22%2C%20%22District_1%22%3A%20%22Beirut%22%2C%20%22District_A%22%3A%20%22%5Cu0628%5Cu064a%5Cu0631%5Cu0648%5Cu062a%22%2C%20%22FID%22%3A%2061%2C%20%22Governor_1%22%3A%20%22%5Cu0628%5Cu064a%5Cu0631%5Cu0648%5Cu062a%22%2C%20%22Governorat%22%3A%20%22Beirut%22%2C%20%22OBJECTID_1%22%3A%2062%2C%20%22Shape_Area%22%3A%206.43461124226e-05%2C%20%22Shape_Leng%22%3A%200.0522548440286%2C%20%22highlight%22%3A%20%7B%7D%2C%20%22style%22%3A%20%7B%22color%22%3A%20%22black%22%2C%20%22fillColor%22%3A%20%22%237bccc4%22%2C%20%22fillOpacity%22%3A%201%2C%20%22opacity%22%3A%200.5%2C%20%22weight%22%3A%201%7D%2C%20%22zone_numbe%22%3A%2065%7D%2C%20%22type%22%3A%20%22Feature%22%7D%2C%20%7B%22geometry%22%3A%20%7B%22coordinates%22%3A%20%5B%5B%5B35.52334389500004%2C%2033.88435915500003%5D%2C%20%5B35.524534490000065%2C%2033.88398432500003%5D%2C%20%5B35.52505479900003%2C%2033.88411123000003%5D%2C%20%5B35.52541013200005%2C%2033.88423813400004%5D%2C%20%5B35.526043069000025%2C%2033.88456174100003%5D%2C%20%5B35.526447577000056%2C%2033.88481555000004%5D%2C%20%5B35.52750247100005%2C%2033.88496624900006%5D%2C%20%5B35.52837494000005%2C%2033.88529144200004%5D%2C%20%5B35.52930293000003%2C%2033.885949760000074%5D%2C%20%5B35.528993600000035%2C%2033.886592214000075%5D%2C%20%5B35.52900153200005%2C%2033.88703638000004%5D%2C%20%5B35.529271204000054%2C%2033.88771056100006%5D%2C%20%5B35.52832735100003%2C%2033.88840853600004%5D%2C%20%5B35.52748660800006%2C%2033.88857509800005%5D%2C%20%5B35.52626739100003%2C%2033.888628365000045%5D%2C%20%5B35.524998882000034%2C%2033.88806668700005%5D%2C%20%5B35.524227936000045%2C%2033.88788584800005%5D%2C%20%5B35.52295254500007%2C%2033.88784777700005%5D%2C%20%5B35.521905582000045%2C%2033.88762886600006%5D%2C%20%5B35.52098866700004%2C%2033.88732031200004%5D%2C%20%5B35.52102254500005%2C%2033.88721212300004%5D%2C%20%5B35.52133663300003%2C%2033.88656491000006%5D%2C%20%5B35.52227890000006%2C%2033.88587010700007%5D%2C%20%5B35.52290707800006%2C%2033.885460840000064%5D%2C%20%5B35.523325863000025%2C%2033.88513723300008%5D%2C%20%5B35.523449595000045%2C%2033.88486121600005%5D%2C%20%5B35.523354416000075%2C%2033.884366288000024%5D%2C%20%5B35.52334389500004%2C%2033.88435915500003%5D%5D%5D%2C%20%22type%22%3A%20%22Polygon%22%7D%2C%20%22id%22%3A%2062%2C%20%22properties%22%3A%20%7B%22ACS_CODE_1%22%3A%2010650%2C%20%22Cadaster_1%22%3A%20%22Achrafieh%20fonci%5Cu00e8re%22%2C%20%22Cadaster_A%22%3A%20%22%5Cu0627%5Cu0644%5Cu0627%5Cu0634%5Cu0631%5Cu0641%5Cu064a%5Cu0629%22%2C%20%22District_1%22%3A%20%22Beirut%22%2C%20%22District_A%22%3A%20%22%5Cu0628%5Cu064a%5Cu0631%5Cu0648%5Cu062a%22%2C%20%22FID%22%3A%2062%2C%20%22Governor_1%22%3A%20%22%5Cu0628%5Cu064a%5Cu0631%5Cu0648%5Cu062a%22%2C%20%22Governorat%22%3A%20%22Beirut%22%2C%20%22OBJECTID_1%22%3A%2063%2C%20%22Shape_Area%22%3A%202.45901597027e-05%2C%20%22Shape_Leng%22%3A%200.0212125804197%2C%20%22highlight%22%3A%20%7B%7D%2C%20%22style%22%3A%20%7B%22color%22%3A%20%22black%22%2C%20%22fillColor%22%3A%20%22%237bccc4%22%2C%20%22fillOpacity%22%3A%201%2C%20%22opacity%22%3A%200.5%2C%20%22weight%22%3A%201%7D%2C%20%22zone_numbe%22%3A%2060%7D%2C%20%22type%22%3A%20%22Feature%22%7D%2C%20%7B%22geometry%22%3A%20%7B%22coordinates%22%3A%20%5B%5B%5B35.53198325300008%2C%2033.88670023900005%5D%2C%20%5B35.53298687000006%2C%2033.888630987000056%5D%2C%20%5B35.533160072000044%2C%2033.88885948800004%5D%2C%20%5B35.53337106400005%2C%2033.88913816000007%5D%2C%20%5B35.533496967000076%2C%2033.88958622700005%5D%2C%20%5B35.53373421500004%2C%2033.89034206000008%5D%2C%20%5B35.53373743900005%2C%2033.89035102300005%5D%2C%20%5B35.53144246200003%2C%2033.89056036200003%5D%2C%20%5B35.53032887400008%2C%2033.890550844000074%5D%2C%20%5B35.52947226800006%2C%2033.88978941700003%5D%2C%20%5B35.52820639500004%2C%2033.889456292000034%5D%2C%20%5B35.526911968000036%2C%2033.88891377500005%5D%2C%20%5B35.52626739100003%2C%2033.888628365000045%5D%2C%20%5B35.52748660800006%2C%2033.88857509800005%5D%2C%20%5B35.52832735100003%2C%2033.88840853600004%5D%2C%20%5B35.529271204000054%2C%2033.88771056100006%5D%2C%20%5B35.530326098000046%2C%2033.88730605300003%5D%2C%20%5B35.530873374000066%2C%2033.88730605300003%5D%2C%20%5B35.53130960900006%2C%2033.887099833000036%5D%2C%20%5B35.53137306100007%2C%2033.88687775000005%5D%2C%20%5B35.53198325300008%2C%2033.88670023900005%5D%5D%5D%2C%20%22type%22%3A%20%22Polygon%22%7D%2C%20%22id%22%3A%2063%2C%20%22properties%22%3A%20%7B%22ACS_CODE_1%22%3A%2010650%2C%20%22Cadaster_1%22%3A%20%22Achrafieh%20fonci%5Cu00e8re%22%2C%20%22Cadaster_A%22%3A%20%22%5Cu0627%5Cu0644%5Cu0627%5Cu0634%5Cu0631%5Cu0641%5Cu064a%5Cu0629%22%2C%20%22District_1%22%3A%20%22Beirut%22%2C%20%22District_A%22%3A%20%22%5Cu0628%5Cu064a%5Cu0631%5Cu0648%5Cu062a%22%2C%20%22FID%22%3A%2063%2C%20%22Governor_1%22%3A%20%22%5Cu0628%5Cu064a%5Cu0631%5Cu0648%5Cu062a%22%2C%20%22Governorat%22%3A%20%22Beirut%22%2C%20%22OBJECTID_1%22%3A%2064%2C%20%22Shape_Area%22%3A%201.46225316106e-05%2C%20%22Shape_Leng%22%3A%200.0183384807125%2C%20%22highlight%22%3A%20%7B%7D%2C%20%22style%22%3A%20%7B%22color%22%3A%20%22black%22%2C%20%22fillColor%22%3A%20%22%237bccc4%22%2C%20%22fillOpacity%22%3A%201%2C%20%22opacity%22%3A%200.5%2C%20%22weight%22%3A%201%7D%2C%20%22zone_numbe%22%3A%2061%7D%2C%20%22type%22%3A%20%22Feature%22%7D%2C%20%7B%22geometry%22%3A%20%7B%22coordinates%22%3A%20%5B%5B%5B35.50630636900007%2C%2033.88722375800006%5D%2C%20%5B35.50629875800007%2C%2033.88722761100007%5D%2C%20%5B35.50480128400005%2C%2033.88795096700005%5D%2C%20%5B35.50402082000005%2C%2033.88823650200004%5D%2C%20%5B35.50271458200007%2C%2033.88852411400006%5D%2C%20%5B35.50289866700007%2C%2033.88809690700003%5D%2C%20%5B35.503177857000026%2C%2033.887643223000055%5D%2C%20%5B35.50367913000008%2C%2033.886897659000056%5D%2C%20%5B35.50380286200004%2C%2033.88667557600007%5D%2C%20%5B35.50389486800003%2C%2033.886167957000055%5D%2C%20%5B35.50393622800004%2C%2033.88603095000008%5D%2C%20%5B35.50426466000005%2C%2033.885994596000046%5D%2C%20%5B35.50448415400007%2C%2033.885925489000044%5D%2C%20%5B35.504713292000076%2C%2033.885848073000034%5D%2C%20%5B35.504933650000055%2C%2033.88577038200003%5D%2C%20%5B35.50517012200004%2C%2033.88568208400005%5D%2C%20%5B35.50538953200004%2C%2033.885601276000045%5D%2C%20%5B35.50559565200007%2C%2033.88552548300004%5D%2C%20%5B35.50601573600005%2C%2033.88537063000007%5D%2C%20%5B35.50623309800005%2C%2033.886344662000056%5D%2C%20%5B35.50630636900007%2C%2033.88722375800006%5D%5D%5D%2C%20%22type%22%3A%20%22Polygon%22%7D%2C%20%22id%22%3A%2064%2C%20%22properties%22%3A%20%7B%22ACS_CODE_1%22%3A%2010350%2C%20%22Cadaster_1%22%3A%20%22Bachoura%20fonci%5Cu00e8re%22%2C%20%22Cadaster_A%22%3A%20%22%5Cu0628%5Cu0627%5Cu0634%5Cu0648%5Cu0631%5Cu0629%22%2C%20%22District_1%22%3A%20%22Beirut%22%2C%20%22District_A%22%3A%20%22%5Cu0628%5Cu064a%5Cu0631%5Cu0648%5Cu062a%22%2C%20%22FID%22%3A%2064%2C%20%22Governor_1%22%3A%20%22%5Cu0628%5Cu064a%5Cu0631%5Cu0648%5Cu062a%22%2C%20%22Governorat%22%3A%20%22Beirut%22%2C%20%22OBJECTID_1%22%3A%2065%2C%20%22Shape_Area%22%3A%205.91931602138e-06%2C%20%22Shape_Leng%22%3A%200.0107194410065%2C%20%22highlight%22%3A%20%7B%7D%2C%20%22style%22%3A%20%7B%22color%22%3A%20%22black%22%2C%20%22fillColor%22%3A%20%22%23a8ddb5%22%2C%20%22fillOpacity%22%3A%201%2C%20%22opacity%22%3A%200.5%2C%20%22weight%22%3A%201%7D%2C%20%22zone_numbe%22%3A%2068%7D%2C%20%22type%22%3A%20%22Feature%22%7D%2C%20%7B%22geometry%22%3A%20%7B%22coordinates%22%3A%20%5B%5B%5B35.50271458200007%2C%2033.88852411400006%5D%2C%20%5B35.50263756000004%2C%2033.888541073000056%5D%2C%20%5B35.501787300000046%2C%2033.88877584700003%5D%2C%20%5B35.500283086000024%2C%2033.88891576900005%5D%2C%20%5B35.50020218900005%2C%2033.888643245000026%5D%2C%20%5B35.50018192400006%2C%2033.888441827000065%5D%2C%20%5B35.500167357000066%2C%2033.88827347300003%5D%2C%20%5B35.500185920000035%2C%2033.88802740800003%5D%2C%20%5B35.500347832000045%2C%2033.887052933000064%5D%2C%20%5B35.500342757000055%2C%2033.886697851000065%5D%2C%20%5B35.50078844800004%2C%2033.88657821500004%5D%2C%20%5B35.50105261400006%2C%2033.88650655200007%5D%2C%20%5B35.50135701900007%2C%2033.886418449000075%5D%2C%20%5B35.50155936800007%2C%2033.88636078400003%5D%2C%20%5B35.50183012800005%2C%2033.88629669000005%5D%2C%20%5B35.50213793200004%2C%2033.88626951900005%5D%2C%20%5B35.50241320900005%2C%2033.886246079000045%5D%2C%20%5B35.50265223200006%2C%2033.886226882000074%5D%2C%20%5B35.50289920900008%2C%2033.88618384500006%5D%2C%20%5B35.50316238000005%2C%2033.88612667900003%5D%2C%20%5B35.50342053700007%2C%2033.886082402000056%5D%2C%20%5B35.503728368000054%2C%2033.88605395800005%5D%2C%20%5B35.50393622800004%2C%2033.88603095000008%5D%2C%20%5B35.50389486800003%2C%2033.886167957000055%5D%2C%20%5B35.50380286200004%2C%2033.88667557600007%5D%2C%20%5B35.50367913000008%2C%2033.886897659000056%5D%2C%20%5B35.503177857000026%2C%2033.887643223000055%5D%2C%20%5B35.50289866700007%2C%2033.88809690700003%5D%2C%20%5B35.50271458200007%2C%2033.88852411400006%5D%5D%5D%2C%20%22type%22%3A%20%22Polygon%22%7D%2C%20%22id%22%3A%2065%2C%20%22properties%22%3A%20%7B%22ACS_CODE_1%22%3A%2010350%2C%20%22Cadaster_1%22%3A%20%22Bachoura%20fonci%5Cu00e8re%22%2C%20%22Cadaster_A%22%3A%20%22%5Cu0628%5Cu0627%5Cu0634%5Cu0648%5Cu0631%5Cu0629%22%2C%20%22District_1%22%3A%20%22Beirut%22%2C%20%22District_A%22%3A%20%22%5Cu0628%5Cu064a%5Cu0631%5Cu0648%5Cu062a%22%2C%20%22FID%22%3A%2065%2C%20%22Governor_1%22%3A%20%22%5Cu0628%5Cu064a%5Cu0631%5Cu0648%5Cu062a%22%2C%20%22Governorat%22%3A%20%22Beirut%22%2C%20%22OBJECTID_1%22%3A%2066%2C%20%22Shape_Area%22%3A%207.38725411016e-06%2C%20%22Shape_Leng%22%3A%200.011192591145%2C%20%22highlight%22%3A%20%7B%7D%2C%20%22style%22%3A%20%7B%22color%22%3A%20%22black%22%2C%20%22fillColor%22%3A%20%22%232b8cbe%22%2C%20%22fillOpacity%22%3A%201%2C%20%22opacity%22%3A%200.5%2C%20%22weight%22%3A%201%7D%2C%20%22zone_numbe%22%3A%2069%7D%2C%20%22type%22%3A%20%22Feature%22%7D%2C%20%7B%22geometry%22%3A%20%7B%22coordinates%22%3A%20%5B%5B%5B35.50460993100006%2C%2033.88821685200003%5D%2C%20%5B35.50465789900005%2C%2033.88884638500008%5D%2C%20%5B35.504716676000044%2C%2033.88922150600007%5D%2C%20%5B35.504781613000034%2C%2033.88974709000007%5D%2C%20%5B35.504733231000046%2C%2033.89077961700008%5D%2C%20%5B35.50476912800008%2C%2033.89248604800002%5D%2C%20%5B35.50431444600002%2C%2033.89258800700003%5D%2C%20%5B35.502053029000024%2C%2033.89324544700003%5D%2C%20%5B35.50198176400005%2C%2033.89295124500006%5D%2C%20%5B35.501994145000026%2C%2033.89190543900003%5D%2C%20%5B35.501690816000064%2C%2033.89146408000005%5D%2C%20%5B35.50151241200007%2C%2033.891183452000064%5D%2C%20%5B35.50139227100004%2C%2033.89095867100008%5D%2C%20%5B35.50114832000003%2C%2033.89042985100008%5D%2C%20%5B35.50105219200003%2C%2033.89020444800008%5D%2C%20%5B35.50095734200005%2C%2033.88998244800007%5D%2C%20%5B35.50086829400004%2C%2033.88977336100004%5D%2C%20%5B35.500733070000024%2C%2033.88957399900005%5D%2C%20%5B35.50044892500006%2C%2033.88913701700005%5D%2C%20%5B35.500283086000024%2C%2033.88891576900005%5D%2C%20%5B35.501787300000046%2C%2033.88877584700003%5D%2C%20%5B35.50263756000004%2C%2033.888541073000056%5D%2C%20%5B35.50271458200007%2C%2033.88852411400006%5D%2C%20%5B35.50402082000005%2C%2033.88823650200004%5D%2C%20%5B35.50458684000006%2C%2033.888029421000056%5D%2C%20%5B35.50460993100006%2C%2033.88821685200003%5D%5D%5D%2C%20%22type%22%3A%20%22Polygon%22%7D%2C%20%22id%22%3A%2066%2C%20%22properties%22%3A%20%7B%22ACS_CODE_1%22%3A%2010350%2C%20%22Cadaster_1%22%3A%20%22Bachoura%20fonci%5Cu00e8re%22%2C%20%22Cadaster_A%22%3A%20%22%5Cu0628%5Cu0627%5Cu0634%5Cu0648%5Cu0631%5Cu0629%22%2C%20%22District_1%22%3A%20%22Beirut%22%2C%20%22District_A%22%3A%20%22%5Cu0628%5Cu064a%5Cu0631%5Cu0648%5Cu062a%22%2C%20%22FID%22%3A%2066%2C%20%22Governor_1%22%3A%20%22%5Cu0628%5Cu064a%5Cu0631%5Cu0648%5Cu062a%22%2C%20%22Governorat%22%3A%20%22Beirut%22%2C%20%22OBJECTID_1%22%3A%2067%2C%20%22Shape_Area%22%3A%201.49457095627e-05%2C%20%22Shape_Leng%22%3A%200.0165091359285%2C%20%22highlight%22%3A%20%7B%7D%2C%20%22style%22%3A%20%7B%22color%22%3A%20%22black%22%2C%20%22fillColor%22%3A%20%22%237bccc4%22%2C%20%22fillOpacity%22%3A%201%2C%20%22opacity%22%3A%200.5%2C%20%22weight%22%3A%201%7D%2C%20%22zone_numbe%22%3A%2066%7D%2C%20%22type%22%3A%20%22Feature%22%7D%2C%20%7B%22geometry%22%3A%20%7B%22coordinates%22%3A%20%5B%5B%5B35.50678193600004%2C%2033.89225265300007%5D%2C%20%5B35.50702589200006%2C%2033.89324836800006%5D%2C%20%5B35.50691612900005%2C%2033.894298899000034%5D%2C%20%5B35.50700033600003%2C%2033.89488602700004%5D%2C%20%5B35.506681324000056%2C%2033.89489880700006%5D%2C%20%5B35.50647169300004%2C%2033.894886609000025%5D%2C%20%5B35.50611758700006%2C%2033.89486573700003%5D%2C%20%5B35.505803868000044%2C%2033.89485280500003%5D%2C%20%5B35.505483053000034%2C%2033.89483976500003%5D%2C%20%5B35.50491355500003%2C%2033.89482295000005%5D%2C%20%5B35.50454043900004%2C%2033.89482137400006%5D%2C%20%5B35.504031885000074%2C%2033.894908077000025%5D%2C%20%5B35.50378038400004%2C%2033.89498684400007%5D%2C%20%5B35.503266619000044%2C%2033.89515732000007%5D%2C%20%5B35.50287524700008%2C%2033.89527962300008%5D%2C%20%5B35.50263543500006%2C%2033.89536476600006%5D%2C%20%5B35.502559974000064%2C%2033.895059348000075%5D%2C%20%5B35.50250663500003%2C%2033.89483981200004%5D%2C%20%5B35.50240199800004%2C%2033.89450844300006%5D%2C%20%5B35.502338215000066%2C%2033.894240972000034%5D%2C%20%5B35.50228276100006%2C%2033.89402549000005%5D%2C%20%5B35.50216901700003%2C%2033.89372428200005%5D%2C%20%5B35.502053029000024%2C%2033.89324544700003%5D%2C%20%5B35.50431444600002%2C%2033.89258800700003%5D%2C%20%5B35.505361409000045%2C%2033.89235323400004%5D%2C%20%5B35.50678193600004%2C%2033.89225265300007%5D%5D%5D%2C%20%22type%22%3A%20%22Polygon%22%7D%2C%20%22id%22%3A%2067%2C%20%22properties%22%3A%20%7B%22ACS_CODE_1%22%3A%2010350%2C%20%22Cadaster_1%22%3A%20%22Bachoura%20fonci%5Cu00e8re%22%2C%20%22Cadaster_A%22%3A%20%22%5Cu0628%5Cu0627%5Cu0634%5Cu0648%5Cu0631%5Cu0629%22%2C%20%22District_1%22%3A%20%22Beirut%22%2C%20%22District_A%22%3A%20%22%5Cu0628%5Cu064a%5Cu0631%5Cu0648%5Cu062a%22%2C%20%22FID%22%3A%2067%2C%20%22Governor_1%22%3A%20%22%5Cu0628%5Cu064a%5Cu0631%5Cu0648%5Cu062a%22%2C%20%22Governorat%22%3A%20%22Beirut%22%2C%20%22OBJECTID_1%22%3A%2068%2C%20%22Shape_Area%22%3A%201.09878703156e-05%2C%20%22Shape_Leng%22%3A%200.0141739576353%2C%20%22highlight%22%3A%20%7B%7D%2C%20%22style%22%3A%20%7B%22color%22%3A%20%22black%22%2C%20%22fillColor%22%3A%20%22%234eb3d3%22%2C%20%22fillOpacity%22%3A%201%2C%20%22opacity%22%3A%200.5%2C%20%22weight%22%3A%201%7D%2C%20%22zone_numbe%22%3A%203%7D%2C%20%22type%22%3A%20%22Feature%22%7D%2C%20%7B%22geometry%22%3A%20%7B%22coordinates%22%3A%20%5B%5B%5B35.50656250900005%2C%2033.88636501900004%5D%2C%20%5B35.50681758700006%2C%2033.88638438900006%5D%2C%20%5B35.507048316000066%2C%2033.88638901500008%5D%2C%20%5B35.50730323600004%2C%2033.88641570900006%5D%2C%20%5B35.50751685100005%2C%2033.88643022100007%5D%2C%20%5B35.507765189000054%2C%2033.88644878200006%5D%2C%20%5B35.50815767700004%2C%2033.88647474100003%5D%2C%20%5B35.50845943000007%2C%2033.88649256000008%5D%2C%20%5B35.508232418000034%2C%2033.88679490800007%5D%2C%20%5B35.507858670000076%2C%2033.88729268600002%5D%2C%20%5B35.507484668000075%2C%2033.88776759500007%5D%2C%20%5B35.507321483000055%2C%2033.88802880500003%5D%2C%20%5B35.50714280100004%2C%2033.88844269000003%5D%2C%20%5B35.506935516000055%2C%2033.888928297000064%5D%2C%20%5B35.506793335000054%2C%2033.88932652700004%5D%2C%20%5B35.50669974400006%2C%2033.88958879100005%5D%2C%20%5B35.506748799000036%2C%2033.89057887300004%5D%2C%20%5B35.50667241600007%2C%2033.89115243300006%5D%2C%20%5B35.50646868200005%2C%2033.891707292000035%5D%2C%20%5B35.50656762400007%2C%2033.89208338700007%5D%2C%20%5B35.50678193600004%2C%2033.89225265300007%5D%2C%20%5B35.505361409000045%2C%2033.89235323400004%5D%2C%20%5B35.50476912800008%2C%2033.89248604800002%5D%2C%20%5B35.504733231000046%2C%2033.89077961700008%5D%2C%20%5B35.504781613000034%2C%2033.88974709000007%5D%2C%20%5B35.504716676000044%2C%2033.88922150600007%5D%2C%20%5B35.50465789900005%2C%2033.88884638500008%5D%2C%20%5B35.50460993100006%2C%2033.88821685200003%5D%2C%20%5B35.50458684000006%2C%2033.888029421000056%5D%2C%20%5B35.50480128400005%2C%2033.88795096700005%5D%2C%20%5B35.50629875800007%2C%2033.88722761100007%5D%2C%20%5B35.50630636900007%2C%2033.88722375800006%5D%2C%20%5B35.50623309800005%2C%2033.886344662000056%5D%2C%20%5B35.50656250900005%2C%2033.88636501900004%5D%5D%5D%2C%20%22type%22%3A%20%22Polygon%22%7D%2C%20%22id%22%3A%2068%2C%20%22properties%22%3A%20%7B%22ACS_CODE_1%22%3A%2010350%2C%20%22Cadaster_1%22%3A%20%22Bachoura%20fonci%5Cu00e8re%22%2C%20%22Cadaster_A%22%3A%20%22%5Cu0628%5Cu0627%5Cu0634%5Cu0648%5Cu0631%5Cu0629%22%2C%20%22District_1%22%3A%20%22Beirut%22%2C%20%22District_A%22%3A%20%22%5Cu0628%5Cu064a%5Cu0631%5Cu0648%5Cu062a%22%2C%20%22FID%22%3A%2068%2C%20%22Governor_1%22%3A%20%22%5Cu0628%5Cu064a%5Cu0631%5Cu0648%5Cu062a%22%2C%20%22Governorat%22%3A%20%22Beirut%22%2C%20%22OBJECTID_1%22%3A%2069%2C%20%22Shape_Area%22%3A%201.21522956081e-05%2C%20%22Shape_Leng%22%3A%200.0179309326696%2C%20%22highlight%22%3A%20%7B%7D%2C%20%22style%22%3A%20%7B%22color%22%3A%20%22black%22%2C%20%22fillColor%22%3A%20%22%232b8cbe%22%2C%20%22fillOpacity%22%3A%201%2C%20%22opacity%22%3A%200.5%2C%20%22weight%22%3A%201%7D%2C%20%22zone_numbe%22%3A%2067%7D%2C%20%22type%22%3A%20%22Feature%22%7D%2C%20%7B%22geometry%22%3A%20%7B%22coordinates%22%3A%20%5B%5B%5B35.544586751000054%2C%2033.88897669600004%5D%2C%20%5B35.54532399300007%2C%2033.889673231000074%5D%2C%20%5B35.546190995000075%2C%2033.89037839000002%5D%2C%20%5B35.54680583500004%2C%2033.89083538600005%5D%2C%20%5B35.54745461700003%2C%2033.89160307000003%5D%2C%20%5B35.54722822300005%2C%2033.89180472600003%5D%2C%20%5B35.546801506000065%2C%2033.89185588400005%5D%2C%20%5B35.54591000200003%2C%2033.891916164000065%5D%2C%20%5B35.54543969100007%2C%2033.89198494500005%5D%2C%20%5B35.545348647000026%2C%2033.89175733500008%5D%2C%20%5B35.54503931700003%2C%2033.890638988000035%5D%2C%20%5B35.54470421000008%2C%2033.88951667600003%5D%2C%20%5B35.544586751000054%2C%2033.88897669600004%5D%5D%5D%2C%20%22type%22%3A%20%22Polygon%22%7D%2C%20%22id%22%3A%2069%2C%20%22properties%22%3A%20%7B%22ACS_CODE_1%22%3A%2022111%2C%20%22Cadaster_1%22%3A%20%22Bourj%20Hammoud%22%2C%20%22Cadaster_A%22%3A%20%22%5Cu0628%5Cu0631%5Cu062c%20%5Cu062d%5Cu0645%5Cu0651%5Cu0648%5Cu062f%22%2C%20%22District_1%22%3A%20%22El%20Meten%22%2C%20%22District_A%22%3A%20%22%5Cu0627%5Cu0644%5Cu0645%5Cu062a%5Cu0646%22%2C%20%22FID%22%3A%2069%2C%20%22Governor_1%22%3A%20%22%5Cu062c%5Cu0628%5Cu0644%20%5Cu0644%5Cu0628%5Cu0646%5Cu0627%5Cu0646%22%2C%20%22Governorat%22%3A%20%22Mount%20Lebanon%22%2C%20%22OBJECTID_1%22%3A%2070%2C%20%22Shape_Area%22%3A%203.55525693192e-06%2C%20%22Shape_Leng%22%3A%200.00913416535459%2C%20%22highlight%22%3A%20%7B%7D%2C%20%22style%22%3A%20%7B%22color%22%3A%20%22black%22%2C%20%22fillColor%22%3A%20%22%2308589e%22%2C%20%22fillOpacity%22%3A%201%2C%20%22opacity%22%3A%200.5%2C%20%22weight%22%3A%201%7D%2C%20%22zone_numbe%22%3A%2085%7D%2C%20%22type%22%3A%20%22Feature%22%7D%2C%20%7B%22geometry%22%3A%20%7B%22coordinates%22%3A%20%5B%5B%5B35.54079733000003%2C%2033.88905889400007%5D%2C%20%5B35.53963067900003%2C%2033.88927717100006%5D%2C%20%5B35.53948482200008%2C%2033.888760801000046%5D%2C%20%5B35.53923299600007%2C%2033.887767376000056%5D%2C%20%5B35.53908626300006%2C%2033.88705353700004%5D%2C%20%5B35.53894547800007%2C%2033.886456689000056%5D%2C%20%5B35.53878684700004%2C%2033.885810269000046%5D%2C%20%5B35.53864011400003%2C%2033.88515988300003%5D%2C%20%5B35.540494670000044%2C%2033.885815868000066%5D%2C%20%5B35.53987929700003%2C%2033.886262274000046%5D%2C%20%5B35.54008631000005%2C%2033.88688807200003%5D%2C%20%5B35.54020131800007%2C%2033.88722484500005%5D%2C%20%5B35.54049002600004%2C%2033.88774198100003%5D%2C%20%5B35.54063755200008%2C%2033.888384436000024%5D%2C%20%5B35.54079733000003%2C%2033.88905889400007%5D%5D%5D%2C%20%22type%22%3A%20%22Polygon%22%7D%2C%20%22id%22%3A%2070%2C%20%22properties%22%3A%20%7B%22ACS_CODE_1%22%3A%2022111%2C%20%22Cadaster_1%22%3A%20%22Bourj%20Hammoud%22%2C%20%22Cadaster_A%22%3A%20%22%5Cu0628%5Cu0631%5Cu062c%20%5Cu062d%5Cu0645%5Cu0651%5Cu0648%5Cu062f%22%2C%20%22District_1%22%3A%20%22El%20Meten%22%2C%20%22District_A%22%3A%20%22%5Cu0627%5Cu0644%5Cu0645%5Cu062a%5Cu0646%22%2C%20%22FID%22%3A%2070%2C%20%22Governor_1%22%3A%20%22%5Cu062c%5Cu0628%5Cu0644%20%5Cu0644%5Cu0628%5Cu0646%5Cu0627%5Cu0646%22%2C%20%22Governorat%22%3A%20%22Mount%20Lebanon%22%2C%20%22OBJECTID_1%22%3A%2071%2C%20%22Shape_Area%22%3A%204.53109658437e-06%2C%20%22Shape_Leng%22%3A%200.0111096186354%2C%20%22highlight%22%3A%20%7B%7D%2C%20%22style%22%3A%20%7B%22color%22%3A%20%22black%22%2C%20%22fillColor%22%3A%20%22%2308589e%22%2C%20%22fillOpacity%22%3A%201%2C%20%22opacity%22%3A%200.5%2C%20%22weight%22%3A%201%7D%2C%20%22zone_numbe%22%3A%20124%7D%2C%20%22type%22%3A%20%22Feature%22%7D%2C%20%7B%22geometry%22%3A%20%7B%22coordinates%22%3A%20%5B%5B%5B35.551701673000025%2C%2033.89520153600006%5D%2C%20%5B35.55169091800008%2C%2033.89546442900007%5D%2C%20%5B35.55169497000003%2C%2033.89595732200007%5D%2C%20%5B35.551824674000045%2C%2033.896549598000036%5D%2C%20%5B35.55269922000008%2C%2033.898690292000026%5D%2C%20%5B35.55263907900007%2C%2033.898744789000034%5D%2C%20%5B35.55269128500004%2C%2033.89898415600004%5D%2C%20%5B35.552688241000055%2C%2033.899127296000074%5D%2C%20%5B35.55265664600006%2C%2033.899270014000024%5D%2C%20%5B35.55251100600003%2C%2033.89938723000006%5D%2C%20%5B35.552394090000064%2C%2033.89950472800007%5D%2C%20%5B35.552331742000035%2C%2033.89974254300006%5D%2C%20%5B35.552298963000055%2C%2033.89993287800007%5D%2C%20%5B35.55229439900006%2C%2033.90014758800004%5D%2C%20%5B35.55226026500003%2C%2033.90040963700005%5D%2C%20%5B35.55228425400003%2C%2033.900624769000046%5D%2C%20%5B35.55230993300006%2C%2033.90076833400008%5D%2C%20%5B35.55227664600005%2C%2033.900982620000036%5D%2C%20%5B35.55221801600004%2C%2033.90105334500004%5D%2C%20%5B35.55213168100005%2C%2033.90107588700005%5D%2C%20%5B35.55198806400006%2C%2033.90109772100004%5D%2C%20%5B35.55181640400008%2C%2033.90109518300005%5D%2C%20%5B35.55161416100003%2C%2033.90118760300004%5D%2C%20%5B35.551522240000054%2C%2033.901472614000056%5D%2C%20%5B35.55166111900007%2C%2033.901665628000046%5D%2C%20%5B35.55171586200004%2C%2033.90178566600002%5D%2C%20%5B35.55174137200004%2C%2033.90192922700004%5D%2C%20%5B35.551738328000056%2C%2033.90207236800006%5D%2C%20%5B35.551678174000074%2C%2033.90221466300005%5D%2C%20%5B35.55150346700003%2C%2033.90235526500004%5D%2C%20%5B35.55138535800006%2C%2033.90252066100004%5D%2C%20%5B35.551294453000025%2C%2033.90275791300007%5D%2C%20%5B35.55117499100004%2C%2033.90299474100004%5D%2C%20%5B35.55105552800006%2C%2033.90323170900007%5D%2C%20%5B35.550734153000064%2C%2033.90353714400004%5D%2C%20%5B35.55027237200005%2C%2033.90372127200004%5D%2C%20%5B35.55004190400007%2C%2033.90378945300006%5D%2C%20%5B35.549725602000024%2C%2033.903856364000035%5D%2C%20%5B35.54923729500007%2C%2033.90394454500006%5D%2C%20%5B35.548865239000065%2C%2033.903939035000064%5D%2C%20%5B35.54841005900005%2C%2033.90381292500007%5D%2C%20%5B35.548097315000064%2C%2033.90371288100005%5D%2C%20%5B35.54789963800005%2C%2033.90359058400003%5D%2C%20%5B35.54778728300005%2C%2033.90349350900004%5D%2C%20%5B35.54764773100004%2C%2033.90332443900007%5D%2C%20%5B35.54753690600006%2C%2033.903155653000056%5D%2C%20%5B35.54745463300003%2C%2033.90298743100004%5D%2C%20%5B35.54734363600005%2C%2033.90281878300004%5D%2C%20%5B35.54729008900006%2C%2033.90265084500004%5D%2C%20%5B35.54720731000003%2C%2033.90250643300004%5D%2C%20%5B35.547152065000034%2C%2033.902410204000034%5D%2C%20%5B35.547118803000046%2C%2033.90222636100003%5D%2C%20%5B35.54627460300003%2C%2033.901948047000076%5D%2C%20%5B35.54581751000006%2C%2033.90179357200003%5D%2C%20%5B35.54539321000004%2C%2033.90175768000006%5D%2C%20%5B35.54482669200007%2C%2033.901749273000064%5D%2C%20%5B35.54422280000006%2C%2033.90182895200007%5D%2C%20%5B35.54347322000007%2C%2033.90209841300003%5D%2C%20%5B35.54322157200005%2C%2033.902271824000024%5D%2C%20%5B35.54304088400005%2C%2033.902446430000055%5D%2C%20%5B35.54293082300006%2C%2033.90262194400003%5D%2C%20%5B35.54278481700004%2C%2033.902826520000076%5D%2C%20%5B35.54270817400004%2C%2033.90309117600003%5D%2C%20%5B35.54270312500006%2C%2033.903327442000034%5D%2C%20%5B35.54276967100003%2C%2033.90353517500006%5D%2C%20%5B35.54301501500004%2C%2033.90365692100005%5D%2C%20%5B35.54319002600005%2C%2033.90374816700006%5D%2C%20%5B35.543186870000056%2C%2033.903895815000055%5D%2C%20%5B35.54315029600008%2C%2033.90395432200006%5D%2C%20%5B35.54297133100005%2C%2033.90404016700006%5D%2C%20%5B35.54275768200006%2C%2033.90409604300004%5D%2C%20%5B35.54247243700007%2C%2033.90418044900008%5D%2C%20%5B35.54233265200003%2C%2033.90423615200007%5D%2C%20%5B35.54049641200004%2C%2033.90285577000003%5D%2C%20%5B35.53981933500006%2C%2033.902256038000075%5D%2C%20%5B35.53908322500007%2C%2033.901587919000065%5D%2C%20%5B35.53860372400004%2C%2033.900965333000045%5D%2C%20%5B35.53843744000005%2C%2033.90060136900007%5D%2C%20%5B35.53836371500006%2C%2033.90005092300004%5D%2C%20%5B35.53819797700004%2C%2033.89921992200004%5D%2C%20%5B35.53795688400004%2C%2033.898724722000054%5D%2C%20%5B35.538164151000046%2C%2033.89868948000003%5D%2C%20%5B35.538306919000036%2C%2033.89861333700003%5D%2C%20%5B35.53844016900007%2C%2033.89882273000006%5D%2C%20%5B35.53865590700008%2C%2033.89896549700006%5D%2C%20%5B35.538935097000035%2C%2033.89894646100004%5D%2C%20%5B35.541330421000055%2C%2033.89813744500003%5D%2C%20%5B35.54397638200004%2C%2033.89724911300004%5D%2C%20%5B35.54620038400003%2C%2033.896503548000055%5D%2C%20%5B35.548265757000024%2C%2033.895799228000044%5D%2C%20%5B35.54947135000003%2C%2033.89539947800006%5D%2C%20%5B35.55055003900003%2C%2033.89520594900006%5D%2C%20%5B35.55145423400006%2C%2033.895177395000076%5D%2C%20%5B35.551701673000025%2C%2033.89520153600006%5D%5D%5D%2C%20%22type%22%3A%20%22Polygon%22%7D%2C%20%22id%22%3A%2071%2C%20%22properties%22%3A%20%7B%22ACS_CODE_1%22%3A%2022111%2C%20%22Cadaster_1%22%3A%20%22Bourj%20Hammoud%22%2C%20%22Cadaster_A%22%3A%20%22%5Cu0628%5Cu0631%5Cu062c%20%5Cu062d%5Cu0645%5Cu0651%5Cu0648%5Cu062f%22%2C%20%22District_1%22%3A%20%22El%20Meten%22%2C%20%22District_A%22%3A%20%22%5Cu0627%5Cu0644%5Cu0645%5Cu062a%5Cu0646%22%2C%20%22FID%22%3A%2071%2C%20%22Governor_1%22%3A%20%22%5Cu062c%5Cu0628%5Cu0644%20%5Cu0644%5Cu0628%5Cu0646%5Cu0627%5Cu0646%22%2C%20%22Governorat%22%3A%20%22Mount%20Lebanon%22%2C%20%22OBJECTID_1%22%3A%2072%2C%20%22Shape_Area%22%3A%208.10662003887e-05%2C%20%22Shape_Leng%22%3A%200.0431208680547%2C%20%22highlight%22%3A%20%7B%7D%2C%20%22style%22%3A%20%7B%22color%22%3A%20%22black%22%2C%20%22fillColor%22%3A%20%22%232b8cbe%22%2C%20%22fillOpacity%22%3A%201%2C%20%22opacity%22%3A%200.5%2C%20%22weight%22%3A%201%7D%2C%20%22zone_numbe%22%3A%2070%7D%2C%20%22type%22%3A%20%22Feature%22%7D%2C%20%7B%22geometry%22%3A%20%7B%22coordinates%22%3A%20%5B%5B%5B35.55116726400007%2C%2033.89380719300004%5D%2C%20%5B35.55116711000005%2C%2033.893807656000035%5D%2C%20%5B35.55104205400005%2C%2033.89393475700007%5D%2C%20%5B35.55113802900007%2C%2033.894110226000066%5D%2C%20%5B35.55128664700004%2C%2033.894353274000025%5D%2C%20%5B35.551433528000075%2C%2033.894503142000076%5D%2C%20%5B35.55153979700003%2C%2033.894687360000034%5D%2C%20%5B35.55163482000006%2C%2033.89485999500005%5D%2C%20%5B35.551705698000035%2C%2033.895103162000055%5D%2C%20%5B35.551701673000025%2C%2033.89520153600006%5D%2C%20%5B35.55145423400006%2C%2033.895177395000076%5D%2C%20%5B35.55055003900003%2C%2033.89520594900006%5D%2C%20%5B35.54947135000003%2C%2033.89539947800006%5D%2C%20%5B35.548265757000024%2C%2033.895799228000044%5D%2C%20%5B35.54620038400003%2C%2033.896503548000055%5D%2C%20%5B35.54397638200004%2C%2033.89724911300004%5D%2C%20%5B35.541330421000055%2C%2033.89813744500003%5D%2C%20%5B35.538935097000035%2C%2033.89894646100004%5D%2C%20%5B35.53865590700008%2C%2033.89896549700006%5D%2C%20%5B35.53844016900007%2C%2033.89882273000006%5D%2C%20%5B35.538306919000036%2C%2033.89861333700003%5D%2C%20%5B35.538164151000046%2C%2033.89868948000003%5D%2C%20%5B35.53795688400004%2C%2033.898724722000054%5D%2C%20%5B35.53776607900005%2C%2033.898332811000046%5D%2C%20%5B35.53741026400007%2C%2033.89753928300007%5D%2C%20%5B35.53740953200003%2C%2033.89736846400007%5D%2C%20%5B35.537428351000074%2C%2033.89718426600007%5D%2C%20%5B35.53738361500007%2C%2033.89707161900003%5D%2C%20%5B35.54153780400003%2C%2033.89610559700003%5D%2C%20%5B35.54432653200007%2C%2033.89541079400004%5D%2C%20%5B35.54666316300006%2C%2033.89478261600004%5D%2C%20%5B35.548509625000065%2C%2033.894244858000036%5D%2C%20%5B35.549723150000034%2C%2033.89395932300005%5D%2C%20%5B35.550360846000046%2C%2033.89381655500006%5D%2C%20%5B35.55094619300007%2C%2033.89376420700006%5D%2C%20%5B35.55116726400007%2C%2033.89380719300004%5D%5D%5D%2C%20%22type%22%3A%20%22Polygon%22%7D%2C%20%22id%22%3A%2072%2C%20%22properties%22%3A%20%7B%22ACS_CODE_1%22%3A%2022111%2C%20%22Cadaster_1%22%3A%20%22Bourj%20Hammoud%22%2C%20%22Cadaster_A%22%3A%20%22%5Cu0628%5Cu0631%5Cu062c%20%5Cu062d%5Cu0645%5Cu0651%5Cu0648%5Cu062f%22%2C%20%22District_1%22%3A%20%22El%20Meten%22%2C%20%22District_A%22%3A%20%22%5Cu0627%5Cu0644%5Cu0645%5Cu062a%5Cu0646%22%2C%20%22FID%22%3A%2072%2C%20%22Governor_1%22%3A%20%22%5Cu062c%5Cu0628%5Cu0644%20%5Cu0644%5Cu0628%5Cu0646%5Cu0627%5Cu0646%22%2C%20%22Governorat%22%3A%20%22Mount%20Lebanon%22%2C%20%22OBJECTID_1%22%3A%2073%2C%20%22Shape_Area%22%3A%202.38830406986e-05%2C%20%22Shape_Leng%22%3A%200.0321378023943%2C%20%22highlight%22%3A%20%7B%7D%2C%20%22style%22%3A%20%7B%22color%22%3A%20%22black%22%2C%20%22fillColor%22%3A%20%22%232b8cbe%22%2C%20%22fillOpacity%22%3A%201%2C%20%22opacity%22%3A%200.5%2C%20%22weight%22%3A%201%7D%2C%20%22zone_numbe%22%3A%2071%7D%2C%20%22type%22%3A%20%22Feature%22%7D%2C%20%7B%22geometry%22%3A%20%7B%22coordinates%22%3A%20%5B%5B%5B35.541192272000046%2C%2033.89618594700005%5D%2C%20%5B35.53738361500007%2C%2033.89707161900003%5D%2C%20%5B35.537285963000045%2C%2033.89682572900006%5D%2C%20%5B35.53688286900007%2C%2033.89598343700004%5D%2C%20%5B35.53655325600005%2C%2033.89538745700003%5D%2C%20%5B35.53753303900004%2C%2033.895265118000054%5D%2C%20%5B35.53808507400004%2C%2033.895074761000046%5D%2C%20%5B35.53995851900004%2C%2033.89407992900004%5D%2C%20%5B35.54075927100007%2C%2033.89519270300008%5D%2C%20%5B35.541108259000055%2C%2033.89590019600007%5D%2C%20%5B35.541192272000046%2C%2033.89618594700005%5D%5D%5D%2C%20%22type%22%3A%20%22Polygon%22%7D%2C%20%22id%22%3A%2073%2C%20%22properties%22%3A%20%7B%22ACS_CODE_1%22%3A%2022111%2C%20%22Cadaster_1%22%3A%20%22Bourj%20Hammoud%22%2C%20%22Cadaster_A%22%3A%20%22%5Cu0628%5Cu0631%5Cu062c%20%5Cu062d%5Cu0645%5Cu0651%5Cu0648%5Cu062f%22%2C%20%22District_1%22%3A%20%22El%20Meten%22%2C%20%22District_A%22%3A%20%22%5Cu0627%5Cu0644%5Cu0645%5Cu062a%5Cu0646%22%2C%20%22FID%22%3A%2073%2C%20%22Governor_1%22%3A%20%22%5Cu062c%5Cu0628%5Cu0644%20%5Cu0644%5Cu0628%5Cu0646%5Cu0627%5Cu0646%22%2C%20%22Governorat%22%3A%20%22Mount%20Lebanon%22%2C%20%22OBJECTID_1%22%3A%2074%2C%20%22Shape_Area%22%3A%207.57708111498e-06%2C%20%22Shape_Leng%22%3A%200.011939875177%2C%20%22highlight%22%3A%20%7B%7D%2C%20%22style%22%3A%20%7B%22color%22%3A%20%22black%22%2C%20%22fillColor%22%3A%20%22%232b8cbe%22%2C%20%22fillOpacity%22%3A%201%2C%20%22opacity%22%3A%200.5%2C%20%22weight%22%3A%201%7D%2C%20%22zone_numbe%22%3A%2072%7D%2C%20%22type%22%3A%20%22Feature%22%7D%2C%20%7B%22geometry%22%3A%20%7B%22coordinates%22%3A%20%5B%5B%5B35.542238016000056%2C%2033.89593114100006%5D%2C%20%5B35.54153780400003%2C%2033.89610559700003%5D%2C%20%5B35.541192272000046%2C%2033.89618594700005%5D%2C%20%5B35.541108259000055%2C%2033.89590019600007%5D%2C%20%5B35.54075927100007%2C%2033.89519270300008%5D%2C%20%5B35.53995851900004%2C%2033.89407992900004%5D%2C%20%5B35.54000292000006%2C%2033.894056352000064%5D%2C%20%5B35.54065489200008%2C%2033.893778748000045%5D%2C%20%5B35.54128185900004%2C%2033.893785638000054%5D%2C%20%5B35.541587323000044%2C%2033.894577612000035%5D%2C%20%5B35.54186691000007%2C%2033.89517049500006%5D%2C%20%5B35.542238016000056%2C%2033.89593114100006%5D%5D%5D%2C%20%22type%22%3A%20%22Polygon%22%7D%2C%20%22id%22%3A%2074%2C%20%22properties%22%3A%20%7B%22ACS_CODE_1%22%3A%2022111%2C%20%22Cadaster_1%22%3A%20%22Bourj%20Hammoud%22%2C%20%22Cadaster_A%22%3A%20%22%5Cu0628%5Cu0631%5Cu062c%20%5Cu062d%5Cu0645%5Cu0651%5Cu0648%5Cu062f%22%2C%20%22District_1%22%3A%20%22El%20Meten%22%2C%20%22District_A%22%3A%20%22%5Cu0627%5Cu0644%5Cu0645%5Cu062a%5Cu0646%22%2C%20%22FID%22%3A%2074%2C%20%22Governor_1%22%3A%20%22%5Cu062c%5Cu0628%5Cu0644%20%5Cu0644%5Cu0628%5Cu0646%5Cu0627%5Cu0646%22%2C%20%22Governorat%22%3A%20%22Mount%20Lebanon%22%2C%20%22OBJECTID_1%22%3A%2075%2C%20%22Shape_Area%22%3A%202.68750290541e-06%2C%20%22Shape_Leng%22%3A%200.00727061236217%2C%20%22highlight%22%3A%20%7B%7D%2C%20%22style%22%3A%20%7B%22color%22%3A%20%22black%22%2C%20%22fillColor%22%3A%20%22%232b8cbe%22%2C%20%22fillOpacity%22%3A%201%2C%20%22opacity%22%3A%200.5%2C%20%22weight%22%3A%201%7D%2C%20%22zone_numbe%22%3A%2073%7D%2C%20%22type%22%3A%20%22Feature%22%7D%2C%20%7B%22geometry%22%3A%20%7B%22coordinates%22%3A%20%5B%5B%5B35.54458087300003%2C%2033.89534241700005%5D%2C%20%5B35.54432653200007%2C%2033.89541079400004%5D%2C%20%5B35.542238016000056%2C%2033.89593114100006%5D%2C%20%5B35.54186691000007%2C%2033.89517049500006%5D%2C%20%5B35.541587323000044%2C%2033.894577612000035%5D%2C%20%5B35.54128185900004%2C%2033.893785638000054%5D%2C%20%5B35.54152101600005%2C%2033.89378826600006%5D%2C%20%5B35.542989936000026%2C%2033.893734331000076%5D%2C%20%5B35.54360984900006%2C%2033.89370534300008%5D%2C%20%5B35.54458087300003%2C%2033.89534241700005%5D%5D%5D%2C%20%22type%22%3A%20%22Polygon%22%7D%2C%20%22id%22%3A%2075%2C%20%22properties%22%3A%20%7B%22ACS_CODE_1%22%3A%2022111%2C%20%22Cadaster_1%22%3A%20%22Bourj%20Hammoud%22%2C%20%22Cadaster_A%22%3A%20%22%5Cu0628%5Cu0631%5Cu062c%20%5Cu062d%5Cu0645%5Cu0651%5Cu0648%5Cu062f%22%2C%20%22District_1%22%3A%20%22El%20Meten%22%2C%20%22District_A%22%3A%20%22%5Cu0627%5Cu0644%5Cu0645%5Cu062a%5Cu0646%22%2C%20%22FID%22%3A%2075%2C%20%22Governor_1%22%3A%20%22%5Cu062c%5Cu0628%5Cu0644%20%5Cu0644%5Cu0628%5Cu0646%5Cu0627%5Cu0646%22%2C%20%22Governorat%22%3A%20%22Mount%20Lebanon%22%2C%20%22OBJECTID_1%22%3A%2076%2C%20%22Shape_Area%22%3A%204.78190329888e-06%2C%20%22Shape_Leng%22%3A%200.008999482942%2C%20%22highlight%22%3A%20%7B%7D%2C%20%22style%22%3A%20%7B%22color%22%3A%20%22black%22%2C%20%22fillColor%22%3A%20%22%232b8cbe%22%2C%20%22fillOpacity%22%3A%201%2C%20%22opacity%22%3A%200.5%2C%20%22weight%22%3A%201%7D%2C%20%22zone_numbe%22%3A%2074%7D%2C%20%22type%22%3A%20%22Feature%22%7D%2C%20%7B%22geometry%22%3A%20%7B%22coordinates%22%3A%20%5B%5B%5B35.54489374800005%2C%2033.89364625800005%5D%2C%20%5B35.54940060100006%2C%2033.89346624600006%5D%2C%20%5B35.550417424000045%2C%2033.893369481000036%5D%2C%20%5B35.550535386000035%2C%2033.893268412000054%5D%2C%20%5B35.55072652500007%2C%2033.89322839700003%5D%2C%20%5B35.55092128800004%2C%2033.893256364000024%5D%2C%20%5B35.55108496100007%2C%2033.893347713000026%5D%2C%20%5B35.551190838000025%2C%2033.89348668500003%5D%2C%20%5B35.55121982400004%2C%2033.89364932600006%5D%2C%20%5B35.55116726400007%2C%2033.89380719300004%5D%2C%20%5B35.55094619300007%2C%2033.89376420700006%5D%2C%20%5B35.550360846000046%2C%2033.89381655500006%5D%2C%20%5B35.549723150000034%2C%2033.89395932300005%5D%2C%20%5B35.549018373000024%2C%2033.89412515300006%5D%2C%20%5B35.54814638700003%2C%2033.894104999000035%5D%2C%20%5B35.54732468000003%2C%2033.89412086200008%5D%2C%20%5B35.54628723500008%2C%2033.89410182600005%5D%2C%20%5B35.54565271200005%2C%2033.89401933800008%5D%2C%20%5B35.54516412900006%2C%2033.893816291000064%5D%2C%20%5B35.54489374800005%2C%2033.89364625800005%5D%5D%5D%2C%20%22type%22%3A%20%22Polygon%22%7D%2C%20%22id%22%3A%2076%2C%20%22properties%22%3A%20%7B%22ACS_CODE_1%22%3A%2022111%2C%20%22Cadaster_1%22%3A%20%22Bourj%20Hammoud%22%2C%20%22Cadaster_A%22%3A%20%22%5Cu0628%5Cu0631%5Cu062c%20%5Cu062d%5Cu0645%5Cu0651%5Cu0648%5Cu062f%22%2C%20%22District_1%22%3A%20%22El%20Meten%22%2C%20%22District_A%22%3A%20%22%5Cu0627%5Cu0644%5Cu0645%5Cu062a%5Cu0646%22%2C%20%22FID%22%3A%2076%2C%20%22Governor_1%22%3A%20%22%5Cu062c%5Cu0628%5Cu0644%20%5Cu0644%5Cu0628%5Cu0646%5Cu0627%5Cu0646%22%2C%20%22Governorat%22%3A%20%22Mount%20Lebanon%22%2C%20%22OBJECTID_1%22%3A%2077%2C%20%22Shape_Area%22%3A%203.16008630089e-06%2C%20%22Shape_Leng%22%3A%200.0131834408944%2C%20%22highlight%22%3A%20%7B%7D%2C%20%22style%22%3A%20%7B%22color%22%3A%20%22black%22%2C%20%22fillColor%22%3A%20%22%232b8cbe%22%2C%20%22fillOpacity%22%3A%201%2C%20%22opacity%22%3A%200.5%2C%20%22weight%22%3A%201%7D%2C%20%22zone_numbe%22%3A%2076%7D%2C%20%22type%22%3A%20%22Feature%22%7D%2C%20%7B%22geometry%22%3A%20%7B%22coordinates%22%3A%20%5B%5B%5B35.549018373000024%2C%2033.89412515300006%5D%2C%20%5B35.548509625000065%2C%2033.894244858000036%5D%2C%20%5B35.54666316300006%2C%2033.89478261600004%5D%2C%20%5B35.54458087300003%2C%2033.89534241700005%5D%2C%20%5B35.54360984900006%2C%2033.89370534300008%5D%2C%20%5B35.544753910000054%2C%2033.89365184300004%5D%2C%20%5B35.54489374800005%2C%2033.89364625800005%5D%2C%20%5B35.54516412900006%2C%2033.893816291000064%5D%2C%20%5B35.54565271200005%2C%2033.89401933800008%5D%2C%20%5B35.54628723500008%2C%2033.89410182600005%5D%2C%20%5B35.54732468000003%2C%2033.89412086200008%5D%2C%20%5B35.54814638700003%2C%2033.894104999000035%5D%2C%20%5B35.549018373000024%2C%2033.89412515300006%5D%5D%5D%2C%20%22type%22%3A%20%22Polygon%22%7D%2C%20%22id%22%3A%2077%2C%20%22properties%22%3A%20%7B%22ACS_CODE_1%22%3A%2022111%2C%20%22Cadaster_1%22%3A%20%22Bourj%20Hammoud%22%2C%20%22Cadaster_A%22%3A%20%22%5Cu0628%5Cu0631%5Cu062c%20%5Cu062d%5Cu0645%5Cu0651%5Cu0648%5Cu062f%22%2C%20%22District_1%22%3A%20%22El%20Meten%22%2C%20%22District_A%22%3A%20%22%5Cu0627%5Cu0644%5Cu0645%5Cu062a%5Cu0646%22%2C%20%22FID%22%3A%2077%2C%20%22Governor_1%22%3A%20%22%5Cu062c%5Cu0628%5Cu0644%20%5Cu0644%5Cu0628%5Cu0646%5Cu0627%5Cu0646%22%2C%20%22Governorat%22%3A%20%22Mount%20Lebanon%22%2C%20%22OBJECTID_1%22%3A%2078%2C%20%22Shape_Area%22%3A%203.94638816826e-06%2C%20%22Shape_Leng%22%3A%200.0120107517829%2C%20%22highlight%22%3A%20%7B%7D%2C%20%22style%22%3A%20%7B%22color%22%3A%20%22black%22%2C%20%22fillColor%22%3A%20%22%232b8cbe%22%2C%20%22fillOpacity%22%3A%201%2C%20%22opacity%22%3A%200.5%2C%20%22weight%22%3A%201%7D%2C%20%22zone_numbe%22%3A%2075%7D%2C%20%22type%22%3A%20%22Feature%22%7D%2C%20%7B%22geometry%22%3A%20%7B%22coordinates%22%3A%20%5B%5B%5B35.535877939000045%2C%2033.892269568000074%5D%2C%20%5B35.535863979000055%2C%2033.89259243500004%5D%2C%20%5B35.53487683800006%2C%2033.892660662000026%5D%2C%20%5B35.53448994900003%2C%2033.891821281000034%5D%2C%20%5B35.534111594000024%2C%2033.89119863700006%5D%2C%20%5B35.534399300000075%2C%2033.89100591300007%5D%2C%20%5B35.53461431900007%2C%2033.890861286000074%5D%2C%20%5B35.53485883800005%2C%2033.89068074000005%5D%2C%20%5B35.53509188600003%2C%2033.89053060500004%5D%2C%20%5B35.535460400000034%2C%2033.890288912000074%5D%2C%20%5B35.53559678500005%2C%2033.89017031100008%5D%2C%20%5B35.535764577000066%2C%2033.88998974500004%5D%2C%20%5B35.535975783000026%2C%2033.88991242600002%5D%2C%20%5B35.53618539800004%2C%2033.88987693800004%5D%2C%20%5B35.53593060400004%2C%2033.89148915800007%5D%2C%20%5B35.535877939000045%2C%2033.892269568000074%5D%5D%5D%2C%20%22type%22%3A%20%22Polygon%22%7D%2C%20%22id%22%3A%2078%2C%20%22properties%22%3A%20%7B%22ACS_CODE_1%22%3A%2022111%2C%20%22Cadaster_1%22%3A%20%22Bourj%20Hammoud%22%2C%20%22Cadaster_A%22%3A%20%22%5Cu0628%5Cu0631%5Cu062c%20%5Cu062d%5Cu0645%5Cu0651%5Cu0648%5Cu062f%22%2C%20%22District_1%22%3A%20%22El%20Meten%22%2C%20%22District_A%22%3A%20%22%5Cu0627%5Cu0644%5Cu0645%5Cu062a%5Cu0646%22%2C%20%22FID%22%3A%2078%2C%20%22Governor_1%22%3A%20%22%5Cu062c%5Cu0628%5Cu0644%20%5Cu0644%5Cu0628%5Cu0646%5Cu0627%5Cu0646%22%2C%20%22Governorat%22%3A%20%22Mount%20Lebanon%22%2C%20%22OBJECTID_1%22%3A%2079%2C%20%22Shape_Area%22%3A%203.32714248578e-06%2C%20%22Shape_Leng%22%3A%200.00787196132391%2C%20%22highlight%22%3A%20%7B%7D%2C%20%22style%22%3A%20%7B%22color%22%3A%20%22black%22%2C%20%22fillColor%22%3A%20%22%232b8cbe%22%2C%20%22fillOpacity%22%3A%201%2C%20%22opacity%22%3A%200.5%2C%20%22weight%22%3A%201%7D%2C%20%22zone_numbe%22%3A%20115%7D%2C%20%22type%22%3A%20%22Feature%22%7D%2C%20%7B%22geometry%22%3A%20%7B%22coordinates%22%3A%20%5B%5B%5B35.53769063900006%2C%2033.89492687100005%5D%2C%20%5B35.53788867900005%2C%2033.895142484000075%5D%2C%20%5B35.53753303900004%2C%2033.895265118000054%5D%2C%20%5B35.53655325600005%2C%2033.89538745700003%5D%2C%20%5B35.53630968500005%2C%2033.895019097000045%5D%2C%20%5B35.535977381000066%2C%2033.894737916000054%5D%2C%20%5B35.53512031900004%2C%2033.89396170500004%5D%2C%20%5B35.53491906700003%2C%2033.89365358600003%5D%2C%20%5B35.534890250000046%2C%2033.89338433800003%5D%2C%20%5B35.534883594000064%2C%2033.89332215100006%5D%2C%20%5B35.53487683800006%2C%2033.892660662000026%5D%2C%20%5B35.535863979000055%2C%2033.89259243500004%5D%2C%20%5B35.535877939000045%2C%2033.892269568000074%5D%2C%20%5B35.53640713100003%2C%2033.89227718300003%5D%2C%20%5B35.53672701900007%2C%2033.89227468300004%5D%2C%20%5B35.536838051000075%2C%2033.89326175100007%5D%2C%20%5B35.536939575000076%2C%2033.894230984000046%5D%2C%20%5B35.53769063900006%2C%2033.89492687100005%5D%5D%5D%2C%20%22type%22%3A%20%22Polygon%22%7D%2C%20%22id%22%3A%2079%2C%20%22properties%22%3A%20%7B%22ACS_CODE_1%22%3A%2022111%2C%20%22Cadaster_1%22%3A%20%22Bourj%20Hammoud%22%2C%20%22Cadaster_A%22%3A%20%22%5Cu0628%5Cu0631%5Cu062c%20%5Cu062d%5Cu0645%5Cu0651%5Cu0648%5Cu062f%22%2C%20%22District_1%22%3A%20%22El%20Meten%22%2C%20%22District_A%22%3A%20%22%5Cu0627%5Cu0644%5Cu0645%5Cu062a%5Cu0646%22%2C%20%22FID%22%3A%2079%2C%20%22Governor_1%22%3A%20%22%5Cu062c%5Cu0628%5Cu0644%20%5Cu0644%5Cu0628%5Cu0646%5Cu0627%5Cu0646%22%2C%20%22Governorat%22%3A%20%22Mount%20Lebanon%22%2C%20%22OBJECTID_1%22%3A%2080%2C%20%22Shape_Area%22%3A%204.91444066717e-06%2C%20%22Shape_Leng%22%3A%200.0102059668275%2C%20%22highlight%22%3A%20%7B%7D%2C%20%22style%22%3A%20%7B%22color%22%3A%20%22black%22%2C%20%22fillColor%22%3A%20%22%232b8cbe%22%2C%20%22fillOpacity%22%3A%201%2C%20%22opacity%22%3A%200.5%2C%20%22weight%22%3A%201%7D%2C%20%22zone_numbe%22%3A%20107%7D%2C%20%22type%22%3A%20%22Feature%22%7D%2C%20%7B%22geometry%22%3A%20%7B%22coordinates%22%3A%20%5B%5B%5B35.53809905400004%2C%2033.893074385000034%5D%2C%20%5B35.536831438000036%2C%2033.89320296100004%5D%2C%20%5B35.53672701900007%2C%2033.89227468300004%5D%2C%20%5B35.53689444500003%2C%2033.89227337500006%5D%2C%20%5B35.53711906600006%2C%2033.89231906100002%5D%2C%20%5B35.53801111100006%2C%2033.89225485800006%5D%2C%20%5B35.538065404000065%2C%2033.89280518500004%5D%2C%20%5B35.53809905400004%2C%2033.893074385000034%5D%5D%5D%2C%20%22type%22%3A%20%22Polygon%22%7D%2C%20%22id%22%3A%2080%2C%20%22properties%22%3A%20%7B%22ACS_CODE_1%22%3A%2022111%2C%20%22Cadaster_1%22%3A%20%22Bourj%20Hammoud%22%2C%20%22Cadaster_A%22%3A%20%22%5Cu0628%5Cu0631%5Cu062c%20%5Cu062d%5Cu0645%5Cu0651%5Cu0648%5Cu062f%22%2C%20%22District_1%22%3A%20%22El%20Meten%22%2C%20%22District_A%22%3A%20%22%5Cu0627%5Cu0644%5Cu0645%5Cu062a%5Cu0646%22%2C%20%22FID%22%3A%2080%2C%20%22Governor_1%22%3A%20%22%5Cu062c%5Cu0628%5Cu0644%20%5Cu0644%5Cu0628%5Cu0646%5Cu0627%5Cu0646%22%2C%20%22Governorat%22%3A%20%22Mount%20Lebanon%22%2C%20%22OBJECTID_1%22%3A%2081%2C%20%22Shape_Area%22%3A%201.09174979553e-06%2C%20%22Shape_Leng%22%3A%200.00432354975108%2C%20%22highlight%22%3A%20%7B%7D%2C%20%22style%22%3A%20%7B%22color%22%3A%20%22black%22%2C%20%22fillColor%22%3A%20%22%232b8cbe%22%2C%20%22fillOpacity%22%3A%201%2C%20%22opacity%22%3A%200.5%2C%20%22weight%22%3A%201%7D%2C%20%22zone_numbe%22%3A%20108%7D%2C%20%22type%22%3A%20%22Feature%22%7D%2C%20%7B%22geometry%22%3A%20%7B%22coordinates%22%3A%20%5B%5B%5B35.53809905400004%2C%2033.893074385000034%5D%2C%20%5B35.53810307900005%2C%2033.893106583000076%5D%2C%20%5B35.53805747200005%2C%2033.89399293300005%5D%2C%20%5B35.537999969000055%2C%2033.89416147800006%5D%2C%20%5B35.53769063900006%2C%2033.89492687100005%5D%2C%20%5B35.536939575000076%2C%2033.894230984000046%5D%2C%20%5B35.536838051000075%2C%2033.89326175100007%5D%2C%20%5B35.536831438000036%2C%2033.89320296100004%5D%2C%20%5B35.53809905400004%2C%2033.893074385000034%5D%5D%5D%2C%20%22type%22%3A%20%22Polygon%22%7D%2C%20%22id%22%3A%2081%2C%20%22properties%22%3A%20%7B%22ACS_CODE_1%22%3A%2022111%2C%20%22Cadaster_1%22%3A%20%22Bourj%20Hammoud%22%2C%20%22Cadaster_A%22%3A%20%22%5Cu0628%5Cu0631%5Cu062c%20%5Cu062d%5Cu0645%5Cu0651%5Cu0648%5Cu062f%22%2C%20%22District_1%22%3A%20%22El%20Meten%22%2C%20%22District_A%22%3A%20%22%5Cu0627%5Cu0644%5Cu0645%5Cu062a%5Cu0646%22%2C%20%22FID%22%3A%2081%2C%20%22Governor_1%22%3A%20%22%5Cu062c%5Cu0628%5Cu0644%20%5Cu0644%5Cu0628%5Cu0646%5Cu0627%5Cu0646%22%2C%20%22Governorat%22%3A%20%22Mount%20Lebanon%22%2C%20%22OBJECTID_1%22%3A%2082%2C%20%22Shape_Area%22%3A%201.65171293553e-06%2C%20%22Shape_Leng%22%3A%200.00525530159781%2C%20%22highlight%22%3A%20%7B%7D%2C%20%22style%22%3A%20%7B%22color%22%3A%20%22black%22%2C%20%22fillColor%22%3A%20%22%232b8cbe%22%2C%20%22fillOpacity%22%3A%201%2C%20%22opacity%22%3A%200.5%2C%20%22weight%22%3A%201%7D%2C%20%22zone_numbe%22%3A%20106%7D%2C%20%22type%22%3A%20%22Feature%22%7D%2C%20%7B%22geometry%22%3A%20%7B%22coordinates%22%3A%20%5B%5B%5B35.53785708600003%2C%2033.89079797100004%5D%2C%20%5B35.537934533000055%2C%2033.891478635000055%5D%2C%20%5B35.53801111100006%2C%2033.89225485800006%5D%2C%20%5B35.53711906600006%2C%2033.89231906100002%5D%2C%20%5B35.53689444500003%2C%2033.89227337500006%5D%2C%20%5B35.53672701900007%2C%2033.89227468300004%5D%2C%20%5B35.53667669500004%2C%2033.89181138200007%5D%2C%20%5B35.53664728900003%2C%2033.89135952200007%5D%2C%20%5B35.53680671300003%2C%2033.89129210400006%5D%2C%20%5B35.53712735800008%2C%2033.891146270000036%5D%2C%20%5B35.53758421500004%2C%2033.89091276500005%5D%2C%20%5B35.53785708600003%2C%2033.89079797100004%5D%5D%5D%2C%20%22type%22%3A%20%22Polygon%22%7D%2C%20%22id%22%3A%2082%2C%20%22properties%22%3A%20%7B%22ACS_CODE_1%22%3A%2022111%2C%20%22Cadaster_1%22%3A%20%22Bourj%20Hammoud%22%2C%20%22Cadaster_A%22%3A%20%22%5Cu0628%5Cu0631%5Cu062c%20%5Cu062d%5Cu0645%5Cu0651%5Cu0648%5Cu062f%22%2C%20%22District_1%22%3A%20%22El%20Meten%22%2C%20%22District_A%22%3A%20%22%5Cu0627%5Cu0644%5Cu0645%5Cu062a%5Cu0646%22%2C%20%22FID%22%3A%2082%2C%20%22Governor_1%22%3A%20%22%5Cu062c%5Cu0628%5Cu0644%20%5Cu0644%5Cu0628%5Cu0646%5Cu0627%5Cu0646%22%2C%20%22Governorat%22%3A%20%22Mount%20Lebanon%22%2C%20%22OBJECTID_1%22%3A%2083%2C%20%22Shape_Area%22%3A%201.54886662768e-06%2C%20%22Shape_Leng%22%3A%200.00500934282684%2C%20%22highlight%22%3A%20%7B%7D%2C%20%22style%22%3A%20%7B%22color%22%3A%20%22black%22%2C%20%22fillColor%22%3A%20%22%232b8cbe%22%2C%20%22fillOpacity%22%3A%201%2C%20%22opacity%22%3A%200.5%2C%20%22weight%22%3A%201%7D%2C%20%22zone_numbe%22%3A%20113%7D%2C%20%22type%22%3A%20%22Feature%22%7D%2C%20%7B%22geometry%22%3A%20%7B%22coordinates%22%3A%20%5B%5B%5B35.539594769000075%2C%2033.889922213000034%5D%2C%20%5B35.53930834700003%2C%2033.88993535100008%5D%2C%20%5B35.53897522200003%2C%2033.889973026000064%5D%2C%20%5B35.53856080000003%2C%2033.89006225600008%5D%2C%20%5B35.53832367800004%2C%2033.89014926500005%5D%2C%20%5B35.537934208000024%2C%2033.89022683500008%5D%2C%20%5B35.537792309000054%2C%2033.89023107100007%5D%2C%20%5B35.53740279500005%2C%2033.89023080100003%5D%2C%20%5B35.53704785900004%2C%2033.89021692100005%5D%2C%20%5B35.53640540500004%2C%2033.89005035900004%5D%2C%20%5B35.53618539800004%2C%2033.88987693800004%5D%2C%20%5B35.53770633600004%2C%2033.88961944000005%5D%2C%20%5B35.538704875000064%2C%2033.88945038600008%5D%2C%20%5B35.539452838000045%2C%2033.889310444000046%5D%2C%20%5B35.539594769000075%2C%2033.889922213000034%5D%5D%5D%2C%20%22type%22%3A%20%22Polygon%22%7D%2C%20%22id%22%3A%2083%2C%20%22properties%22%3A%20%7B%22ACS_CODE_1%22%3A%2022111%2C%20%22Cadaster_1%22%3A%20%22Bourj%20Hammoud%22%2C%20%22Cadaster_A%22%3A%20%22%5Cu0628%5Cu0631%5Cu062c%20%5Cu062d%5Cu0645%5Cu0651%5Cu0648%5Cu062f%22%2C%20%22District_1%22%3A%20%22El%20Meten%22%2C%20%22District_A%22%3A%20%22%5Cu0627%5Cu0644%5Cu0645%5Cu062a%5Cu0646%22%2C%20%22FID%22%3A%2083%2C%20%22Governor_1%22%3A%20%22%5Cu062c%5Cu0628%5Cu0644%20%5Cu0644%5Cu0628%5Cu0646%5Cu0627%5Cu0646%22%2C%20%22Governorat%22%3A%20%22Mount%20Lebanon%22%2C%20%22OBJECTID_1%22%3A%2084%2C%20%22Shape_Area%22%3A%201.71500469984e-06%2C%20%22Shape_Leng%22%3A%200.00747039819181%2C%20%22highlight%22%3A%20%7B%7D%2C%20%22style%22%3A%20%7B%22color%22%3A%20%22black%22%2C%20%22fillColor%22%3A%20%22%232b8cbe%22%2C%20%22fillOpacity%22%3A%201%2C%20%22opacity%22%3A%200.5%2C%20%22weight%22%3A%201%7D%2C%20%22zone_numbe%22%3A%20118%7D%2C%20%22type%22%3A%20%22Feature%22%7D%2C%20%7B%22geometry%22%3A%20%7B%22coordinates%22%3A%20%5B%5B%5B35.53889348000007%2C%2033.89298648100004%5D%2C%20%5B35.53889348000007%2C%2033.89310868000007%5D%2C%20%5B35.538931551000076%2C%2033.893276194000066%5D%2C%20%5B35.53901911600008%2C%2033.89359472500007%5D%2C%20%5B35.539247311000054%2C%2033.89445759300003%5D%2C%20%5B35.53808507400004%2C%2033.895074761000046%5D%2C%20%5B35.53788867900005%2C%2033.895142484000075%5D%2C%20%5B35.53769063900006%2C%2033.89492687100005%5D%2C%20%5B35.537999969000055%2C%2033.89416147800006%5D%2C%20%5B35.53805747200005%2C%2033.89399293300005%5D%2C%20%5B35.53810307900005%2C%2033.893106583000076%5D%2C%20%5B35.53809905400004%2C%2033.893074385000034%5D%2C%20%5B35.53889348000007%2C%2033.89298648100004%5D%5D%5D%2C%20%22type%22%3A%20%22Polygon%22%7D%2C%20%22id%22%3A%2084%2C%20%22properties%22%3A%20%7B%22ACS_CODE_1%22%3A%2022111%2C%20%22Cadaster_1%22%3A%20%22Bourj%20Hammoud%22%2C%20%22Cadaster_A%22%3A%20%22%5Cu0628%5Cu0631%5Cu062c%20%5Cu062d%5Cu0645%5Cu0651%5Cu0648%5Cu062f%22%2C%20%22District_1%22%3A%20%22El%20Meten%22%2C%20%22District_A%22%3A%20%22%5Cu0627%5Cu0644%5Cu0645%5Cu062a%5Cu0646%22%2C%20%22FID%22%3A%2084%2C%20%22Governor_1%22%3A%20%22%5Cu062c%5Cu0628%5Cu0644%20%5Cu0644%5Cu0628%5Cu0646%5Cu0627%5Cu0646%22%2C%20%22Governorat%22%3A%20%22Mount%20Lebanon%22%2C%20%22OBJECTID_1%22%3A%2085%2C%20%22Shape_Area%22%3A%202.00167764538e-06%2C%20%22Shape_Leng%22%3A%200.00605617364023%2C%20%22highlight%22%3A%20%7B%7D%2C%20%22style%22%3A%20%7B%22color%22%3A%20%22black%22%2C%20%22fillColor%22%3A%20%22%232b8cbe%22%2C%20%22fillOpacity%22%3A%201%2C%20%22opacity%22%3A%200.5%2C%20%22weight%22%3A%201%7D%2C%20%22zone_numbe%22%3A%20105%7D%2C%20%22type%22%3A%20%22Feature%22%7D%2C%20%7B%22geometry%22%3A%20%7B%22coordinates%22%3A%20%5B%5B%5B35.54022586800005%2C%2033.89286882000005%5D%2C%20%5B35.540431057000035%2C%2033.893874055000026%5D%2C%20%5B35.54000292000006%2C%2033.894056352000064%5D%2C%20%5B35.539247311000054%2C%2033.89445759300003%5D%2C%20%5B35.53901911600008%2C%2033.89359472500007%5D%2C%20%5B35.538931551000076%2C%2033.893276194000066%5D%2C%20%5B35.53889348000007%2C%2033.89310868000007%5D%2C%20%5B35.53889348000007%2C%2033.89298648100004%5D%2C%20%5B35.54022586800005%2C%2033.89286882000005%5D%5D%5D%2C%20%22type%22%3A%20%22Polygon%22%7D%2C%20%22id%22%3A%2085%2C%20%22properties%22%3A%20%7B%22ACS_CODE_1%22%3A%2022111%2C%20%22Cadaster_1%22%3A%20%22Bourj%20Hammoud%22%2C%20%22Cadaster_A%22%3A%20%22%5Cu0628%5Cu0631%5Cu062c%20%5Cu062d%5Cu0645%5Cu0651%5Cu0648%5Cu062f%22%2C%20%22District_1%22%3A%20%22El%20Meten%22%2C%20%22District_A%22%3A%20%22%5Cu0627%5Cu0644%5Cu0645%5Cu062a%5Cu0646%22%2C%20%22FID%22%3A%2085%2C%20%22Governor_1%22%3A%20%22%5Cu062c%5Cu0628%5Cu0644%20%5Cu0644%5Cu0628%5Cu0646%5Cu0627%5Cu0646%22%2C%20%22Governorat%22%3A%20%22Mount%20Lebanon%22%2C%20%22OBJECTID_1%22%3A%2086%2C%20%22Shape_Area%22%3A%201.66282341418e-06%2C%20%22Shape_Leng%22%3A%200.00520126707608%2C%20%22highlight%22%3A%20%7B%7D%2C%20%22style%22%3A%20%7B%22color%22%3A%20%22black%22%2C%20%22fillColor%22%3A%20%22%232b8cbe%22%2C%20%22fillOpacity%22%3A%201%2C%20%22opacity%22%3A%200.5%2C%20%22weight%22%3A%201%7D%2C%20%22zone_numbe%22%3A%20104%7D%2C%20%22type%22%3A%20%22Feature%22%7D%2C%20%7B%22geometry%22%3A%20%7B%22coordinates%22%3A%20%5B%5B%5B35.53888239200006%2C%2033.89218701500005%5D%2C%20%5B35.53889348000007%2C%2033.89275080900006%5D%2C%20%5B35.53889348000007%2C%2033.89298648100004%5D%2C%20%5B35.53809905400004%2C%2033.893074385000034%5D%2C%20%5B35.538065404000065%2C%2033.89280518500004%5D%2C%20%5B35.53801111100006%2C%2033.89225485800006%5D%2C%20%5B35.538181492000035%2C%2033.892235190000065%5D%2C%20%5B35.53855713000007%2C%2033.89221361700004%5D%2C%20%5B35.53888239200006%2C%2033.89218701500005%5D%5D%5D%2C%20%22type%22%3A%20%22Polygon%22%7D%2C%20%22id%22%3A%2086%2C%20%22properties%22%3A%20%7B%22ACS_CODE_1%22%3A%2022111%2C%20%22Cadaster_1%22%3A%20%22Bourj%20Hammoud%22%2C%20%22Cadaster_A%22%3A%20%22%5Cu0628%5Cu0631%5Cu062c%20%5Cu062d%5Cu0645%5Cu0651%5Cu0648%5Cu062f%22%2C%20%22District_1%22%3A%20%22El%20Meten%22%2C%20%22District_A%22%3A%20%22%5Cu0627%5Cu0644%5Cu0645%5Cu062a%5Cu0646%22%2C%20%22FID%22%3A%2086%2C%20%22Governor_1%22%3A%20%22%5Cu062c%5Cu0628%5Cu0644%20%5Cu0644%5Cu0628%5Cu0646%5Cu0627%5Cu0646%22%2C%20%22Governorat%22%3A%20%22Mount%20Lebanon%22%2C%20%22OBJECTID_1%22%3A%2087%2C%20%22Shape_Area%22%3A%206.82606593876e-07%2C%20%22Shape_Leng%22%3A%200.0032972606319%2C%20%22highlight%22%3A%20%7B%7D%2C%20%22style%22%3A%20%7B%22color%22%3A%20%22black%22%2C%20%22fillColor%22%3A%20%22%232b8cbe%22%2C%20%22fillOpacity%22%3A%201%2C%20%22opacity%22%3A%200.5%2C%20%22weight%22%3A%201%7D%2C%20%22zone_numbe%22%3A%20109%7D%2C%20%22type%22%3A%20%22Feature%22%7D%2C%20%7B%22geometry%22%3A%20%7B%22coordinates%22%3A%20%5B%5B%5B35.53866242500004%2C%2033.89082319200003%5D%2C%20%5B35.53880718500005%2C%2033.89111881600007%5D%2C%20%5B35.53885921600005%2C%2033.89133582300008%5D%2C%20%5B35.53887698200003%2C%2033.891911970000024%5D%2C%20%5B35.53888239200006%2C%2033.89218701500005%5D%2C%20%5B35.53855713000007%2C%2033.89221361700004%5D%2C%20%5B35.538181492000035%2C%2033.892235190000065%5D%2C%20%5B35.53801111100006%2C%2033.89225485800006%5D%2C%20%5B35.537934533000055%2C%2033.891478635000055%5D%2C%20%5B35.537863181000034%2C%2033.89085154000003%5D%2C%20%5B35.53866242500004%2C%2033.89082319200003%5D%5D%5D%2C%20%22type%22%3A%20%22Polygon%22%7D%2C%20%22id%22%3A%2087%2C%20%22properties%22%3A%20%7B%22ACS_CODE_1%22%3A%2022111%2C%20%22Cadaster_1%22%3A%20%22Bourj%20Hammoud%22%2C%20%22Cadaster_A%22%3A%20%22%5Cu0628%5Cu0631%5Cu062c%20%5Cu062d%5Cu0645%5Cu0651%5Cu0648%5Cu062f%22%2C%20%22District_1%22%3A%20%22El%20Meten%22%2C%20%22District_A%22%3A%20%22%5Cu0627%5Cu0644%5Cu0645%5Cu062a%5Cu0646%22%2C%20%22FID%22%3A%2087%2C%20%22Governor_1%22%3A%20%22%5Cu062c%5Cu0628%5Cu0644%20%5Cu0644%5Cu0628%5Cu0646%5Cu0627%5Cu0646%22%2C%20%22Governorat%22%3A%20%22Mount%20Lebanon%22%2C%20%22OBJECTID_1%22%3A%2088%2C%20%22Shape_Area%22%3A%201.24622328476e-06%2C%20%22Shape_Leng%22%3A%200.00448883710306%2C%20%22highlight%22%3A%20%7B%7D%2C%20%22style%22%3A%20%7B%22color%22%3A%20%22black%22%2C%20%22fillColor%22%3A%20%22%232b8cbe%22%2C%20%22fillOpacity%22%3A%201%2C%20%22opacity%22%3A%200.5%2C%20%22weight%22%3A%201%7D%2C%20%22zone_numbe%22%3A%20112%7D%2C%20%22type%22%3A%20%22Feature%22%7D%2C%20%7B%22geometry%22%3A%20%7B%22coordinates%22%3A%20%5B%5B%5B35.540094314000044%2C%2033.89222530700005%5D%2C%20%5B35.54011570600005%2C%2033.89232912800003%5D%2C%20%5B35.54022586800005%2C%2033.89286882000005%5D%2C%20%5B35.53889348000007%2C%2033.89298648100004%5D%2C%20%5B35.53889348000007%2C%2033.89275080900006%5D%2C%20%5B35.53888375500003%2C%2033.89225630400006%5D%2C%20%5B35.540094314000044%2C%2033.89222530700005%5D%5D%5D%2C%20%22type%22%3A%20%22Polygon%22%7D%2C%20%22id%22%3A%2088%2C%20%22properties%22%3A%20%7B%22ACS_CODE_1%22%3A%2022111%2C%20%22Cadaster_1%22%3A%20%22Bourj%20Hammoud%22%2C%20%22Cadaster_A%22%3A%20%22%5Cu0628%5Cu0631%5Cu062c%20%5Cu062d%5Cu0645%5Cu0651%5Cu0648%5Cu062f%22%2C%20%22District_1%22%3A%20%22El%20Meten%22%2C%20%22District_A%22%3A%20%22%5Cu0627%5Cu0644%5Cu0645%5Cu062a%5Cu0646%22%2C%20%22FID%22%3A%2088%2C%20%22Governor_1%22%3A%20%22%5Cu062c%5Cu0628%5Cu0644%20%5Cu0644%5Cu0628%5Cu0646%5Cu0627%5Cu0646%22%2C%20%22Governorat%22%3A%20%22Mount%20Lebanon%22%2C%20%22OBJECTID_1%22%3A%2089%2C%20%22Shape_Area%22%3A%208.7746380552e-07%2C%20%22Shape_Leng%22%3A%200.00393562391285%2C%20%22highlight%22%3A%20%7B%7D%2C%20%22style%22%3A%20%7B%22color%22%3A%20%22black%22%2C%20%22fillColor%22%3A%20%22%232b8cbe%22%2C%20%22fillOpacity%22%3A%201%2C%20%22opacity%22%3A%200.5%2C%20%22weight%22%3A%201%7D%2C%20%22zone_numbe%22%3A%20110%7D%2C%20%22type%22%3A%20%22Feature%22%7D%2C%20%7B%22geometry%22%3A%20%7B%22coordinates%22%3A%20%5B%5B%5B35.53979037300007%2C%2033.89076532900003%5D%2C%20%5B35.53981827300004%2C%2033.89088558800006%5D%2C%20%5B35.540094314000044%2C%2033.89222530700005%5D%2C%20%5B35.53888375500003%2C%2033.89225630400006%5D%2C%20%5B35.53887698200003%2C%2033.891911970000024%5D%2C%20%5B35.53885921600005%2C%2033.89133582300008%5D%2C%20%5B35.53880718500005%2C%2033.89111881600007%5D%2C%20%5B35.53866242500004%2C%2033.89082319200003%5D%2C%20%5B35.53979037300007%2C%2033.89076532900003%5D%5D%5D%2C%20%22type%22%3A%20%22Polygon%22%7D%2C%20%22id%22%3A%2089%2C%20%22properties%22%3A%20%7B%22ACS_CODE_1%22%3A%2022111%2C%20%22Cadaster_1%22%3A%20%22Bourj%20Hammoud%22%2C%20%22Cadaster_A%22%3A%20%22%5Cu0628%5Cu0631%5Cu062c%20%5Cu062d%5Cu0645%5Cu0651%5Cu0648%5Cu062f%22%2C%20%22District_1%22%3A%20%22El%20Meten%22%2C%20%22District_A%22%3A%20%22%5Cu0627%5Cu0644%5Cu0645%5Cu062a%5Cu0646%22%2C%20%22FID%22%3A%2089%2C%20%22Governor_1%22%3A%20%22%5Cu062c%5Cu0628%5Cu0644%20%5Cu0644%5Cu0628%5Cu0646%5Cu0627%5Cu0646%22%2C%20%22Governorat%22%3A%20%22Mount%20Lebanon%22%2C%20%22OBJECTID_1%22%3A%2090%2C%20%22Shape_Area%22%3A%201.61173235241e-06%2C%20%22Shape_Leng%22%3A%200.00530484469409%2C%20%22highlight%22%3A%20%7B%7D%2C%20%22style%22%3A%20%7B%22color%22%3A%20%22black%22%2C%20%22fillColor%22%3A%20%22%232b8cbe%22%2C%20%22fillOpacity%22%3A%201%2C%20%22opacity%22%3A%200.5%2C%20%22weight%22%3A%201%7D%2C%20%22zone_numbe%22%3A%20111%7D%2C%20%22type%22%3A%20%22Feature%22%7D%2C%20%7B%22geometry%22%3A%20%7B%22coordinates%22%3A%20%5B%5B%5B35.53979037300007%2C%2033.89076532900003%5D%2C%20%5B35.53866242500004%2C%2033.89082319200003%5D%2C%20%5B35.537863181000034%2C%2033.89085154000003%5D%2C%20%5B35.53779374900006%2C%2033.89024131600007%5D%2C%20%5B35.537792309000054%2C%2033.89023107100007%5D%2C%20%5B35.537934208000024%2C%2033.89022683500008%5D%2C%20%5B35.53832367800004%2C%2033.89014926500005%5D%2C%20%5B35.53856080000003%2C%2033.89006225600008%5D%2C%20%5B35.53897522200003%2C%2033.889973026000064%5D%2C%20%5B35.53930834700003%2C%2033.88993535100008%5D%2C%20%5B35.539594769000075%2C%2033.889922213000034%5D%2C%20%5B35.53979037300007%2C%2033.89076532900003%5D%5D%5D%2C%20%22type%22%3A%20%22Polygon%22%7D%2C%20%22id%22%3A%2090%2C%20%22properties%22%3A%20%7B%22ACS_CODE_1%22%3A%2022111%2C%20%22Cadaster_1%22%3A%20%22Bourj%20Hammoud%22%2C%20%22Cadaster_A%22%3A%20%22%5Cu0628%5Cu0631%5Cu062c%20%5Cu062d%5Cu0645%5Cu0651%5Cu0648%5Cu062f%22%2C%20%22District_1%22%3A%20%22El%20Meten%22%2C%20%22District_A%22%3A%20%22%5Cu0627%5Cu0644%5Cu0645%5Cu062a%5Cu0646%22%2C%20%22FID%22%3A%2090%2C%20%22Governor_1%22%3A%20%22%5Cu062c%5Cu0628%5Cu0644%20%5Cu0644%5Cu0628%5Cu0646%5Cu0627%5Cu0646%22%2C%20%22Governorat%22%3A%20%22Mount%20Lebanon%22%2C%20%22OBJECTID_1%22%3A%2091%2C%20%22Shape_Area%22%3A%201.43372338148e-06%2C%20%22Shape_Leng%22%3A%200.0052567480724%2C%20%22highlight%22%3A%20%7B%7D%2C%20%22style%22%3A%20%7B%22color%22%3A%20%22black%22%2C%20%22fillColor%22%3A%20%22%232b8cbe%22%2C%20%22fillOpacity%22%3A%201%2C%20%22opacity%22%3A%200.5%2C%20%22weight%22%3A%201%7D%2C%20%22zone_numbe%22%3A%20117%7D%2C%20%22type%22%3A%20%22Feature%22%7D%2C%20%7B%22geometry%22%3A%20%7B%22coordinates%22%3A%20%5B%5B%5B35.53664728900003%2C%2033.89135952200007%5D%2C%20%5B35.53667669500004%2C%2033.89181138200007%5D%2C%20%5B35.53672701900007%2C%2033.89227468300004%5D%2C%20%5B35.53640713100003%2C%2033.89227718300003%5D%2C%20%5B35.535877939000045%2C%2033.892269568000074%5D%2C%20%5B35.53593060400004%2C%2033.89148915800007%5D%2C%20%5B35.535957746000065%2C%2033.89131741700004%5D%2C%20%5B35.53664728900003%2C%2033.89135952200007%5D%5D%5D%2C%20%22type%22%3A%20%22Polygon%22%7D%2C%20%22id%22%3A%2091%2C%20%22properties%22%3A%20%7B%22ACS_CODE_1%22%3A%2022111%2C%20%22Cadaster_1%22%3A%20%22Bourj%20Hammoud%22%2C%20%22Cadaster_A%22%3A%20%22%5Cu0628%5Cu0631%5Cu062c%20%5Cu062d%5Cu0645%5Cu0651%5Cu0648%5Cu062f%22%2C%20%22District_1%22%3A%20%22El%20Meten%22%2C%20%22District_A%22%3A%20%22%5Cu0627%5Cu0644%5Cu0645%5Cu062a%5Cu0646%22%2C%20%22FID%22%3A%2091%2C%20%22Governor_1%22%3A%20%22%5Cu062c%5Cu0628%5Cu0644%20%5Cu0644%5Cu0628%5Cu0646%5Cu0627%5Cu0646%22%2C%20%22Governorat%22%3A%20%22Mount%20Lebanon%22%2C%20%22OBJECTID_1%22%3A%2092%2C%20%22Shape_Area%22%3A%207.21663457889e-07%2C%20%22Shape_Leng%22%3A%200.0034148713274%2C%20%22highlight%22%3A%20%7B%7D%2C%20%22style%22%3A%20%7B%22color%22%3A%20%22black%22%2C%20%22fillColor%22%3A%20%22%232b8cbe%22%2C%20%22fillOpacity%22%3A%201%2C%20%22opacity%22%3A%200.5%2C%20%22weight%22%3A%201%7D%2C%20%22zone_numbe%22%3A%20114%7D%2C%20%22type%22%3A%20%22Feature%22%7D%2C%20%7B%22geometry%22%3A%20%7B%22coordinates%22%3A%20%5B%5B%5B35.535957746000065%2C%2033.89131741700004%5D%2C%20%5B35.53618539800004%2C%2033.88987693800004%5D%2C%20%5B35.53640540500004%2C%2033.89005035900004%5D%2C%20%5B35.53704785900004%2C%2033.89021692100005%5D%2C%20%5B35.53740279500005%2C%2033.89023080100003%5D%2C%20%5B35.537792309000054%2C%2033.89023107100007%5D%2C%20%5B35.53779374900006%2C%2033.89024131600007%5D%2C%20%5B35.53785708600003%2C%2033.89079797100004%5D%2C%20%5B35.53758421500004%2C%2033.89091276500005%5D%2C%20%5B35.53712735800008%2C%2033.891146270000036%5D%2C%20%5B35.53680671300003%2C%2033.89129210400006%5D%2C%20%5B35.53664728900003%2C%2033.89135952200007%5D%2C%20%5B35.535957746000065%2C%2033.89131741700004%5D%5D%5D%2C%20%22type%22%3A%20%22Polygon%22%7D%2C%20%22id%22%3A%2092%2C%20%22properties%22%3A%20%7B%22ACS_CODE_1%22%3A%2022111%2C%20%22Cadaster_1%22%3A%20%22Bourj%20Hammoud%22%2C%20%22Cadaster_A%22%3A%20%22%5Cu0628%5Cu0631%5Cu062c%20%5Cu062d%5Cu0645%5Cu0651%5Cu0648%5Cu062f%22%2C%20%22District_1%22%3A%20%22El%20Meten%22%2C%20%22District_A%22%3A%20%22%5Cu0627%5Cu0644%5Cu0645%5Cu062a%5Cu0646%22%2C%20%22FID%22%3A%2092%2C%20%22Governor_1%22%3A%20%22%5Cu062c%5Cu0628%5Cu0644%20%5Cu0644%5Cu0628%5Cu0646%5Cu0627%5Cu0646%22%2C%20%22Governorat%22%3A%20%22Mount%20Lebanon%22%2C%20%22OBJECTID_1%22%3A%2093%2C%20%22Shape_Area%22%3A%201.81250176746e-06%2C%20%22Shape_Leng%22%3A%200.00574278173332%2C%20%22highlight%22%3A%20%7B%7D%2C%20%22style%22%3A%20%7B%22color%22%3A%20%22black%22%2C%20%22fillColor%22%3A%20%22%232b8cbe%22%2C%20%22fillOpacity%22%3A%201%2C%20%22opacity%22%3A%200.5%2C%20%22weight%22%3A%201%7D%2C%20%22zone_numbe%22%3A%20116%7D%2C%20%22type%22%3A%20%22Feature%22%7D%2C%20%7B%22geometry%22%3A%20%7B%22coordinates%22%3A%20%5B%5B%5B35.54294843900004%2C%2033.89177522700004%5D%2C%20%5B35.54318753500007%2C%2033.892021303000035%5D%2C%20%5B35.54382523000004%2C%2033.89267168900005%5D%2C%20%5B35.544326503000036%2C%2033.89316344500003%5D%2C%20%5B35.54467231800004%2C%2033.89348070600005%5D%2C%20%5B35.54489374800005%2C%2033.89364625800005%5D%2C%20%5B35.544753910000054%2C%2033.89365184300004%5D%2C%20%5B35.54360984900006%2C%2033.89370534300008%5D%2C%20%5B35.54347782900004%2C%2033.893312954000066%5D%2C%20%5B35.543216088000065%2C%2033.89249402300004%5D%2C%20%5B35.54294843900004%2C%2033.89177522700004%5D%5D%5D%2C%20%22type%22%3A%20%22Polygon%22%7D%2C%20%22id%22%3A%2093%2C%20%22properties%22%3A%20%7B%22ACS_CODE_1%22%3A%2022111%2C%20%22Cadaster_1%22%3A%20%22Bourj%20Hammoud%22%2C%20%22Cadaster_A%22%3A%20%22%5Cu0628%5Cu0631%5Cu062c%20%5Cu062d%5Cu0645%5Cu0651%5Cu0648%5Cu062f%22%2C%20%22District_1%22%3A%20%22El%20Meten%22%2C%20%22District_A%22%3A%20%22%5Cu0627%5Cu0644%5Cu0645%5Cu062a%5Cu0646%22%2C%20%22FID%22%3A%2093%2C%20%22Governor_1%22%3A%20%22%5Cu062c%5Cu0628%5Cu0644%20%5Cu0644%5Cu0628%5Cu0646%5Cu0627%5Cu0646%22%2C%20%22Governorat%22%3A%20%22Mount%20Lebanon%22%2C%20%22OBJECTID_1%22%3A%2094%2C%20%22Shape_Area%22%3A%201.16278146884e-06%2C%20%22Shape_Leng%22%3A%200.00602795951083%2C%20%22highlight%22%3A%20%7B%7D%2C%20%22style%22%3A%20%7B%22color%22%3A%20%22black%22%2C%20%22fillColor%22%3A%20%22%232b8cbe%22%2C%20%22fillOpacity%22%3A%201%2C%20%22opacity%22%3A%200.5%2C%20%22weight%22%3A%201%7D%2C%20%22zone_numbe%22%3A%2082%7D%2C%20%22type%22%3A%20%22Feature%22%7D%2C%20%7B%22geometry%22%3A%20%7B%22coordinates%22%3A%20%5B%5B%5B35.543171149000045%2C%2033.89237333600005%5D%2C%20%5B35.543216088000065%2C%2033.89249402300004%5D%2C%20%5B35.54347782900004%2C%2033.893312954000066%5D%2C%20%5B35.54360984900006%2C%2033.89370534300008%5D%2C%20%5B35.542989936000026%2C%2033.893734331000076%5D%2C%20%5B35.54152101600005%2C%2033.89378826600006%5D%2C%20%5B35.54065489200008%2C%2033.893778748000045%5D%2C%20%5B35.540431057000035%2C%2033.893874055000026%5D%2C%20%5B35.54037804700005%2C%2033.89361435400008%5D%2C%20%5B35.54080490100006%2C%2033.893581304000065%5D%2C%20%5B35.54132243400005%2C%2033.893260077000036%5D%2C%20%5B35.54196885400006%2C%2033.892891261000045%5D%2C%20%5B35.54234560200007%2C%2033.89270090400004%5D%2C%20%5B35.543171149000045%2C%2033.89237333600005%5D%5D%5D%2C%20%22type%22%3A%20%22Polygon%22%7D%2C%20%22id%22%3A%2094%2C%20%22properties%22%3A%20%7B%22ACS_CODE_1%22%3A%2022111%2C%20%22Cadaster_1%22%3A%20%22Bourj%20Hammoud%22%2C%20%22Cadaster_A%22%3A%20%22%5Cu0628%5Cu0631%5Cu062c%20%5Cu062d%5Cu0645%5Cu0651%5Cu0648%5Cu062f%22%2C%20%22District_1%22%3A%20%22El%20Meten%22%2C%20%22District_A%22%3A%20%22%5Cu0627%5Cu0644%5Cu0645%5Cu062a%5Cu0646%22%2C%20%22FID%22%3A%2094%2C%20%22Governor_1%22%3A%20%22%5Cu062c%5Cu0628%5Cu0644%20%5Cu0644%5Cu0628%5Cu0646%5Cu0627%5Cu0646%22%2C%20%22Governorat%22%3A%20%22Mount%20Lebanon%22%2C%20%22OBJECTID_1%22%3A%2095%2C%20%22Shape_Area%22%3A%202.38819192667e-06%2C%20%22Shape_Leng%22%3A%200.00795929377005%2C%20%22highlight%22%3A%20%7B%7D%2C%20%22style%22%3A%20%7B%22color%22%3A%20%22black%22%2C%20%22fillColor%22%3A%20%22%232b8cbe%22%2C%20%22fillOpacity%22%3A%201%2C%20%22opacity%22%3A%200.5%2C%20%22weight%22%3A%201%7D%2C%20%22zone_numbe%22%3A%2093%7D%2C%20%22type%22%3A%20%22Feature%22%7D%2C%20%7B%22geometry%22%3A%20%7B%22coordinates%22%3A%20%5B%5B%5B35.54109141600003%2C%2033.89340346700004%5D%2C%20%5B35.54080490100006%2C%2033.893581304000065%5D%2C%20%5B35.54037804700005%2C%2033.89361435400008%5D%2C%20%5B35.54011570600005%2C%2033.89232912800003%5D%2C%20%5B35.54000741300007%2C%2033.89180354600006%5D%2C%20%5B35.54051304700005%2C%2033.891762852000056%5D%2C%20%5B35.54088349600005%2C%2033.89275532100004%5D%2C%20%5B35.54109141600003%2C%2033.89340346700004%5D%5D%5D%2C%20%22type%22%3A%20%22Polygon%22%7D%2C%20%22id%22%3A%2095%2C%20%22properties%22%3A%20%7B%22ACS_CODE_1%22%3A%2022111%2C%20%22Cadaster_1%22%3A%20%22Bourj%20Hammoud%22%2C%20%22Cadaster_A%22%3A%20%22%5Cu0628%5Cu0631%5Cu062c%20%5Cu062d%5Cu0645%5Cu0651%5Cu0648%5Cu062f%22%2C%20%22District_1%22%3A%20%22El%20Meten%22%2C%20%22District_A%22%3A%20%22%5Cu0627%5Cu0644%5Cu0645%5Cu062a%5Cu0646%22%2C%20%22FID%22%3A%2095%2C%20%22Governor_1%22%3A%20%22%5Cu062c%5Cu0628%5Cu0644%20%5Cu0644%5Cu0628%5Cu0646%5Cu0627%5Cu0646%22%2C%20%22Governorat%22%3A%20%22Mount%20Lebanon%22%2C%20%22OBJECTID_1%22%3A%2096%2C%20%22Shape_Area%22%3A%201.16095789143e-06%2C%20%22Shape_Leng%22%3A%200.00486100100631%2C%20%22highlight%22%3A%20%7B%7D%2C%20%22style%22%3A%20%7B%22color%22%3A%20%22black%22%2C%20%22fillColor%22%3A%20%22%232b8cbe%22%2C%20%22fillOpacity%22%3A%201%2C%20%22opacity%22%3A%200.5%2C%20%22weight%22%3A%201%7D%2C%20%22zone_numbe%22%3A%2096%7D%2C%20%22type%22%3A%20%22Feature%22%7D%2C%20%7B%22geometry%22%3A%20%7B%22coordinates%22%3A%20%5B%5B%5B35.54171859600007%2C%2033.891665885000066%5D%2C%20%5B35.54198375900006%2C%2033.89242362400006%5D%2C%20%5B35.54088349600005%2C%2033.89275532100004%5D%2C%20%5B35.54051304700005%2C%2033.891762852000056%5D%2C%20%5B35.54112980300005%2C%2033.89171321600003%5D%2C%20%5B35.54171859600007%2C%2033.891665885000066%5D%5D%5D%2C%20%22type%22%3A%20%22Polygon%22%7D%2C%20%22id%22%3A%2096%2C%20%22properties%22%3A%20%7B%22ACS_CODE_1%22%3A%2022111%2C%20%22Cadaster_1%22%3A%20%22Bourj%20Hammoud%22%2C%20%22Cadaster_A%22%3A%20%22%5Cu0628%5Cu0631%5Cu062c%20%5Cu062d%5Cu0645%5Cu0651%5Cu0648%5Cu062f%22%2C%20%22District_1%22%3A%20%22El%20Meten%22%2C%20%22District_A%22%3A%20%22%5Cu0627%5Cu0644%5Cu0645%5Cu062a%5Cu0646%22%2C%20%22FID%22%3A%2096%2C%20%22Governor_1%22%3A%20%22%5Cu062c%5Cu0628%5Cu0644%20%5Cu0644%5Cu0628%5Cu0646%5Cu0627%5Cu0646%22%2C%20%22Governorat%22%3A%20%22Mount%20Lebanon%22%2C%20%22OBJECTID_1%22%3A%2097%2C%20%22Shape_Area%22%3A%201.07704547339e-06%2C%20%22Shape_Leng%22%3A%200.0042207639719%2C%20%22highlight%22%3A%20%7B%7D%2C%20%22style%22%3A%20%7B%22color%22%3A%20%22black%22%2C%20%22fillColor%22%3A%20%22%232b8cbe%22%2C%20%22fillOpacity%22%3A%201%2C%20%22opacity%22%3A%200.5%2C%20%22weight%22%3A%201%7D%2C%20%22zone_numbe%22%3A%2095%7D%2C%20%22type%22%3A%20%22Feature%22%7D%2C%20%7B%22geometry%22%3A%20%7B%22coordinates%22%3A%20%5B%5B%5B35.54171859600007%2C%2033.891665885000066%5D%2C%20%5B35.54174648000003%2C%2033.89166364400006%5D%2C%20%5B35.54275381900004%2C%2033.891574924000054%5D%2C%20%5B35.54294843900004%2C%2033.89177522700004%5D%2C%20%5B35.543171149000045%2C%2033.89237333600005%5D%2C%20%5B35.54234560200007%2C%2033.89270090400004%5D%2C%20%5B35.54196885400006%2C%2033.892891261000045%5D%2C%20%5B35.54132243400005%2C%2033.893260077000036%5D%2C%20%5B35.54109141600003%2C%2033.89340346700004%5D%2C%20%5B35.54088349600005%2C%2033.89275532100004%5D%2C%20%5B35.54198375900006%2C%2033.89242362400006%5D%2C%20%5B35.54171859600007%2C%2033.891665885000066%5D%5D%5D%2C%20%22type%22%3A%20%22Polygon%22%7D%2C%20%22id%22%3A%2097%2C%20%22properties%22%3A%20%7B%22ACS_CODE_1%22%3A%2022111%2C%20%22Cadaster_1%22%3A%20%22Bourj%20Hammoud%22%2C%20%22Cadaster_A%22%3A%20%22%5Cu0628%5Cu0631%5Cu062c%20%5Cu062d%5Cu0645%5Cu0651%5Cu0648%5Cu062f%22%2C%20%22District_1%22%3A%20%22El%20Meten%22%2C%20%22District_A%22%3A%20%22%5Cu0627%5Cu0644%5Cu0645%5Cu062a%5Cu0646%22%2C%20%22FID%22%3A%2097%2C%20%22Governor_1%22%3A%20%22%5Cu062c%5Cu0628%5Cu0644%20%5Cu0644%5Cu0628%5Cu0646%5Cu0627%5Cu0646%22%2C%20%22Governorat%22%3A%20%22Mount%20Lebanon%22%2C%20%22OBJECTID_1%22%3A%2098%2C%20%22Shape_Area%22%3A%201.77360896463e-06%2C%20%22Shape_Leng%22%3A%200.00691577210325%2C%20%22highlight%22%3A%20%7B%7D%2C%20%22style%22%3A%20%7B%22color%22%3A%20%22black%22%2C%20%22fillColor%22%3A%20%22%232b8cbe%22%2C%20%22fillOpacity%22%3A%201%2C%20%22opacity%22%3A%200.5%2C%20%22weight%22%3A%201%7D%2C%20%22zone_numbe%22%3A%2094%7D%2C%20%22type%22%3A%20%22Feature%22%7D%2C%20%7B%22geometry%22%3A%20%7B%22coordinates%22%3A%20%5B%5B%5B35.54148656600006%2C%2033.89071536600005%5D%2C%20%5B35.53979037300007%2C%2033.89076532900003%5D%2C%20%5B35.539594769000075%2C%2033.889922213000034%5D%2C%20%5B35.53996098600004%2C%2033.889946413000075%5D%2C%20%5B35.54051936600007%2C%2033.890139943000065%5D%2C%20%5B35.54148656600006%2C%2033.89071536600005%5D%5D%5D%2C%20%22type%22%3A%20%22Polygon%22%7D%2C%20%22id%22%3A%2098%2C%20%22properties%22%3A%20%7B%22ACS_CODE_1%22%3A%2022111%2C%20%22Cadaster_1%22%3A%20%22Bourj%20Hammoud%22%2C%20%22Cadaster_A%22%3A%20%22%5Cu0628%5Cu0631%5Cu062c%20%5Cu062d%5Cu0645%5Cu0651%5Cu0648%5Cu062f%22%2C%20%22District_1%22%3A%20%22El%20Meten%22%2C%20%22District_A%22%3A%20%22%5Cu0627%5Cu0644%5Cu0645%5Cu062a%5Cu0646%22%2C%20%22FID%22%3A%2098%2C%20%22Governor_1%22%3A%20%22%5Cu062c%5Cu0628%5Cu0644%20%5Cu0644%5Cu0628%5Cu0646%5Cu0627%5Cu0646%22%2C%20%22Governorat%22%3A%20%22Mount%20Lebanon%22%2C%20%22OBJECTID_1%22%3A%2099%2C%20%22Shape_Area%22%3A%209.09333761743e-07%2C%20%22Shape_Leng%22%3A%200.00464584798131%2C%20%22highlight%22%3A%20%7B%7D%2C%20%22style%22%3A%20%7B%22color%22%3A%20%22black%22%2C%20%22fillColor%22%3A%20%22%232b8cbe%22%2C%20%22fillOpacity%22%3A%201%2C%20%22opacity%22%3A%200.5%2C%20%22weight%22%3A%201%7D%2C%20%22zone_numbe%22%3A%20100%7D%2C%20%22type%22%3A%20%22Feature%22%7D%2C%20%7B%22geometry%22%3A%20%7B%22coordinates%22%3A%20%5B%5B%5B35.54139077900004%2C%2033.89071818700006%5D%2C%20%5B35.54148656600006%2C%2033.89071536600005%5D%2C%20%5B35.54177254900003%2C%2033.890885507000064%5D%2C%20%5B35.542276994000076%2C%2033.89120594100007%5D%2C%20%5B35.54275288600007%2C%2033.89157396500008%5D%2C%20%5B35.54275381900004%2C%2033.891574924000054%5D%2C%20%5B35.54174648000003%2C%2033.89166364400006%5D%2C%20%5B35.54171859600007%2C%2033.891665885000066%5D%2C%20%5B35.54139077900004%2C%2033.89071818700006%5D%5D%5D%2C%20%22type%22%3A%20%22Polygon%22%7D%2C%20%22id%22%3A%2099%2C%20%22properties%22%3A%20%7B%22ACS_CODE_1%22%3A%2022111%2C%20%22Cadaster_1%22%3A%20%22Bourj%20Hammoud%22%2C%20%22Cadaster_A%22%3A%20%22%5Cu0628%5Cu0631%5Cu062c%20%5Cu062d%5Cu0645%5Cu0651%5Cu0648%5Cu062f%22%2C%20%22District_1%22%3A%20%22El%20Meten%22%2C%20%22District_A%22%3A%20%22%5Cu0627%5Cu0644%5Cu0645%5Cu062a%5Cu0646%22%2C%20%22FID%22%3A%2099%2C%20%22Governor_1%22%3A%20%22%5Cu062c%5Cu0628%5Cu0644%20%5Cu0644%5Cu0628%5Cu0646%5Cu0627%5Cu0646%22%2C%20%22Governorat%22%3A%20%22Mount%20Lebanon%22%2C%20%22OBJECTID_1%22%3A%20100%2C%20%22Shape_Area%22%3A%205.80342068843e-07%2C%20%22Shape_Leng%22%3A%200.00367114797005%2C%20%22highlight%22%3A%20%7B%7D%2C%20%22style%22%3A%20%7B%22color%22%3A%20%22black%22%2C%20%22fillColor%22%3A%20%22%232b8cbe%22%2C%20%22fillOpacity%22%3A%201%2C%20%22opacity%22%3A%200.5%2C%20%22weight%22%3A%201%7D%2C%20%22zone_numbe%22%3A%2097%7D%2C%20%22type%22%3A%20%22Feature%22%7D%2C%20%7B%22geometry%22%3A%20%7B%22coordinates%22%3A%20%5B%5B%5B35.54051304700005%2C%2033.891762852000056%5D%2C%20%5B35.54000741300007%2C%2033.89180354600006%5D%2C%20%5B35.53981827300004%2C%2033.89088558800006%5D%2C%20%5B35.53979037300007%2C%2033.89076532900003%5D%2C%20%5B35.54019571400005%2C%2033.89075339000004%5D%2C%20%5B35.54051304700005%2C%2033.891762852000056%5D%5D%5D%2C%20%22type%22%3A%20%22Polygon%22%7D%2C%20%22id%22%3A%20100%2C%20%22properties%22%3A%20%7B%22ACS_CODE_1%22%3A%2022111%2C%20%22Cadaster_1%22%3A%20%22Bourj%20Hammoud%22%2C%20%22Cadaster_A%22%3A%20%22%5Cu0628%5Cu0631%5Cu062c%20%5Cu062d%5Cu0645%5Cu0651%5Cu0648%5Cu062f%22%2C%20%22District_1%22%3A%20%22El%20Meten%22%2C%20%22District_A%22%3A%20%22%5Cu0627%5Cu0644%5Cu0645%5Cu062a%5Cu0646%22%2C%20%22FID%22%3A%20100%2C%20%22Governor_1%22%3A%20%22%5Cu062c%5Cu0628%5Cu0644%20%5Cu0644%5Cu0628%5Cu0646%5Cu0627%5Cu0646%22%2C%20%22Governorat%22%3A%20%22Mount%20Lebanon%22%2C%20%22OBJECTID_1%22%3A%20101%2C%20%22Shape_Area%22%3A%204.7194488732e-07%2C%20%22Shape_Leng%22%3A%200.003031645025%2C%20%22highlight%22%3A%20%7B%7D%2C%20%22style%22%3A%20%7B%22color%22%3A%20%22black%22%2C%20%22fillColor%22%3A%20%22%232b8cbe%22%2C%20%22fillOpacity%22%3A%201%2C%20%22opacity%22%3A%200.5%2C%20%22weight%22%3A%201%7D%2C%20%22zone_numbe%22%3A%2099%7D%2C%20%22type%22%3A%20%22Feature%22%7D%2C%20%7B%22geometry%22%3A%20%7B%22coordinates%22%3A%20%5B%5B%5B35.54019571400005%2C%2033.89075339000004%5D%2C%20%5B35.54139077900004%2C%2033.89071818700006%5D%2C%20%5B35.54171859600007%2C%2033.891665885000066%5D%2C%20%5B35.54112980300005%2C%2033.89171321600003%5D%2C%20%5B35.54051304700005%2C%2033.891762852000056%5D%2C%20%5B35.54019571400005%2C%2033.89075339000004%5D%5D%5D%2C%20%22type%22%3A%20%22Polygon%22%7D%2C%20%22id%22%3A%20101%2C%20%22properties%22%3A%20%7B%22ACS_CODE_1%22%3A%2022111%2C%20%22Cadaster_1%22%3A%20%22Bourj%20Hammoud%22%2C%20%22Cadaster_A%22%3A%20%22%5Cu0628%5Cu0631%5Cu062c%20%5Cu062d%5Cu0645%5Cu0651%5Cu0648%5Cu062f%22%2C%20%22District_1%22%3A%20%22El%20Meten%22%2C%20%22District_A%22%3A%20%22%5Cu0627%5Cu0644%5Cu0645%5Cu062a%5Cu0646%22%2C%20%22FID%22%3A%20101%2C%20%22Governor_1%22%3A%20%22%5Cu062c%5Cu0628%5Cu0644%20%5Cu0644%5Cu0628%5Cu0646%5Cu0627%5Cu0646%22%2C%20%22Governorat%22%3A%20%22Mount%20Lebanon%22%2C%20%22OBJECTID_1%22%3A%20102%2C%20%22Shape_Area%22%3A%201.19589696737e-06%2C%20%22Shape_Leng%22%3A%200.0044659849262%2C%20%22highlight%22%3A%20%7B%7D%2C%20%22style%22%3A%20%7B%22color%22%3A%20%22black%22%2C%20%22fillColor%22%3A%20%22%232b8cbe%22%2C%20%22fillOpacity%22%3A%201%2C%20%22opacity%22%3A%200.5%2C%20%22weight%22%3A%201%7D%2C%20%22zone_numbe%22%3A%2098%7D%2C%20%22type%22%3A%20%22Feature%22%7D%2C%20%7B%22geometry%22%3A%20%7B%22coordinates%22%3A%20%5B%5B%5B35.542165735000026%2C%2033.88950611700005%5D%2C%20%5B35.54007791600003%2C%2033.88998694000003%5D%2C%20%5B35.53996098600004%2C%2033.889946413000075%5D%2C%20%5B35.539594769000075%2C%2033.889922213000034%5D%2C%20%5B35.539452838000045%2C%2033.889310444000046%5D%2C%20%5B35.541655406000075%2C%2033.88889835100008%5D%2C%20%5B35.54195174000006%2C%2033.888823702000025%5D%2C%20%5B35.542165735000026%2C%2033.88950611700005%5D%5D%5D%2C%20%22type%22%3A%20%22Polygon%22%7D%2C%20%22id%22%3A%20102%2C%20%22properties%22%3A%20%7B%22ACS_CODE_1%22%3A%2022111%2C%20%22Cadaster_1%22%3A%20%22Bourj%20Hammoud%22%2C%20%22Cadaster_A%22%3A%20%22%5Cu0628%5Cu0631%5Cu062c%20%5Cu062d%5Cu0645%5Cu0651%5Cu0648%5Cu062f%22%2C%20%22District_1%22%3A%20%22El%20Meten%22%2C%20%22District_A%22%3A%20%22%5Cu0627%5Cu0644%5Cu0645%5Cu062a%5Cu0646%22%2C%20%22FID%22%3A%20102%2C%20%22Governor_1%22%3A%20%22%5Cu062c%5Cu0628%5Cu0644%20%5Cu0644%5Cu0628%5Cu0646%5Cu0627%5Cu0646%22%2C%20%22Governorat%22%3A%20%22Mount%20Lebanon%22%2C%20%22OBJECTID_1%22%3A%20103%2C%20%22Shape_Area%22%3A%201.87723746559e-06%2C%20%22Shape_Leng%22%3A%200.00652281724436%2C%20%22highlight%22%3A%20%7B%7D%2C%20%22style%22%3A%20%7B%22color%22%3A%20%22black%22%2C%20%22fillColor%22%3A%20%22%232b8cbe%22%2C%20%22fillOpacity%22%3A%201%2C%20%22opacity%22%3A%200.5%2C%20%22weight%22%3A%201%7D%2C%20%22zone_numbe%22%3A%20103%7D%2C%20%22type%22%3A%20%22Feature%22%7D%2C%20%7B%22geometry%22%3A%20%7B%22coordinates%22%3A%20%5B%5B%5B35.54133042900003%2C%2033.88969848700003%5D%2C%20%5B35.541744418000064%2C%2033.89086877200003%5D%2C%20%5B35.54051936600007%2C%2033.890139943000065%5D%2C%20%5B35.54007791600003%2C%2033.88998694000003%5D%2C%20%5B35.54133042900003%2C%2033.88969848700003%5D%5D%5D%2C%20%22type%22%3A%20%22Polygon%22%7D%2C%20%22id%22%3A%20103%2C%20%22properties%22%3A%20%7B%22ACS_CODE_1%22%3A%2022111%2C%20%22Cadaster_1%22%3A%20%22Bourj%20Hammoud%22%2C%20%22Cadaster_A%22%3A%20%22%5Cu0628%5Cu0631%5Cu062c%20%5Cu062d%5Cu0645%5Cu0651%5Cu0648%5Cu062f%22%2C%20%22District_1%22%3A%20%22El%20Meten%22%2C%20%22District_A%22%3A%20%22%5Cu0627%5Cu0644%5Cu0645%5Cu062a%5Cu0646%22%2C%20%22FID%22%3A%20103%2C%20%22Governor_1%22%3A%20%22%5Cu062c%5Cu0628%5Cu0644%20%5Cu0644%5Cu0628%5Cu0646%5Cu0627%5Cu0646%22%2C%20%22Governorat%22%3A%20%22Mount%20Lebanon%22%2C%20%22OBJECTID_1%22%3A%20104%2C%20%22Shape_Area%22%3A%207.25454307182e-07%2C%20%22Shape_Leng%22%3A%200.00441932660587%2C%20%22highlight%22%3A%20%7B%7D%2C%20%22style%22%3A%20%7B%22color%22%3A%20%22black%22%2C%20%22fillColor%22%3A%20%22%2308589e%22%2C%20%22fillOpacity%22%3A%201%2C%20%22opacity%22%3A%200.5%2C%20%22weight%22%3A%201%7D%2C%20%22zone_numbe%22%3A%20101%7D%2C%20%22type%22%3A%20%22Feature%22%7D%2C%20%7B%22geometry%22%3A%20%7B%22coordinates%22%3A%20%5B%5B%5B35.54133042900003%2C%2033.88969848700003%5D%2C%20%5B35.542165735000026%2C%2033.88950611700005%5D%2C%20%5B35.542169225000066%2C%2033.88951724400005%5D%2C%20%5B35.54245079400005%2C%2033.890492823000045%5D%2C%20%5B35.54268675700007%2C%2033.89126813100006%5D%2C%20%5B35.54275381900004%2C%2033.891574924000054%5D%2C%20%5B35.54275288600007%2C%2033.89157396500008%5D%2C%20%5B35.542276994000076%2C%2033.89120594100007%5D%2C%20%5B35.54177254900003%2C%2033.890885507000064%5D%2C%20%5B35.541744418000064%2C%2033.89086877200003%5D%2C%20%5B35.54133042900003%2C%2033.88969848700003%5D%5D%5D%2C%20%22type%22%3A%20%22Polygon%22%7D%2C%20%22id%22%3A%20104%2C%20%22properties%22%3A%20%7B%22ACS_CODE_1%22%3A%2022111%2C%20%22Cadaster_1%22%3A%20%22Bourj%20Hammoud%22%2C%20%22Cadaster_A%22%3A%20%22%5Cu0628%5Cu0631%5Cu062c%20%5Cu062d%5Cu0645%5Cu0651%5Cu0648%5Cu062f%22%2C%20%22District_1%22%3A%20%22El%20Meten%22%2C%20%22District_A%22%3A%20%22%5Cu0627%5Cu0644%5Cu0645%5Cu062a%5Cu0646%22%2C%20%22FID%22%3A%20104%2C%20%22Governor_1%22%3A%20%22%5Cu062c%5Cu0628%5Cu0644%20%5Cu0644%5Cu0628%5Cu0646%5Cu0627%5Cu0646%22%2C%20%22Governorat%22%3A%20%22Mount%20Lebanon%22%2C%20%22OBJECTID_1%22%3A%20105%2C%20%22Shape_Area%22%3A%201.36193702888e-06%2C%20%22Shape_Leng%22%3A%200.00548331892861%2C%20%22highlight%22%3A%20%7B%7D%2C%20%22style%22%3A%20%7B%22color%22%3A%20%22black%22%2C%20%22fillColor%22%3A%20%22%2308589e%22%2C%20%22fillOpacity%22%3A%201%2C%20%22opacity%22%3A%200.5%2C%20%22weight%22%3A%201%7D%2C%20%22zone_numbe%22%3A%20102%7D%2C%20%22type%22%3A%20%22Feature%22%7D%2C%20%7B%22geometry%22%3A%20%7B%22coordinates%22%3A%20%5B%5B%5B35.54404790600006%2C%2033.891197513000066%5D%2C%20%5B35.54412992700003%2C%2033.89141050200004%5D%2C%20%5B35.544401116000074%2C%2033.89216401500005%5D%2C%20%5B35.543492112000024%2C%2033.892331942000055%5D%2C%20%5B35.54318753500007%2C%2033.892021303000035%5D%2C%20%5B35.54275381900004%2C%2033.891574924000054%5D%2C%20%5B35.54273342300007%2C%2033.89148161900005%5D%2C%20%5B35.54404790600006%2C%2033.891197513000066%5D%5D%5D%2C%20%22type%22%3A%20%22Polygon%22%7D%2C%20%22id%22%3A%20105%2C%20%22properties%22%3A%20%7B%22ACS_CODE_1%22%3A%2022111%2C%20%22Cadaster_1%22%3A%20%22Bourj%20Hammoud%22%2C%20%22Cadaster_A%22%3A%20%22%5Cu0628%5Cu0631%5Cu062c%20%5Cu062d%5Cu0645%5Cu0651%5Cu0648%5Cu062f%22%2C%20%22District_1%22%3A%20%22El%20Meten%22%2C%20%22District_A%22%3A%20%22%5Cu0627%5Cu0644%5Cu0645%5Cu062a%5Cu0646%22%2C%20%22FID%22%3A%20105%2C%20%22Governor_1%22%3A%20%22%5Cu062c%5Cu0628%5Cu0644%20%5Cu0644%5Cu0628%5Cu0646%5Cu0627%5Cu0646%22%2C%20%22Governorat%22%3A%20%22Mount%20Lebanon%22%2C%20%22OBJECTID_1%22%3A%20106%2C%20%22Shape_Area%22%3A%201.16493424097e-06%2C%20%22Shape_Leng%22%3A%200.00445122267006%2C%20%22highlight%22%3A%20%7B%7D%2C%20%22style%22%3A%20%7B%22color%22%3A%20%22black%22%2C%20%22fillColor%22%3A%20%22%2308589e%22%2C%20%22fillOpacity%22%3A%201%2C%20%22opacity%22%3A%200.5%2C%20%22weight%22%3A%201%7D%2C%20%22zone_numbe%22%3A%2083%7D%2C%20%22type%22%3A%20%22Feature%22%7D%2C%20%7B%22geometry%22%3A%20%7B%22coordinates%22%3A%20%5B%5B%5B35.54376371300003%2C%2033.89042558500006%5D%2C%20%5B35.543815203000065%2C%2033.890593237000076%5D%2C%20%5B35.54404790600006%2C%2033.891197513000066%5D%2C%20%5B35.54273342300007%2C%2033.89148161900005%5D%2C%20%5B35.54268675700007%2C%2033.89126813100006%5D%2C%20%5B35.54250807000005%2C%2033.89068101500004%5D%2C%20%5B35.54376371300003%2C%2033.89042558500006%5D%5D%5D%2C%20%22type%22%3A%20%22Polygon%22%7D%2C%20%22id%22%3A%20106%2C%20%22properties%22%3A%20%7B%22ACS_CODE_1%22%3A%2022111%2C%20%22Cadaster_1%22%3A%20%22Bourj%20Hammoud%22%2C%20%22Cadaster_A%22%3A%20%22%5Cu0628%5Cu0631%5Cu062c%20%5Cu062d%5Cu0645%5Cu0651%5Cu0648%5Cu062f%22%2C%20%22District_1%22%3A%20%22El%20Meten%22%2C%20%22District_A%22%3A%20%22%5Cu0627%5Cu0644%5Cu0645%5Cu062a%5Cu0646%22%2C%20%22FID%22%3A%20106%2C%20%22Governor_1%22%3A%20%22%5Cu062c%5Cu0628%5Cu0644%20%5Cu0644%5Cu0628%5Cu0646%5Cu0627%5Cu0646%22%2C%20%22Governorat%22%3A%20%22Mount%20Lebanon%22%2C%20%22OBJECTID_1%22%3A%20107%2C%20%22Shape_Area%22%3A%201.06980688387e-06%2C%20%22Shape_Leng%22%3A%200.00428134420108%2C%20%22highlight%22%3A%20%7B%7D%2C%20%22style%22%3A%20%7B%22color%22%3A%20%22black%22%2C%20%22fillColor%22%3A%20%22%2308589e%22%2C%20%22fillOpacity%22%3A%201%2C%20%22opacity%22%3A%200.5%2C%20%22weight%22%3A%201%7D%2C%20%22zone_numbe%22%3A%2091%7D%2C%20%22type%22%3A%20%22Feature%22%7D%2C%20%7B%22geometry%22%3A%20%7B%22coordinates%22%3A%20%5B%5B%5B35.54376371300003%2C%2033.89042558500006%5D%2C%20%5B35.54250807000005%2C%2033.89068101500004%5D%2C%20%5B35.54245079400005%2C%2033.890492823000045%5D%2C%20%5B35.542169225000066%2C%2033.88951724400005%5D%2C%20%5B35.542165735000026%2C%2033.88950611700005%5D%2C%20%5B35.54340452300005%2C%2033.88924006900004%5D%2C%20%5B35.54365657300008%2C%2033.89007673500004%5D%2C%20%5B35.54376371300003%2C%2033.89042558500006%5D%5D%5D%2C%20%22type%22%3A%20%22Polygon%22%7D%2C%20%22id%22%3A%20107%2C%20%22properties%22%3A%20%7B%22ACS_CODE_1%22%3A%2022111%2C%20%22Cadaster_1%22%3A%20%22Bourj%20Hammoud%22%2C%20%22Cadaster_A%22%3A%20%22%5Cu0628%5Cu0631%5Cu062c%20%5Cu062d%5Cu0645%5Cu0651%5Cu0648%5Cu062f%22%2C%20%22District_1%22%3A%20%22El%20Meten%22%2C%20%22District_A%22%3A%20%22%5Cu0627%5Cu0644%5Cu0645%5Cu062a%5Cu0646%22%2C%20%22FID%22%3A%20107%2C%20%22Governor_1%22%3A%20%22%5Cu062c%5Cu0628%5Cu0644%20%5Cu0644%5Cu0628%5Cu0646%5Cu0627%5Cu0646%22%2C%20%22Governorat%22%3A%20%22Mount%20Lebanon%22%2C%20%22OBJECTID_1%22%3A%20108%2C%20%22Shape_Area%22%3A%201.56387204928e-06%2C%20%22Shape_Leng%22%3A%200.00501090979189%2C%20%22highlight%22%3A%20%7B%7D%2C%20%22style%22%3A%20%7B%22color%22%3A%20%22black%22%2C%20%22fillColor%22%3A%20%22%2308589e%22%2C%20%22fillOpacity%22%3A%201%2C%20%22opacity%22%3A%200.5%2C%20%22weight%22%3A%201%7D%2C%20%22zone_numbe%22%3A%2092%7D%2C%20%22type%22%3A%20%22Feature%22%7D%2C%20%7B%22geometry%22%3A%20%7B%22coordinates%22%3A%20%5B%5B%5B35.54403115300005%2C%2033.88845177500008%5D%2C%20%5B35.544586751000054%2C%2033.88897669600004%5D%2C%20%5B35.54340452300005%2C%2033.88924006900004%5D%2C%20%5B35.542165735000026%2C%2033.88950611700005%5D%2C%20%5B35.54195174000006%2C%2033.888823702000025%5D%2C%20%5B35.54290224400006%2C%2033.88858426200005%5D%2C%20%5B35.54318189600008%2C%2033.888488825000024%5D%2C%20%5B35.54382502900006%2C%2033.88826934300005%5D%2C%20%5B35.54403115300005%2C%2033.88845177500008%5D%5D%5D%2C%20%22type%22%3A%20%22Polygon%22%7D%2C%20%22id%22%3A%20108%2C%20%22properties%22%3A%20%7B%22ACS_CODE_1%22%3A%2022111%2C%20%22Cadaster_1%22%3A%20%22Bourj%20Hammoud%22%2C%20%22Cadaster_A%22%3A%20%22%5Cu0628%5Cu0631%5Cu062c%20%5Cu062d%5Cu0645%5Cu0651%5Cu0648%5Cu062f%22%2C%20%22District_1%22%3A%20%22El%20Meten%22%2C%20%22District_A%22%3A%20%22%5Cu0627%5Cu0644%5Cu0645%5Cu062a%5Cu0646%22%2C%20%22FID%22%3A%20108%2C%20%22Governor_1%22%3A%20%22%5Cu062c%5Cu0628%5Cu0644%20%5Cu0644%5Cu0628%5Cu0646%5Cu0627%5Cu0646%22%2C%20%22Governorat%22%3A%20%22Mount%20Lebanon%22%2C%20%22OBJECTID_1%22%3A%20109%2C%20%22Shape_Area%22%3A%201.72648448733e-06%2C%20%22Shape_Leng%22%3A%200.00618827673009%2C%20%22highlight%22%3A%20%7B%7D%2C%20%22style%22%3A%20%7B%22color%22%3A%20%22black%22%2C%20%22fillColor%22%3A%20%22%2308589e%22%2C%20%22fillOpacity%22%3A%201%2C%20%22opacity%22%3A%200.5%2C%20%22weight%22%3A%201%7D%2C%20%22zone_numbe%22%3A%2088%7D%2C%20%22type%22%3A%20%22Feature%22%7D%2C%20%7B%22geometry%22%3A%20%7B%22coordinates%22%3A%20%5B%5B%5B35.54512456200007%2C%2033.89094718000007%5D%2C%20%5B35.545348647000026%2C%2033.89175733500008%5D%2C%20%5B35.54543969100007%2C%2033.89198494500005%5D%2C%20%5B35.545107330000064%2C%2033.892033551000054%5D%2C%20%5B35.544401116000074%2C%2033.89216401500005%5D%2C%20%5B35.54412992700003%2C%2033.89141050200004%5D%2C%20%5B35.54404790600006%2C%2033.891197513000066%5D%2C%20%5B35.54512456200007%2C%2033.89094718000007%5D%5D%5D%2C%20%22type%22%3A%20%22Polygon%22%7D%2C%20%22id%22%3A%20109%2C%20%22properties%22%3A%20%7B%22ACS_CODE_1%22%3A%2022111%2C%20%22Cadaster_1%22%3A%20%22Bourj%20Hammoud%22%2C%20%22Cadaster_A%22%3A%20%22%5Cu0628%5Cu0631%5Cu062c%20%5Cu062d%5Cu0645%5Cu0651%5Cu0648%5Cu062f%22%2C%20%22District_1%22%3A%20%22El%20Meten%22%2C%20%22District_A%22%3A%20%22%5Cu0627%5Cu0644%5Cu0645%5Cu062a%5Cu0646%22%2C%20%22FID%22%3A%20109%2C%20%22Governor_1%22%3A%20%22%5Cu062c%5Cu0628%5Cu0644%20%5Cu0644%5Cu0628%5Cu0646%5Cu0627%5Cu0646%22%2C%20%22Governorat%22%3A%20%22Mount%20Lebanon%22%2C%20%22OBJECTID_1%22%3A%20110%2C%20%22Shape_Area%22%3A%201.11370147122e-06%2C%20%22Shape_Leng%22%3A%200.00427421733808%2C%20%22highlight%22%3A%20%7B%7D%2C%20%22style%22%3A%20%7B%22color%22%3A%20%22black%22%2C%20%22fillColor%22%3A%20%22%2308589e%22%2C%20%22fillOpacity%22%3A%201%2C%20%22opacity%22%3A%200.5%2C%20%22weight%22%3A%201%7D%2C%20%22zone_numbe%22%3A%2084%7D%2C%20%22type%22%3A%20%22Feature%22%7D%2C%20%7B%22geometry%22%3A%20%7B%22coordinates%22%3A%20%5B%5B%5B35.544904677000034%2C%2033.89018806400003%5D%2C%20%5B35.54503931700003%2C%2033.890638988000035%5D%2C%20%5B35.54512456200007%2C%2033.89094718000007%5D%2C%20%5B35.54404790600006%2C%2033.891197513000066%5D%2C%20%5B35.543815203000065%2C%2033.890593237000076%5D%2C%20%5B35.54376371300003%2C%2033.89042558500006%5D%2C%20%5B35.544904677000034%2C%2033.89018806400003%5D%5D%5D%2C%20%22type%22%3A%20%22Polygon%22%7D%2C%20%22id%22%3A%20110%2C%20%22properties%22%3A%20%7B%22ACS_CODE_1%22%3A%2022111%2C%20%22Cadaster_1%22%3A%20%22Bourj%20Hammoud%22%2C%20%22Cadaster_A%22%3A%20%22%5Cu0628%5Cu0631%5Cu062c%20%5Cu062d%5Cu0645%5Cu0651%5Cu0648%5Cu062f%22%2C%20%22District_1%22%3A%20%22El%20Meten%22%2C%20%22District_A%22%3A%20%22%5Cu0627%5Cu0644%5Cu0645%5Cu062a%5Cu0646%22%2C%20%22FID%22%3A%20110%2C%20%22Governor_1%22%3A%20%22%5Cu062c%5Cu0628%5Cu0644%20%5Cu0644%5Cu0628%5Cu0646%5Cu0627%5Cu0646%22%2C%20%22Governorat%22%3A%20%22Mount%20Lebanon%22%2C%20%22OBJECTID_1%22%3A%20111%2C%20%22Shape_Area%22%3A%209.15775019307e-07%2C%20%22Shape_Leng%22%3A%200.0038840746983%2C%20%22highlight%22%3A%20%7B%7D%2C%20%22style%22%3A%20%7B%22color%22%3A%20%22black%22%2C%20%22fillColor%22%3A%20%22%2308589e%22%2C%20%22fillOpacity%22%3A%201%2C%20%22opacity%22%3A%200.5%2C%20%22weight%22%3A%201%7D%2C%20%22zone_numbe%22%3A%2090%7D%2C%20%22type%22%3A%20%22Feature%22%7D%2C%20%7B%22geometry%22%3A%20%7B%22coordinates%22%3A%20%5B%5B%5B35.544904677000034%2C%2033.89018806400003%5D%2C%20%5B35.54376371300003%2C%2033.89042558500006%5D%2C%20%5B35.54365657300008%2C%2033.89007673500004%5D%2C%20%5B35.54340452300005%2C%2033.88924006900004%5D%2C%20%5B35.544586751000054%2C%2033.88897669600004%5D%2C%20%5B35.54470421000008%2C%2033.88951667600003%5D%2C%20%5B35.544904677000034%2C%2033.89018806400003%5D%5D%5D%2C%20%22type%22%3A%20%22Polygon%22%7D%2C%20%22id%22%3A%20111%2C%20%22properties%22%3A%20%7B%22ACS_CODE_1%22%3A%2022111%2C%20%22Cadaster_1%22%3A%20%22Bourj%20Hammoud%22%2C%20%22Cadaster_A%22%3A%20%22%5Cu0628%5Cu0631%5Cu062c%20%5Cu062d%5Cu0645%5Cu0651%5Cu0648%5Cu062f%22%2C%20%22District_1%22%3A%20%22El%20Meten%22%2C%20%22District_A%22%3A%20%22%5Cu0627%5Cu0644%5Cu0645%5Cu062a%5Cu0646%22%2C%20%22FID%22%3A%20111%2C%20%22Governor_1%22%3A%20%22%5Cu062c%5Cu0628%5Cu0644%20%5Cu0644%5Cu0628%5Cu0646%5Cu0627%5Cu0646%22%2C%20%22Governorat%22%3A%20%22Mount%20Lebanon%22%2C%20%22OBJECTID_1%22%3A%20112%2C%20%22Shape_Area%22%3A%201.46305884145e-06%2C%20%22Shape_Leng%22%3A%200.00486865843605%2C%20%22highlight%22%3A%20%7B%7D%2C%20%22style%22%3A%20%7B%22color%22%3A%20%22black%22%2C%20%22fillColor%22%3A%20%22%2308589e%22%2C%20%22fillOpacity%22%3A%201%2C%20%22opacity%22%3A%200.5%2C%20%22weight%22%3A%201%7D%2C%20%22zone_numbe%22%3A%2089%7D%2C%20%22type%22%3A%20%22Feature%22%7D%2C%20%7B%22geometry%22%3A%20%7B%22coordinates%22%3A%20%5B%5B%5B35.545351579000055%2C%2033.88762550600006%5D%2C%20%5B35.54606674200005%2C%2033.88861290400007%5D%2C%20%5B35.54478183300006%2C%2033.888980927000034%5D%2C%20%5B35.544586751000054%2C%2033.88897669600004%5D%2C%20%5B35.54403115300005%2C%2033.88845177500008%5D%2C%20%5B35.54382502900006%2C%2033.88826934300005%5D%2C%20%5B35.54410149200004%2C%2033.88817499500004%5D%2C%20%5B35.545351579000055%2C%2033.88762550600006%5D%5D%5D%2C%20%22type%22%3A%20%22Polygon%22%7D%2C%20%22id%22%3A%20112%2C%20%22properties%22%3A%20%7B%22ACS_CODE_1%22%3A%2022111%2C%20%22Cadaster_1%22%3A%20%22Bourj%20Hammoud%22%2C%20%22Cadaster_A%22%3A%20%22%5Cu0628%5Cu0631%5Cu062c%20%5Cu062d%5Cu0645%5Cu0651%5Cu0648%5Cu062f%22%2C%20%22District_1%22%3A%20%22El%20Meten%22%2C%20%22District_A%22%3A%20%22%5Cu0627%5Cu0644%5Cu0645%5Cu062a%5Cu0646%22%2C%20%22FID%22%3A%20112%2C%20%22Governor_1%22%3A%20%22%5Cu062c%5Cu0628%5Cu0644%20%5Cu0644%5Cu0628%5Cu0646%5Cu0627%5Cu0646%22%2C%20%22Governorat%22%3A%20%22Mount%20Lebanon%22%2C%20%22OBJECTID_1%22%3A%20113%2C%20%22Shape_Area%22%3A%201.66408312142e-06%2C%20%22Shape_Leng%22%3A%200.00544814166857%2C%20%22highlight%22%3A%20%7B%7D%2C%20%22style%22%3A%20%7B%22color%22%3A%20%22black%22%2C%20%22fillColor%22%3A%20%22%2308589e%22%2C%20%22fillOpacity%22%3A%201%2C%20%22opacity%22%3A%200.5%2C%20%22weight%22%3A%201%7D%2C%20%22zone_numbe%22%3A%2087%7D%2C%20%22type%22%3A%20%22Feature%22%7D%2C%20%7B%22geometry%22%3A%20%7B%22coordinates%22%3A%20%5B%5B%5B35.545351579000055%2C%2033.88762550600006%5D%2C%20%5B35.54669986400006%2C%2033.88703285400004%5D%2C%20%5B35.547274454000046%2C%2033.88668883400004%5D%2C%20%5B35.54737555000003%2C%2033.88682943200007%5D%2C%20%5B35.54755105900006%2C%2033.88704653000008%5D%2C%20%5B35.54776283900003%2C%2033.88721089200004%5D%2C%20%5B35.54794556000007%2C%2033.887295764000044%5D%2C%20%5B35.54817365300005%2C%2033.887376655000025%5D%2C%20%5B35.54839374100004%2C%2033.887484346000065%5D%2C%20%5B35.54831107000007%2C%2033.88768451100003%5D%2C%20%5B35.54826423500003%2C%2033.887868153000056%5D%2C%20%5B35.54810316500004%2C%2033.88797259200004%5D%2C%20%5B35.54780630700003%2C%2033.88813688600004%5D%2C%20%5B35.54759460300005%2C%2033.888285953000036%5D%2C%20%5B35.54746620100008%2C%2033.88841159100008%5D%2C%20%5B35.54731489000005%2C%2033.888581283000065%5D%2C%20%5B35.547125538000046%2C%2033.88877563700004%5D%2C%20%5B35.54692553900003%2C%2033.888993791000075%5D%2C%20%5B35.54666193200006%2C%2033.889199305000034%5D%2C%20%5B35.546962103000055%2C%2033.88970420000004%5D%2C%20%5B35.54678580500007%2C%2033.889840966000065%5D%2C%20%5B35.546190995000075%2C%2033.89037839000002%5D%2C%20%5B35.54532399300007%2C%2033.889673231000074%5D%2C%20%5B35.544586751000054%2C%2033.88897669600004%5D%2C%20%5B35.54478183300006%2C%2033.888980927000034%5D%2C%20%5B35.54606674200005%2C%2033.88861290400007%5D%2C%20%5B35.545351579000055%2C%2033.88762550600006%5D%5D%5D%2C%20%22type%22%3A%20%22Polygon%22%7D%2C%20%22id%22%3A%20113%2C%20%22properties%22%3A%20%7B%22ACS_CODE_1%22%3A%2022111%2C%20%22Cadaster_1%22%3A%20%22Bourj%20Hammoud%22%2C%20%22Cadaster_A%22%3A%20%22%5Cu0628%5Cu0631%5Cu062c%20%5Cu062d%5Cu0645%5Cu0651%5Cu0648%5Cu062f%22%2C%20%22District_1%22%3A%20%22El%20Meten%22%2C%20%22District_A%22%3A%20%22%5Cu0627%5Cu0644%5Cu0645%5Cu062a%5Cu0646%22%2C%20%22FID%22%3A%20113%2C%20%22Governor_1%22%3A%20%22%5Cu062c%5Cu0628%5Cu0644%20%5Cu0644%5Cu0628%5Cu0646%5Cu0627%5Cu0646%22%2C%20%22Governorat%22%3A%20%22Mount%20Lebanon%22%2C%20%22OBJECTID_1%22%3A%20114%2C%20%22Shape_Area%22%3A%205.92138855456e-06%2C%20%22Shape_Leng%22%3A%200.0125510708051%2C%20%22highlight%22%3A%20%7B%7D%2C%20%22style%22%3A%20%7B%22color%22%3A%20%22black%22%2C%20%22fillColor%22%3A%20%22%2308589e%22%2C%20%22fillOpacity%22%3A%201%2C%20%22opacity%22%3A%200.5%2C%20%22weight%22%3A%201%7D%2C%20%22zone_numbe%22%3A%2086%7D%2C%20%22type%22%3A%20%22Feature%22%7D%2C%20%7B%22geometry%22%3A%20%7B%22coordinates%22%3A%20%5B%5B%5B35.546051318000025%2C%2033.89259367600005%5D%2C%20%5B35.54631948000008%2C%2033.893589312000074%5D%2C%20%5B35.54489374800005%2C%2033.89364625800005%5D%2C%20%5B35.54467231800004%2C%2033.89348070600005%5D%2C%20%5B35.544326503000036%2C%2033.89316344500003%5D%2C%20%5B35.544681050000065%2C%2033.893085392000046%5D%2C%20%5B35.54470389200003%2C%2033.893032092000055%5D%2C%20%5B35.54576227700005%2C%2033.89271863700003%5D%2C%20%5B35.54574577900007%2C%2033.892681835000076%5D%2C%20%5B35.546051318000025%2C%2033.89259367600005%5D%5D%5D%2C%20%22type%22%3A%20%22Polygon%22%7D%2C%20%22id%22%3A%20114%2C%20%22properties%22%3A%20%7B%22ACS_CODE_1%22%3A%2022111%2C%20%22Cadaster_1%22%3A%20%22Bourj%20Hammoud%22%2C%20%22Cadaster_A%22%3A%20%22%5Cu0628%5Cu0631%5Cu062c%20%5Cu062d%5Cu0645%5Cu0651%5Cu0648%5Cu062f%22%2C%20%22District_1%22%3A%20%22El%20Meten%22%2C%20%22District_A%22%3A%20%22%5Cu0627%5Cu0644%5Cu0645%5Cu062a%5Cu0646%22%2C%20%22FID%22%3A%20114%2C%20%22Governor_1%22%3A%20%22%5Cu062c%5Cu0628%5Cu0644%20%5Cu0644%5Cu0628%5Cu0646%5Cu0627%5Cu0646%22%2C%20%22Governorat%22%3A%20%22Mount%20Lebanon%22%2C%20%22OBJECTID_1%22%3A%20115%2C%20%22Shape_Area%22%3A%201.28460365671e-06%2C%20%22Shape_Leng%22%3A%200.0050869470362%2C%20%22highlight%22%3A%20%7B%7D%2C%20%22style%22%3A%20%7B%22color%22%3A%20%22black%22%2C%20%22fillColor%22%3A%20%22%2308589e%22%2C%20%22fillOpacity%22%3A%201%2C%20%22opacity%22%3A%200.5%2C%20%22weight%22%3A%201%7D%2C%20%22zone_numbe%22%3A%2080%7D%2C%20%22type%22%3A%20%22Feature%22%7D%2C%20%7B%22geometry%22%3A%20%7B%22coordinates%22%3A%20%5B%5B%5B35.546051318000025%2C%2033.89259367600005%5D%2C%20%5B35.54574577900007%2C%2033.892681835000076%5D%2C%20%5B35.54576227700005%2C%2033.89271863700003%5D%2C%20%5B35.54470389200003%2C%2033.893032092000055%5D%2C%20%5B35.544681050000065%2C%2033.893085392000046%5D%2C%20%5B35.544326503000036%2C%2033.89316344500003%5D%2C%20%5B35.54382523000004%2C%2033.89267168900005%5D%2C%20%5B35.543492112000024%2C%2033.892331942000055%5D%2C%20%5B35.545107330000064%2C%2033.892033551000054%5D%2C%20%5B35.545870398000034%2C%2033.89192195600003%5D%2C%20%5B35.546051318000025%2C%2033.89259367600005%5D%5D%5D%2C%20%22type%22%3A%20%22Polygon%22%7D%2C%20%22id%22%3A%20115%2C%20%22properties%22%3A%20%7B%22ACS_CODE_1%22%3A%2022111%2C%20%22Cadaster_1%22%3A%20%22Bourj%20Hammoud%22%2C%20%22Cadaster_A%22%3A%20%22%5Cu0628%5Cu0631%5Cu062c%20%5Cu062d%5Cu0645%5Cu0651%5Cu0648%5Cu062f%22%2C%20%22District_1%22%3A%20%22El%20Meten%22%2C%20%22District_A%22%3A%20%22%5Cu0627%5Cu0644%5Cu0645%5Cu062a%5Cu0646%22%2C%20%22FID%22%3A%20115%2C%20%22Governor_1%22%3A%20%22%5Cu062c%5Cu0628%5Cu0644%20%5Cu0644%5Cu0628%5Cu0646%5Cu0627%5Cu0646%22%2C%20%22Governorat%22%3A%20%22Mount%20Lebanon%22%2C%20%22OBJECTID_1%22%3A%20116%2C%20%22Shape_Area%22%3A%201.83489375501e-06%2C%20%22Shape_Leng%22%3A%200.00617059761415%2C%20%22highlight%22%3A%20%7B%7D%2C%20%22style%22%3A%20%7B%22color%22%3A%20%22black%22%2C%20%22fillColor%22%3A%20%22%2308589e%22%2C%20%22fillOpacity%22%3A%201%2C%20%22opacity%22%3A%200.5%2C%20%22weight%22%3A%201%7D%2C%20%22zone_numbe%22%3A%2081%7D%2C%20%22type%22%3A%20%22Feature%22%7D%2C%20%7B%22geometry%22%3A%20%7B%22coordinates%22%3A%20%5B%5B%5B35.547350824000034%2C%2033.89354811800007%5D%2C%20%5B35.54631948000008%2C%2033.893589312000074%5D%2C%20%5B35.545870398000034%2C%2033.89192195600003%5D%2C%20%5B35.54591000200003%2C%2033.891916164000065%5D%2C%20%5B35.54663113000004%2C%2033.89186740500003%5D%2C%20%5B35.54697675400007%2C%2033.89267517300004%5D%2C%20%5B35.547350824000034%2C%2033.89354811800007%5D%5D%5D%2C%20%22type%22%3A%20%22Polygon%22%7D%2C%20%22id%22%3A%20116%2C%20%22properties%22%3A%20%7B%22ACS_CODE_1%22%3A%2022111%2C%20%22Cadaster_1%22%3A%20%22Bourj%20Hammoud%22%2C%20%22Cadaster_A%22%3A%20%22%5Cu0628%5Cu0631%5Cu062c%20%5Cu062d%5Cu0645%5Cu0651%5Cu0648%5Cu062f%22%2C%20%22District_1%22%3A%20%22El%20Meten%22%2C%20%22District_A%22%3A%20%22%5Cu0627%5Cu0644%5Cu0645%5Cu062a%5Cu0646%22%2C%20%22FID%22%3A%20116%2C%20%22Governor_1%22%3A%20%22%5Cu062c%5Cu0628%5Cu0644%20%5Cu0644%5Cu0628%5Cu0646%5Cu0627%5Cu0646%22%2C%20%22Governorat%22%3A%20%22Mount%20Lebanon%22%2C%20%22OBJECTID_1%22%3A%20117%2C%20%22Shape_Area%22%3A%201.5288719843e-06%2C%20%22Shape_Leng%22%3A%200.00535006134376%2C%20%22highlight%22%3A%20%7B%7D%2C%20%22style%22%3A%20%7B%22color%22%3A%20%22black%22%2C%20%22fillColor%22%3A%20%22%2308589e%22%2C%20%22fillOpacity%22%3A%201%2C%20%22opacity%22%3A%200.5%2C%20%22weight%22%3A%201%7D%2C%20%22zone_numbe%22%3A%2079%7D%2C%20%22type%22%3A%20%22Feature%22%7D%2C%20%7B%22geometry%22%3A%20%7B%22coordinates%22%3A%20%5B%5B%5B35.54848688900006%2C%2033.89214370600007%5D%2C%20%5B35.54907990300006%2C%2033.89244778900007%5D%2C%20%5B35.549786519000065%2C%2033.89285003800006%5D%2C%20%5B35.550051831000076%2C%2033.89300927200003%5D%2C%20%5B35.550535386000035%2C%2033.893268412000054%5D%2C%20%5B35.550417424000045%2C%2033.893369481000036%5D%2C%20%5B35.54940060100006%2C%2033.89346624600006%5D%2C%20%5B35.548121845000026%2C%2033.89351732200004%5D%2C%20%5B35.548330469000064%2C%2033.89221696800007%5D%2C%20%5B35.54841930200007%2C%2033.892234417000054%5D%2C%20%5B35.54848688900006%2C%2033.89214370600007%5D%5D%5D%2C%20%22type%22%3A%20%22Polygon%22%7D%2C%20%22id%22%3A%20117%2C%20%22properties%22%3A%20%7B%22ACS_CODE_1%22%3A%2022111%2C%20%22Cadaster_1%22%3A%20%22Bourj%20Hammoud%22%2C%20%22Cadaster_A%22%3A%20%22%5Cu0628%5Cu0631%5Cu062c%20%5Cu062d%5Cu0645%5Cu0651%5Cu0648%5Cu062f%22%2C%20%22District_1%22%3A%20%22El%20Meten%22%2C%20%22District_A%22%3A%20%22%5Cu0627%5Cu0644%5Cu0645%5Cu062a%5Cu0646%22%2C%20%22FID%22%3A%20117%2C%20%22Governor_1%22%3A%20%22%5Cu062c%5Cu0628%5Cu0644%20%5Cu0644%5Cu0628%5Cu0646%5Cu0627%5Cu0646%22%2C%20%22Governorat%22%3A%20%22Mount%20Lebanon%22%2C%20%22OBJECTID_1%22%3A%20118%2C%20%22Shape_Area%22%3A%201.8599387851e-06%2C%20%22Shape_Leng%22%3A%200.00631472916613%2C%20%22highlight%22%3A%20%7B%7D%2C%20%22style%22%3A%20%7B%22color%22%3A%20%22black%22%2C%20%22fillColor%22%3A%20%22%2308589e%22%2C%20%22fillOpacity%22%3A%201%2C%20%22opacity%22%3A%200.5%2C%20%22weight%22%3A%201%7D%2C%20%22zone_numbe%22%3A%2077%7D%2C%20%22type%22%3A%20%22Feature%22%7D%2C%20%7B%22geometry%22%3A%20%7B%22coordinates%22%3A%20%5B%5B%5B35.548121845000026%2C%2033.89351732200004%5D%2C%20%5B35.547350824000034%2C%2033.89354811800007%5D%2C%20%5B35.54697675400007%2C%2033.89267517300004%5D%2C%20%5B35.54663113000004%2C%2033.89186740500003%5D%2C%20%5B35.546801506000065%2C%2033.89185588400005%5D%2C%20%5B35.54722822300005%2C%2033.89180472600003%5D%2C%20%5B35.54745461700003%2C%2033.89160307000003%5D%2C%20%5B35.547907559000066%2C%2033.89179130200006%5D%2C%20%5B35.548081542000034%2C%2033.89193777000003%5D%2C%20%5B35.54832765100008%2C%2033.892062053000075%5D%2C%20%5B35.54848688900006%2C%2033.89214370600007%5D%2C%20%5B35.54841930200007%2C%2033.892234417000054%5D%2C%20%5B35.548330469000064%2C%2033.89221696800007%5D%2C%20%5B35.548121845000026%2C%2033.89351732200004%5D%5D%5D%2C%20%22type%22%3A%20%22Polygon%22%7D%2C%20%22id%22%3A%20118%2C%20%22properties%22%3A%20%7B%22ACS_CODE_1%22%3A%2022111%2C%20%22Cadaster_1%22%3A%20%22Bourj%20Hammoud%22%2C%20%22Cadaster_A%22%3A%20%22%5Cu0628%5Cu0631%5Cu062c%20%5Cu062d%5Cu0645%5Cu0651%5Cu0648%5Cu062f%22%2C%20%22District_1%22%3A%20%22El%20Meten%22%2C%20%22District_A%22%3A%20%22%5Cu0627%5Cu0644%5Cu0645%5Cu062a%5Cu0646%22%2C%20%22FID%22%3A%20118%2C%20%22Governor_1%22%3A%20%22%5Cu062c%5Cu0628%5Cu0644%20%5Cu0644%5Cu0628%5Cu0646%5Cu0627%5Cu0646%22%2C%20%22Governorat%22%3A%20%22Mount%20Lebanon%22%2C%20%22OBJECTID_1%22%3A%20119%2C%20%22Shape_Area%22%3A%202.21247580947e-06%2C%20%22Shape_Leng%22%3A%200.00619689775203%2C%20%22highlight%22%3A%20%7B%7D%2C%20%22style%22%3A%20%7B%22color%22%3A%20%22black%22%2C%20%22fillColor%22%3A%20%22%232b8cbe%22%2C%20%22fillOpacity%22%3A%201%2C%20%22opacity%22%3A%200.5%2C%20%22weight%22%3A%201%7D%2C%20%22zone_numbe%22%3A%2078%7D%2C%20%22type%22%3A%20%22Feature%22%7D%2C%20%7B%22geometry%22%3A%20%7B%22coordinates%22%3A%20%5B%5B%5B35.53874831500008%2C%2033.88351661300004%5D%2C%20%5B35.53874460800006%2C%2033.883263588000034%5D%2C%20%5B35.53876984500005%2C%2033.88304777700006%5D%2C%20%5B35.53882623900006%2C%2033.88289204400007%5D%2C%20%5B35.53890755600003%2C%2033.882740203000026%5D%2C%20%5B35.53907343100008%2C%2033.88249040900007%5D%2C%20%5B35.53919750000006%2C%2033.882330610000054%5D%2C%20%5B35.539385958000025%2C%2033.88211497400005%5D%2C%20%5B35.539561347000074%2C%2033.88189421100003%5D%2C%20%5B35.539664352000045%2C%2033.88167631600004%5D%2C%20%5B35.53974037100005%2C%2033.88148775600007%5D%2C%20%5B35.53986912500005%2C%2033.88118780000008%5D%2C%20%5B35.539950962000034%2C%2033.880995803000076%5D%2C%20%5B35.53994831000006%2C%2033.88099336700003%5D%2C%20%5B35.539969255000074%2C%2033.88097789400007%5D%2C%20%5B35.54095521600004%2C%2033.88008441300008%5D%2C%20%5B35.54252487300005%2C%2033.882206213000075%5D%2C%20%5B35.54307706800006%2C%2033.88222245400004%5D%2C%20%5B35.54352781400007%2C%2033.88311194000005%5D%2C%20%5B35.54353948900007%2C%2033.883119160000035%5D%2C%20%5B35.543539477000024%2C%2033.883135508000066%5D%2C%20%5B35.54353969400006%2C%2033.883378476000075%5D%2C%20%5B35.543493193000074%2C%2033.883546197000044%5D%2C%20%5B35.54344886900003%2C%2033.88373847200006%5D%2C%20%5B35.54369899900007%2C%2033.88375219400007%5D%2C%20%5B35.54399121900008%2C%2033.88375723900003%5D%2C%20%5B35.544311185000026%2C%2033.88376072300008%5D%2C%20%5B35.54455304000004%2C%2033.883750503000044%5D%2C%20%5B35.54477816800005%2C%2033.88376385300006%5D%2C%20%5B35.54508350800006%2C%2033.88378755300005%5D%2C%20%5B35.54530398000003%2C%2033.88379744800005%5D%2C%20%5B35.54552546700006%2C%2033.88380721800007%5D%2C%20%5B35.545757897000044%2C%2033.88385858500004%5D%2C%20%5B35.54594808000007%2C%2033.88405264900007%5D%2C%20%5B35.54617329200005%2C%2033.88409390000004%5D%2C%20%5B35.54621288000004%2C%2033.88428178400005%5D%2C%20%5B35.546363092000036%2C%2033.88438520100004%5D%2C%20%5B35.546522485000025%2C%2033.88448593500004%5D%2C%20%5B35.546616963000076%2C%2033.88463559500008%5D%2C%20%5B35.54674803300003%2C%2033.88476508100007%5D%2C%20%5B35.54696579700004%2C%2033.884902053000076%5D%2C%20%5B35.547138277000045%2C%2033.88499142400008%5D%2C%20%5B35.54731198300004%2C%2033.88508673200005%5D%2C%20%5B35.54744430300008%2C%2033.88520524200004%5D%2C%20%5B35.547575109000036%2C%2033.88533134100004%5D%2C%20%5B35.54779102100008%2C%2033.885523670000055%5D%2C%20%5B35.547726786000055%2C%2033.88569916300003%5D%2C%20%5B35.54813779600005%2C%2033.885982324000054%5D%2C%20%5B35.548125586000026%2C%2033.88614294400003%5D%2C%20%5B35.54813967600006%2C%2033.88630649000004%5D%2C%20%5B35.54750626300006%2C%2033.886595311000065%5D%2C%20%5B35.547274454000046%2C%2033.88668883400004%5D%2C%20%5B35.54669986400006%2C%2033.88703285400004%5D%2C%20%5B35.54410149200004%2C%2033.88817499500004%5D%2C%20%5B35.54382502900006%2C%2033.88826934300005%5D%2C%20%5B35.54353400400004%2C%2033.888060049000046%5D%2C%20%5B35.54274878200005%2C%2033.88601371300007%5D%2C%20%5B35.54130524200008%2C%2033.883594594000044%5D%2C%20%5B35.54038518400006%2C%2033.88372943000007%5D%2C%20%5B35.53969514000005%2C%2033.88374529300006%5D%2C%20%5B35.53874831500008%2C%2033.88351661300004%5D%5D%5D%2C%20%22type%22%3A%20%22Polygon%22%7D%2C%20%22id%22%3A%20119%2C%20%22properties%22%3A%20%7B%22ACS_CODE_1%22%3A%2022111%2C%20%22Cadaster_1%22%3A%20%22Bourj%20Hammoud%22%2C%20%22Cadaster_A%22%3A%20%22%5Cu0628%5Cu0631%5Cu062c%20%5Cu062d%5Cu0645%5Cu0651%5Cu0648%5Cu062f%22%2C%20%22District_1%22%3A%20%22El%20Meten%22%2C%20%22District_A%22%3A%20%22%5Cu0627%5Cu0644%5Cu0645%5Cu062a%5Cu0646%22%2C%20%22FID%22%3A%20119%2C%20%22Governor_1%22%3A%20%22%5Cu062c%5Cu0628%5Cu0644%20%5Cu0644%5Cu0628%5Cu0646%5Cu0627%5Cu0646%22%2C%20%22Governorat%22%3A%20%22Mount%20Lebanon%22%2C%20%22OBJECTID_1%22%3A%20120%2C%20%22Shape_Area%22%3A%202.84797402563e-05%2C%20%22Shape_Leng%22%3A%200.027810699691%2C%20%22highlight%22%3A%20%7B%7D%2C%20%22style%22%3A%20%7B%22color%22%3A%20%22black%22%2C%20%22fillColor%22%3A%20%22%232b8cbe%22%2C%20%22fillOpacity%22%3A%201%2C%20%22opacity%22%3A%200.5%2C%20%22weight%22%3A%201%7D%2C%20%22zone_numbe%22%3A%20128%7D%2C%20%22type%22%3A%20%22Feature%22%7D%2C%20%7B%22geometry%22%3A%20%7B%22coordinates%22%3A%20%5B%5B%5B35.536809015000074%2C%2033.88633906300004%5D%2C%20%5B35.536841422000066%2C%2033.88588908400004%5D%2C%20%5B35.53695913400003%2C%2033.88574244000006%5D%2C%20%5B35.53713048800006%2C%2033.88553712200007%5D%2C%20%5B35.537352429000066%2C%2033.885399783000025%5D%2C%20%5B35.53832285200008%2C%2033.88496556000007%5D%2C%20%5B35.53864011400003%2C%2033.88515988300003%5D%2C%20%5B35.53878684700004%2C%2033.885810269000046%5D%2C%20%5B35.53894547800007%2C%2033.886456689000056%5D%2C%20%5B35.538974490000044%2C%2033.88657968600006%5D%2C%20%5B35.53818325700007%2C%2033.886550757000066%5D%2C%20%5B35.53765025800004%2C%2033.88647937300004%5D%2C%20%5B35.536809015000074%2C%2033.88633906300004%5D%5D%5D%2C%20%22type%22%3A%20%22Polygon%22%7D%2C%20%22id%22%3A%20120%2C%20%22properties%22%3A%20%7B%22ACS_CODE_1%22%3A%2022111%2C%20%22Cadaster_1%22%3A%20%22Bourj%20Hammoud%22%2C%20%22Cadaster_A%22%3A%20%22%5Cu0628%5Cu0631%5Cu062c%20%5Cu062d%5Cu0645%5Cu0651%5Cu0648%5Cu062f%22%2C%20%22District_1%22%3A%20%22El%20Meten%22%2C%20%22District_A%22%3A%20%22%5Cu0627%5Cu0644%5Cu0645%5Cu062a%5Cu0646%22%2C%20%22FID%22%3A%20120%2C%20%22Governor_1%22%3A%20%22%5Cu062c%5Cu0628%5Cu0644%20%5Cu0644%5Cu0628%5Cu0646%5Cu0627%5Cu0646%22%2C%20%22Governorat%22%3A%20%22Mount%20Lebanon%22%2C%20%22OBJECTID_1%22%3A%20121%2C%20%22Shape_Area%22%3A%202.39355621148e-06%2C%20%22Shape_Leng%22%3A%200.00624388761405%2C%20%22highlight%22%3A%20%7B%7D%2C%20%22style%22%3A%20%7B%22color%22%3A%20%22black%22%2C%20%22fillColor%22%3A%20%22%232b8cbe%22%2C%20%22fillOpacity%22%3A%201%2C%20%22opacity%22%3A%200.5%2C%20%22weight%22%3A%201%7D%2C%20%22zone_numbe%22%3A%20123%7D%2C%20%22type%22%3A%20%22Feature%22%7D%2C%20%7B%22geometry%22%3A%20%7B%22coordinates%22%3A%20%5B%5B%5B35.537956748000056%2C%2033.88652042100006%5D%2C%20%5B35.53818325700007%2C%2033.886550757000066%5D%2C%20%5B35.538974490000044%2C%2033.88657968600006%5D%2C%20%5B35.53908626300006%2C%2033.88705353700004%5D%2C%20%5B35.53914340000006%2C%2033.88733150100006%5D%2C%20%5B35.537948880000044%2C%2033.88736492900006%5D%2C%20%5B35.537923327000044%2C%2033.88736922700008%5D%2C%20%5B35.53792290400003%2C%2033.88729691700007%5D%2C%20%5B35.53790228200006%2C%2033.88684481900003%5D%2C%20%5B35.537956748000056%2C%2033.88652042100006%5D%5D%5D%2C%20%22type%22%3A%20%22Polygon%22%7D%2C%20%22id%22%3A%20121%2C%20%22properties%22%3A%20%7B%22ACS_CODE_1%22%3A%2022111%2C%20%22Cadaster_1%22%3A%20%22Bourj%20Hammoud%22%2C%20%22Cadaster_A%22%3A%20%22%5Cu0628%5Cu0631%5Cu062c%20%5Cu062d%5Cu0645%5Cu0651%5Cu0648%5Cu062f%22%2C%20%22District_1%22%3A%20%22El%20Meten%22%2C%20%22District_A%22%3A%20%22%5Cu0627%5Cu0644%5Cu0645%5Cu062a%5Cu0646%22%2C%20%22FID%22%3A%20121%2C%20%22Governor_1%22%3A%20%22%5Cu062c%5Cu0628%5Cu0644%20%5Cu0644%5Cu0628%5Cu0646%5Cu0627%5Cu0646%22%2C%20%22Governorat%22%3A%20%22Mount%20Lebanon%22%2C%20%22OBJECTID_1%22%3A%20122%2C%20%22Shape_Area%22%3A%209.02920767166e-07%2C%20%22Shape_Leng%22%3A%200.00386564142044%2C%20%22highlight%22%3A%20%7B%7D%2C%20%22style%22%3A%20%7B%22color%22%3A%20%22black%22%2C%20%22fillColor%22%3A%20%22%232b8cbe%22%2C%20%22fillOpacity%22%3A%201%2C%20%22opacity%22%3A%200.5%2C%20%22weight%22%3A%201%7D%2C%20%22zone_numbe%22%3A%20122%7D%2C%20%22type%22%3A%20%22Feature%22%7D%2C%20%7B%22geometry%22%3A%20%7B%22coordinates%22%3A%20%5B%5B%5B35.537923327000044%2C%2033.88736922700008%5D%2C%20%5B35.53669317200007%2C%2033.88757610400006%5D%2C%20%5B35.53670005600003%2C%2033.88750133600007%5D%2C%20%5B35.53673665700006%2C%2033.88721297400008%5D%2C%20%5B35.53676732800005%2C%2033.88674399200005%5D%2C%20%5B35.536802925000075%2C%2033.88642362300004%5D%2C%20%5B35.536809015000074%2C%2033.88633906300004%5D%2C%20%5B35.53765025800004%2C%2033.88647937300004%5D%2C%20%5B35.537956748000056%2C%2033.88652042100006%5D%2C%20%5B35.53790228200006%2C%2033.88684481900003%5D%2C%20%5B35.53792290400003%2C%2033.88729691700007%5D%2C%20%5B35.537923327000044%2C%2033.88736922700008%5D%5D%5D%2C%20%22type%22%3A%20%22Polygon%22%7D%2C%20%22id%22%3A%20122%2C%20%22properties%22%3A%20%7B%22ACS_CODE_1%22%3A%2022111%2C%20%22Cadaster_1%22%3A%20%22Bourj%20Hammoud%22%2C%20%22Cadaster_A%22%3A%20%22%5Cu0628%5Cu0631%5Cu062c%20%5Cu062d%5Cu0645%5Cu0651%5Cu0648%5Cu062f%22%2C%20%22District_1%22%3A%20%22El%20Meten%22%2C%20%22District_A%22%3A%20%22%5Cu0627%5Cu0644%5Cu0645%5Cu062a%5Cu0646%22%2C%20%22FID%22%3A%20122%2C%20%22Governor_1%22%3A%20%22%5Cu062c%5Cu0628%5Cu0644%20%5Cu0644%5Cu0628%5Cu0646%5Cu0627%5Cu0646%22%2C%20%22Governorat%22%3A%20%22Mount%20Lebanon%22%2C%20%22OBJECTID_1%22%3A%20123%2C%20%22Shape_Area%22%3A%201.21529286507e-06%2C%20%22Shape_Leng%22%3A%200.00450620064639%2C%20%22highlight%22%3A%20%7B%7D%2C%20%22style%22%3A%20%7B%22color%22%3A%20%22black%22%2C%20%22fillColor%22%3A%20%22%232b8cbe%22%2C%20%22fillOpacity%22%3A%201%2C%20%22opacity%22%3A%200.5%2C%20%22weight%22%3A%201%7D%2C%20%22zone_numbe%22%3A%20121%7D%2C%20%22type%22%3A%20%22Feature%22%7D%2C%20%7B%22geometry%22%3A%20%7B%22coordinates%22%3A%20%5B%5B%5B35.537951548000024%2C%2033.88762828400007%5D%2C%20%5B35.53795482900006%2C%2033.88795226000008%5D%2C%20%5B35.538028592000046%2C%2033.88867561600006%5D%2C%20%5B35.53811606600004%2C%2033.88955007200008%5D%2C%20%5B35.535975783000026%2C%2033.88991242600002%5D%2C%20%5B35.53623082000007%2C%2033.88972963700007%5D%2C%20%5B35.53628599900003%2C%2033.88945762000003%5D%2C%20%5B35.53642623600007%2C%2033.88887555300005%5D%2C%20%5B35.53655783700003%2C%2033.888317880000045%5D%2C%20%5B35.53660082500005%2C%2033.88812572900002%5D%2C%20%5B35.536670539000056%2C%2033.88782193600008%5D%2C%20%5B35.53669317200007%2C%2033.88757610400006%5D%2C%20%5B35.537923327000044%2C%2033.88736922700008%5D%2C%20%5B35.537951548000024%2C%2033.88762828400007%5D%5D%5D%2C%20%22type%22%3A%20%22Polygon%22%7D%2C%20%22id%22%3A%20123%2C%20%22properties%22%3A%20%7B%22ACS_CODE_1%22%3A%2022111%2C%20%22Cadaster_1%22%3A%20%22Bourj%20Hammoud%22%2C%20%22Cadaster_A%22%3A%20%22%5Cu0628%5Cu0631%5Cu062c%20%5Cu062d%5Cu0645%5Cu0651%5Cu0648%5Cu062f%22%2C%20%22District_1%22%3A%20%22El%20Meten%22%2C%20%22District_A%22%3A%20%22%5Cu0627%5Cu0644%5Cu0645%5Cu062a%5Cu0646%22%2C%20%22FID%22%3A%20123%2C%20%22Governor_1%22%3A%20%22%5Cu062c%5Cu0628%5Cu0644%20%5Cu0644%5Cu0628%5Cu0646%5Cu0627%5Cu0646%22%2C%20%22Governorat%22%3A%20%22Mount%20Lebanon%22%2C%20%22OBJECTID_1%22%3A%20124%2C%20%22Shape_Area%22%3A%203.45300686193e-06%2C%20%22Shape_Leng%22%3A%200.00812718697822%2C%20%22highlight%22%3A%20%7B%7D%2C%20%22style%22%3A%20%7B%22color%22%3A%20%22black%22%2C%20%22fillColor%22%3A%20%22%2308589e%22%2C%20%22fillOpacity%22%3A%201%2C%20%22opacity%22%3A%200.5%2C%20%22weight%22%3A%201%7D%2C%20%22zone_numbe%22%3A%20119%7D%2C%20%22type%22%3A%20%22Feature%22%7D%2C%20%7B%22geometry%22%3A%20%7B%22coordinates%22%3A%20%5B%5B%5B35.53923299600007%2C%2033.887767376000056%5D%2C%20%5B35.53948482200008%2C%2033.888760801000046%5D%2C%20%5B35.53963067900003%2C%2033.88927717100006%5D%2C%20%5B35.538704875000064%2C%2033.88945038600008%5D%2C%20%5B35.53811606600004%2C%2033.88955007200008%5D%2C%20%5B35.538028592000046%2C%2033.88867561600006%5D%2C%20%5B35.53795482900006%2C%2033.88795226000008%5D%2C%20%5B35.537951548000024%2C%2033.88762828400007%5D%2C%20%5B35.537923327000044%2C%2033.88736922700008%5D%2C%20%5B35.537948880000044%2C%2033.88736492900006%5D%2C%20%5B35.53914340000006%2C%2033.88733150100006%5D%2C%20%5B35.53923299600007%2C%2033.887767376000056%5D%5D%5D%2C%20%22type%22%3A%20%22Polygon%22%7D%2C%20%22id%22%3A%20124%2C%20%22properties%22%3A%20%7B%22ACS_CODE_1%22%3A%2022111%2C%20%22Cadaster_1%22%3A%20%22Bourj%20Hammoud%22%2C%20%22Cadaster_A%22%3A%20%22%5Cu0628%5Cu0631%5Cu062c%20%5Cu062d%5Cu0645%5Cu0651%5Cu0648%5Cu062f%22%2C%20%22District_1%22%3A%20%22El%20Meten%22%2C%20%22District_A%22%3A%20%22%5Cu0627%5Cu0644%5Cu0645%5Cu062a%5Cu0646%22%2C%20%22FID%22%3A%20124%2C%20%22Governor_1%22%3A%20%22%5Cu062c%5Cu0628%5Cu0644%20%5Cu0644%5Cu0628%5Cu0646%5Cu0627%5Cu0646%22%2C%20%22Governorat%22%3A%20%22Mount%20Lebanon%22%2C%20%22OBJECTID_1%22%3A%20125%2C%20%22Shape_Area%22%3A%202.8715893045e-06%2C%20%22Shape_Leng%22%3A%200.00695687454048%2C%20%22highlight%22%3A%20%7B%7D%2C%20%22style%22%3A%20%7B%22color%22%3A%20%22black%22%2C%20%22fillColor%22%3A%20%22%2308589e%22%2C%20%22fillOpacity%22%3A%201%2C%20%22opacity%22%3A%200.5%2C%20%22weight%22%3A%201%7D%2C%20%22zone_numbe%22%3A%20120%7D%2C%20%22type%22%3A%20%22Feature%22%7D%2C%20%7B%22geometry%22%3A%20%7B%22coordinates%22%3A%20%5B%5B%5B35.53864011400003%2C%2033.88515988300003%5D%2C%20%5B35.53832285200008%2C%2033.88496556000007%5D%2C%20%5B35.537352429000066%2C%2033.885399783000025%5D%2C%20%5B35.53726792400005%2C%2033.88514823000003%5D%2C%20%5B35.53715542800006%2C%2033.88494121700006%5D%2C%20%5B35.53707063100006%2C%2033.88460876500005%5D%2C%20%5B35.53704067600006%2C%2033.88439805000007%5D%2C%20%5B35.53711765500003%2C%2033.88424389200003%5D%2C%20%5B35.53736635100006%2C%2033.884182632000034%5D%2C%20%5B35.537589972000035%2C%2033.88414016200005%5D%2C%20%5B35.53783844700007%2C%2033.88410497000007%5D%2C%20%5B35.53812937200007%2C%2033.88401276900004%5D%2C%20%5B35.538287582000066%2C%2033.88391591100003%5D%2C%20%5B35.53841596700005%2C%2033.88375984100003%5D%2C%20%5B35.538629866000065%2C%2033.883666349000066%5D%2C%20%5B35.53874831500008%2C%2033.88351661300004%5D%2C%20%5B35.53969514000005%2C%2033.88374529300006%5D%2C%20%5B35.54038518400006%2C%2033.88372943000007%5D%2C%20%5B35.54130524200008%2C%2033.883594594000044%5D%2C%20%5B35.54274878200005%2C%2033.88601371300007%5D%2C%20%5B35.54302429100005%2C%2033.886731706000035%5D%2C%20%5B35.541558562000034%2C%2033.88619231800004%5D%2C%20%5B35.540527463000046%2C%2033.88582746700007%5D%2C%20%5B35.53864011400003%2C%2033.88515988300003%5D%5D%5D%2C%20%22type%22%3A%20%22Polygon%22%7D%2C%20%22id%22%3A%20125%2C%20%22properties%22%3A%20%7B%22ACS_CODE_1%22%3A%2022111%2C%20%22Cadaster_1%22%3A%20%22Bourj%20Hammoud%22%2C%20%22Cadaster_A%22%3A%20%22%5Cu0628%5Cu0631%5Cu062c%20%5Cu062d%5Cu0645%5Cu0651%5Cu0648%5Cu062f%22%2C%20%22District_1%22%3A%20%22El%20Meten%22%2C%20%22District_A%22%3A%20%22%5Cu0627%5Cu0644%5Cu0645%5Cu062a%5Cu0646%22%2C%20%22FID%22%3A%20125%2C%20%22Governor_1%22%3A%20%22%5Cu062c%5Cu0628%5Cu0644%20%5Cu0644%5Cu0628%5Cu0646%5Cu0627%5Cu0646%22%2C%20%22Governorat%22%3A%20%22Mount%20Lebanon%22%2C%20%22OBJECTID_1%22%3A%20126%2C%20%22Shape_Area%22%3A%209.29285101786e-06%2C%20%22Shape_Leng%22%3A%200.0153540309499%2C%20%22highlight%22%3A%20%7B%7D%2C%20%22style%22%3A%20%7B%22color%22%3A%20%22black%22%2C%20%22fillColor%22%3A%20%22%2308589e%22%2C%20%22fillOpacity%22%3A%201%2C%20%22opacity%22%3A%200.5%2C%20%22weight%22%3A%201%7D%2C%20%22zone_numbe%22%3A%20127%7D%2C%20%22type%22%3A%20%22Feature%22%7D%2C%20%7B%22geometry%22%3A%20%7B%22coordinates%22%3A%20%5B%5B%5B35.54101780800005%2C%2033.88600097400007%5D%2C%20%5B35.541558562000034%2C%2033.88619231800004%5D%2C%20%5B35.54302429100005%2C%2033.886731706000035%5D%2C%20%5B35.54353400400004%2C%2033.888060049000046%5D%2C%20%5B35.54382502900006%2C%2033.88826934300005%5D%2C%20%5B35.54290224400006%2C%2033.88858426200005%5D%2C%20%5B35.54195174000006%2C%2033.888823702000025%5D%2C%20%5B35.54101780800005%2C%2033.88600097400007%5D%5D%5D%2C%20%22type%22%3A%20%22Polygon%22%7D%2C%20%22id%22%3A%20126%2C%20%22properties%22%3A%20%7B%22ACS_CODE_1%22%3A%2022111%2C%20%22Cadaster_1%22%3A%20%22Bourj%20Hammoud%22%2C%20%22Cadaster_A%22%3A%20%22%5Cu0628%5Cu0631%5Cu062c%20%5Cu062d%5Cu0645%5Cu0651%5Cu0648%5Cu062f%22%2C%20%22District_1%22%3A%20%22El%20Meten%22%2C%20%22District_A%22%3A%20%22%5Cu0627%5Cu0644%5Cu0645%5Cu062a%5Cu0646%22%2C%20%22FID%22%3A%20126%2C%20%22Governor_1%22%3A%20%22%5Cu062c%5Cu0628%5Cu0644%20%5Cu0644%5Cu0628%5Cu0646%5Cu0627%5Cu0646%22%2C%20%22Governorat%22%3A%20%22Mount%20Lebanon%22%2C%20%22OBJECTID_1%22%3A%20127%2C%20%22Shape_Area%22%3A%204.0576666455e-06%2C%20%22Shape_Leng%22%3A%200.00884514115825%2C%20%22highlight%22%3A%20%7B%7D%2C%20%22style%22%3A%20%7B%22color%22%3A%20%22black%22%2C%20%22fillColor%22%3A%20%22%2308589e%22%2C%20%22fillOpacity%22%3A%201%2C%20%22opacity%22%3A%200.5%2C%20%22weight%22%3A%201%7D%2C%20%22zone_numbe%22%3A%20126%7D%2C%20%22type%22%3A%20%22Feature%22%7D%2C%20%7B%22geometry%22%3A%20%7B%22coordinates%22%3A%20%5B%5B%5B35.540494670000044%2C%2033.885815868000066%5D%2C%20%5B35.540527463000046%2C%2033.88582746700007%5D%2C%20%5B35.54101780800005%2C%2033.88600097400007%5D%2C%20%5B35.54195174000006%2C%2033.888823702000025%5D%2C%20%5B35.541655406000075%2C%2033.88889835100008%5D%2C%20%5B35.54079733000003%2C%2033.88905889400007%5D%2C%20%5B35.54063755200008%2C%2033.888384436000024%5D%2C%20%5B35.54049002600004%2C%2033.88774198100003%5D%2C%20%5B35.54020131800007%2C%2033.88722484500005%5D%2C%20%5B35.54008631000005%2C%2033.88688807200003%5D%2C%20%5B35.53987929700003%2C%2033.886262274000046%5D%2C%20%5B35.540494670000044%2C%2033.885815868000066%5D%5D%5D%2C%20%22type%22%3A%20%22Polygon%22%7D%2C%20%22id%22%3A%20127%2C%20%22properties%22%3A%20%7B%22ACS_CODE_1%22%3A%2022111%2C%20%22Cadaster_1%22%3A%20%22Bourj%20Hammoud%22%2C%20%22Cadaster_A%22%3A%20%22%5Cu0628%5Cu0631%5Cu062c%20%5Cu062d%5Cu0645%5Cu0651%5Cu0648%5Cu062f%22%2C%20%22District_1%22%3A%20%22El%20Meten%22%2C%20%22District_A%22%3A%20%22%5Cu0627%5Cu0644%5Cu0645%5Cu062a%5Cu0646%22%2C%20%22FID%22%3A%20127%2C%20%22Governor_1%22%3A%20%22%5Cu062c%5Cu0628%5Cu0644%20%5Cu0644%5Cu0628%5Cu0646%5Cu0627%5Cu0646%22%2C%20%22Governorat%22%3A%20%22Mount%20Lebanon%22%2C%20%22OBJECTID_1%22%3A%20128%2C%20%22Shape_Area%22%3A%203.51662437764e-06%2C%20%22Shape_Leng%22%3A%200.00842652164528%2C%20%22highlight%22%3A%20%7B%7D%2C%20%22style%22%3A%20%7B%22color%22%3A%20%22black%22%2C%20%22fillColor%22%3A%20%22%234eb3d3%22%2C%20%22fillOpacity%22%3A%201%2C%20%22opacity%22%3A%200.5%2C%20%22weight%22%3A%201%7D%2C%20%22zone_numbe%22%3A%20125%7D%2C%20%22type%22%3A%20%22Feature%22%7D%2C%20%7B%22geometry%22%3A%20%7B%22coordinates%22%3A%20%5B%5B%5B35.54031126000007%2C%2033.87783459900004%5D%2C%20%5B35.54030702500006%2C%2033.877863449000074%5D%2C%20%5B35.54007387400003%2C%2033.87785887800004%5D%2C%20%5B35.53894759600007%2C%2033.878160276000074%5D%2C%20%5B35.536893328000076%2C%2033.878485469000054%5D%2C%20%5B35.53515150900006%2C%2033.87899869300003%5D%2C%20%5B35.53485415600005%2C%2033.87744210200003%5D%2C%20%5B35.53476294300003%2C%2033.876867066000045%5D%2C%20%5B35.53475104600005%2C%2033.876454626000054%5D%2C%20%5B35.53463603900008%2C%2033.874705722000044%5D%2C%20%5B35.53447740800004%2C%2033.872944921000055%5D%2C%20%5B35.53431481200005%2C%2033.870363206000036%5D%2C%20%5B35.53421963300008%2C%2033.869534360000046%5D%2C%20%5B35.53435235400008%2C%2033.86916316400004%5D%2C%20%5B35.53462599200003%2C%2033.86883797100006%5D%2C%20%5B35.53494325400004%2C%2033.86867140900006%5D%2C%20%5B35.536267820000035%2C%2033.86814792700005%5D%2C%20%5B35.53655623100008%2C%2033.870148624000024%5D%2C%20%5B35.53673728100006%2C%2033.87190921400003%5D%2C%20%5B35.53701012600004%2C%2033.87256277300003%5D%2C%20%5B35.53759388700007%2C%2033.87352090200005%5D%2C%20%5B35.538926385000025%2C%2033.87564655400007%5D%2C%20%5B35.539802027000064%2C%2033.87709326600003%5D%2C%20%5B35.54022715700006%2C%2033.877543778000074%5D%2C%20%5B35.54031126000007%2C%2033.87783459900004%5D%5D%5D%2C%20%22type%22%3A%20%22Polygon%22%7D%2C%20%22id%22%3A%20128%2C%20%22properties%22%3A%20%7B%22ACS_CODE_1%22%3A%2022155%2C%20%22Cadaster_1%22%3A%20%22Sinn%20El-Fil%22%2C%20%22Cadaster_A%22%3A%20%22%5Cu0633%5Cu0646%20%5Cu0627%5Cu0644%5Cu0641%5Cu064a%5Cu0644%22%2C%20%22District_1%22%3A%20%22El%20Meten%22%2C%20%22District_A%22%3A%20%22%5Cu0627%5Cu0644%5Cu0645%5Cu062a%5Cu0646%22%2C%20%22FID%22%3A%20128%2C%20%22Governor_1%22%3A%20%22%5Cu062c%5Cu0628%5Cu0644%20%5Cu0644%5Cu0628%5Cu0646%5Cu0627%5Cu0646%22%2C%20%22Governorat%22%3A%20%22Mount%20Lebanon%22%2C%20%22OBJECTID_1%22%3A%20129%2C%20%22Shape_Area%22%3A%203.29919644132e-05%2C%20%22Shape_Leng%22%3A%200.0281905281487%2C%20%22highlight%22%3A%20%7B%7D%2C%20%22style%22%3A%20%7B%22color%22%3A%20%22black%22%2C%20%22fillColor%22%3A%20%22%232b8cbe%22%2C%20%22fillOpacity%22%3A%201%2C%20%22opacity%22%3A%200.5%2C%20%22weight%22%3A%201%7D%2C%20%22zone_numbe%22%3A%20136%7D%2C%20%22type%22%3A%20%22Feature%22%7D%2C%20%7B%22geometry%22%3A%20%7B%22coordinates%22%3A%20%5B%5B%5B35.535975783000026%2C%2033.88991242600002%5D%2C%20%5B35.535764577000066%2C%2033.88998974500004%5D%2C%20%5B35.53559678500005%2C%2033.89017031100008%5D%2C%20%5B35.535460400000034%2C%2033.890288912000074%5D%2C%20%5B35.53509188600003%2C%2033.89053060500004%5D%2C%20%5B35.53485883800005%2C%2033.89068074000005%5D%2C%20%5B35.53461431900007%2C%2033.890861286000074%5D%2C%20%5B35.534399300000075%2C%2033.89100591300007%5D%2C%20%5B35.534111594000024%2C%2033.89119863700006%5D%2C%20%5B35.53397872200003%2C%2033.890964680000025%5D%2C%20%5B35.53383946400004%2C%2033.89063465500004%5D%2C%20%5B35.53373421500004%2C%2033.89034206000008%5D%2C%20%5B35.533496967000076%2C%2033.88958622700005%5D%2C%20%5B35.53337106400005%2C%2033.88913816000007%5D%2C%20%5B35.533160072000044%2C%2033.88885948800004%5D%2C%20%5B35.53298687000006%2C%2033.888630987000056%5D%2C%20%5B35.532895403000055%2C%2033.88826348300006%5D%2C%20%5B35.53290440400008%2C%2033.88786027300006%5D%2C%20%5B35.532937023000045%2C%2033.88753760700007%5D%2C%20%5B35.53310463400004%2C%2033.88699438100008%5D%2C%20%5B35.53407110100005%2C%2033.886992288000044%5D%2C%20%5B35.534080593000056%2C%2033.887227979000045%5D%2C%20%5B35.53451841400005%2C%2033.887979889000064%5D%2C%20%5B35.53511010700004%2C%2033.888824122000074%5D%2C%20%5B35.53545909400003%2C%2033.88929684100003%5D%2C%20%5B35.535975783000026%2C%2033.88991242600002%5D%5D%5D%2C%20%22type%22%3A%20%22Polygon%22%7D%2C%20%22id%22%3A%20129%2C%20%22properties%22%3A%20%7B%22ACS_CODE_1%22%3A%2022155%2C%20%22Cadaster_1%22%3A%20%22Sinn%20El-Fil%22%2C%20%22Cadaster_A%22%3A%20%22%5Cu0633%5Cu0646%20%5Cu0627%5Cu0644%5Cu0641%5Cu064a%5Cu0644%22%2C%20%22District_1%22%3A%20%22El%20Meten%22%2C%20%22District_A%22%3A%20%22%5Cu0627%5Cu0644%5Cu0645%5Cu062a%5Cu0646%22%2C%20%22FID%22%3A%20129%2C%20%22Governor_1%22%3A%20%22%5Cu062c%5Cu0628%5Cu0644%20%5Cu0644%5Cu0628%5Cu0646%5Cu0627%5Cu0646%22%2C%20%22Governorat%22%3A%20%22Mount%20Lebanon%22%2C%20%22OBJECTID_1%22%3A%20131%2C%20%22Shape_Area%22%3A%206.6908014832e-06%2C%20%22Shape_Leng%22%3A%200.0112810083578%2C%20%22highlight%22%3A%20%7B%7D%2C%20%22style%22%3A%20%7B%22color%22%3A%20%22black%22%2C%20%22fillColor%22%3A%20%22%232b8cbe%22%2C%20%22fillOpacity%22%3A%201%2C%20%22opacity%22%3A%200.5%2C%20%22weight%22%3A%201%7D%2C%20%22zone_numbe%22%3A%20129%7D%2C%20%22type%22%3A%20%22Feature%22%7D%2C%20%7B%22geometry%22%3A%20%7B%22coordinates%22%3A%20%5B%5B%5B35.53407110100005%2C%2033.886992288000044%5D%2C%20%5B35.53511248600006%2C%2033.886990033000075%5D%2C%20%5B35.53559789600007%2C%2033.88712804200003%5D%2C%20%5B35.53670005600003%2C%2033.88750133600007%5D%2C%20%5B35.536670539000056%2C%2033.88782193600008%5D%2C%20%5B35.53660082500005%2C%2033.88812572900002%5D%2C%20%5B35.53655783700003%2C%2033.888317880000045%5D%2C%20%5B35.53642623600007%2C%2033.88887555300005%5D%2C%20%5B35.53628599900003%2C%2033.88945762000003%5D%2C%20%5B35.53623082000007%2C%2033.88972963700007%5D%2C%20%5B35.535975783000026%2C%2033.88991242600002%5D%2C%20%5B35.53545909400003%2C%2033.88929684100003%5D%2C%20%5B35.53511010700004%2C%2033.888824122000074%5D%2C%20%5B35.53451841400005%2C%2033.887979889000064%5D%2C%20%5B35.534080593000056%2C%2033.887227979000045%5D%2C%20%5B35.53407110100005%2C%2033.886992288000044%5D%5D%5D%2C%20%22type%22%3A%20%22Polygon%22%7D%2C%20%22id%22%3A%20130%2C%20%22properties%22%3A%20%7B%22ACS_CODE_1%22%3A%2022155%2C%20%22Cadaster_1%22%3A%20%22Sinn%20El-Fil%22%2C%20%22Cadaster_A%22%3A%20%22%5Cu0633%5Cu0646%20%5Cu0627%5Cu0644%5Cu0641%5Cu064a%5Cu0644%22%2C%20%22District_1%22%3A%20%22El%20Meten%22%2C%20%22District_A%22%3A%20%22%5Cu0627%5Cu0644%5Cu0645%5Cu062a%5Cu0646%22%2C%20%22FID%22%3A%20130%2C%20%22Governor_1%22%3A%20%22%5Cu062c%5Cu0628%5Cu0644%20%5Cu0644%5Cu0628%5Cu0646%5Cu0627%5Cu0646%22%2C%20%22Governorat%22%3A%20%22Mount%20Lebanon%22%2C%20%22OBJECTID_1%22%3A%20132%2C%20%22Shape_Area%22%3A%204.31008276998e-06%2C%20%22Shape_Leng%22%3A%200.00883146695684%2C%20%22highlight%22%3A%20%7B%7D%2C%20%22style%22%3A%20%7B%22color%22%3A%20%22black%22%2C%20%22fillColor%22%3A%20%22%234eb3d3%22%2C%20%22fillOpacity%22%3A%201%2C%20%22opacity%22%3A%200.5%2C%20%22weight%22%3A%201%7D%2C%20%22zone_numbe%22%3A%20130%7D%2C%20%22type%22%3A%20%22Feature%22%7D%2C%20%7B%22geometry%22%3A%20%7B%22coordinates%22%3A%20%5B%5B%5B35.53652380300008%2C%2033.88294189100003%5D%2C%20%5B35.53454871300005%2C%2033.883189558000026%5D%2C%20%5B35.53347795500008%2C%2033.88328235700004%5D%2C%20%5B35.53336167900005%2C%2033.883604853000065%5D%2C%20%5B35.533396578000065%2C%2033.88398874000006%5D%2C%20%5B35.533177667000075%2C%2033.884283793000066%5D%2C%20%5B35.533053935000055%2C%2033.884401179000065%5D%2C%20%5B35.53313514100006%2C%2033.88500976800003%5D%2C%20%5B35.53307839400003%2C%2033.88493743400005%5D%2C%20%5B35.532859349000034%2C%2033.88475095100006%5D%2C%20%5B35.53262865100004%2C%2033.884650683000075%5D%2C%20%5B35.53169061300008%2C%2033.88401599900004%5D%2C%20%5B35.53154032800006%2C%2033.88342959300007%5D%2C%20%5B35.53138902500007%2C%2033.88285923900003%5D%2C%20%5B35.53124034800004%2C%2033.882308230000035%5D%2C%20%5B35.53109465600005%2C%2033.881744301000026%5D%2C%20%5B35.531120620000024%2C%2033.881134178000025%5D%2C%20%5B35.53114251100004%2C%2033.880806505000066%5D%2C%20%5B35.53249365100004%2C%2033.88021129200007%5D%2C%20%5B35.53393600100003%2C%2033.87960743800005%5D%2C%20%5B35.53515150900006%2C%2033.87899869300003%5D%2C%20%5B35.53542118200005%2C%2033.87973632500007%5D%2C%20%5B35.53571266600005%2C%2033.88072975000006%5D%2C%20%5B35.53595457700004%2C%2033.88148324600007%5D%2C%20%5B35.53619054100005%2C%2033.88218915300007%5D%2C%20%5B35.53645228100004%2C%2033.88274039500004%5D%2C%20%5B35.53652380300008%2C%2033.88294189100003%5D%5D%5D%2C%20%22type%22%3A%20%22Polygon%22%7D%2C%20%22id%22%3A%20131%2C%20%22properties%22%3A%20%7B%22ACS_CODE_1%22%3A%2022155%2C%20%22Cadaster_1%22%3A%20%22Sinn%20El-Fil%22%2C%20%22Cadaster_A%22%3A%20%22%5Cu0633%5Cu0646%20%5Cu0627%5Cu0644%5Cu0641%5Cu064a%5Cu0644%22%2C%20%22District_1%22%3A%20%22El%20Meten%22%2C%20%22District_A%22%3A%20%22%5Cu0627%5Cu0644%5Cu0645%5Cu062a%5Cu0646%22%2C%20%22FID%22%3A%20131%2C%20%22Governor_1%22%3A%20%22%5Cu062c%5Cu0628%5Cu0644%20%5Cu0644%5Cu0628%5Cu0646%5Cu0627%5Cu0646%22%2C%20%22Governorat%22%3A%20%22Mount%20Lebanon%22%2C%20%22OBJECTID_1%22%3A%20133%2C%20%22Shape_Area%22%3A%201.78408200785e-05%2C%20%22Shape_Leng%22%3A%200.0185768782934%2C%20%22highlight%22%3A%20%7B%7D%2C%20%22style%22%3A%20%7B%22color%22%3A%20%22black%22%2C%20%22fillColor%22%3A%20%22%234eb3d3%22%2C%20%22fillOpacity%22%3A%201%2C%20%22opacity%22%3A%200.5%2C%20%22weight%22%3A%201%7D%2C%20%22zone_numbe%22%3A%20132%7D%2C%20%22type%22%3A%20%22Feature%22%7D%2C%20%7B%22geometry%22%3A%20%7B%22coordinates%22%3A%20%5B%5B%5B35.53652380300008%2C%2033.88294189100003%5D%2C%20%5B35.53704067600006%2C%2033.88439805000007%5D%2C%20%5B35.53707063100006%2C%2033.88460876500005%5D%2C%20%5B35.53715542800006%2C%2033.88494121700006%5D%2C%20%5B35.53726792400005%2C%2033.88514823000003%5D%2C%20%5B35.537352429000066%2C%2033.885399783000025%5D%2C%20%5B35.53713048800006%2C%2033.88553712200007%5D%2C%20%5B35.53695913400003%2C%2033.88574244000006%5D%2C%20%5B35.536841422000066%2C%2033.88588908400004%5D%2C%20%5B35.536802925000075%2C%2033.88642362300004%5D%2C%20%5B35.53676732800005%2C%2033.88674399200005%5D%2C%20%5B35.53673665700006%2C%2033.88721297400008%5D%2C%20%5B35.53670005600003%2C%2033.88750133600007%5D%2C%20%5B35.53559789600007%2C%2033.88712804200003%5D%2C%20%5B35.53511248600006%2C%2033.886990033000075%5D%2C%20%5B35.53310463400004%2C%2033.88699438100008%5D%2C%20%5B35.53316842000004%2C%2033.88678765000003%5D%2C%20%5B35.53330385900006%2C%2033.88639830900007%5D%2C%20%5B35.53334773100005%2C%2033.88619672900006%5D%2C%20%5B35.53336538900004%2C%2033.886035486000026%5D%2C%20%5B35.53338166200007%2C%2033.88574992200006%5D%2C%20%5B35.53337716600004%2C%2033.88547151700004%5D%2C%20%5B35.533271487000036%2C%2033.88518356700007%5D%2C%20%5B35.53313514100006%2C%2033.88500976800003%5D%2C%20%5B35.533053935000055%2C%2033.884401179000065%5D%2C%20%5B35.533177667000075%2C%2033.884283793000066%5D%2C%20%5B35.533396578000065%2C%2033.88398874000006%5D%2C%20%5B35.53336167900005%2C%2033.883604853000065%5D%2C%20%5B35.53347795500008%2C%2033.88328235700004%5D%2C%20%5B35.53454871300005%2C%2033.883189558000026%5D%2C%20%5B35.53652380300008%2C%2033.88294189100003%5D%5D%5D%2C%20%22type%22%3A%20%22Polygon%22%7D%2C%20%22id%22%3A%20132%2C%20%22properties%22%3A%20%7B%22ACS_CODE_1%22%3A%2022155%2C%20%22Cadaster_1%22%3A%20%22Sinn%20El-Fil%22%2C%20%22Cadaster_A%22%3A%20%22%5Cu0633%5Cu0646%20%5Cu0627%5Cu0644%5Cu0641%5Cu064a%5Cu0644%22%2C%20%22District_1%22%3A%20%22El%20Meten%22%2C%20%22District_A%22%3A%20%22%5Cu0627%5Cu0644%5Cu0645%5Cu062a%5Cu0646%22%2C%20%22FID%22%3A%20132%2C%20%22Governor_1%22%3A%20%22%5Cu062c%5Cu0628%5Cu0644%20%5Cu0644%5Cu0628%5Cu0646%5Cu0627%5Cu0646%22%2C%20%22Governorat%22%3A%20%22Mount%20Lebanon%22%2C%20%22OBJECTID_1%22%3A%20134%2C%20%22Shape_Area%22%3A%201.45191306813e-05%2C%20%22Shape_Leng%22%3A%200.01564835792%2C%20%22highlight%22%3A%20%7B%7D%2C%20%22style%22%3A%20%7B%22color%22%3A%20%22black%22%2C%20%22fillColor%22%3A%20%22%234eb3d3%22%2C%20%22fillOpacity%22%3A%201%2C%20%22opacity%22%3A%200.5%2C%20%22weight%22%3A%201%7D%2C%20%22zone_numbe%22%3A%20131%7D%2C%20%22type%22%3A%20%22Feature%22%7D%2C%20%7B%22geometry%22%3A%20%7B%22coordinates%22%3A%20%5B%5B%5B35.53677279300007%2C%2033.87852098400003%5D%2C%20%5B35.536893328000076%2C%2033.878485469000054%5D%2C%20%5B35.53894759600007%2C%2033.878160276000074%5D%2C%20%5B35.54007387400003%2C%2033.87785887800004%5D%2C%20%5B35.54030702500006%2C%2033.877863449000074%5D%2C%20%5B35.54026814100007%2C%2033.87812836200004%5D%2C%20%5B35.54016264400008%2C%2033.87847869400008%5D%2C%20%5B35.540053528000044%2C%2033.878934953000055%5D%2C%20%5B35.54001935300005%2C%2033.87915810100003%5D%2C%20%5B35.53996913000003%2C%2033.87943625400004%5D%2C%20%5B35.53992708800007%2C%2033.87964801000004%5D%2C%20%5B35.539885377000076%2C%2033.87993897500007%5D%2C%20%5B35.53983573700003%2C%2033.880237290000025%5D%2C%20%5B35.53980047500005%2C%2033.88055851000007%5D%2C%20%5B35.539766917000065%2C%2033.880847481000046%5D%2C%20%5B35.53994831000006%2C%2033.88099336700003%5D%2C%20%5B35.539950962000034%2C%2033.880995803000076%5D%2C%20%5B35.53986912500005%2C%2033.88118780000008%5D%2C%20%5B35.53974037100005%2C%2033.88148775600007%5D%2C%20%5B35.539664352000045%2C%2033.88167631600004%5D%2C%20%5B35.539561347000074%2C%2033.88189421100003%5D%2C%20%5B35.539385958000025%2C%2033.88211497400005%5D%2C%20%5B35.53919750000006%2C%2033.882330610000054%5D%2C%20%5B35.53907343100008%2C%2033.88249040900007%5D%2C%20%5B35.53902890300003%2C%2033.88255746400006%5D%2C%20%5B35.53878759000003%2C%2033.882520242000055%5D%2C%20%5B35.53820224300006%2C%2033.881911100000025%5D%2C%20%5B35.53759786000006%2C%2033.88123533300006%5D%2C%20%5B35.53726949400004%2C%2033.880552428000044%5D%2C%20%5B35.53711245000005%2C%2033.88015267800006%5D%2C%20%5B35.53697444100004%2C%2033.87971009800003%5D%2C%20%5B35.536895919000074%2C%2033.879303211000035%5D%2C%20%5B35.53677279300007%2C%2033.87852098400003%5D%5D%5D%2C%20%22type%22%3A%20%22Polygon%22%7D%2C%20%22id%22%3A%20133%2C%20%22properties%22%3A%20%7B%22ACS_CODE_1%22%3A%2022155%2C%20%22Cadaster_1%22%3A%20%22Sinn%20El-Fil%22%2C%20%22Cadaster_A%22%3A%20%22%5Cu0633%5Cu0646%20%5Cu0627%5Cu0644%5Cu0641%5Cu064a%5Cu0644%22%2C%20%22District_1%22%3A%20%22El%20Meten%22%2C%20%22District_A%22%3A%20%22%5Cu0627%5Cu0644%5Cu0645%5Cu062a%5Cu0646%22%2C%20%22FID%22%3A%20133%2C%20%22Governor_1%22%3A%20%22%5Cu062c%5Cu0628%5Cu0644%20%5Cu0644%5Cu0628%5Cu0646%5Cu0627%5Cu0646%22%2C%20%22Governorat%22%3A%20%22Mount%20Lebanon%22%2C%20%22OBJECTID_1%22%3A%20135%2C%20%22Shape_Area%22%3A%201.05196140604e-05%2C%20%22Shape_Leng%22%3A%200.0135617066848%2C%20%22highlight%22%3A%20%7B%7D%2C%20%22style%22%3A%20%7B%22color%22%3A%20%22black%22%2C%20%22fillColor%22%3A%20%22%234eb3d3%22%2C%20%22fillOpacity%22%3A%201%2C%20%22opacity%22%3A%200.5%2C%20%22weight%22%3A%201%7D%2C%20%22zone_numbe%22%3A%20134%7D%2C%20%22type%22%3A%20%22Feature%22%7D%2C%20%7B%22geometry%22%3A%20%7B%22coordinates%22%3A%20%5B%5B%5B35.53902890300003%2C%2033.88255746400006%5D%2C%20%5B35.53890755600003%2C%2033.882740203000026%5D%2C%20%5B35.53882623900006%2C%2033.88289204400007%5D%2C%20%5B35.53876984500005%2C%2033.88304777700006%5D%2C%20%5B35.53874460800006%2C%2033.883263588000034%5D%2C%20%5B35.53874831500008%2C%2033.88351661300004%5D%2C%20%5B35.538629866000065%2C%2033.883666349000066%5D%2C%20%5B35.53841596700005%2C%2033.88375984100003%5D%2C%20%5B35.538287582000066%2C%2033.88391591100003%5D%2C%20%5B35.53812937200007%2C%2033.88401276900004%5D%2C%20%5B35.53783844700007%2C%2033.88410497000007%5D%2C%20%5B35.537589972000035%2C%2033.88414016200005%5D%2C%20%5B35.53736635100006%2C%2033.884182632000034%5D%2C%20%5B35.53711765500003%2C%2033.88424389200003%5D%2C%20%5B35.53704067600006%2C%2033.88439805000007%5D%2C%20%5B35.53645228100004%2C%2033.88274039500004%5D%2C%20%5B35.53619054100005%2C%2033.88218915300007%5D%2C%20%5B35.53595457700004%2C%2033.88148324600007%5D%2C%20%5B35.53571266600005%2C%2033.88072975000006%5D%2C%20%5B35.53542118200005%2C%2033.87973632500007%5D%2C%20%5B35.53515150900006%2C%2033.87899869300003%5D%2C%20%5B35.53677279300007%2C%2033.87852098400003%5D%2C%20%5B35.536895919000074%2C%2033.879303211000035%5D%2C%20%5B35.53697444100004%2C%2033.87971009800003%5D%2C%20%5B35.53711245000005%2C%2033.88015267800006%5D%2C%20%5B35.53726949400004%2C%2033.880552428000044%5D%2C%20%5B35.53759786000006%2C%2033.88123533300006%5D%2C%20%5B35.53820224300006%2C%2033.881911100000025%5D%2C%20%5B35.53878759000003%2C%2033.882520242000055%5D%2C%20%5B35.53902890300003%2C%2033.88255746400006%5D%5D%5D%2C%20%22type%22%3A%20%22Polygon%22%7D%2C%20%22id%22%3A%20134%2C%20%22properties%22%3A%20%7B%22ACS_CODE_1%22%3A%2022155%2C%20%22Cadaster_1%22%3A%20%22Sinn%20El-Fil%22%2C%20%22Cadaster_A%22%3A%20%22%5Cu0633%5Cu0646%20%5Cu0627%5Cu0644%5Cu0641%5Cu064a%5Cu0644%22%2C%20%22District_1%22%3A%20%22El%20Meten%22%2C%20%22District_A%22%3A%20%22%5Cu0627%5Cu0644%5Cu0645%5Cu062a%5Cu0646%22%2C%20%22FID%22%3A%20134%2C%20%22Governor_1%22%3A%20%22%5Cu062c%5Cu0628%5Cu0644%20%5Cu0644%5Cu0628%5Cu0646%5Cu0627%5Cu0646%22%2C%20%22Governorat%22%3A%20%22Mount%20Lebanon%22%2C%20%22OBJECTID_1%22%3A%20136%2C%20%22Shape_Area%22%3A%209.967804683e-06%2C%20%22Shape_Leng%22%3A%200.0153201583675%2C%20%22highlight%22%3A%20%7B%7D%2C%20%22style%22%3A%20%7B%22color%22%3A%20%22black%22%2C%20%22fillColor%22%3A%20%22%237bccc4%22%2C%20%22fillOpacity%22%3A%201%2C%20%22opacity%22%3A%200.5%2C%20%22weight%22%3A%201%7D%2C%20%22zone_numbe%22%3A%20133%7D%2C%20%22type%22%3A%20%22Feature%22%7D%2C%20%7B%22geometry%22%3A%20%7B%22coordinates%22%3A%20%5B%5B%5B35.53515150900006%2C%2033.87899869300003%5D%2C%20%5B35.53393600100003%2C%2033.87960743800005%5D%2C%20%5B35.53249365100004%2C%2033.88021129200007%5D%2C%20%5B35.53114251100004%2C%2033.880806505000066%5D%2C%20%5B35.53115750000006%2C%2033.88058214100005%5D%2C%20%5B35.53116916000005%2C%2033.880212795000034%5D%2C%20%5B35.531468088000054%2C%2033.88009395200004%5D%2C%20%5B35.53132739100005%2C%2033.87967497500006%5D%2C%20%5B35.53126014500003%2C%2033.87942339400007%5D%2C%20%5B35.531171690000065%2C%2033.87918375600003%5D%2C%20%5B35.531028255000024%2C%2033.87889228000006%5D%2C%20%5B35.53076505400003%2C%2033.878434404000075%5D%2C%20%5B35.53046457900007%2C%2033.87807560700003%5D%2C%20%5B35.53022031000006%2C%2033.87764901800006%5D%2C%20%5B35.53005579000006%2C%2033.877316919000066%5D%2C%20%5B35.52971267000004%2C%2033.876883070000076%5D%2C%20%5B35.52959139200004%2C%2033.87674004200005%5D%2C%20%5B35.52946396200008%2C%2033.87650602000008%5D%2C%20%5B35.52942051100007%2C%2033.87629538300007%5D%2C%20%5B35.529420741000024%2C%2033.87611203600005%5D%2C%20%5B35.529476541000065%2C%2033.87579605900004%5D%2C%20%5B35.52953851700005%2C%2033.87556994800008%5D%2C%20%5B35.52962315600007%2C%2033.87527991200005%5D%2C%20%5B35.52972144000006%2C%2033.87496823600003%5D%2C%20%5B35.529823821000036%2C%2033.87468593500006%5D%2C%20%5B35.529964593000045%2C%2033.87431556100006%5D%2C%20%5B35.530135734000055%2C%2033.87400990900005%5D%2C%20%5B35.53037587100005%2C%2033.87373277000006%5D%2C%20%5B35.53051256800006%2C%2033.873598677000075%5D%2C%20%5B35.53069219200006%2C%2033.873432671000046%5D%2C%20%5B35.53095415700005%2C%2033.87319306300003%5D%2C%20%5B35.531124367000075%2C%2033.87304044600006%5D%2C%20%5B35.53130415500004%2C%2033.87286669000002%5D%2C%20%5B35.531456082000034%2C%2033.872699846000046%5D%2C%20%5B35.531564685000035%2C%2033.87244215900006%5D%2C%20%5B35.531696547000024%2C%2033.871982725000066%5D%2C%20%5B35.531920952000064%2C%2033.87119503800005%5D%2C%20%5B35.53197172900008%2C%2033.87098637500003%5D%2C%20%5B35.53198836300004%2C%2033.870589763000055%5D%2C%20%5B35.53197174200005%2C%2033.87021548400003%5D%2C%20%5B35.53195414900006%2C%2033.86963486900004%5D%2C%20%5B35.531930842000065%2C%2033.869194254000035%5D%2C%20%5B35.531918930000074%2C%2033.86864811100003%5D%2C%20%5B35.53183764700003%2C%2033.86813813600003%5D%2C%20%5B35.53168806800005%2C%2033.86711147400007%5D%2C%20%5B35.53160896800006%2C%2033.86675162200004%5D%2C%20%5B35.531555499000035%2C%2033.86629970300004%5D%2C%20%5B35.531548016000045%2C%2033.86614226200004%5D%2C%20%5B35.53273795600006%2C%2033.86609795600003%5D%2C%20%5B35.53424494800004%2C%2033.86607416100003%5D%2C%20%5B35.53469704500003%2C%2033.86614554500005%5D%2C%20%5B35.535450541000046%2C%2033.866542122000055%5D%2C%20%5B35.53595022800005%2C%2033.867010082000036%5D%2C%20%5B35.53618850500004%2C%2033.86754909600006%5D%2C%20%5B35.536267820000035%2C%2033.86814792700005%5D%2C%20%5B35.53494325400004%2C%2033.86867140900006%5D%2C%20%5B35.53462599200003%2C%2033.86883797100006%5D%2C%20%5B35.53435235400008%2C%2033.86916316400004%5D%2C%20%5B35.53421963300008%2C%2033.869534360000046%5D%2C%20%5B35.53431481200005%2C%2033.870363206000036%5D%2C%20%5B35.53447740800004%2C%2033.872944921000055%5D%2C%20%5B35.53463603900008%2C%2033.874705722000044%5D%2C%20%5B35.53475104600005%2C%2033.876454626000054%5D%2C%20%5B35.53476294300003%2C%2033.876867066000045%5D%2C%20%5B35.53485415600005%2C%2033.87744210200003%5D%2C%20%5B35.53515150900006%2C%2033.87899869300003%5D%5D%5D%2C%20%22type%22%3A%20%22Polygon%22%7D%2C%20%22id%22%3A%20135%2C%20%22properties%22%3A%20%7B%22ACS_CODE_1%22%3A%2022155%2C%20%22Cadaster_1%22%3A%20%22Sinn%20El-Fil%22%2C%20%22Cadaster_A%22%3A%20%22%5Cu0633%5Cu0646%20%5Cu0627%5Cu0644%5Cu0641%5Cu064a%5Cu0644%22%2C%20%22District_1%22%3A%20%22El%20Meten%22%2C%20%22District_A%22%3A%20%22%5Cu0627%5Cu0644%5Cu0645%5Cu062a%5Cu0646%22%2C%20%22FID%22%3A%20135%2C%20%22Governor_1%22%3A%20%22%5Cu062c%5Cu0628%5Cu0644%20%5Cu0644%5Cu0628%5Cu0646%5Cu0627%5Cu0646%22%2C%20%22Governorat%22%3A%20%22Mount%20Lebanon%22%2C%20%22OBJECTID_1%22%3A%20137%2C%20%22Shape_Area%22%3A%205.29769146942e-05%2C%20%22Shape_Leng%22%3A%200.0386299703582%2C%20%22highlight%22%3A%20%7B%7D%2C%20%22style%22%3A%20%7B%22color%22%3A%20%22black%22%2C%20%22fillColor%22%3A%20%22%234eb3d3%22%2C%20%22fillOpacity%22%3A%201%2C%20%22opacity%22%3A%200.5%2C%20%22weight%22%3A%201%7D%2C%20%22zone_numbe%22%3A%20135%7D%2C%20%22type%22%3A%20%22Feature%22%7D%2C%20%7B%22geometry%22%3A%20%7B%22coordinates%22%3A%20%5B%5B%5B35.53758775400007%2C%2033.86525645300003%5D%2C%20%5B35.53696909400003%2C%2033.86520093200005%5D%2C%20%5B35.53654872200008%2C%2033.86495505400006%5D%2C%20%5B35.53619856900008%2C%2033.86457150800004%5D%2C%20%5B35.53619798500006%2C%2033.86440957000008%5D%2C%20%5B35.536175585000024%2C%2033.86422518100005%5D%2C%20%5B35.53602354900005%2C%2033.86356307500006%5D%2C%20%5B35.53596214300006%2C%2033.86324393900003%5D%2C%20%5B35.53593211900005%2C%2033.86283211500006%5D%2C%20%5B35.53592908400003%2C%2033.862579803000074%5D%2C%20%5B35.53593674800004%2C%2033.86239572300008%5D%2C%20%5B35.53597450500007%2C%2033.86214754300005%5D%2C%20%5B35.536023098000044%2C%2033.861882474000026%5D%2C%20%5B35.53613144800005%2C%2033.86174555600007%5D%2C%20%5B35.53640178300003%2C%2033.86160161400005%5D%2C%20%5B35.536584434000076%2C%2033.86154486600003%5D%2C%20%5B35.53677841700005%2C%2033.86151097700008%5D%2C%20%5B35.53722175200005%2C%2033.86149250400007%5D%2C%20%5B35.53741452200006%2C%2033.86151525100007%5D%2C%20%5B35.537637681000035%2C%2033.86153887100005%5D%2C%20%5B35.537949248000075%2C%2033.861567757000046%5D%2C%20%5B35.53817200800006%2C%2033.86159419100005%5D%2C%20%5B35.538450589000036%2C%2033.86168036400005%5D%2C%20%5B35.53873468300003%2C%2033.86171419300007%5D%2C%20%5B35.53893107700003%2C%2033.86172557500004%5D%2C%20%5B35.53938909500005%2C%2033.861778765000054%5D%2C%20%5B35.539711544000056%2C%2033.86186756200004%5D%2C%20%5B35.53992148800006%2C%2033.86192466500006%5D%2C%20%5B35.540300675000026%2C%2033.86201458700003%5D%2C%20%5B35.54049945500003%2C%2033.862214567000024%5D%2C%20%5B35.54056166400005%2C%2033.862370517000045%5D%2C%20%5B35.54037329400006%2C%2033.86245790800007%5D%2C%20%5B35.53985732800004%2C%2033.86247573300005%5D%2C%20%5B35.53973435000006%2C%2033.86260172600004%5D%2C%20%5B35.539967543000046%2C%2033.86293032400005%5D%2C%20%5B35.54007275200007%2C%2033.863192612000034%5D%2C%20%5B35.54029605200003%2C%2033.86366791200004%5D%2C%20%5B35.540559520000045%2C%2033.86401880500006%5D%2C%20%5B35.54054793500006%2C%2033.86418126600006%5D%2C%20%5B35.54049668700003%2C%2033.864507884000034%5D%2C%20%5B35.54044337600004%2C%2033.86486773100006%5D%2C%20%5B35.540489653000066%2C%2033.86502626200007%5D%2C%20%5B35.54081442100005%2C%2033.86532324500007%5D%2C%20%5B35.54108675100008%2C%2033.86560760800006%5D%2C%20%5B35.54124157200005%2C%2033.86576225700003%5D%2C%20%5B35.54136452200004%2C%2033.86590628600004%5D%2C%20%5B35.54148738400005%2C%2033.86605439900006%5D%2C%20%5B35.541540757000064%2C%2033.866213035000044%5D%2C%20%5B35.541603062000036%2C%2033.86638054200006%5D%2C%20%5B35.541665710000075%2C%2033.866674327000055%5D%2C%20%5B35.54173889400005%2C%2033.86698109400004%5D%2C%20%5B35.54180995000007%2C%2033.86729247900007%5D%2C%20%5B35.54185757000005%2C%2033.867451593000055%5D%2C%20%5B35.54194638100006%2C%2033.86773858000004%5D%2C%20%5B35.54207565300004%2C%2033.86804547500003%5D%2C%20%5B35.542159653000056%2C%2033.86824149000006%5D%2C%20%5B35.542280136000045%2C%2033.868485399000065%5D%2C%20%5B35.54234302300006%2C%2033.86864164100007%5D%2C%20%5B35.542540099000064%2C%2033.86863766600004%5D%2C%20%5B35.54271872900006%2C%2033.86870627700006%5D%2C%20%5B35.542843720000064%2C%2033.86883412700007%5D%2C%20%5B35.541013226000075%2C%2033.86935176900005%5D%2C%20%5B35.540653313000064%2C%2033.86941318800007%5D%2C%20%5B35.53909018500008%2C%2033.864936415000045%5D%2C%20%5B35.53758775400007%2C%2033.86525645300003%5D%5D%5D%2C%20%22type%22%3A%20%22Polygon%22%7D%2C%20%22id%22%3A%20136%2C%20%22properties%22%3A%20%7B%22ACS_CODE_1%22%3A%2022155%2C%20%22Cadaster_1%22%3A%20%22Sinn%20El-Fil%22%2C%20%22Cadaster_A%22%3A%20%22%5Cu0633%5Cu0646%20%5Cu0627%5Cu0644%5Cu0641%5Cu064a%5Cu0644%22%2C%20%22District_1%22%3A%20%22El%20Meten%22%2C%20%22District_A%22%3A%20%22%5Cu0627%5Cu0644%5Cu0645%5Cu062a%5Cu0646%22%2C%20%22FID%22%3A%20136%2C%20%22Governor_1%22%3A%20%22%5Cu062c%5Cu0628%5Cu0644%20%5Cu0644%5Cu0628%5Cu0646%5Cu0627%5Cu0646%22%2C%20%22Governorat%22%3A%20%22Mount%20Lebanon%22%2C%20%22OBJECTID_1%22%3A%20138%2C%20%22Shape_Area%22%3A%202.23128995437e-05%2C%20%22Shape_Leng%22%3A%200.0260985685973%2C%20%22highlight%22%3A%20%7B%7D%2C%20%22style%22%3A%20%7B%22color%22%3A%20%22black%22%2C%20%22fillColor%22%3A%20%22%234eb3d3%22%2C%20%22fillOpacity%22%3A%201%2C%20%22opacity%22%3A%200.5%2C%20%22weight%22%3A%201%7D%2C%20%22zone_numbe%22%3A%20139%7D%2C%20%22type%22%3A%20%22Feature%22%7D%2C%20%7B%22geometry%22%3A%20%7B%22coordinates%22%3A%20%5B%5B%5B35.53655623100008%2C%2033.870148624000024%5D%2C%20%5B35.53719974300003%2C%2033.87003705400008%5D%2C%20%5B35.53915407300008%2C%2033.86966903100006%5D%2C%20%5B35.541013226000075%2C%2033.86935176900005%5D%2C%20%5B35.542843720000064%2C%2033.86883412700007%5D%2C%20%5B35.542888223000034%2C%2033.86901278300007%5D%2C%20%5B35.542834166000034%2C%2033.86917066700005%5D%2C%20%5B35.54270281700008%2C%2033.86929287400005%5D%2C%20%5B35.54272896400005%2C%2033.869492397000045%5D%2C%20%5B35.54268800400007%2C%2033.86968570800008%5D%2C%20%5B35.54262704800004%2C%2033.869992452000076%5D%2C%20%5B35.54255800800007%2C%2033.87032965900005%5D%2C%20%5B35.542492690000074%2C%2033.870619145000035%5D%2C%20%5B35.542429198000036%2C%2033.87094966900003%5D%2C%20%5B35.54237999700007%2C%2033.87118062600007%5D%2C%20%5B35.542338123000036%2C%2033.87136913300003%5D%2C%20%5B35.542220351000026%2C%2033.871630639000045%5D%2C%20%5B35.54210124700006%2C%2033.871796292000056%5D%2C%20%5B35.54183115500007%2C%2033.87219646400007%5D%2C%20%5B35.541770566000025%2C%2033.87237525000006%5D%2C%20%5B35.54166038300008%2C%2033.87272410500003%5D%2C%20%5B35.541582633000075%2C%2033.87296267000005%5D%2C%20%5B35.541480421000074%2C%2033.87328641700003%5D%2C%20%5B35.54136408800008%2C%2033.873448729000074%5D%2C%20%5B35.54123968000005%2C%2033.87357780200006%5D%2C%20%5B35.54100382100006%2C%2033.873877857000025%5D%2C%20%5B35.54095401700005%2C%2033.87407357300003%5D%2C%20%5B35.540927672000066%2C%2033.874262592000036%5D%2C%20%5B35.54091112800006%2C%2033.874546319000046%5D%2C%20%5B35.54096971300004%2C%2033.87477747200006%5D%2C%20%5B35.540979020000066%2C%2033.87494264000003%5D%2C%20%5B35.54095047800007%2C%2033.87510795000003%5D%2C%20%5B35.540872351000075%2C%2033.875442906000046%5D%2C%20%5B35.54080515600003%2C%2033.87580395600003%5D%2C%20%5B35.54063616800005%2C%2033.87654766700007%5D%2C%20%5B35.540569840000046%2C%2033.87685221800007%5D%2C%20%5B35.54031126000007%2C%2033.87783459900004%5D%2C%20%5B35.54022715700006%2C%2033.877543778000074%5D%2C%20%5B35.539802027000064%2C%2033.87709326600003%5D%2C%20%5B35.538926385000025%2C%2033.87564655400007%5D%2C%20%5B35.53759388700007%2C%2033.87352090200005%5D%2C%20%5B35.53701012600004%2C%2033.87256277300003%5D%2C%20%5B35.53673728100006%2C%2033.87190921400003%5D%2C%20%5B35.53655623100008%2C%2033.870148624000024%5D%5D%5D%2C%20%22type%22%3A%20%22Polygon%22%7D%2C%20%22id%22%3A%20137%2C%20%22properties%22%3A%20%7B%22ACS_CODE_1%22%3A%2022155%2C%20%22Cadaster_1%22%3A%20%22Sinn%20El-Fil%22%2C%20%22Cadaster_A%22%3A%20%22%5Cu0633%5Cu0646%20%5Cu0627%5Cu0644%5Cu0641%5Cu064a%5Cu0644%22%2C%20%22District_1%22%3A%20%22El%20Meten%22%2C%20%22District_A%22%3A%20%22%5Cu0627%5Cu0644%5Cu0645%5Cu062a%5Cu0646%22%2C%20%22FID%22%3A%20137%2C%20%22Governor_1%22%3A%20%22%5Cu062c%5Cu0628%5Cu0644%20%5Cu0644%5Cu0628%5Cu0646%5Cu0627%5Cu0646%22%2C%20%22Governorat%22%3A%20%22Mount%20Lebanon%22%2C%20%22OBJECTID_1%22%3A%20139%2C%20%22Shape_Area%22%3A%202.88691009768e-05%2C%20%22Shape_Leng%22%3A%200.0247302493549%2C%20%22highlight%22%3A%20%7B%7D%2C%20%22style%22%3A%20%7B%22color%22%3A%20%22black%22%2C%20%22fillColor%22%3A%20%22%234eb3d3%22%2C%20%22fillOpacity%22%3A%201%2C%20%22opacity%22%3A%200.5%2C%20%22weight%22%3A%201%7D%2C%20%22zone_numbe%22%3A%20137%7D%2C%20%22type%22%3A%20%22Feature%22%7D%2C%20%7B%22geometry%22%3A%20%7B%22coordinates%22%3A%20%5B%5B%5B35.540653313000064%2C%2033.86941318800007%5D%2C%20%5B35.539376213000025%2C%2033.86963112300003%5D%2C%20%5B35.53915407300008%2C%2033.86966903100006%5D%2C%20%5B35.53719974300003%2C%2033.87003705400008%5D%2C%20%5B35.53655623100008%2C%2033.870148624000024%5D%2C%20%5B35.536267820000035%2C%2033.86814792700005%5D%2C%20%5B35.53618850500004%2C%2033.86754909600006%5D%2C%20%5B35.53595022800005%2C%2033.867010082000036%5D%2C%20%5B35.535450541000046%2C%2033.866542122000055%5D%2C%20%5B35.53469704500003%2C%2033.86614554500005%5D%2C%20%5B35.53424494800004%2C%2033.86607416100003%5D%2C%20%5B35.53273795600006%2C%2033.86609795600003%5D%2C%20%5B35.531548016000045%2C%2033.86614226200004%5D%2C%20%5B35.53153711900006%2C%2033.86591299600008%5D%2C%20%5B35.53157853300007%2C%2033.86554254600003%5D%2C%20%5B35.531646624000075%2C%2033.865251417000025%5D%2C%20%5B35.53186925600005%2C%2033.864985570000044%5D%2C%20%5B35.53229727300004%2C%2033.86486316100007%5D%2C%20%5B35.53304538400005%2C%2033.864797820000035%5D%2C%20%5B35.533811541000034%2C%2033.86482040300007%5D%2C%20%5B35.53455113500007%2C%2033.86488416000003%5D%2C%20%5B35.53500226600005%2C%2033.86497559600008%5D%2C%20%5B35.53538082700004%2C%2033.86503212400004%5D%2C%20%5B35.53566051400003%2C%2033.865082947000076%5D%2C%20%5B35.535843130000046%2C%2033.865028032000055%5D%2C%20%5B35.53599344200006%2C%2033.86491978500004%5D%2C%20%5B35.53611312600003%2C%2033.864790225000036%5D%2C%20%5B35.53619856900008%2C%2033.86457150800004%5D%2C%20%5B35.53654872200008%2C%2033.86495505400006%5D%2C%20%5B35.53696909400003%2C%2033.86520093200005%5D%2C%20%5B35.53758775400007%2C%2033.86525645300003%5D%2C%20%5B35.53909018500008%2C%2033.864936415000045%5D%2C%20%5B35.540653313000064%2C%2033.86941318800007%5D%5D%5D%2C%20%22type%22%3A%20%22Polygon%22%7D%2C%20%22id%22%3A%20138%2C%20%22properties%22%3A%20%7B%22ACS_CODE_1%22%3A%2022155%2C%20%22Cadaster_1%22%3A%20%22Sinn%20El-Fil%22%2C%20%22Cadaster_A%22%3A%20%22%5Cu0633%5Cu0646%20%5Cu0627%5Cu0644%5Cu0641%5Cu064a%5Cu0644%22%2C%20%22District_1%22%3A%20%22El%20Meten%22%2C%20%22District_A%22%3A%20%22%5Cu0627%5Cu0644%5Cu0645%5Cu062a%5Cu0646%22%2C%20%22FID%22%3A%20138%2C%20%22Governor_1%22%3A%20%22%5Cu062c%5Cu0628%5Cu0644%20%5Cu0644%5Cu0628%5Cu0646%5Cu0627%5Cu0646%22%2C%20%22Governorat%22%3A%20%22Mount%20Lebanon%22%2C%20%22OBJECTID_1%22%3A%20140%2C%20%22Shape_Area%22%3A%202.36659126664e-05%2C%20%22Shape_Leng%22%3A%200.0258420858766%2C%20%22highlight%22%3A%20%7B%7D%2C%20%22style%22%3A%20%7B%22color%22%3A%20%22black%22%2C%20%22fillColor%22%3A%20%22%234eb3d3%22%2C%20%22fillOpacity%22%3A%201%2C%20%22opacity%22%3A%200.5%2C%20%22weight%22%3A%201%7D%2C%20%22zone_numbe%22%3A%20138%7D%2C%20%22type%22%3A%20%22Feature%22%7D%5D%2C%20%22type%22%3A%20%22FeatureCollection%22%7D%0A%20%20%20%20%20%20%20%20%20%20%20%20%20%20%20%20%20%20%20%20%0A%20%20%20%20%20%20%20%20%20%20%20%20%20%20%20%20%20%20%20%20%20%20%20%20%2C%20%7B%0A%20%20%20%20%20%20%20%20%20%20%20%20%20%20%20%20%20%20%20%20%20%20%20%20%0A%20%20%20%20%20%20%20%20%20%20%20%20%20%20%20%20%20%20%20%20%20%20%20%20%20%20%20%20smoothFactor%3A0%0A%20%20%20%20%20%20%20%20%20%20%20%20%20%20%20%20%20%20%20%20%20%20%20%20%0A%0A%20%20%20%20%20%20%20%20%20%20%20%20%20%20%20%20%20%20%20%20%20%20%20%20%0A%20%20%20%20%20%20%20%20%20%20%20%20%20%20%20%20%20%20%20%20%20%20%20%20%7D%0A%20%20%20%20%20%20%20%20%20%20%20%20%20%20%20%20%20%20%20%20%0A%20%20%20%20%20%20%20%20%20%20%20%20%20%20%20%20%20%20%20%20%29.addTo%28map_ea494afa69254bb6bc9bce023d1c01ad%29%3B%0A%20%20%20%20%20%20%20%20%20%20%20%20%20%20%20%20geo_json_e1b57d7af6d44f59a7d24a539dd3021e.setStyle%28function%28feature%29%20%7Breturn%20feature.properties.style%3B%7D%29%3B%0A%0A%20%20%20%20%20%20%20%20%20%20%20%20%0A%20%20%20%20%0A%0A%20%20%20%20%20%20%20%20%20%20%20%20var%20marker_e29324b445c54c1db1c59ac3d58dfdb5%20%3D%20L.marker%28%0A%20%20%20%20%20%20%20%20%20%20%20%20%20%20%20%20%5B33.901389%2C35.519167%5D%2C%0A%20%20%20%20%20%20%20%20%20%20%20%20%20%20%20%20%7B%0A%20%20%20%20%20%20%20%20%20%20%20%20%20%20%20%20%20%20%20%20icon%3A%20new%20L.Icon.Default%28%29%0A%20%20%20%20%20%20%20%20%20%20%20%20%20%20%20%20%20%20%20%20%7D%0A%20%20%20%20%20%20%20%20%20%20%20%20%20%20%20%20%29%0A%20%20%20%20%20%20%20%20%20%20%20%20%20%20%20%20.addTo%28map_ea494afa69254bb6bc9bce023d1c01ad%29%3B%0A%20%20%20%20%20%20%20%20%20%20%20%20%0A%20%20%20%20%0A%0A%20%20%20%20%20%20%20%20%20%20%20%20%20%20%20%20var%20icon_dbd3886a02324219800f885d13787ded%20%3D%20L.AwesomeMarkers.icon%28%7B%0A%20%20%20%20%20%20%20%20%20%20%20%20%20%20%20%20%20%20%20%20icon%3A%20%27fire%27%2C%0A%20%20%20%20%20%20%20%20%20%20%20%20%20%20%20%20%20%20%20%20iconColor%3A%20%27white%27%2C%0A%20%20%20%20%20%20%20%20%20%20%20%20%20%20%20%20%20%20%20%20markerColor%3A%20%27red%27%2C%0A%20%20%20%20%20%20%20%20%20%20%20%20%20%20%20%20%20%20%20%20prefix%3A%20%27glyphicon%27%2C%0A%20%20%20%20%20%20%20%20%20%20%20%20%20%20%20%20%20%20%20%20extraClasses%3A%20%27fa-rotate-0%27%0A%20%20%20%20%20%20%20%20%20%20%20%20%20%20%20%20%20%20%20%20%7D%29%3B%0A%20%20%20%20%20%20%20%20%20%20%20%20%20%20%20%20marker_e29324b445c54c1db1c59ac3d58dfdb5.setIcon%28icon_dbd3886a02324219800f885d13787ded%29%3B%0A%20%20%20%20%20%20%20%20%20%20%20%20%0A%20%20%20%20%0A%20%20%20%20%20%20%20%20%20%20%20%20var%20popup_560455d44f8e4682a3a33d4a773dcc54%20%3D%20L.popup%28%7BmaxWidth%3A%20%27300%27%7D%29%3B%0A%0A%20%20%20%20%20%20%20%20%20%20%20%20%0A%20%20%20%20%20%20%20%20%20%20%20%20%20%20%20%20var%20html_229ff6a595f54746aab71a4c0a7f3497%20%3D%20%24%28%27%3Cdiv%20id%3D%22html_229ff6a595f54746aab71a4c0a7f3497%22%20style%3D%22width%3A%20100.0%25%3B%20height%3A%20100.0%25%3B%22%3EBeirut%20Port%20Blast%20Zone%3C/div%3E%27%29%5B0%5D%3B%0A%20%20%20%20%20%20%20%20%20%20%20%20%20%20%20%20popup_560455d44f8e4682a3a33d4a773dcc54.setContent%28html_229ff6a595f54746aab71a4c0a7f3497%29%3B%0A%20%20%20%20%20%20%20%20%20%20%20%20%0A%0A%20%20%20%20%20%20%20%20%20%20%20%20marker_e29324b445c54c1db1c59ac3d58dfdb5.bindPopup%28popup_560455d44f8e4682a3a33d4a773dcc54%29%3B%0A%0A%20%20%20%20%20%20%20%20%20%20%20%20%0A%20%20%20%20%20%20%20%20%0A%3C/script%3E onload=\"this.contentDocument.open();this.contentDocument.write(    decodeURIComponent(this.getAttribute('data-html')));this.contentDocument.close();\" allowfullscreen webkitallowfullscreen mozallowfullscreen></iframe></div></div>"
      ],
      "text/plain": [
       "<folium.folium.Map at 0x21068d66f98>"
      ]
     },
     "execution_count": 23,
     "metadata": {},
     "output_type": "execute_result"
    }
   ],
   "source": [
    "zones_map = folium.Map(location=[33.8994574,35.5144002], tiles='cartodbpositron', zoom_start=13)\n",
    "zones_map.choropleth(\n",
    "    geo_data=zones_json,\n",
    "    data=df,\n",
    "    columns=[\"Zone Number\", \"Numerical_Designation\"],\n",
    "    key_on='feature.properties.OBJECTID_1',\n",
    "    fill_color='GnBu',\n",
    "    fill_opacity=1,\n",
    "    line_opacity=0.5,\n",
    "    legend_name='Poverty Levels in UN Operational Zones',\n",
    "    smooth_factor=0\n",
    "    )\n",
    "\n",
    "#Add categorical legend utilizing the previously defined function\n",
    "zones_map = add_categorical_legend(zones_map, 'Poverty Levels in UN Operational Zones', colors = ['#ccebc5','#a8ddb5', '#7bccc4', '#4eb3d3', '#2b8cbe', '#08589e'], labels = ['Not residential', 'None poor', 'Minority poor', 'Half poor/half not poor', 'Majority poor', 'All poor'])\n",
    "\n",
    "#Delete the numerical legend autimatically generated by Foliium\n",
    "for key in zones_map._children:\n",
    "    if key.startswith('color_map'):\n",
    "        del(zones_map._children[key])\n",
    "        \n",
    "#Add marker to indicate the blast zone\n",
    "folium.Marker(location=[33.901389,35.519167],popup='Beirut Port Blast Zone',icon=folium.Icon(color='red',icon='fire')).add_to(zones_map)\n",
    "\n",
    "#display map\n",
    "zones_map"
   ]
  },
  {
   "cell_type": "markdown",
   "metadata": {},
   "source": [
    "We can extract the coordinates from the ShapeFile (.SHP) provided using the <i>Geo-pandas Dataframe</i> library."
   ]
  },
  {
   "cell_type": "code",
   "execution_count": 24,
   "metadata": {},
   "outputs": [
    {
     "ename": "DriverError",
     "evalue": "Unable to open E:/IBM Capstone/beirut_port_explosions_operational_zones_139.shx or E:/IBM Capstone/beirut_port_explosions_operational_zones_139.SHX. Set SHAPE_RESTORE_SHX config option to YES to restore or create it.",
     "output_type": "error",
     "traceback": [
      "\u001b[1;31m---------------------------------------------------------------------------\u001b[0m",
      "\u001b[1;31mCPLE_OpenFailedError\u001b[0m                      Traceback (most recent call last)",
      "\u001b[1;32mfiona\\_shim.pyx\u001b[0m in \u001b[0;36mfiona._shim.gdal_open_vector\u001b[1;34m()\u001b[0m\n",
      "\u001b[1;32mfiona\\_err.pyx\u001b[0m in \u001b[0;36mfiona._err.exc_wrap_pointer\u001b[1;34m()\u001b[0m\n",
      "\u001b[1;31mCPLE_OpenFailedError\u001b[0m: Unable to open E:/IBM Capstone/beirut_port_explosions_operational_zones_139.shx or E:/IBM Capstone/beirut_port_explosions_operational_zones_139.SHX. Set SHAPE_RESTORE_SHX config option to YES to restore or create it.",
      "\nDuring handling of the above exception, another exception occurred:\n",
      "\u001b[1;31mDriverError\u001b[0m                               Traceback (most recent call last)",
      "\u001b[1;32m<ipython-input-24-cfa5b35329e6>\u001b[0m in \u001b[0;36m<module>\u001b[1;34m\u001b[0m\n\u001b[0;32m      1\u001b[0m \u001b[1;32mimport\u001b[0m \u001b[0mgeopandas\u001b[0m \u001b[1;32mas\u001b[0m \u001b[0mgpd\u001b[0m\u001b[1;33m\u001b[0m\u001b[1;33m\u001b[0m\u001b[0m\n\u001b[0;32m      2\u001b[0m \u001b[0mfname\u001b[0m \u001b[1;33m=\u001b[0m \u001b[1;34m'E:/IBM Capstone/beirut_port_explosions_operational_zones_139.shp'\u001b[0m\u001b[1;33m\u001b[0m\u001b[1;33m\u001b[0m\u001b[0m\n\u001b[1;32m----> 3\u001b[1;33m \u001b[0mGeo\u001b[0m \u001b[1;33m=\u001b[0m \u001b[0mgpd\u001b[0m\u001b[1;33m.\u001b[0m\u001b[0mread_file\u001b[0m\u001b[1;33m(\u001b[0m\u001b[0mfname\u001b[0m\u001b[1;33m)\u001b[0m\u001b[1;33m\u001b[0m\u001b[1;33m\u001b[0m\u001b[0m\n\u001b[0m\u001b[0;32m      4\u001b[0m \u001b[0mGeo\u001b[0m\u001b[1;33m.\u001b[0m\u001b[0mhead\u001b[0m\u001b[1;33m(\u001b[0m\u001b[1;33m)\u001b[0m\u001b[1;33m\u001b[0m\u001b[1;33m\u001b[0m\u001b[0m\n",
      "\u001b[1;32mE:\\Anaconda\\lib\\site-packages\\geopandas\\io\\file.py\u001b[0m in \u001b[0;36m_read_file\u001b[1;34m(filename, bbox, mask, rows, **kwargs)\u001b[0m\n\u001b[0;32m    158\u001b[0m \u001b[1;33m\u001b[0m\u001b[0m\n\u001b[0;32m    159\u001b[0m     \u001b[1;32mwith\u001b[0m \u001b[0mfiona_env\u001b[0m\u001b[1;33m(\u001b[0m\u001b[1;33m)\u001b[0m\u001b[1;33m:\u001b[0m\u001b[1;33m\u001b[0m\u001b[1;33m\u001b[0m\u001b[0m\n\u001b[1;32m--> 160\u001b[1;33m         \u001b[1;32mwith\u001b[0m \u001b[0mreader\u001b[0m\u001b[1;33m(\u001b[0m\u001b[0mpath_or_bytes\u001b[0m\u001b[1;33m,\u001b[0m \u001b[1;33m**\u001b[0m\u001b[0mkwargs\u001b[0m\u001b[1;33m)\u001b[0m \u001b[1;32mas\u001b[0m \u001b[0mfeatures\u001b[0m\u001b[1;33m:\u001b[0m\u001b[1;33m\u001b[0m\u001b[1;33m\u001b[0m\u001b[0m\n\u001b[0m\u001b[0;32m    161\u001b[0m \u001b[1;33m\u001b[0m\u001b[0m\n\u001b[0;32m    162\u001b[0m             \u001b[1;31m# In a future Fiona release the crs attribute of features will\u001b[0m\u001b[1;33m\u001b[0m\u001b[1;33m\u001b[0m\u001b[1;33m\u001b[0m\u001b[0m\n",
      "\u001b[1;32mE:\\Anaconda\\lib\\site-packages\\fiona\\env.py\u001b[0m in \u001b[0;36mwrapper\u001b[1;34m(*args, **kwargs)\u001b[0m\n\u001b[0;32m    406\u001b[0m     \u001b[1;32mdef\u001b[0m \u001b[0mwrapper\u001b[0m\u001b[1;33m(\u001b[0m\u001b[1;33m*\u001b[0m\u001b[0margs\u001b[0m\u001b[1;33m,\u001b[0m \u001b[1;33m**\u001b[0m\u001b[0mkwargs\u001b[0m\u001b[1;33m)\u001b[0m\u001b[1;33m:\u001b[0m\u001b[1;33m\u001b[0m\u001b[1;33m\u001b[0m\u001b[0m\n\u001b[0;32m    407\u001b[0m         \u001b[1;32mif\u001b[0m \u001b[0mlocal\u001b[0m\u001b[1;33m.\u001b[0m\u001b[0m_env\u001b[0m\u001b[1;33m:\u001b[0m\u001b[1;33m\u001b[0m\u001b[1;33m\u001b[0m\u001b[0m\n\u001b[1;32m--> 408\u001b[1;33m             \u001b[1;32mreturn\u001b[0m \u001b[0mf\u001b[0m\u001b[1;33m(\u001b[0m\u001b[1;33m*\u001b[0m\u001b[0margs\u001b[0m\u001b[1;33m,\u001b[0m \u001b[1;33m**\u001b[0m\u001b[0mkwargs\u001b[0m\u001b[1;33m)\u001b[0m\u001b[1;33m\u001b[0m\u001b[1;33m\u001b[0m\u001b[0m\n\u001b[0m\u001b[0;32m    409\u001b[0m         \u001b[1;32melse\u001b[0m\u001b[1;33m:\u001b[0m\u001b[1;33m\u001b[0m\u001b[1;33m\u001b[0m\u001b[0m\n\u001b[0;32m    410\u001b[0m             \u001b[1;32mif\u001b[0m \u001b[0misinstance\u001b[0m\u001b[1;33m(\u001b[0m\u001b[0margs\u001b[0m\u001b[1;33m[\u001b[0m\u001b[1;36m0\u001b[0m\u001b[1;33m]\u001b[0m\u001b[1;33m,\u001b[0m \u001b[0mstr\u001b[0m\u001b[1;33m)\u001b[0m\u001b[1;33m:\u001b[0m\u001b[1;33m\u001b[0m\u001b[1;33m\u001b[0m\u001b[0m\n",
      "\u001b[1;32mE:\\Anaconda\\lib\\site-packages\\fiona\\__init__.py\u001b[0m in \u001b[0;36mopen\u001b[1;34m(fp, mode, driver, schema, crs, encoding, layer, vfs, enabled_drivers, crs_wkt, **kwargs)\u001b[0m\n\u001b[0;32m    258\u001b[0m         \u001b[1;32mif\u001b[0m \u001b[0mmode\u001b[0m \u001b[1;32min\u001b[0m \u001b[1;33m(\u001b[0m\u001b[1;34m'a'\u001b[0m\u001b[1;33m,\u001b[0m \u001b[1;34m'r'\u001b[0m\u001b[1;33m)\u001b[0m\u001b[1;33m:\u001b[0m\u001b[1;33m\u001b[0m\u001b[1;33m\u001b[0m\u001b[0m\n\u001b[0;32m    259\u001b[0m             c = Collection(path, mode, driver=driver, encoding=encoding,\n\u001b[1;32m--> 260\u001b[1;33m                            layer=layer, enabled_drivers=enabled_drivers, **kwargs)\n\u001b[0m\u001b[0;32m    261\u001b[0m         \u001b[1;32melif\u001b[0m \u001b[0mmode\u001b[0m \u001b[1;33m==\u001b[0m \u001b[1;34m'w'\u001b[0m\u001b[1;33m:\u001b[0m\u001b[1;33m\u001b[0m\u001b[1;33m\u001b[0m\u001b[0m\n\u001b[0;32m    262\u001b[0m             \u001b[1;32mif\u001b[0m \u001b[0mschema\u001b[0m\u001b[1;33m:\u001b[0m\u001b[1;33m\u001b[0m\u001b[1;33m\u001b[0m\u001b[0m\n",
      "\u001b[1;32mE:\\Anaconda\\lib\\site-packages\\fiona\\collection.py\u001b[0m in \u001b[0;36m__init__\u001b[1;34m(self, path, mode, driver, schema, crs, encoding, layer, vsi, archive, enabled_drivers, crs_wkt, ignore_fields, ignore_geometry, **kwargs)\u001b[0m\n\u001b[0;32m    160\u001b[0m             \u001b[1;32mif\u001b[0m \u001b[0mself\u001b[0m\u001b[1;33m.\u001b[0m\u001b[0mmode\u001b[0m \u001b[1;33m==\u001b[0m \u001b[1;34m'r'\u001b[0m\u001b[1;33m:\u001b[0m\u001b[1;33m\u001b[0m\u001b[1;33m\u001b[0m\u001b[0m\n\u001b[0;32m    161\u001b[0m                 \u001b[0mself\u001b[0m\u001b[1;33m.\u001b[0m\u001b[0msession\u001b[0m \u001b[1;33m=\u001b[0m \u001b[0mSession\u001b[0m\u001b[1;33m(\u001b[0m\u001b[1;33m)\u001b[0m\u001b[1;33m\u001b[0m\u001b[1;33m\u001b[0m\u001b[0m\n\u001b[1;32m--> 162\u001b[1;33m                 \u001b[0mself\u001b[0m\u001b[1;33m.\u001b[0m\u001b[0msession\u001b[0m\u001b[1;33m.\u001b[0m\u001b[0mstart\u001b[0m\u001b[1;33m(\u001b[0m\u001b[0mself\u001b[0m\u001b[1;33m,\u001b[0m \u001b[1;33m**\u001b[0m\u001b[0mkwargs\u001b[0m\u001b[1;33m)\u001b[0m\u001b[1;33m\u001b[0m\u001b[1;33m\u001b[0m\u001b[0m\n\u001b[0m\u001b[0;32m    163\u001b[0m             \u001b[1;32melif\u001b[0m \u001b[0mself\u001b[0m\u001b[1;33m.\u001b[0m\u001b[0mmode\u001b[0m \u001b[1;32min\u001b[0m \u001b[1;33m(\u001b[0m\u001b[1;34m'a'\u001b[0m\u001b[1;33m,\u001b[0m \u001b[1;34m'w'\u001b[0m\u001b[1;33m)\u001b[0m\u001b[1;33m:\u001b[0m\u001b[1;33m\u001b[0m\u001b[1;33m\u001b[0m\u001b[0m\n\u001b[0;32m    164\u001b[0m                 \u001b[0mself\u001b[0m\u001b[1;33m.\u001b[0m\u001b[0msession\u001b[0m \u001b[1;33m=\u001b[0m \u001b[0mWritingSession\u001b[0m\u001b[1;33m(\u001b[0m\u001b[1;33m)\u001b[0m\u001b[1;33m\u001b[0m\u001b[1;33m\u001b[0m\u001b[0m\n",
      "\u001b[1;32mfiona\\ogrext.pyx\u001b[0m in \u001b[0;36mfiona.ogrext.Session.start\u001b[1;34m()\u001b[0m\n",
      "\u001b[1;32mfiona\\_shim.pyx\u001b[0m in \u001b[0;36mfiona._shim.gdal_open_vector\u001b[1;34m()\u001b[0m\n",
      "\u001b[1;31mDriverError\u001b[0m: Unable to open E:/IBM Capstone/beirut_port_explosions_operational_zones_139.shx or E:/IBM Capstone/beirut_port_explosions_operational_zones_139.SHX. Set SHAPE_RESTORE_SHX config option to YES to restore or create it."
     ]
    }
   ],
   "source": [
    "import geopandas as gpd\n",
    "fname = 'E:/IBM Capstone/beirut_port_explosions_operational_zones_139.shp'\n",
    "Geo = gpd.read_file(fname)\n",
    "Geo.head()"
   ]
  },
  {
   "cell_type": "markdown",
   "metadata": {},
   "source": [
    "Get only the relevant columns in the dataframe that pinpoint the Zone Number and corresponding latitude and longitude array."
   ]
  },
  {
   "cell_type": "code",
   "execution_count": null,
   "metadata": {},
   "outputs": [],
   "source": [
    "Geo=Geo[['zone_numbe','geometry']]\n",
    "Geo.head()"
   ]
  },
  {
   "cell_type": "markdown",
   "metadata": {},
   "source": [
    "Get the GeoJSON coordinates for the two identified zones utilizing the geospatial dataframe."
   ]
  },
  {
   "cell_type": "code",
   "execution_count": null,
   "metadata": {},
   "outputs": [],
   "source": [
    "array1 = Geo.loc[Geo['zone_numbe'] == 62]\n",
    "print(array1)\n",
    "array2 = Geo.loc[Geo['zone_numbe'] == 89]\n",
    "print(array2)"
   ]
  },
  {
   "cell_type": "markdown",
   "metadata": {},
   "source": [
    "Get the mean value of the first of the two identified zones (Ashrafiyeh at zone number 62) to pass it as an argument for the Foursquare API."
   ]
  },
  {
   "cell_type": "code",
   "execution_count": 33,
   "metadata": {
    "scrolled": true
   },
   "outputs": [
    {
     "name": "stdout",
     "output_type": "stream",
     "text": [
      "For zone number 62, the latitude is 33.8860027 and the longitude is 35.5151357.\n"
     ]
    }
   ],
   "source": [
    "#latitude_1=array1.centroid.x.mean()\n",
    "#longitude_1=array1.centroid.y.mean()\n",
    "\n",
    "#The process of extracting the coordinates median from the GeoJSON is 100% correct and operational; however, the GeoJSON file \n",
    "#has wrong coordinates (showing values in cyprus). So, we utilized Google Maps to get the coordiantes.\n",
    "latitude_1=33.8860027 \n",
    "longitude_1=35.5151357\n",
    "print('For zone number 62, the latitude is {} and the longitude is {}.'.format(latitude_1,longitude_1))"
   ]
  },
  {
   "cell_type": "markdown",
   "metadata": {},
   "source": [
    "Get the mean value of the second of the two identified zones (Bourj Hammoud at zone number 89) to pass it as an argument for the Foursquare API."
   ]
  },
  {
   "cell_type": "code",
   "execution_count": 32,
   "metadata": {
    "scrolled": true
   },
   "outputs": [
    {
     "name": "stdout",
     "output_type": "stream",
     "text": [
      "For zone number 89, the latitude is 33.8937745 and the longitude is 35.5318377.\n"
     ]
    }
   ],
   "source": [
    "#latitude_2=array2.centroid.x.mean()\n",
    "#longitude_2=array2.centroid.y.mean()\n",
    "\n",
    "#The process of extracting the coordinates median from the GeoJSON is 100% correct and operational; however, the GeoJSON file \n",
    "#has wrong coordinates (showing values in cyprus). So, we utilized Google Maps to get the coordiantes.\n",
    "latitude_2=33.8937745\n",
    "longitude_2=35.5318377\n",
    "print('For zone number 89, the latitude is {} and the longitude is {}.'.format(latitude_2,longitude_2))"
   ]
  },
  {
   "cell_type": "markdown",
   "metadata": {},
   "source": [
    "<h2>Initialize the Foursquare API"
   ]
  },
  {
   "cell_type": "markdown",
   "metadata": {},
   "source": [
    "<h4>Import the <i>requests</i> library to receive content from the API in JSON format."
   ]
  },
  {
   "cell_type": "code",
   "execution_count": 25,
   "metadata": {},
   "outputs": [],
   "source": [
    "import requests"
   ]
  },
  {
   "cell_type": "markdown",
   "metadata": {},
   "source": [
    "<h4>Declare the Foursquare credentials and variables</h4>"
   ]
  },
  {
   "cell_type": "code",
   "execution_count": 26,
   "metadata": {},
   "outputs": [],
   "source": [
    "CLIENT_ID = 'ZTLKNZCELC33KXINJUOXG2EDYQSGTRR5JPETP1DF4OTI3RMU' #Foursquare ID\n",
    "CLIENT_SECRET = 'A5MSF4DLXAIEPYAJH5VKC52BPHFPLJ03UC4BJBVLVIRTMTSW' #Foursquare Secret\n",
    "ACCESS_TOKEN = 'L33AUJG4MP4DRH0IUJNUNUFKZFEMCOEQ3QM4153GL1O0SAJK' #FourSquare Access Token\n",
    "VERSION = '20180604'\n",
    "LIMIT = 30\n",
    "radius = 500"
   ]
  },
  {
   "cell_type": "markdown",
   "metadata": {},
   "source": [
    "<h4>Declare the Foursquare search URL for the first zone as an object</h4>"
   ]
  },
  {
   "cell_type": "code",
   "execution_count": 34,
   "metadata": {},
   "outputs": [],
   "source": [
    "search_url_1 = 'https://api.foursquare.com/v2/venues/search?client_id={}&client_secret={}&ll={},{}&oauth_token={}&v={}&radius={}&limit={}'.format(CLIENT_ID, CLIENT_SECRET, latitude_1, longitude_1,ACCESS_TOKEN, VERSION, radius, LIMIT)"
   ]
  },
  {
   "cell_type": "markdown",
   "metadata": {},
   "source": [
    "<h4>Declare the Foursquare search URL for the second zone as an object</h4>"
   ]
  },
  {
   "cell_type": "code",
   "execution_count": 35,
   "metadata": {},
   "outputs": [],
   "source": [
    "search_url_2 = 'https://api.foursquare.com/v2/venues/search?client_id={}&client_secret={}&ll={},{}&oauth_token={}&v={}&radius={}&limit={}'.format(CLIENT_ID, CLIENT_SECRET, latitude_2, longitude_2,ACCESS_TOKEN, VERSION, radius, LIMIT)"
   ]
  },
  {
   "cell_type": "markdown",
   "metadata": {},
   "source": [
    "<h4>Receive the GET Request and examine the results from the declared URL</h4>"
   ]
  },
  {
   "cell_type": "code",
   "execution_count": 36,
   "metadata": {},
   "outputs": [],
   "source": [
    "results_1 = requests.get(search_url_1).json()\n",
    "results_2 = requests.get(search_url_2).json()"
   ]
  },
  {
   "cell_type": "markdown",
   "metadata": {},
   "source": [
    "<h4>Obtain the relevant part of the JSON of the declared URL</h4>"
   ]
  },
  {
   "cell_type": "code",
   "execution_count": 37,
   "metadata": {},
   "outputs": [],
   "source": [
    "# assign relevant part of JSON to venues\n",
    "venues_1 = results_1['response']['venues']\n",
    "venues_2 = results_2['response']['venues']"
   ]
  },
  {
   "cell_type": "markdown",
   "metadata": {},
   "source": [
    "<h4>Transform the relevant JSON venues list into a dataframe</h4>"
   ]
  },
  {
   "cell_type": "code",
   "execution_count": 38,
   "metadata": {},
   "outputs": [],
   "source": [
    "# import the library that allows tranforming json files into a pandas dataframe library\n",
    "from pandas.io.json import json_normalize\n",
    "\n",
    "\n",
    "# tranform venues into a dataframe\n",
    "dataframe_1 = json_normalize(venues_1)\n",
    "dataframe_2 = json_normalize(venues_2)\n",
    "\n",
    "#dataframe_1.head()\n",
    "#dataframe_2.head()"
   ]
  },
  {
   "cell_type": "markdown",
   "metadata": {},
   "source": [
    "<h4>Filter dataframe 1 according to informaiton of interest.</h4>"
   ]
  },
  {
   "cell_type": "code",
   "execution_count": 39,
   "metadata": {},
   "outputs": [
    {
     "data": {
      "text/html": [
       "<div>\n",
       "<style scoped>\n",
       "    .dataframe tbody tr th:only-of-type {\n",
       "        vertical-align: middle;\n",
       "    }\n",
       "\n",
       "    .dataframe tbody tr th {\n",
       "        vertical-align: top;\n",
       "    }\n",
       "\n",
       "    .dataframe thead th {\n",
       "        text-align: right;\n",
       "    }\n",
       "</style>\n",
       "<table border=\"1\" class=\"dataframe\">\n",
       "  <thead>\n",
       "    <tr style=\"text-align: right;\">\n",
       "      <th></th>\n",
       "      <th>name</th>\n",
       "      <th>categories</th>\n",
       "      <th>address</th>\n",
       "      <th>cc</th>\n",
       "      <th>city</th>\n",
       "      <th>country</th>\n",
       "      <th>crossStreet</th>\n",
       "      <th>distance</th>\n",
       "      <th>formattedAddress</th>\n",
       "      <th>labeledLatLngs</th>\n",
       "      <th>lat</th>\n",
       "      <th>lng</th>\n",
       "      <th>postalCode</th>\n",
       "      <th>state</th>\n",
       "      <th>id</th>\n",
       "    </tr>\n",
       "  </thead>\n",
       "  <tbody>\n",
       "    <tr>\n",
       "      <th>0</th>\n",
       "      <td>LAUMC</td>\n",
       "      <td>Hospital</td>\n",
       "      <td>NaN</td>\n",
       "      <td>LB</td>\n",
       "      <td>Ashrafieh</td>\n",
       "      <td>لبنان</td>\n",
       "      <td>NaN</td>\n",
       "      <td>81</td>\n",
       "      <td>[الأشرفية]</td>\n",
       "      <td>[{'label': 'display', 'lat': 33.885289, 'lng':...</td>\n",
       "      <td>33.885289</td>\n",
       "      <td>35.514948</td>\n",
       "      <td>NaN</td>\n",
       "      <td>محافظة بيروت</td>\n",
       "      <td>58bee6ac18384c3dbf36248d</td>\n",
       "    </tr>\n",
       "    <tr>\n",
       "      <th>1</th>\n",
       "      <td>UMC-RH Clinics</td>\n",
       "      <td>Doctor's Office</td>\n",
       "      <td>Rizk Hospital</td>\n",
       "      <td>LB</td>\n",
       "      <td>NaN</td>\n",
       "      <td>لبنان</td>\n",
       "      <td>NaN</td>\n",
       "      <td>106</td>\n",
       "      <td>[Rizk Hospital]</td>\n",
       "      <td>[{'label': 'display', 'lat': 33.88504897283786...</td>\n",
       "      <td>33.885049</td>\n",
       "      <td>35.515131</td>\n",
       "      <td>NaN</td>\n",
       "      <td>NaN</td>\n",
       "      <td>4fdb3029e4b0307f1dae9d52</td>\n",
       "    </tr>\n",
       "    <tr>\n",
       "      <th>2</th>\n",
       "      <td>Park Tower Suites</td>\n",
       "      <td>Hotel</td>\n",
       "      <td>President Elias Sarkis Avenue</td>\n",
       "      <td>LB</td>\n",
       "      <td>Ashrafieh</td>\n",
       "      <td>لبنان</td>\n",
       "      <td>Rizk Tower</td>\n",
       "      <td>57</td>\n",
       "      <td>[President Elias Sarkis Avenue (Rizk Tower), ا...</td>\n",
       "      <td>[{'label': 'display', 'lat': 33.88637537162528...</td>\n",
       "      <td>33.886375</td>\n",
       "      <td>35.514707</td>\n",
       "      <td>Lebanon</td>\n",
       "      <td>محافظة بيروت</td>\n",
       "      <td>4c59b8517b0495210f08891f</td>\n",
       "    </tr>\n",
       "    <tr>\n",
       "      <th>3</th>\n",
       "      <td>Hospital Rizk</td>\n",
       "      <td>Hospital</td>\n",
       "      <td>Ashrafieh</td>\n",
       "      <td>LB</td>\n",
       "      <td>بيروت</td>\n",
       "      <td>لبنان</td>\n",
       "      <td>NaN</td>\n",
       "      <td>73</td>\n",
       "      <td>[Ashrafieh, بيروت]</td>\n",
       "      <td>[{'label': 'display', 'lat': 33.88534345365244...</td>\n",
       "      <td>33.885343</td>\n",
       "      <td>35.515038</td>\n",
       "      <td>NaN</td>\n",
       "      <td>محافظة بيروت</td>\n",
       "      <td>4c7752d859a3236ab69dc118</td>\n",
       "    </tr>\n",
       "    <tr>\n",
       "      <th>4</th>\n",
       "      <td>Pharmacie Le Gabriel</td>\n",
       "      <td>Pharmacy</td>\n",
       "      <td>Achrafieh street</td>\n",
       "      <td>LB</td>\n",
       "      <td>بيروت</td>\n",
       "      <td>لبنان</td>\n",
       "      <td>NaN</td>\n",
       "      <td>97</td>\n",
       "      <td>[Achrafieh street, بيروت]</td>\n",
       "      <td>[{'label': 'display', 'lat': 33.8867686470187,...</td>\n",
       "      <td>33.886769</td>\n",
       "      <td>35.514614</td>\n",
       "      <td>NaN</td>\n",
       "      <td>محافظة بيروت</td>\n",
       "      <td>4d4ed588122b5481c553894f</td>\n",
       "    </tr>\n",
       "  </tbody>\n",
       "</table>\n",
       "</div>"
      ],
      "text/plain": [
       "                   name       categories                        address  cc  \\\n",
       "0                 LAUMC         Hospital                            NaN  LB   \n",
       "1        UMC-RH Clinics  Doctor's Office                  Rizk Hospital  LB   \n",
       "2     Park Tower Suites            Hotel  President Elias Sarkis Avenue  LB   \n",
       "3         Hospital Rizk         Hospital                      Ashrafieh  LB   \n",
       "4  Pharmacie Le Gabriel         Pharmacy               Achrafieh street  LB   \n",
       "\n",
       "        city country crossStreet  distance  \\\n",
       "0  Ashrafieh   لبنان         NaN        81   \n",
       "1        NaN   لبنان         NaN       106   \n",
       "2  Ashrafieh   لبنان  Rizk Tower        57   \n",
       "3      بيروت   لبنان         NaN        73   \n",
       "4      بيروت   لبنان         NaN        97   \n",
       "\n",
       "                                    formattedAddress  \\\n",
       "0                                         [الأشرفية]   \n",
       "1                                    [Rizk Hospital]   \n",
       "2  [President Elias Sarkis Avenue (Rizk Tower), ا...   \n",
       "3                                 [Ashrafieh, بيروت]   \n",
       "4                          [Achrafieh street, بيروت]   \n",
       "\n",
       "                                      labeledLatLngs        lat        lng  \\\n",
       "0  [{'label': 'display', 'lat': 33.885289, 'lng':...  33.885289  35.514948   \n",
       "1  [{'label': 'display', 'lat': 33.88504897283786...  33.885049  35.515131   \n",
       "2  [{'label': 'display', 'lat': 33.88637537162528...  33.886375  35.514707   \n",
       "3  [{'label': 'display', 'lat': 33.88534345365244...  33.885343  35.515038   \n",
       "4  [{'label': 'display', 'lat': 33.8867686470187,...  33.886769  35.514614   \n",
       "\n",
       "  postalCode         state                        id  \n",
       "0        NaN  محافظة بيروت  58bee6ac18384c3dbf36248d  \n",
       "1        NaN           NaN  4fdb3029e4b0307f1dae9d52  \n",
       "2    Lebanon  محافظة بيروت  4c59b8517b0495210f08891f  \n",
       "3        NaN  محافظة بيروت  4c7752d859a3236ab69dc118  \n",
       "4        NaN  محافظة بيروت  4d4ed588122b5481c553894f  "
      ]
     },
     "execution_count": 39,
     "metadata": {},
     "output_type": "execute_result"
    }
   ],
   "source": [
    "# keep only columns that include venue name, and anything that is associated with location\n",
    "filtered_columns_1 = ['name', 'categories'] + [col for col in dataframe_1.columns if col.startswith('location.')] + ['id']\n",
    "dataframe_filtered_1 = dataframe_1.loc[:, filtered_columns_1]\n",
    "\n",
    "# function that extracts the category of the venue\n",
    "def get_category_type(row):\n",
    "    try:\n",
    "        categories_list_1 = row['categories']\n",
    "    except:\n",
    "        categories_list_1 = row['venue.categories']\n",
    "        \n",
    "    if len(categories_list_1) == 0:\n",
    "        return None\n",
    "    else:\n",
    "        return categories_list_1[0]['name']\n",
    "\n",
    "# filter the category for each row\n",
    "dataframe_filtered_1['categories'] = dataframe_filtered_1.apply(get_category_type, axis=1)\n",
    "\n",
    "# clean column names by keeping only last term\n",
    "dataframe_filtered_1.columns = [column.split('.')[-1] for column in dataframe_filtered_1.columns]\n",
    "\n",
    "dataframe_filtered_1.head()"
   ]
  },
  {
   "cell_type": "markdown",
   "metadata": {},
   "source": [
    "<h4>Filter dataframe 2 according to informaiton of interest.</h4>"
   ]
  },
  {
   "cell_type": "code",
   "execution_count": 40,
   "metadata": {},
   "outputs": [
    {
     "data": {
      "text/html": [
       "<div>\n",
       "<style scoped>\n",
       "    .dataframe tbody tr th:only-of-type {\n",
       "        vertical-align: middle;\n",
       "    }\n",
       "\n",
       "    .dataframe tbody tr th {\n",
       "        vertical-align: top;\n",
       "    }\n",
       "\n",
       "    .dataframe thead th {\n",
       "        text-align: right;\n",
       "    }\n",
       "</style>\n",
       "<table border=\"1\" class=\"dataframe\">\n",
       "  <thead>\n",
       "    <tr style=\"text-align: right;\">\n",
       "      <th></th>\n",
       "      <th>name</th>\n",
       "      <th>categories</th>\n",
       "      <th>address</th>\n",
       "      <th>cc</th>\n",
       "      <th>city</th>\n",
       "      <th>country</th>\n",
       "      <th>crossStreet</th>\n",
       "      <th>distance</th>\n",
       "      <th>formattedAddress</th>\n",
       "      <th>labeledLatLngs</th>\n",
       "      <th>lat</th>\n",
       "      <th>lng</th>\n",
       "      <th>state</th>\n",
       "      <th>id</th>\n",
       "    </tr>\n",
       "  </thead>\n",
       "  <tbody>\n",
       "    <tr>\n",
       "      <th>0</th>\n",
       "      <td>Geitawi Hospital</td>\n",
       "      <td>Hospital</td>\n",
       "      <td>Geitawi</td>\n",
       "      <td>LB</td>\n",
       "      <td>NaN</td>\n",
       "      <td>لبنان</td>\n",
       "      <td>NaN</td>\n",
       "      <td>95</td>\n",
       "      <td>[Geitawi]</td>\n",
       "      <td>[{'label': 'display', 'lat': 33.89387583202703...</td>\n",
       "      <td>33.893876</td>\n",
       "      <td>35.530809</td>\n",
       "      <td>NaN</td>\n",
       "      <td>4ca0dddf19e4236adc526589</td>\n",
       "    </tr>\n",
       "    <tr>\n",
       "      <th>1</th>\n",
       "      <td>St Marc Medical Center</td>\n",
       "      <td>Medical Center</td>\n",
       "      <td>Geitaoui Main St</td>\n",
       "      <td>LB</td>\n",
       "      <td>NaN</td>\n",
       "      <td>لبنان</td>\n",
       "      <td>NaN</td>\n",
       "      <td>78</td>\n",
       "      <td>[Geitaoui Main St]</td>\n",
       "      <td>[{'label': 'display', 'lat': 33.89327922035939...</td>\n",
       "      <td>33.893279</td>\n",
       "      <td>35.531236</td>\n",
       "      <td>NaN</td>\n",
       "      <td>4cd51fd189eb6dcb53ad261e</td>\n",
       "    </tr>\n",
       "    <tr>\n",
       "      <th>2</th>\n",
       "      <td>El Brimo</td>\n",
       "      <td>Lebanese Restaurant</td>\n",
       "      <td>NaN</td>\n",
       "      <td>LB</td>\n",
       "      <td>بيروت</td>\n",
       "      <td>لبنان</td>\n",
       "      <td>NaN</td>\n",
       "      <td>169</td>\n",
       "      <td>[بيروت]</td>\n",
       "      <td>[{'label': 'display', 'lat': 33.89386, 'lng': ...</td>\n",
       "      <td>33.893860</td>\n",
       "      <td>35.530002</td>\n",
       "      <td>محافظة بيروت</td>\n",
       "      <td>592f28f41f7440435211b7db</td>\n",
       "    </tr>\n",
       "    <tr>\n",
       "      <th>3</th>\n",
       "      <td>Paul</td>\n",
       "      <td>French Restaurant</td>\n",
       "      <td>ABC</td>\n",
       "      <td>LB</td>\n",
       "      <td>Achrafieh</td>\n",
       "      <td>لبنان</td>\n",
       "      <td>NaN</td>\n",
       "      <td>232</td>\n",
       "      <td>[ABC, الأشرفية]</td>\n",
       "      <td>[{'label': 'display', 'lat': 33.89581603269914...</td>\n",
       "      <td>33.895816</td>\n",
       "      <td>35.532369</td>\n",
       "      <td>محافظة بيروت</td>\n",
       "      <td>4c8f2275daa937043d6252b1</td>\n",
       "    </tr>\n",
       "    <tr>\n",
       "      <th>4</th>\n",
       "      <td>Ministry Of Energy And Water</td>\n",
       "      <td>Government Building</td>\n",
       "      <td>Corniche El Nahr</td>\n",
       "      <td>LB</td>\n",
       "      <td>NaN</td>\n",
       "      <td>لبنان</td>\n",
       "      <td>NaN</td>\n",
       "      <td>249</td>\n",
       "      <td>[Corniche El Nahr]</td>\n",
       "      <td>[{'label': 'display', 'lat': 33.8932187757975,...</td>\n",
       "      <td>33.893219</td>\n",
       "      <td>35.534449</td>\n",
       "      <td>محافظة بيروت</td>\n",
       "      <td>4e44f05f1f6e0a1ba5e37553</td>\n",
       "    </tr>\n",
       "  </tbody>\n",
       "</table>\n",
       "</div>"
      ],
      "text/plain": [
       "                           name           categories           address  cc  \\\n",
       "0              Geitawi Hospital             Hospital           Geitawi  LB   \n",
       "1        St Marc Medical Center       Medical Center  Geitaoui Main St  LB   \n",
       "2                      El Brimo  Lebanese Restaurant               NaN  LB   \n",
       "3                          Paul    French Restaurant               ABC  LB   \n",
       "4  Ministry Of Energy And Water  Government Building  Corniche El Nahr  LB   \n",
       "\n",
       "        city country crossStreet  distance    formattedAddress  \\\n",
       "0        NaN   لبنان         NaN        95           [Geitawi]   \n",
       "1        NaN   لبنان         NaN        78  [Geitaoui Main St]   \n",
       "2      بيروت   لبنان         NaN       169             [بيروت]   \n",
       "3  Achrafieh   لبنان         NaN       232     [ABC, الأشرفية]   \n",
       "4        NaN   لبنان         NaN       249  [Corniche El Nahr]   \n",
       "\n",
       "                                      labeledLatLngs        lat        lng  \\\n",
       "0  [{'label': 'display', 'lat': 33.89387583202703...  33.893876  35.530809   \n",
       "1  [{'label': 'display', 'lat': 33.89327922035939...  33.893279  35.531236   \n",
       "2  [{'label': 'display', 'lat': 33.89386, 'lng': ...  33.893860  35.530002   \n",
       "3  [{'label': 'display', 'lat': 33.89581603269914...  33.895816  35.532369   \n",
       "4  [{'label': 'display', 'lat': 33.8932187757975,...  33.893219  35.534449   \n",
       "\n",
       "          state                        id  \n",
       "0           NaN  4ca0dddf19e4236adc526589  \n",
       "1           NaN  4cd51fd189eb6dcb53ad261e  \n",
       "2  محافظة بيروت  592f28f41f7440435211b7db  \n",
       "3  محافظة بيروت  4c8f2275daa937043d6252b1  \n",
       "4  محافظة بيروت  4e44f05f1f6e0a1ba5e37553  "
      ]
     },
     "execution_count": 40,
     "metadata": {},
     "output_type": "execute_result"
    }
   ],
   "source": [
    "# keep only columns that include venue name, and anything that is associated with location\n",
    "filtered_columns_2 = ['name', 'categories'] + [col for col in dataframe_2.columns if col.startswith('location.')] + ['id']\n",
    "dataframe_filtered_2 = dataframe_2.loc[:, filtered_columns_2]\n",
    "\n",
    "# function that extracts the category of the venue\n",
    "def get_category_type(row):\n",
    "    try:\n",
    "        categories_list_2 = row['categories']\n",
    "    except:\n",
    "        categories_list_2 = row['venue.categories']\n",
    "        \n",
    "    if len(categories_list_2) == 0:\n",
    "        return None\n",
    "    else:\n",
    "        return categories_list_2[0]['name']\n",
    "\n",
    "# filter the category for each row\n",
    "dataframe_filtered_2['categories'] = dataframe_filtered_2.apply(get_category_type, axis=1)\n",
    "\n",
    "# clean column names by keeping only last term\n",
    "dataframe_filtered_2.columns = [column.split('.')[-1] for column in dataframe_filtered_2.columns]\n",
    "\n",
    "dataframe_filtered_2.head()"
   ]
  },
  {
   "cell_type": "markdown",
   "metadata": {},
   "source": [
    "<h4>Create a new dataframe for the first zone showing the data we only need (further filtering)</h4>"
   ]
  },
  {
   "cell_type": "code",
   "execution_count": 41,
   "metadata": {},
   "outputs": [
    {
     "data": {
      "text/html": [
       "<div>\n",
       "<style scoped>\n",
       "    .dataframe tbody tr th:only-of-type {\n",
       "        vertical-align: middle;\n",
       "    }\n",
       "\n",
       "    .dataframe tbody tr th {\n",
       "        vertical-align: top;\n",
       "    }\n",
       "\n",
       "    .dataframe thead th {\n",
       "        text-align: right;\n",
       "    }\n",
       "</style>\n",
       "<table border=\"1\" class=\"dataframe\">\n",
       "  <thead>\n",
       "    <tr style=\"text-align: right;\">\n",
       "      <th></th>\n",
       "      <th>name</th>\n",
       "      <th>categories</th>\n",
       "      <th>lat</th>\n",
       "      <th>lng</th>\n",
       "    </tr>\n",
       "  </thead>\n",
       "  <tbody>\n",
       "    <tr>\n",
       "      <th>0</th>\n",
       "      <td>LAUMC</td>\n",
       "      <td>Hospital</td>\n",
       "      <td>33.885289</td>\n",
       "      <td>35.514948</td>\n",
       "    </tr>\n",
       "    <tr>\n",
       "      <th>1</th>\n",
       "      <td>UMC-RH Clinics</td>\n",
       "      <td>Doctor's Office</td>\n",
       "      <td>33.885049</td>\n",
       "      <td>35.515131</td>\n",
       "    </tr>\n",
       "    <tr>\n",
       "      <th>2</th>\n",
       "      <td>Park Tower Suites</td>\n",
       "      <td>Hotel</td>\n",
       "      <td>33.886375</td>\n",
       "      <td>35.514707</td>\n",
       "    </tr>\n",
       "    <tr>\n",
       "      <th>3</th>\n",
       "      <td>Hospital Rizk</td>\n",
       "      <td>Hospital</td>\n",
       "      <td>33.885343</td>\n",
       "      <td>35.515038</td>\n",
       "    </tr>\n",
       "    <tr>\n",
       "      <th>4</th>\n",
       "      <td>Pharmacie Le Gabriel</td>\n",
       "      <td>Pharmacy</td>\n",
       "      <td>33.886769</td>\n",
       "      <td>35.514614</td>\n",
       "    </tr>\n",
       "    <tr>\n",
       "      <th>5</th>\n",
       "      <td>St Charles</td>\n",
       "      <td>College Bookstore</td>\n",
       "      <td>33.886317</td>\n",
       "      <td>35.514963</td>\n",
       "    </tr>\n",
       "    <tr>\n",
       "      <th>6</th>\n",
       "      <td>Byblos Bank Headoffice</td>\n",
       "      <td>Building</td>\n",
       "      <td>33.886525</td>\n",
       "      <td>35.516633</td>\n",
       "    </tr>\n",
       "    <tr>\n",
       "      <th>7</th>\n",
       "      <td>Sushiwa</td>\n",
       "      <td>Sushi Restaurant</td>\n",
       "      <td>33.886816</td>\n",
       "      <td>35.515615</td>\n",
       "    </tr>\n",
       "    <tr>\n",
       "      <th>8</th>\n",
       "      <td>UMCRH</td>\n",
       "      <td>Hospital</td>\n",
       "      <td>33.885507</td>\n",
       "      <td>35.514866</td>\n",
       "    </tr>\n",
       "    <tr>\n",
       "      <th>9</th>\n",
       "      <td>Chili's Grill &amp; Bar</td>\n",
       "      <td>Tex-Mex Restaurant</td>\n",
       "      <td>33.886624</td>\n",
       "      <td>35.514632</td>\n",
       "    </tr>\n",
       "  </tbody>\n",
       "</table>\n",
       "</div>"
      ],
      "text/plain": [
       "                     name          categories        lat        lng\n",
       "0                   LAUMC            Hospital  33.885289  35.514948\n",
       "1          UMC-RH Clinics     Doctor's Office  33.885049  35.515131\n",
       "2       Park Tower Suites               Hotel  33.886375  35.514707\n",
       "3           Hospital Rizk            Hospital  33.885343  35.515038\n",
       "4    Pharmacie Le Gabriel            Pharmacy  33.886769  35.514614\n",
       "5              St Charles   College Bookstore  33.886317  35.514963\n",
       "6  Byblos Bank Headoffice            Building  33.886525  35.516633\n",
       "7                 Sushiwa    Sushi Restaurant  33.886816  35.515615\n",
       "8                   UMCRH            Hospital  33.885507  35.514866\n",
       "9     Chili's Grill & Bar  Tex-Mex Restaurant  33.886624  35.514632"
      ]
     },
     "execution_count": 41,
     "metadata": {},
     "output_type": "execute_result"
    }
   ],
   "source": [
    "main_filtered_1 = dataframe_filtered_1.drop(['address','cc', 'city', 'country', 'crossStreet','distance', 'formattedAddress','labeledLatLngs', 'state', 'id', 'postalCode'], axis=1)\n",
    "main_filtered_1.head(10)"
   ]
  },
  {
   "cell_type": "markdown",
   "metadata": {},
   "source": [
    "<h4>Create a new dataframe for the second zone showing the data we only need (further filtering)</h4>"
   ]
  },
  {
   "cell_type": "code",
   "execution_count": 42,
   "metadata": {},
   "outputs": [
    {
     "data": {
      "text/html": [
       "<div>\n",
       "<style scoped>\n",
       "    .dataframe tbody tr th:only-of-type {\n",
       "        vertical-align: middle;\n",
       "    }\n",
       "\n",
       "    .dataframe tbody tr th {\n",
       "        vertical-align: top;\n",
       "    }\n",
       "\n",
       "    .dataframe thead th {\n",
       "        text-align: right;\n",
       "    }\n",
       "</style>\n",
       "<table border=\"1\" class=\"dataframe\">\n",
       "  <thead>\n",
       "    <tr style=\"text-align: right;\">\n",
       "      <th></th>\n",
       "      <th>name</th>\n",
       "      <th>categories</th>\n",
       "      <th>lat</th>\n",
       "      <th>lng</th>\n",
       "    </tr>\n",
       "  </thead>\n",
       "  <tbody>\n",
       "    <tr>\n",
       "      <th>0</th>\n",
       "      <td>Geitawi Hospital</td>\n",
       "      <td>Hospital</td>\n",
       "      <td>33.893876</td>\n",
       "      <td>35.530809</td>\n",
       "    </tr>\n",
       "    <tr>\n",
       "      <th>1</th>\n",
       "      <td>St Marc Medical Center</td>\n",
       "      <td>Medical Center</td>\n",
       "      <td>33.893279</td>\n",
       "      <td>35.531236</td>\n",
       "    </tr>\n",
       "    <tr>\n",
       "      <th>2</th>\n",
       "      <td>El Brimo</td>\n",
       "      <td>Lebanese Restaurant</td>\n",
       "      <td>33.893860</td>\n",
       "      <td>35.530002</td>\n",
       "    </tr>\n",
       "    <tr>\n",
       "      <th>3</th>\n",
       "      <td>Paul</td>\n",
       "      <td>French Restaurant</td>\n",
       "      <td>33.895816</td>\n",
       "      <td>35.532369</td>\n",
       "    </tr>\n",
       "    <tr>\n",
       "      <th>4</th>\n",
       "      <td>Ministry Of Energy And Water</td>\n",
       "      <td>Government Building</td>\n",
       "      <td>33.893219</td>\n",
       "      <td>35.534449</td>\n",
       "    </tr>\n",
       "    <tr>\n",
       "      <th>5</th>\n",
       "      <td>tusk</td>\n",
       "      <td>Bakery</td>\n",
       "      <td>33.894026</td>\n",
       "      <td>35.533797</td>\n",
       "    </tr>\n",
       "    <tr>\n",
       "      <th>6</th>\n",
       "      <td>Chez Ghassan</td>\n",
       "      <td>Bakery</td>\n",
       "      <td>33.896260</td>\n",
       "      <td>35.534023</td>\n",
       "    </tr>\n",
       "    <tr>\n",
       "      <th>7</th>\n",
       "      <td>Lebanese Hospital Geitaoui</td>\n",
       "      <td>Hospital</td>\n",
       "      <td>33.894263</td>\n",
       "      <td>35.531058</td>\n",
       "    </tr>\n",
       "    <tr>\n",
       "      <th>8</th>\n",
       "      <td>Riwaq</td>\n",
       "      <td>Café</td>\n",
       "      <td>33.895279</td>\n",
       "      <td>35.531679</td>\n",
       "    </tr>\n",
       "    <tr>\n",
       "      <th>9</th>\n",
       "      <td>Mario e Mario</td>\n",
       "      <td>Italian Restaurant</td>\n",
       "      <td>33.895583</td>\n",
       "      <td>35.532594</td>\n",
       "    </tr>\n",
       "  </tbody>\n",
       "</table>\n",
       "</div>"
      ],
      "text/plain": [
       "                           name           categories        lat        lng\n",
       "0              Geitawi Hospital             Hospital  33.893876  35.530809\n",
       "1        St Marc Medical Center       Medical Center  33.893279  35.531236\n",
       "2                      El Brimo  Lebanese Restaurant  33.893860  35.530002\n",
       "3                          Paul    French Restaurant  33.895816  35.532369\n",
       "4  Ministry Of Energy And Water  Government Building  33.893219  35.534449\n",
       "5                          tusk               Bakery  33.894026  35.533797\n",
       "6                  Chez Ghassan               Bakery  33.896260  35.534023\n",
       "7    Lebanese Hospital Geitaoui             Hospital  33.894263  35.531058\n",
       "8                         Riwaq                 Café  33.895279  35.531679\n",
       "9                 Mario e Mario   Italian Restaurant  33.895583  35.532594"
      ]
     },
     "execution_count": 42,
     "metadata": {},
     "output_type": "execute_result"
    }
   ],
   "source": [
    "main_filtered_2 = dataframe_filtered_2.drop(['address','cc', 'city', 'country', 'crossStreet','distance', 'formattedAddress','labeledLatLngs', 'state', 'id'], axis=1)\n",
    "main_filtered_2.head(10)"
   ]
  },
  {
   "cell_type": "markdown",
   "metadata": {},
   "source": [
    "<h4>Import the <i>sklearn</i> library to import the <i>kmeans</i> library"
   ]
  },
  {
   "cell_type": "markdown",
   "metadata": {},
   "source": [
    "from sklearn.cluster import KMeans"
   ]
  },
  {
   "cell_type": "markdown",
   "metadata": {},
   "source": [
    "<h4>Let's check how many venues were returned for each zone"
   ]
  },
  {
   "cell_type": "markdown",
   "metadata": {},
   "source": [
    "<h4>Determine the number of unique categories can be curated from all the returned venues"
   ]
  },
  {
   "cell_type": "code",
   "execution_count": 44,
   "metadata": {},
   "outputs": [
    {
     "name": "stdout",
     "output_type": "stream",
     "text": [
      "There are 25 unique categories in Ashrafieh.\n",
      "There are 25 unique categories in Bourj Hammoud.\n"
     ]
    }
   ],
   "source": [
    "print('There are {} unique categories in Ashrafieh.'.format(len(main_filtered_1['categories'].unique())))\n",
    "print('There are {} unique categories in Bourj Hammoud.'.format(len(main_filtered_2['categories'].unique())))"
   ]
  },
  {
   "cell_type": "markdown",
   "metadata": {},
   "source": [
    "<h4>Determine the top categories of venues in these two locations."
   ]
  },
  {
   "cell_type": "code",
   "execution_count": 45,
   "metadata": {},
   "outputs": [
    {
     "data": {
      "text/html": [
       "<style  type=\"text/css\" >\n",
       "</style><table id=\"T_73156d24_12ef_11ec_802a_2c600c7e051d\" style='display:inline'><caption>Ashrafieh Zone 62</caption><thead>    <tr>        <th class=\"blank level0\" ></th>        <th class=\"col_heading level0 col0\" >name</th>    </tr>    <tr>        <th class=\"index_name level0\" >categories</th>        <th class=\"blank\" ></th>    </tr></thead><tbody>\n",
       "                <tr>\n",
       "                        <th id=\"T_73156d24_12ef_11ec_802a_2c600c7e051dlevel0_row0\" class=\"row_heading level0 row0\" >Hospital</th>\n",
       "                        <td id=\"T_73156d24_12ef_11ec_802a_2c600c7e051drow0_col0\" class=\"data row0 col0\" >3</td>\n",
       "            </tr>\n",
       "            <tr>\n",
       "                        <th id=\"T_73156d24_12ef_11ec_802a_2c600c7e051dlevel0_row1\" class=\"row_heading level0 row1\" >Building</th>\n",
       "                        <td id=\"T_73156d24_12ef_11ec_802a_2c600c7e051drow1_col0\" class=\"data row1 col0\" >2</td>\n",
       "            </tr>\n",
       "            <tr>\n",
       "                        <th id=\"T_73156d24_12ef_11ec_802a_2c600c7e051dlevel0_row2\" class=\"row_heading level0 row2\" >Restaurant</th>\n",
       "                        <td id=\"T_73156d24_12ef_11ec_802a_2c600c7e051drow2_col0\" class=\"data row2 col0\" >2</td>\n",
       "            </tr>\n",
       "            <tr>\n",
       "                        <th id=\"T_73156d24_12ef_11ec_802a_2c600c7e051dlevel0_row3\" class=\"row_heading level0 row3\" >Hotel</th>\n",
       "                        <td id=\"T_73156d24_12ef_11ec_802a_2c600c7e051drow3_col0\" class=\"data row3 col0\" >2</td>\n",
       "            </tr>\n",
       "            <tr>\n",
       "                        <th id=\"T_73156d24_12ef_11ec_802a_2c600c7e051dlevel0_row4\" class=\"row_heading level0 row4\" >Assisted Living</th>\n",
       "                        <td id=\"T_73156d24_12ef_11ec_802a_2c600c7e051drow4_col0\" class=\"data row4 col0\" >1</td>\n",
       "            </tr>\n",
       "            <tr>\n",
       "                        <th id=\"T_73156d24_12ef_11ec_802a_2c600c7e051dlevel0_row5\" class=\"row_heading level0 row5\" >Miscellaneous Shop</th>\n",
       "                        <td id=\"T_73156d24_12ef_11ec_802a_2c600c7e051drow5_col0\" class=\"data row5 col0\" >1</td>\n",
       "            </tr>\n",
       "            <tr>\n",
       "                        <th id=\"T_73156d24_12ef_11ec_802a_2c600c7e051dlevel0_row6\" class=\"row_heading level0 row6\" >Sushi Restaurant</th>\n",
       "                        <td id=\"T_73156d24_12ef_11ec_802a_2c600c7e051drow6_col0\" class=\"data row6 col0\" >1</td>\n",
       "            </tr>\n",
       "            <tr>\n",
       "                        <th id=\"T_73156d24_12ef_11ec_802a_2c600c7e051dlevel0_row7\" class=\"row_heading level0 row7\" >Supermarket</th>\n",
       "                        <td id=\"T_73156d24_12ef_11ec_802a_2c600c7e051drow7_col0\" class=\"data row7 col0\" >1</td>\n",
       "            </tr>\n",
       "            <tr>\n",
       "                        <th id=\"T_73156d24_12ef_11ec_802a_2c600c7e051dlevel0_row8\" class=\"row_heading level0 row8\" >Spa</th>\n",
       "                        <td id=\"T_73156d24_12ef_11ec_802a_2c600c7e051drow8_col0\" class=\"data row8 col0\" >1</td>\n",
       "            </tr>\n",
       "            <tr>\n",
       "                        <th id=\"T_73156d24_12ef_11ec_802a_2c600c7e051dlevel0_row9\" class=\"row_heading level0 row9\" >Shoe Store</th>\n",
       "                        <td id=\"T_73156d24_12ef_11ec_802a_2c600c7e051drow9_col0\" class=\"data row9 col0\" >1</td>\n",
       "            </tr>\n",
       "            <tr>\n",
       "                        <th id=\"T_73156d24_12ef_11ec_802a_2c600c7e051dlevel0_row10\" class=\"row_heading level0 row10\" >Salon / Barbershop</th>\n",
       "                        <td id=\"T_73156d24_12ef_11ec_802a_2c600c7e051drow10_col0\" class=\"data row10 col0\" >1</td>\n",
       "            </tr>\n",
       "            <tr>\n",
       "                        <th id=\"T_73156d24_12ef_11ec_802a_2c600c7e051dlevel0_row11\" class=\"row_heading level0 row11\" >Residential Building (Apartment / Condo)</th>\n",
       "                        <td id=\"T_73156d24_12ef_11ec_802a_2c600c7e051drow11_col0\" class=\"data row11 col0\" >1</td>\n",
       "            </tr>\n",
       "            <tr>\n",
       "                        <th id=\"T_73156d24_12ef_11ec_802a_2c600c7e051dlevel0_row12\" class=\"row_heading level0 row12\" >Pharmacy</th>\n",
       "                        <td id=\"T_73156d24_12ef_11ec_802a_2c600c7e051drow12_col0\" class=\"data row12 col0\" >1</td>\n",
       "            </tr>\n",
       "            <tr>\n",
       "                        <th id=\"T_73156d24_12ef_11ec_802a_2c600c7e051dlevel0_row13\" class=\"row_heading level0 row13\" >Office</th>\n",
       "                        <td id=\"T_73156d24_12ef_11ec_802a_2c600c7e051drow13_col0\" class=\"data row13 col0\" >1</td>\n",
       "            </tr>\n",
       "            <tr>\n",
       "                        <th id=\"T_73156d24_12ef_11ec_802a_2c600c7e051dlevel0_row14\" class=\"row_heading level0 row14\" >Liquor Store</th>\n",
       "                        <td id=\"T_73156d24_12ef_11ec_802a_2c600c7e051drow14_col0\" class=\"data row14 col0\" >1</td>\n",
       "            </tr>\n",
       "            <tr>\n",
       "                        <th id=\"T_73156d24_12ef_11ec_802a_2c600c7e051dlevel0_row15\" class=\"row_heading level0 row15\" >Market</th>\n",
       "                        <td id=\"T_73156d24_12ef_11ec_802a_2c600c7e051drow15_col0\" class=\"data row15 col0\" >1</td>\n",
       "            </tr>\n",
       "            <tr>\n",
       "                        <th id=\"T_73156d24_12ef_11ec_802a_2c600c7e051dlevel0_row16\" class=\"row_heading level0 row16\" >Bank</th>\n",
       "                        <td id=\"T_73156d24_12ef_11ec_802a_2c600c7e051drow16_col0\" class=\"data row16 col0\" >1</td>\n",
       "            </tr>\n",
       "            <tr>\n",
       "                        <th id=\"T_73156d24_12ef_11ec_802a_2c600c7e051dlevel0_row17\" class=\"row_heading level0 row17\" >Gym</th>\n",
       "                        <td id=\"T_73156d24_12ef_11ec_802a_2c600c7e051drow17_col0\" class=\"data row17 col0\" >1</td>\n",
       "            </tr>\n",
       "            <tr>\n",
       "                        <th id=\"T_73156d24_12ef_11ec_802a_2c600c7e051dlevel0_row18\" class=\"row_heading level0 row18\" >Gluten-free Restaurant</th>\n",
       "                        <td id=\"T_73156d24_12ef_11ec_802a_2c600c7e051drow18_col0\" class=\"data row18 col0\" >1</td>\n",
       "            </tr>\n",
       "            <tr>\n",
       "                        <th id=\"T_73156d24_12ef_11ec_802a_2c600c7e051dlevel0_row19\" class=\"row_heading level0 row19\" >French Restaurant</th>\n",
       "                        <td id=\"T_73156d24_12ef_11ec_802a_2c600c7e051drow19_col0\" class=\"data row19 col0\" >1</td>\n",
       "            </tr>\n",
       "            <tr>\n",
       "                        <th id=\"T_73156d24_12ef_11ec_802a_2c600c7e051dlevel0_row20\" class=\"row_heading level0 row20\" >Flower Shop</th>\n",
       "                        <td id=\"T_73156d24_12ef_11ec_802a_2c600c7e051drow20_col0\" class=\"data row20 col0\" >1</td>\n",
       "            </tr>\n",
       "            <tr>\n",
       "                        <th id=\"T_73156d24_12ef_11ec_802a_2c600c7e051dlevel0_row21\" class=\"row_heading level0 row21\" >Doctor's Office</th>\n",
       "                        <td id=\"T_73156d24_12ef_11ec_802a_2c600c7e051drow21_col0\" class=\"data row21 col0\" >1</td>\n",
       "            </tr>\n",
       "            <tr>\n",
       "                        <th id=\"T_73156d24_12ef_11ec_802a_2c600c7e051dlevel0_row22\" class=\"row_heading level0 row22\" >College Bookstore</th>\n",
       "                        <td id=\"T_73156d24_12ef_11ec_802a_2c600c7e051drow22_col0\" class=\"data row22 col0\" >1</td>\n",
       "            </tr>\n",
       "            <tr>\n",
       "                        <th id=\"T_73156d24_12ef_11ec_802a_2c600c7e051dlevel0_row23\" class=\"row_heading level0 row23\" >College Academic Building</th>\n",
       "                        <td id=\"T_73156d24_12ef_11ec_802a_2c600c7e051drow23_col0\" class=\"data row23 col0\" >1</td>\n",
       "            </tr>\n",
       "            <tr>\n",
       "                        <th id=\"T_73156d24_12ef_11ec_802a_2c600c7e051dlevel0_row24\" class=\"row_heading level0 row24\" >Tex-Mex Restaurant</th>\n",
       "                        <td id=\"T_73156d24_12ef_11ec_802a_2c600c7e051drow24_col0\" class=\"data row24 col0\" >1</td>\n",
       "            </tr>\n",
       "    </tbody></table><style  type=\"text/css\" >\n",
       "</style><table id=\"T_73156d25_12ef_11ec_a9a6_2c600c7e051d\" style='display:inline'><caption>Bourj Hammoud Zone 89</caption><thead>    <tr>        <th class=\"blank level0\" ></th>        <th class=\"col_heading level0 col0\" >name</th>    </tr>    <tr>        <th class=\"index_name level0\" >categories</th>        <th class=\"blank\" ></th>    </tr></thead><tbody>\n",
       "                <tr>\n",
       "                        <th id=\"T_73156d25_12ef_11ec_a9a6_2c600c7e051dlevel0_row0\" class=\"row_heading level0 row0\" >Café</th>\n",
       "                        <td id=\"T_73156d25_12ef_11ec_a9a6_2c600c7e051drow0_col0\" class=\"data row0 col0\" >3</td>\n",
       "            </tr>\n",
       "            <tr>\n",
       "                        <th id=\"T_73156d25_12ef_11ec_a9a6_2c600c7e051dlevel0_row1\" class=\"row_heading level0 row1\" >Bakery</th>\n",
       "                        <td id=\"T_73156d25_12ef_11ec_a9a6_2c600c7e051drow1_col0\" class=\"data row1 col0\" >2</td>\n",
       "            </tr>\n",
       "            <tr>\n",
       "                        <th id=\"T_73156d25_12ef_11ec_a9a6_2c600c7e051dlevel0_row2\" class=\"row_heading level0 row2\" >Medical Center</th>\n",
       "                        <td id=\"T_73156d25_12ef_11ec_a9a6_2c600c7e051drow2_col0\" class=\"data row2 col0\" >2</td>\n",
       "            </tr>\n",
       "            <tr>\n",
       "                        <th id=\"T_73156d25_12ef_11ec_a9a6_2c600c7e051dlevel0_row3\" class=\"row_heading level0 row3\" >Hospital</th>\n",
       "                        <td id=\"T_73156d25_12ef_11ec_a9a6_2c600c7e051drow3_col0\" class=\"data row3 col0\" >2</td>\n",
       "            </tr>\n",
       "            <tr>\n",
       "                        <th id=\"T_73156d25_12ef_11ec_a9a6_2c600c7e051dlevel0_row4\" class=\"row_heading level0 row4\" >Advertising Agency</th>\n",
       "                        <td id=\"T_73156d25_12ef_11ec_a9a6_2c600c7e051drow4_col0\" class=\"data row4 col0\" >1</td>\n",
       "            </tr>\n",
       "            <tr>\n",
       "                        <th id=\"T_73156d25_12ef_11ec_a9a6_2c600c7e051dlevel0_row5\" class=\"row_heading level0 row5\" >Italian Restaurant</th>\n",
       "                        <td id=\"T_73156d25_12ef_11ec_a9a6_2c600c7e051drow5_col0\" class=\"data row5 col0\" >1</td>\n",
       "            </tr>\n",
       "            <tr>\n",
       "                        <th id=\"T_73156d25_12ef_11ec_a9a6_2c600c7e051dlevel0_row6\" class=\"row_heading level0 row6\" >Tattoo Parlor</th>\n",
       "                        <td id=\"T_73156d25_12ef_11ec_a9a6_2c600c7e051drow6_col0\" class=\"data row6 col0\" >1</td>\n",
       "            </tr>\n",
       "            <tr>\n",
       "                        <th id=\"T_73156d25_12ef_11ec_a9a6_2c600c7e051dlevel0_row7\" class=\"row_heading level0 row7\" >Strip Club</th>\n",
       "                        <td id=\"T_73156d25_12ef_11ec_a9a6_2c600c7e051drow7_col0\" class=\"data row7 col0\" >1</td>\n",
       "            </tr>\n",
       "            <tr>\n",
       "                        <th id=\"T_73156d25_12ef_11ec_a9a6_2c600c7e051dlevel0_row8\" class=\"row_heading level0 row8\" >Salon / Barbershop</th>\n",
       "                        <td id=\"T_73156d25_12ef_11ec_a9a6_2c600c7e051drow8_col0\" class=\"data row8 col0\" >1</td>\n",
       "            </tr>\n",
       "            <tr>\n",
       "                        <th id=\"T_73156d25_12ef_11ec_a9a6_2c600c7e051dlevel0_row9\" class=\"row_heading level0 row9\" >River</th>\n",
       "                        <td id=\"T_73156d25_12ef_11ec_a9a6_2c600c7e051drow9_col0\" class=\"data row9 col0\" >1</td>\n",
       "            </tr>\n",
       "            <tr>\n",
       "                        <th id=\"T_73156d25_12ef_11ec_a9a6_2c600c7e051dlevel0_row10\" class=\"row_heading level0 row10\" >Restaurant</th>\n",
       "                        <td id=\"T_73156d25_12ef_11ec_a9a6_2c600c7e051drow10_col0\" class=\"data row10 col0\" >1</td>\n",
       "            </tr>\n",
       "            <tr>\n",
       "                        <th id=\"T_73156d25_12ef_11ec_a9a6_2c600c7e051dlevel0_row11\" class=\"row_heading level0 row11\" >Photography Lab</th>\n",
       "                        <td id=\"T_73156d25_12ef_11ec_a9a6_2c600c7e051drow11_col0\" class=\"data row11 col0\" >1</td>\n",
       "            </tr>\n",
       "            <tr>\n",
       "                        <th id=\"T_73156d25_12ef_11ec_a9a6_2c600c7e051dlevel0_row12\" class=\"row_heading level0 row12\" >Nightclub</th>\n",
       "                        <td id=\"T_73156d25_12ef_11ec_a9a6_2c600c7e051drow12_col0\" class=\"data row12 col0\" >1</td>\n",
       "            </tr>\n",
       "            <tr>\n",
       "                        <th id=\"T_73156d25_12ef_11ec_a9a6_2c600c7e051dlevel0_row13\" class=\"row_heading level0 row13\" >Lebanese Restaurant</th>\n",
       "                        <td id=\"T_73156d25_12ef_11ec_a9a6_2c600c7e051drow13_col0\" class=\"data row13 col0\" >1</td>\n",
       "            </tr>\n",
       "            <tr>\n",
       "                        <th id=\"T_73156d25_12ef_11ec_a9a6_2c600c7e051dlevel0_row14\" class=\"row_heading level0 row14\" >Hardware Store</th>\n",
       "                        <td id=\"T_73156d25_12ef_11ec_a9a6_2c600c7e051drow14_col0\" class=\"data row14 col0\" >1</td>\n",
       "            </tr>\n",
       "            <tr>\n",
       "                        <th id=\"T_73156d25_12ef_11ec_a9a6_2c600c7e051dlevel0_row15\" class=\"row_heading level0 row15\" >Automotive Shop</th>\n",
       "                        <td id=\"T_73156d25_12ef_11ec_a9a6_2c600c7e051drow15_col0\" class=\"data row15 col0\" >1</td>\n",
       "            </tr>\n",
       "            <tr>\n",
       "                        <th id=\"T_73156d25_12ef_11ec_a9a6_2c600c7e051dlevel0_row16\" class=\"row_heading level0 row16\" >Government Building</th>\n",
       "                        <td id=\"T_73156d25_12ef_11ec_a9a6_2c600c7e051drow16_col0\" class=\"data row16 col0\" >1</td>\n",
       "            </tr>\n",
       "            <tr>\n",
       "                        <th id=\"T_73156d25_12ef_11ec_a9a6_2c600c7e051dlevel0_row17\" class=\"row_heading level0 row17\" >Furniture / Home Store</th>\n",
       "                        <td id=\"T_73156d25_12ef_11ec_a9a6_2c600c7e051drow17_col0\" class=\"data row17 col0\" >1</td>\n",
       "            </tr>\n",
       "            <tr>\n",
       "                        <th id=\"T_73156d25_12ef_11ec_a9a6_2c600c7e051dlevel0_row18\" class=\"row_heading level0 row18\" >French Restaurant</th>\n",
       "                        <td id=\"T_73156d25_12ef_11ec_a9a6_2c600c7e051drow18_col0\" class=\"data row18 col0\" >1</td>\n",
       "            </tr>\n",
       "            <tr>\n",
       "                        <th id=\"T_73156d25_12ef_11ec_a9a6_2c600c7e051dlevel0_row19\" class=\"row_heading level0 row19\" >Flower Shop</th>\n",
       "                        <td id=\"T_73156d25_12ef_11ec_a9a6_2c600c7e051drow19_col0\" class=\"data row19 col0\" >1</td>\n",
       "            </tr>\n",
       "            <tr>\n",
       "                        <th id=\"T_73156d25_12ef_11ec_a9a6_2c600c7e051dlevel0_row20\" class=\"row_heading level0 row20\" >Fast Food Restaurant</th>\n",
       "                        <td id=\"T_73156d25_12ef_11ec_a9a6_2c600c7e051drow20_col0\" class=\"data row20 col0\" >1</td>\n",
       "            </tr>\n",
       "            <tr>\n",
       "                        <th id=\"T_73156d25_12ef_11ec_a9a6_2c600c7e051dlevel0_row21\" class=\"row_heading level0 row21\" >Diner</th>\n",
       "                        <td id=\"T_73156d25_12ef_11ec_a9a6_2c600c7e051drow21_col0\" class=\"data row21 col0\" >1</td>\n",
       "            </tr>\n",
       "            <tr>\n",
       "                        <th id=\"T_73156d25_12ef_11ec_a9a6_2c600c7e051dlevel0_row22\" class=\"row_heading level0 row22\" >Coffee Shop</th>\n",
       "                        <td id=\"T_73156d25_12ef_11ec_a9a6_2c600c7e051drow22_col0\" class=\"data row22 col0\" >1</td>\n",
       "            </tr>\n",
       "            <tr>\n",
       "                        <th id=\"T_73156d25_12ef_11ec_a9a6_2c600c7e051dlevel0_row23\" class=\"row_heading level0 row23\" >Bar</th>\n",
       "                        <td id=\"T_73156d25_12ef_11ec_a9a6_2c600c7e051drow23_col0\" class=\"data row23 col0\" >1</td>\n",
       "            </tr>\n",
       "            <tr>\n",
       "                        <th id=\"T_73156d25_12ef_11ec_a9a6_2c600c7e051dlevel0_row24\" class=\"row_heading level0 row24\" >Vegetarian / Vegan Restaurant</th>\n",
       "                        <td id=\"T_73156d25_12ef_11ec_a9a6_2c600c7e051drow24_col0\" class=\"data row24 col0\" >1</td>\n",
       "            </tr>\n",
       "    </tbody></table>"
      ]
     },
     "metadata": {},
     "output_type": "display_data"
    }
   ],
   "source": [
    "main1=main_filtered_1.groupby('categories').count()\n",
    "main1=main1.drop(['lat', 'lng'], axis=1)\n",
    "main1=main1.sort_values(by=['name'], ascending=False)\n",
    "\n",
    "main2=main_filtered_2.groupby('categories').count()\n",
    "main2=main2.drop(['lat', 'lng'], axis=1)\n",
    "main2=main2.sort_values(by=['name'], ascending=False)\n",
    "\n",
    "\n",
    "main1_styler = main1.style.set_table_attributes(\"style='display:inline'\").set_caption('Ashrafieh Zone 62')\n",
    "main2_styler = main2.style.set_table_attributes(\"style='display:inline'\").set_caption('Bourj Hammoud Zone 89')\n",
    "\n",
    "display_html(main1_styler._repr_html_()+main2_styler._repr_html_(), raw=True)"
   ]
  },
  {
   "cell_type": "code",
   "execution_count": 46,
   "metadata": {},
   "outputs": [],
   "source": [
    "import matplotlib.pyplot as plt \n",
    "import matplotlib.cm as cm\n",
    "import matplotlib.colors as colors"
   ]
  },
  {
   "cell_type": "code",
   "execution_count": 47,
   "metadata": {},
   "outputs": [
    {
     "data": {
      "image/png": "[encoded data removed]",
      "text/plain": [
       "<Figure size 432x288 with 1 Axes>"
      ]
     },
     "metadata": {
      "needs_background": "light"
     },
     "output_type": "display_data"
    },
    {
     "data": {
      "image/png": "[encoded data removed]",
      "text/plain": [
       "<Figure size 432x288 with 1 Axes>"
      ]
     },
     "metadata": {
      "needs_background": "light"
     },
     "output_type": "display_data"
    }
   ],
   "source": [
    "# top 5 categories for both Zones\n",
    "\n",
    "#Ashrafieh\n",
    "top5_main1 = main1.iloc[:5]\n",
    "ax1 = top5_main1.plot(kind = 'barh', figsize = (6, 4), legend=None)\n",
    "ax1.set_title('Top 5 categories for Ashrafieh')\n",
    "ax1.set_xlabel('Count')\n",
    "ax1.set_ylabel('Categories')\n",
    "ax1.invert_yaxis()\n",
    "ax1.spines['top'].set_visible(False)\n",
    "ax1.spines['right'].set_visible(False)\n",
    "ax1.spines['bottom'].set_visible(False)\n",
    "ax1.spines['left'].set_visible(False)\n",
    "\n",
    "#Bourj Hammoud\n",
    "top5_main2 = main2.iloc[:5]\n",
    "ax1 = top5_main2.plot(kind = 'barh', figsize = (6, 4), legend=None)\n",
    "ax1.set_title('Top 5 categories for Bourj Hammoud')\n",
    "ax1.set_xlabel('Count')\n",
    "ax1.set_ylabel('Categories')\n",
    "ax1.invert_yaxis()\n",
    "ax1.spines['top'].set_visible(False)\n",
    "ax1.spines['right'].set_visible(False)\n",
    "ax1.spines['bottom'].set_visible(False)\n",
    "ax1.spines['left'].set_visible(False)\n",
    "\n"
   ]
  },
  {
   "cell_type": "code",
   "execution_count": null,
   "metadata": {},
   "outputs": [],
   "source": []
  },
  {
   "cell_type": "code",
   "execution_count": null,
   "metadata": {},
   "outputs": [],
   "source": []
  },
  {
   "cell_type": "code",
   "execution_count": null,
   "metadata": {},
   "outputs": [],
   "source": []
  },
  {
   "cell_type": "code",
   "execution_count": null,
   "metadata": {},
   "outputs": [],
   "source": []
  },
  {
   "cell_type": "code",
   "execution_count": null,
   "metadata": {},
   "outputs": [],
   "source": []
  },
  {
   "cell_type": "code",
   "execution_count": null,
   "metadata": {},
   "outputs": [],
   "source": []
  },
  {
   "cell_type": "code",
   "execution_count": null,
   "metadata": {},
   "outputs": [],
   "source": []
  },
  {
   "cell_type": "markdown",
   "metadata": {},
   "source": [
    "\n",
    "myscale = (nilpop['Numerical_Designation'].quantile((0,0.1,0.75,0.9,0.98,1))).tolist()\n",
    "import branca.colormap as cm\n",
    "colormap = cm.linear.YlGnBu_09\n",
    "mymap = folium.Map(location=[y_map, x_map], zoom_start=11,tiles=None)\n",
    "folium.TileLayer('CartoDB positron',name=\"Light Map\",control=False).add_to(mymap)\n",
    "colormap.caption = \"Poverty Levels in UN Operational Zones\"\n",
    "style_function = lambda x: {\"weight\":0.5, \n",
    "                            'color':'black',\n",
    "                            'fillColor':colormap(x['properties']['PER_FOREIGN']), \n",
    "                            'fillOpacity':0.75}\n",
    "highlight_function = lambda x: {'fillColor': '#000000', \n",
    "                                'color':'#000000', \n",
    "                                'fillOpacity': 0.50, \n",
    "                                'weight': 0.1}\n",
    "NIL=folium.features.GeoJson(\n",
    "        #nilpop,\n",
    "        style_function=style_function,\n",
    "        control=False,\n",
    "        highlight_function=highlight_function,\n",
    "        tooltip=folium.features.Tooltip(fields=['Cadaster','UN_Habitat'],\n",
    "            aliases=['Cadaster: ','Socioeconomic status of residents: '],\n",
    "            style=(\"background-color: white; color: #333333; font-family: arial; font-size: 12px; padding: 10px;\"),\n",
    "            sticky=True,\n",
    "            location=[y_map, x_map],\n",
    "        )\n",
    "    )\n",
    "colormap.add_to(mymap)\n",
    "mymap.add_child(NIL)\n",
    "mymap"
   ]
  },
  {
   "cell_type": "code",
   "execution_count": null,
   "metadata": {},
   "outputs": [],
   "source": []
  },
  {
   "cell_type": "code",
   "execution_count": null,
   "metadata": {},
   "outputs": [],
   "source": []
  }
 ],
 "metadata": {
  "kernelspec": {
   "display_name": "Python 3",
   "language": "python",
   "name": "python3"
  },
  "language_info": {
   "codemirror_mode": {
    "name": "ipython",
    "version": 3
   },
   "file_extension": ".py",
   "mimetype": "text/x-python",
   "name": "python",
   "nbconvert_exporter": "python",
   "pygments_lexer": "ipython3",
   "version": "3.7.3"
  }
 },
 "nbformat": 4,
 "nbformat_minor": 2
}
